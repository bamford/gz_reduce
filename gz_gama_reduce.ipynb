{
 "cells": [
  {
   "cell_type": "code",
   "execution_count": 1,
   "metadata": {
    "collapsed": true
   },
   "outputs": [],
   "source": [
    "from gz_reduce import reduce_data"
   ]
  },
  {
   "cell_type": "markdown",
   "metadata": {},
   "source": [
    "### Get the data"
   ]
  },
  {
   "cell_type": "code",
   "execution_count": 2,
   "metadata": {
    "collapsed": true
   },
   "outputs": [],
   "source": [
    "# %%bash\n",
    "# # get the gama tree definition\n",
    "# curl -O https://raw.githubusercontent.com/zooniverse/Galaxy-Zoo/master/app/lib/gama_tree.coffee"
   ]
  },
  {
   "cell_type": "code",
   "execution_count": 3,
   "metadata": {},
   "outputs": [],
   "source": [
    "# %%bash\n",
    "# # get the database dump\n",
    "# url=\"\"\n",
    "# curl $url | tar xz"
   ]
  },
  {
   "cell_type": "markdown",
   "metadata": {},
   "source": [
    "### Run the reduction"
   ]
  },
  {
   "cell_type": "code",
   "execution_count": 4,
   "metadata": {
    "collapsed": true,
    "scrolled": true
   },
   "outputs": [],
   "source": [
    "date='2017-07-09'\n",
    "tree='gama'\n",
    "subjectset='gama09'\n",
    "survey_id_field='provided_image_id'\n",
    "outdata = reduce_data(date, tree, subjectset, survey_id_field)"
   ]
  },
  {
   "cell_type": "code",
   "execution_count": 5,
   "metadata": {
    "scrolled": false
   },
   "outputs": [
    {
     "data": {
      "text/html": [
       "&lt;Table masked=True length=11507&gt;\n",
       "<table id=\"table4741828000\" class=\"table-striped table-bordered table-condensed\">\n",
       "<thead><tr><th>subject_id</th><th>features_total</th><th>features_features</th><th>features_star_or_artifact</th><th>edgeon_total</th><th>edgeon_yes</th><th>edgeon_no</th><th>bar_total</th><th>bar_bar</th><th>bar_no_bar</th><th>spiral_total</th><th>spiral_spiral</th><th>spiral_no_spiral</th><th>bulge_total</th><th>bulge_no_bulge</th><th>bulge_obvious</th><th>bulge_dominant</th><th>spiralwinding_total</th><th>spiralwinding_tight</th><th>spiralwinding_medium</th><th>spiralwinding_loose</th><th>spiralnumber_total</th><th>spiralnumber_1</th><th>spiralnumber_2</th><th>spiralnumber_3</th><th>spiralnumber_4</th><th>spiralnumber_more_than_4</th><th>bulgeshape_total</th><th>bulgeshape_rounded</th><th>bulgeshape_boxy</th><th>bulgeshape_no_bulge</th><th>round_total</th><th>round_completely_round</th><th>round_in_between</th><th>round_cigar_shaped</th><th>mergers_total</th><th>mergers_merging</th><th>mergers_tidal_debris</th><th>mergers_both</th><th>mergers_neither</th><th>oddtype_total</th><th>oddtype_none</th><th>oddtype_ring</th><th>oddtype_lens_or_arc</th><th>oddtype_irregular</th><th>oddtype_other</th><th>oddtype_dust_lane</th><th>oddtype_overlapping</th><th>discuss_total</th><th>discuss_yes</th><th>discuss_no</th><th>odd_total</th><th>features_smooth_frac</th><th>survey_id</th><th>zooniverse_id</th></tr></thead>\n",
       "<thead><tr><th>str24</th><th>int64</th><th>int64</th><th>int64</th><th>int64</th><th>int64</th><th>int64</th><th>int64</th><th>int64</th><th>int64</th><th>int64</th><th>int64</th><th>int64</th><th>int64</th><th>int64</th><th>int64</th><th>int64</th><th>int64</th><th>int64</th><th>int64</th><th>int64</th><th>int64</th><th>int64</th><th>int64</th><th>int64</th><th>int64</th><th>int64</th><th>int64</th><th>int64</th><th>int64</th><th>int64</th><th>int64</th><th>int64</th><th>int64</th><th>int64</th><th>int64</th><th>int64</th><th>int64</th><th>int64</th><th>int64</th><th>int64</th><th>int64</th><th>int64</th><th>int64</th><th>int64</th><th>int64</th><th>int64</th><th>int64</th><th>int64</th><th>int64</th><th>int64</th><th>int64</th><th>float64</th><th>str7</th><th>str10</th></tr></thead>\n",
       "<tr><td>5857c4a3d369fd0040000001</td><td>40</td><td>4</td><td>3</td><td>4</td><td>0</td><td>4</td><td>4</td><td>1</td><td>3</td><td>4</td><td>0</td><td>4</td><td>4</td><td>1</td><td>1</td><td>2</td><td>0</td><td>0</td><td>0</td><td>0</td><td>0</td><td>0</td><td>0</td><td>0</td><td>0</td><td>0</td><td>0</td><td>0</td><td>0</td><td>0</td><td>33</td><td>1</td><td>32</td><td>0</td><td>37</td><td>0</td><td>0</td><td>0</td><td>37</td><td>15</td><td>12</td><td>2</td><td>0</td><td>0</td><td>1</td><td>0</td><td>0</td><td>40</td><td>1</td><td>39</td><td>37</td><td>0.825</td><td>598860</td><td>AGZ000dir0</td></tr>\n",
       "<tr><td>5857c4a3d369fd0040000003</td><td>40</td><td>5</td><td>6</td><td>5</td><td>1</td><td>4</td><td>4</td><td>0</td><td>4</td><td>4</td><td>1</td><td>3</td><td>4</td><td>1</td><td>1</td><td>2</td><td>1</td><td>0</td><td>0</td><td>1</td><td>1</td><td>0</td><td>1</td><td>0</td><td>0</td><td>0</td><td>1</td><td>1</td><td>0</td><td>0</td><td>29</td><td>1</td><td>28</td><td>0</td><td>34</td><td>3</td><td>1</td><td>0</td><td>30</td><td>13</td><td>9</td><td>0</td><td>0</td><td>0</td><td>4</td><td>0</td><td>0</td><td>40</td><td>1</td><td>39</td><td>34</td><td>0.725</td><td>598875</td><td>AGZ000dir2</td></tr>\n",
       "<tr><td>5857c4a3d369fd0040000005</td><td>40</td><td>2</td><td>7</td><td>2</td><td>1</td><td>1</td><td>1</td><td>0</td><td>1</td><td>1</td><td>0</td><td>1</td><td>1</td><td>1</td><td>0</td><td>0</td><td>0</td><td>0</td><td>0</td><td>0</td><td>0</td><td>0</td><td>0</td><td>0</td><td>0</td><td>0</td><td>1</td><td>1</td><td>0</td><td>0</td><td>31</td><td>14</td><td>17</td><td>0</td><td>33</td><td>2</td><td>1</td><td>0</td><td>30</td><td>13</td><td>9</td><td>0</td><td>0</td><td>1</td><td>2</td><td>0</td><td>1</td><td>40</td><td>0</td><td>40</td><td>33</td><td>0.775</td><td>598877</td><td>AGZ000dir1</td></tr>\n",
       "<tr><td>5857c4a3d369fd0040000007</td><td>40</td><td>7</td><td>6</td><td>7</td><td>1</td><td>6</td><td>6</td><td>0</td><td>6</td><td>6</td><td>0</td><td>6</td><td>6</td><td>0</td><td>5</td><td>1</td><td>0</td><td>0</td><td>0</td><td>0</td><td>0</td><td>0</td><td>0</td><td>0</td><td>0</td><td>0</td><td>1</td><td>0</td><td>0</td><td>1</td><td>27</td><td>5</td><td>21</td><td>1</td><td>34</td><td>2</td><td>1</td><td>1</td><td>30</td><td>14</td><td>8</td><td>1</td><td>0</td><td>2</td><td>2</td><td>1</td><td>0</td><td>40</td><td>1</td><td>39</td><td>34</td><td>0.675</td><td>598888</td><td>AGZ000dir4</td></tr>\n",
       "<tr><td>5857c4a3d369fd0040000009</td><td>40</td><td>15</td><td>17</td><td>15</td><td>2</td><td>13</td><td>13</td><td>2</td><td>11</td><td>13</td><td>5</td><td>8</td><td>13</td><td>3</td><td>9</td><td>1</td><td>5</td><td>0</td><td>2</td><td>3</td><td>5</td><td>0</td><td>4</td><td>0</td><td>1</td><td>0</td><td>2</td><td>1</td><td>1</td><td>0</td><td>8</td><td>0</td><td>7</td><td>1</td><td>23</td><td>3</td><td>3</td><td>3</td><td>14</td><td>17</td><td>6</td><td>0</td><td>0</td><td>6</td><td>3</td><td>0</td><td>2</td><td>40</td><td>0</td><td>40</td><td>23</td><td>0.2</td><td>598889</td><td>AGZ000dir3</td></tr>\n",
       "<tr><td>5857c4a3d369fd004000000b</td><td>40</td><td>3</td><td>7</td><td>3</td><td>0</td><td>3</td><td>3</td><td>1</td><td>2</td><td>3</td><td>1</td><td>2</td><td>3</td><td>1</td><td>2</td><td>0</td><td>1</td><td>1</td><td>0</td><td>0</td><td>1</td><td>0</td><td>1</td><td>0</td><td>0</td><td>0</td><td>0</td><td>0</td><td>0</td><td>0</td><td>30</td><td>17</td><td>13</td><td>0</td><td>33</td><td>1</td><td>2</td><td>0</td><td>30</td><td>14</td><td>8</td><td>0</td><td>1</td><td>3</td><td>1</td><td>1</td><td>0</td><td>40</td><td>2</td><td>38</td><td>33</td><td>0.75</td><td>598890</td><td>AGZ000drme</td></tr>\n",
       "<tr><td>5857c4a3d369fd004000000d</td><td>40</td><td>9</td><td>6</td><td>9</td><td>6</td><td>3</td><td>3</td><td>0</td><td>3</td><td>3</td><td>0</td><td>3</td><td>3</td><td>3</td><td>0</td><td>0</td><td>0</td><td>0</td><td>0</td><td>0</td><td>0</td><td>0</td><td>0</td><td>0</td><td>0</td><td>0</td><td>6</td><td>0</td><td>0</td><td>6</td><td>25</td><td>0</td><td>21</td><td>4</td><td>34</td><td>1</td><td>3</td><td>0</td><td>30</td><td>14</td><td>12</td><td>0</td><td>0</td><td>2</td><td>0</td><td>0</td><td>0</td><td>40</td><td>3</td><td>37</td><td>34</td><td>0.625</td><td>598900</td><td>AGZ000drmd</td></tr>\n",
       "<tr><td>5857c4a3d369fd004000000f</td><td>40</td><td>28</td><td>8</td><td>28</td><td>3</td><td>25</td><td>25</td><td>20</td><td>5</td><td>25</td><td>21</td><td>4</td><td>25</td><td>8</td><td>15</td><td>2</td><td>21</td><td>4</td><td>3</td><td>14</td><td>21</td><td>5</td><td>13</td><td>1</td><td>1</td><td>1</td><td>3</td><td>2</td><td>0</td><td>1</td><td>4</td><td>3</td><td>1</td><td>0</td><td>32</td><td>0</td><td>9</td><td>3</td><td>20</td><td>23</td><td>8</td><td>0</td><td>1</td><td>6</td><td>7</td><td>1</td><td>0</td><td>40</td><td>3</td><td>37</td><td>32</td><td>0.1</td><td>598911</td><td>AGZ000drmc</td></tr>\n",
       "<tr><td>5857c4a3d369fd0040000011</td><td>40</td><td>11</td><td>9</td><td>11</td><td>11</td><td>0</td><td>0</td><td>0</td><td>0</td><td>0</td><td>0</td><td>0</td><td>0</td><td>0</td><td>0</td><td>0</td><td>0</td><td>0</td><td>0</td><td>0</td><td>0</td><td>0</td><td>0</td><td>0</td><td>0</td><td>0</td><td>11</td><td>8</td><td>2</td><td>1</td><td>20</td><td>0</td><td>7</td><td>13</td><td>31</td><td>1</td><td>4</td><td>1</td><td>25</td><td>15</td><td>7</td><td>2</td><td>1</td><td>1</td><td>3</td><td>1</td><td>0</td><td>40</td><td>0</td><td>40</td><td>31</td><td>0.5</td><td>598923</td><td>AGZ000drmb</td></tr>\n",
       "<tr><td>5857c4a3d369fd0040000013</td><td>40</td><td>5</td><td>8</td><td>5</td><td>2</td><td>3</td><td>3</td><td>3</td><td>0</td><td>3</td><td>1</td><td>2</td><td>3</td><td>2</td><td>1</td><td>0</td><td>1</td><td>1</td><td>0</td><td>0</td><td>1</td><td>0</td><td>1</td><td>0</td><td>0</td><td>0</td><td>2</td><td>1</td><td>1</td><td>0</td><td>27</td><td>1</td><td>22</td><td>4</td><td>32</td><td>2</td><td>5</td><td>1</td><td>24</td><td>19</td><td>15</td><td>1</td><td>1</td><td>1</td><td>0</td><td>0</td><td>1</td><td>40</td><td>3</td><td>37</td><td>32</td><td>0.675</td><td>598922</td><td>AGZ000drma</td></tr>\n",
       "<tr><td>...</td><td>...</td><td>...</td><td>...</td><td>...</td><td>...</td><td>...</td><td>...</td><td>...</td><td>...</td><td>...</td><td>...</td><td>...</td><td>...</td><td>...</td><td>...</td><td>...</td><td>...</td><td>...</td><td>...</td><td>...</td><td>...</td><td>...</td><td>...</td><td>...</td><td>...</td><td>...</td><td>...</td><td>...</td><td>...</td><td>...</td><td>...</td><td>...</td><td>...</td><td>...</td><td>...</td><td>...</td><td>...</td><td>...</td><td>...</td><td>...</td><td>...</td><td>...</td><td>...</td><td>...</td><td>...</td><td>...</td><td>...</td><td>...</td><td>...</td><td>...</td><td>...</td><td>...</td><td>...</td><td>...</td></tr>\n",
       "<tr><td>5857c532d369fd00400059d3</td><td>40</td><td>1</td><td>10</td><td>1</td><td>0</td><td>1</td><td>1</td><td>0</td><td>1</td><td>1</td><td>0</td><td>1</td><td>1</td><td>0</td><td>0</td><td>1</td><td>0</td><td>0</td><td>0</td><td>0</td><td>0</td><td>0</td><td>0</td><td>0</td><td>0</td><td>0</td><td>0</td><td>0</td><td>0</td><td>0</td><td>29</td><td>28</td><td>1</td><td>0</td><td>30</td><td>2</td><td>3</td><td>0</td><td>25</td><td>7</td><td>6</td><td>0</td><td>0</td><td>0</td><td>1</td><td>0</td><td>0</td><td>40</td><td>1</td><td>39</td><td>30</td><td>0.725</td><td>575658</td><td>AGZ000dj5f</td></tr>\n",
       "<tr><td>5857c532d369fd00400059d5</td><td>40</td><td>34</td><td>4</td><td>34</td><td>33</td><td>1</td><td>1</td><td>0</td><td>1</td><td>1</td><td>0</td><td>1</td><td>1</td><td>1</td><td>0</td><td>0</td><td>0</td><td>0</td><td>0</td><td>0</td><td>0</td><td>0</td><td>0</td><td>0</td><td>0</td><td>0</td><td>33</td><td>14</td><td>2</td><td>17</td><td>2</td><td>0</td><td>1</td><td>1</td><td>36</td><td>0</td><td>3</td><td>0</td><td>33</td><td>29</td><td>10</td><td>2</td><td>1</td><td>1</td><td>0</td><td>14</td><td>1</td><td>40</td><td>2</td><td>38</td><td>36</td><td>0.05</td><td>575670</td><td>AGZ000dj5c</td></tr>\n",
       "<tr><td>5857c532d369fd00400059d7</td><td>40</td><td>3</td><td>6</td><td>3</td><td>0</td><td>3</td><td>3</td><td>0</td><td>3</td><td>3</td><td>0</td><td>3</td><td>3</td><td>3</td><td>0</td><td>0</td><td>0</td><td>0</td><td>0</td><td>0</td><td>0</td><td>0</td><td>0</td><td>0</td><td>0</td><td>0</td><td>0</td><td>0</td><td>0</td><td>0</td><td>31</td><td>30</td><td>1</td><td>0</td><td>34</td><td>19</td><td>0</td><td>1</td><td>14</td><td>14</td><td>11</td><td>0</td><td>0</td><td>0</td><td>2</td><td>1</td><td>0</td><td>40</td><td>2</td><td>38</td><td>34</td><td>0.775</td><td>575674</td><td>AGZ000dj5d</td></tr>\n",
       "<tr><td>5857c532d369fd00400059d9</td><td>40</td><td>28</td><td>10</td><td>28</td><td>1</td><td>27</td><td>27</td><td>14</td><td>13</td><td>27</td><td>26</td><td>1</td><td>27</td><td>0</td><td>14</td><td>13</td><td>26</td><td>3</td><td>13</td><td>10</td><td>26</td><td>2</td><td>21</td><td>3</td><td>0</td><td>0</td><td>1</td><td>1</td><td>0</td><td>0</td><td>2</td><td>1</td><td>1</td><td>0</td><td>30</td><td>0</td><td>5</td><td>3</td><td>22</td><td>15</td><td>8</td><td>1</td><td>1</td><td>2</td><td>2</td><td>1</td><td>0</td><td>40</td><td>0</td><td>40</td><td>30</td><td>0.05</td><td>575677</td><td>AGZ000dj5a</td></tr>\n",
       "<tr><td>5857c532d369fd00400059db</td><td>40</td><td>5</td><td>9</td><td>5</td><td>1</td><td>4</td><td>4</td><td>1</td><td>3</td><td>4</td><td>1</td><td>3</td><td>4</td><td>0</td><td>3</td><td>1</td><td>1</td><td>1</td><td>0</td><td>0</td><td>1</td><td>0</td><td>1</td><td>0</td><td>0</td><td>0</td><td>1</td><td>1</td><td>0</td><td>0</td><td>26</td><td>1</td><td>25</td><td>0</td><td>31</td><td>2</td><td>1</td><td>1</td><td>27</td><td>14</td><td>12</td><td>1</td><td>0</td><td>0</td><td>1</td><td>0</td><td>0</td><td>40</td><td>3</td><td>37</td><td>31</td><td>0.65</td><td>575671</td><td>AGZ000dj5b</td></tr>\n",
       "<tr><td>5857c532d369fd00400059dd</td><td>40</td><td>33</td><td>2</td><td>33</td><td>13</td><td>20</td><td>20</td><td>2</td><td>18</td><td>20</td><td>10</td><td>10</td><td>20</td><td>1</td><td>14</td><td>5</td><td>10</td><td>6</td><td>2</td><td>2</td><td>10</td><td>0</td><td>6</td><td>1</td><td>0</td><td>3</td><td>13</td><td>11</td><td>0</td><td>2</td><td>5</td><td>0</td><td>4</td><td>1</td><td>38</td><td>5</td><td>2</td><td>0</td><td>31</td><td>19</td><td>5</td><td>10</td><td>1</td><td>0</td><td>1</td><td>1</td><td>1</td><td>40</td><td>1</td><td>39</td><td>38</td><td>0.125</td><td>575672</td><td>AGZ000dj58</td></tr>\n",
       "<tr><td>5857c532d369fd00400059df</td><td>40</td><td>24</td><td>3</td><td>24</td><td>13</td><td>11</td><td>11</td><td>2</td><td>9</td><td>11</td><td>1</td><td>10</td><td>11</td><td>0</td><td>6</td><td>5</td><td>1</td><td>1</td><td>0</td><td>0</td><td>1</td><td>0</td><td>1</td><td>0</td><td>0</td><td>0</td><td>13</td><td>12</td><td>1</td><td>0</td><td>13</td><td>0</td><td>11</td><td>2</td><td>37</td><td>1</td><td>2</td><td>0</td><td>34</td><td>21</td><td>5</td><td>1</td><td>1</td><td>0</td><td>5</td><td>0</td><td>9</td><td>40</td><td>1</td><td>39</td><td>37</td><td>0.325</td><td>575673</td><td>AGZ000dj59</td></tr>\n",
       "<tr><td>5857c532d369fd00400059e1</td><td>40</td><td>23</td><td>6</td><td>23</td><td>22</td><td>1</td><td>1</td><td>0</td><td>1</td><td>1</td><td>0</td><td>1</td><td>1</td><td>0</td><td>1</td><td>0</td><td>0</td><td>0</td><td>0</td><td>0</td><td>0</td><td>0</td><td>0</td><td>0</td><td>0</td><td>0</td><td>22</td><td>9</td><td>0</td><td>13</td><td>11</td><td>0</td><td>1</td><td>10</td><td>34</td><td>2</td><td>6</td><td>2</td><td>24</td><td>16</td><td>7</td><td>3</td><td>1</td><td>2</td><td>3</td><td>0</td><td>0</td><td>40</td><td>1</td><td>39</td><td>34</td><td>0.275</td><td>575686</td><td>AGZ000dj56</td></tr>\n",
       "<tr><td>5857c532d369fd00400059e3</td><td>40</td><td>7</td><td>11</td><td>7</td><td>0</td><td>7</td><td>7</td><td>2</td><td>5</td><td>7</td><td>3</td><td>4</td><td>7</td><td>0</td><td>6</td><td>1</td><td>3</td><td>1</td><td>1</td><td>1</td><td>3</td><td>0</td><td>3</td><td>0</td><td>0</td><td>0</td><td>0</td><td>0</td><td>0</td><td>0</td><td>22</td><td>6</td><td>16</td><td>0</td><td>29</td><td>2</td><td>1</td><td>0</td><td>26</td><td>13</td><td>10</td><td>0</td><td>0</td><td>0</td><td>3</td><td>0</td><td>0</td><td>40</td><td>0</td><td>40</td><td>29</td><td>0.55</td><td>575702</td><td>AGZ000dj57</td></tr>\n",
       "<tr><td>5857c532d369fd00400059e5</td><td>42</td><td>1</td><td>5</td><td>1</td><td>0</td><td>1</td><td>1</td><td>0</td><td>1</td><td>1</td><td>1</td><td>0</td><td>1</td><td>0</td><td>0</td><td>1</td><td>1</td><td>1</td><td>0</td><td>0</td><td>1</td><td>0</td><td>1</td><td>0</td><td>0</td><td>0</td><td>0</td><td>0</td><td>0</td><td>0</td><td>36</td><td>25</td><td>11</td><td>0</td><td>37</td><td>0</td><td>1</td><td>0</td><td>36</td><td>10</td><td>10</td><td>0</td><td>0</td><td>0</td><td>0</td><td>0</td><td>0</td><td>42</td><td>1</td><td>41</td><td>37</td><td>0.857142857143</td><td>575701</td><td>AGZ000dj55</td></tr>\n",
       "</table>"
      ],
      "text/plain": [
       "<Table masked=True length=11507>\n",
       "       subject_id        features_total ... survey_id zooniverse_id\n",
       "         str24               int64      ...    str7       str10    \n",
       "------------------------ -------------- ... --------- -------------\n",
       "5857c4a3d369fd0040000001             40 ...    598860    AGZ000dir0\n",
       "5857c4a3d369fd0040000003             40 ...    598875    AGZ000dir2\n",
       "5857c4a3d369fd0040000005             40 ...    598877    AGZ000dir1\n",
       "5857c4a3d369fd0040000007             40 ...    598888    AGZ000dir4\n",
       "5857c4a3d369fd0040000009             40 ...    598889    AGZ000dir3\n",
       "5857c4a3d369fd004000000b             40 ...    598890    AGZ000drme\n",
       "5857c4a3d369fd004000000d             40 ...    598900    AGZ000drmd\n",
       "5857c4a3d369fd004000000f             40 ...    598911    AGZ000drmc\n",
       "5857c4a3d369fd0040000011             40 ...    598923    AGZ000drmb\n",
       "5857c4a3d369fd0040000013             40 ...    598922    AGZ000drma\n",
       "                     ...            ... ...       ...           ...\n",
       "5857c532d369fd00400059d3             40 ...    575658    AGZ000dj5f\n",
       "5857c532d369fd00400059d5             40 ...    575670    AGZ000dj5c\n",
       "5857c532d369fd00400059d7             40 ...    575674    AGZ000dj5d\n",
       "5857c532d369fd00400059d9             40 ...    575677    AGZ000dj5a\n",
       "5857c532d369fd00400059db             40 ...    575671    AGZ000dj5b\n",
       "5857c532d369fd00400059dd             40 ...    575672    AGZ000dj58\n",
       "5857c532d369fd00400059df             40 ...    575673    AGZ000dj59\n",
       "5857c532d369fd00400059e1             40 ...    575686    AGZ000dj56\n",
       "5857c532d369fd00400059e3             40 ...    575702    AGZ000dj57\n",
       "5857c532d369fd00400059e5             42 ...    575701    AGZ000dj55"
      ]
     },
     "execution_count": 5,
     "metadata": {},
     "output_type": "execute_result"
    }
   ],
   "source": [
    "outdata"
   ]
  },
  {
   "cell_type": "code",
   "execution_count": 6,
   "metadata": {
    "collapsed": true
   },
   "outputs": [],
   "source": [
    "outdata.write('galaxy_zoo_{}_{}.fits'.format(subjectset, date), overwrite=True)"
   ]
  }
 ],
 "metadata": {
  "_draft": {
   "nbviewer_url": "https://gist.github.com/df1c052dd0ed94d9ec2dc1e98d060366"
  },
  "gist": {
   "data": {
    "description": "First look at GAMA GZ data",
    "public": false
   },
   "id": "df1c052dd0ed94d9ec2dc1e98d060366"
  },
  "hide_input": false,
  "kernelspec": {
   "display_name": "Python [default]",
   "language": "python",
   "name": "python3"
  },
  "language_info": {
   "codemirror_mode": {
    "name": "ipython",
    "version": 3
   },
   "file_extension": ".py",
   "mimetype": "text/x-python",
   "name": "python",
   "nbconvert_exporter": "python",
   "pygments_lexer": "ipython3",
   "version": "3.6.1"
  },
  "latex_envs": {
   "LaTeX_envs_menu_present": true,
   "autocomplete": true,
   "bibliofile": "biblio.bib",
   "cite_by": "apalike",
   "current_citInitial": 1,
   "eqLabelWithNumbers": true,
   "eqNumInitial": 1,
   "hotkeys": {
    "equation": "Ctrl-E",
    "itemize": "Ctrl-I"
   },
   "labels_anchors": false,
   "latex_user_defs": false,
   "report_style_numbering": false,
   "user_envs_cfg": false
  }
 },
 "nbformat": 4,
 "nbformat_minor": 1
}
