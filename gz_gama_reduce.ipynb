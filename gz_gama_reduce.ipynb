{
 "cells": [
  {
   "cell_type": "code",
   "execution_count": 1,
   "metadata": {
    "collapsed": false
   },
   "outputs": [],
   "source": [
    "from gz_reduce import reduce_data"
   ]
  },
  {
   "cell_type": "markdown",
   "metadata": {},
   "source": [
    "### Get the data"
   ]
  },
  {
   "cell_type": "code",
   "execution_count": 2,
   "metadata": {
    "collapsed": false
   },
   "outputs": [],
   "source": [
    "# %%bash\n",
    "# # get the gama tree definition\n",
    "# curl -O https://raw.githubusercontent.com/zooniverse/Galaxy-Zoo/master/app/lib/gama_tree.coffee"
   ]
  },
  {
   "cell_type": "code",
   "execution_count": 5,
   "metadata": {
    "collapsed": false
   },
   "outputs": [
    {
     "name": "stderr",
     "output_type": "stream",
     "text": [
      "  % Total    % Received % Xferd  Average Speed   Time    Time     Time  Current\n",
      "                                 Dload  Upload   Total   Spent    Left  Speed\n",
      "\r",
      "  0     0    0     0    0     0      0      0 --:--:-- --:--:-- --:--:--     0\r",
      "  0     0    0     0    0     0      0      0 --:--:-- --:--:-- --:--:--     0\r",
      "  7 9010k    7  696k    0     0   633k      0  0:00:14  0:00:01  0:00:13  634k\r",
      " 61 9010k   61 5506k    0     0  2598k      0  0:00:03  0:00:02  0:00:01 2601k\r",
      "100 9010k  100 9010k    0     0  3338k      0  0:00:02  0:00:02 --:--:-- 3342k\n"
     ]
    }
   ],
   "source": [
    "%%bash\n",
    "# get the database dump\n",
    "url=\"\"\n",
    "curl $url | tar xz"
   ]
  },
  {
   "cell_type": "markdown",
   "metadata": {},
   "source": [
    "### Run the reduction"
   ]
  },
  {
   "cell_type": "code",
   "execution_count": 6,
   "metadata": {
    "collapsed": false,
    "scrolled": true
   },
   "outputs": [],
   "source": [
    "date='2017-06-18'\n",
    "outdata = reduce_data(date)"
   ]
  },
  {
   "cell_type": "code",
   "execution_count": 7,
   "metadata": {
    "collapsed": true
   },
   "outputs": [],
   "source": [
    "outdata.write('{}_galaxy_zoo_gama09.fits'.format(date), overwrite=True)"
   ]
  },
  {
   "cell_type": "code",
   "execution_count": 8,
   "metadata": {
    "collapsed": false,
    "scrolled": false
   },
   "outputs": [
    {
     "data": {
      "text/html": [
       "&lt;Table masked=True length=11507&gt;\n",
       "<table id=\"table5397969776\" class=\"table-striped table-bordered table-condensed\">\n",
       "<thead><tr><th>subject_id</th><th>shape_total</th><th>shape_smooth</th><th>shape_features</th><th>shape_star_or_artifact</th><th>disk_total</th><th>disk_yes</th><th>disk_no</th><th>bar_total</th><th>bar_bar</th><th>bar_no_bar</th><th>spiral_a_total</th><th>spiral_a_spiral</th><th>spiral_a_no_spiral</th><th>bulge_a_total</th><th>bulge_a_no_bulge</th><th>bulge_a_obvious</th><th>bulge_a_dominant</th><th>spiral_b_total</th><th>spiral_b_tight</th><th>spiral_b_medium</th><th>spiral_b_loose</th><th>spiral_c_total</th><th>spiral_c_1</th><th>spiral_c_2</th><th>spiral_c_3</th><th>spiral_c_4</th><th>spiral_c_more_than_4</th><th>bulge_b_total</th><th>bulge_b_rounded</th><th>bulge_b_boxy</th><th>bulge_b_no_bulge</th><th>round_total</th><th>round_completely_round</th><th>round_in_between</th><th>round_cigar_shaped</th><th>mergers_total</th><th>mergers_merging</th><th>mergers_tidal_debris</th><th>mergers_both</th><th>mergers_neither</th><th>odd_total</th><th>odd_none</th><th>odd_ring</th><th>odd_lens_or_arc</th><th>odd_irregular</th><th>odd_other</th><th>odd_dust_lane</th><th>odd_overlapping</th><th>discuss_total</th><th>discuss_yes</th><th>discuss_no</th><th>shape_smooth_frac</th><th>shape_features_frac</th><th>shape_star_or_artifact_frac</th><th>disk_yes_frac</th><th>disk_no_frac</th><th>bar_bar_frac</th><th>bar_no_bar_frac</th><th>spiral_a_spiral_frac</th><th>spiral_a_no_spiral_frac</th><th>bulge_a_no_bulge_frac</th><th>bulge_a_obvious_frac</th><th>bulge_a_dominant_frac</th><th>spiral_b_tight_frac</th><th>spiral_b_medium_frac</th><th>spiral_b_loose_frac</th><th>spiral_c_1_frac</th><th>spiral_c_2_frac</th><th>spiral_c_3_frac</th><th>spiral_c_4_frac</th><th>spiral_c_more_than_4_frac</th><th>bulge_b_rounded_frac</th><th>bulge_b_boxy_frac</th><th>bulge_b_no_bulge_frac</th><th>round_completely_round_frac</th><th>round_in_between_frac</th><th>round_cigar_shaped_frac</th><th>mergers_merging_frac</th><th>mergers_tidal_debris_frac</th><th>mergers_both_frac</th><th>mergers_neither_frac</th><th>odd_none_frac</th><th>odd_ring_frac</th><th>odd_lens_or_arc_frac</th><th>odd_irregular_frac</th><th>odd_other_frac</th><th>odd_dust_lane_frac</th><th>odd_overlapping_frac</th><th>discuss_yes_frac</th><th>discuss_no_frac</th><th>survey_id</th><th>zooniverse_id</th></tr></thead>\n",
       "<thead><tr><th>str24</th><th>int64</th><th>int64</th><th>int64</th><th>int64</th><th>int64</th><th>int64</th><th>int64</th><th>int64</th><th>int64</th><th>int64</th><th>int64</th><th>int64</th><th>int64</th><th>int64</th><th>int64</th><th>int64</th><th>int64</th><th>int64</th><th>int64</th><th>int64</th><th>int64</th><th>int64</th><th>int64</th><th>int64</th><th>int64</th><th>int64</th><th>int64</th><th>int64</th><th>int64</th><th>int64</th><th>int64</th><th>int64</th><th>int64</th><th>int64</th><th>int64</th><th>int64</th><th>int64</th><th>int64</th><th>int64</th><th>int64</th><th>int64</th><th>int64</th><th>int64</th><th>int64</th><th>int64</th><th>int64</th><th>int64</th><th>int64</th><th>int64</th><th>int64</th><th>int64</th><th>float64</th><th>float64</th><th>float64</th><th>float64</th><th>float64</th><th>float64</th><th>float64</th><th>float64</th><th>float64</th><th>float64</th><th>float64</th><th>float64</th><th>float64</th><th>float64</th><th>float64</th><th>float64</th><th>float64</th><th>float64</th><th>float64</th><th>float64</th><th>float64</th><th>float64</th><th>float64</th><th>float64</th><th>float64</th><th>float64</th><th>float64</th><th>float64</th><th>float64</th><th>float64</th><th>float64</th><th>float64</th><th>float64</th><th>float64</th><th>float64</th><th>float64</th><th>float64</th><th>float64</th><th>float64</th><th>int64</th><th>str10</th></tr></thead>\n",
       "<tr><td>5857c4a3d369fd0040000001</td><td>40</td><td>33</td><td>4</td><td>3</td><td>4</td><td>0</td><td>4</td><td>4</td><td>1</td><td>3</td><td>4</td><td>0</td><td>4</td><td>4</td><td>1</td><td>1</td><td>2</td><td>0</td><td>0</td><td>0</td><td>0</td><td>0</td><td>0</td><td>0</td><td>0</td><td>0</td><td>0</td><td>0</td><td>0</td><td>0</td><td>0</td><td>33</td><td>1</td><td>32</td><td>0</td><td>37</td><td>0</td><td>0</td><td>0</td><td>37</td><td>37</td><td>12</td><td>2</td><td>0</td><td>0</td><td>1</td><td>0</td><td>0</td><td>40</td><td>1</td><td>39</td><td>0.825</td><td>0.1</td><td>0.075</td><td>0.0</td><td>1.0</td><td>0.25</td><td>0.75</td><td>0.0</td><td>1.0</td><td>0.25</td><td>0.25</td><td>0.5</td><td>--</td><td>--</td><td>--</td><td>--</td><td>--</td><td>--</td><td>--</td><td>--</td><td>--</td><td>--</td><td>--</td><td>0.030303030303</td><td>0.969696969697</td><td>0.0</td><td>0.0</td><td>0.0</td><td>0.0</td><td>1.0</td><td>0.324324324324</td><td>0.0540540540541</td><td>0.0</td><td>0.0</td><td>0.027027027027</td><td>0.0</td><td>0.0</td><td>0.025</td><td>0.975</td><td>598860</td><td>AGZ000dir0</td></tr>\n",
       "<tr><td>5857c4a3d369fd0040000003</td><td>40</td><td>29</td><td>5</td><td>6</td><td>5</td><td>1</td><td>4</td><td>4</td><td>0</td><td>4</td><td>4</td><td>1</td><td>3</td><td>4</td><td>1</td><td>1</td><td>2</td><td>1</td><td>0</td><td>0</td><td>1</td><td>1</td><td>0</td><td>1</td><td>0</td><td>0</td><td>0</td><td>1</td><td>1</td><td>0</td><td>0</td><td>29</td><td>1</td><td>28</td><td>0</td><td>34</td><td>3</td><td>1</td><td>0</td><td>30</td><td>34</td><td>9</td><td>0</td><td>0</td><td>0</td><td>4</td><td>0</td><td>0</td><td>40</td><td>1</td><td>39</td><td>0.725</td><td>0.125</td><td>0.15</td><td>0.2</td><td>0.8</td><td>0.0</td><td>1.0</td><td>0.25</td><td>0.75</td><td>0.25</td><td>0.25</td><td>0.5</td><td>0.0</td><td>0.0</td><td>1.0</td><td>0.0</td><td>1.0</td><td>0.0</td><td>0.0</td><td>0.0</td><td>1.0</td><td>0.0</td><td>0.0</td><td>0.0344827586207</td><td>0.965517241379</td><td>0.0</td><td>0.0882352941176</td><td>0.0294117647059</td><td>0.0</td><td>0.882352941176</td><td>0.264705882353</td><td>0.0</td><td>0.0</td><td>0.0</td><td>0.117647058824</td><td>0.0</td><td>0.0</td><td>0.025</td><td>0.975</td><td>598875</td><td>AGZ000dir2</td></tr>\n",
       "<tr><td>5857c4a3d369fd0040000005</td><td>40</td><td>31</td><td>2</td><td>7</td><td>2</td><td>1</td><td>1</td><td>1</td><td>0</td><td>1</td><td>1</td><td>0</td><td>1</td><td>1</td><td>1</td><td>0</td><td>0</td><td>0</td><td>0</td><td>0</td><td>0</td><td>0</td><td>0</td><td>0</td><td>0</td><td>0</td><td>0</td><td>1</td><td>1</td><td>0</td><td>0</td><td>31</td><td>14</td><td>17</td><td>0</td><td>33</td><td>2</td><td>1</td><td>0</td><td>30</td><td>33</td><td>9</td><td>0</td><td>0</td><td>1</td><td>2</td><td>0</td><td>1</td><td>40</td><td>0</td><td>40</td><td>0.775</td><td>0.05</td><td>0.175</td><td>0.5</td><td>0.5</td><td>0.0</td><td>1.0</td><td>0.0</td><td>1.0</td><td>1.0</td><td>0.0</td><td>0.0</td><td>--</td><td>--</td><td>--</td><td>--</td><td>--</td><td>--</td><td>--</td><td>--</td><td>1.0</td><td>0.0</td><td>0.0</td><td>0.451612903226</td><td>0.548387096774</td><td>0.0</td><td>0.0606060606061</td><td>0.030303030303</td><td>0.0</td><td>0.909090909091</td><td>0.272727272727</td><td>0.0</td><td>0.0</td><td>0.030303030303</td><td>0.0606060606061</td><td>0.0</td><td>0.030303030303</td><td>0.0</td><td>1.0</td><td>598877</td><td>AGZ000dir1</td></tr>\n",
       "<tr><td>5857c4a3d369fd0040000007</td><td>40</td><td>27</td><td>7</td><td>6</td><td>7</td><td>1</td><td>6</td><td>6</td><td>0</td><td>6</td><td>6</td><td>0</td><td>6</td><td>6</td><td>0</td><td>5</td><td>1</td><td>0</td><td>0</td><td>0</td><td>0</td><td>0</td><td>0</td><td>0</td><td>0</td><td>0</td><td>0</td><td>1</td><td>0</td><td>0</td><td>1</td><td>27</td><td>5</td><td>21</td><td>1</td><td>34</td><td>2</td><td>1</td><td>1</td><td>30</td><td>34</td><td>8</td><td>1</td><td>0</td><td>2</td><td>2</td><td>1</td><td>0</td><td>40</td><td>1</td><td>39</td><td>0.675</td><td>0.175</td><td>0.15</td><td>0.142857142857</td><td>0.857142857143</td><td>0.0</td><td>1.0</td><td>0.0</td><td>1.0</td><td>0.0</td><td>0.833333333333</td><td>0.166666666667</td><td>--</td><td>--</td><td>--</td><td>--</td><td>--</td><td>--</td><td>--</td><td>--</td><td>0.0</td><td>0.0</td><td>1.0</td><td>0.185185185185</td><td>0.777777777778</td><td>0.037037037037</td><td>0.0588235294118</td><td>0.0294117647059</td><td>0.0294117647059</td><td>0.882352941176</td><td>0.235294117647</td><td>0.0294117647059</td><td>0.0</td><td>0.0588235294118</td><td>0.0588235294118</td><td>0.0294117647059</td><td>0.0</td><td>0.025</td><td>0.975</td><td>598888</td><td>AGZ000dir4</td></tr>\n",
       "<tr><td>5857c4a3d369fd0040000009</td><td>40</td><td>8</td><td>15</td><td>17</td><td>15</td><td>2</td><td>13</td><td>13</td><td>2</td><td>11</td><td>13</td><td>5</td><td>8</td><td>13</td><td>3</td><td>9</td><td>1</td><td>5</td><td>0</td><td>2</td><td>3</td><td>5</td><td>0</td><td>4</td><td>0</td><td>1</td><td>0</td><td>2</td><td>1</td><td>1</td><td>0</td><td>8</td><td>0</td><td>7</td><td>1</td><td>23</td><td>3</td><td>3</td><td>3</td><td>14</td><td>23</td><td>6</td><td>0</td><td>0</td><td>6</td><td>3</td><td>0</td><td>2</td><td>40</td><td>0</td><td>40</td><td>0.2</td><td>0.375</td><td>0.425</td><td>0.133333333333</td><td>0.866666666667</td><td>0.153846153846</td><td>0.846153846154</td><td>0.384615384615</td><td>0.615384615385</td><td>0.230769230769</td><td>0.692307692308</td><td>0.0769230769231</td><td>0.0</td><td>0.4</td><td>0.6</td><td>0.0</td><td>0.8</td><td>0.0</td><td>0.2</td><td>0.0</td><td>0.5</td><td>0.5</td><td>0.0</td><td>0.0</td><td>0.875</td><td>0.125</td><td>0.130434782609</td><td>0.130434782609</td><td>0.130434782609</td><td>0.608695652174</td><td>0.260869565217</td><td>0.0</td><td>0.0</td><td>0.260869565217</td><td>0.130434782609</td><td>0.0</td><td>0.0869565217391</td><td>0.0</td><td>1.0</td><td>598889</td><td>AGZ000dir3</td></tr>\n",
       "<tr><td>5857c4a3d369fd004000000b</td><td>40</td><td>30</td><td>3</td><td>7</td><td>3</td><td>0</td><td>3</td><td>3</td><td>1</td><td>2</td><td>3</td><td>1</td><td>2</td><td>3</td><td>1</td><td>2</td><td>0</td><td>1</td><td>1</td><td>0</td><td>0</td><td>1</td><td>0</td><td>1</td><td>0</td><td>0</td><td>0</td><td>0</td><td>0</td><td>0</td><td>0</td><td>30</td><td>17</td><td>13</td><td>0</td><td>33</td><td>1</td><td>2</td><td>0</td><td>30</td><td>33</td><td>8</td><td>0</td><td>1</td><td>3</td><td>1</td><td>1</td><td>0</td><td>40</td><td>2</td><td>38</td><td>0.75</td><td>0.075</td><td>0.175</td><td>0.0</td><td>1.0</td><td>0.333333333333</td><td>0.666666666667</td><td>0.333333333333</td><td>0.666666666667</td><td>0.333333333333</td><td>0.666666666667</td><td>0.0</td><td>1.0</td><td>0.0</td><td>0.0</td><td>0.0</td><td>1.0</td><td>0.0</td><td>0.0</td><td>0.0</td><td>--</td><td>--</td><td>--</td><td>0.566666666667</td><td>0.433333333333</td><td>0.0</td><td>0.030303030303</td><td>0.0606060606061</td><td>0.0</td><td>0.909090909091</td><td>0.242424242424</td><td>0.0</td><td>0.030303030303</td><td>0.0909090909091</td><td>0.030303030303</td><td>0.030303030303</td><td>0.0</td><td>0.05</td><td>0.95</td><td>598890</td><td>AGZ000drme</td></tr>\n",
       "<tr><td>5857c4a3d369fd004000000d</td><td>40</td><td>25</td><td>9</td><td>6</td><td>9</td><td>6</td><td>3</td><td>3</td><td>0</td><td>3</td><td>3</td><td>0</td><td>3</td><td>3</td><td>3</td><td>0</td><td>0</td><td>0</td><td>0</td><td>0</td><td>0</td><td>0</td><td>0</td><td>0</td><td>0</td><td>0</td><td>0</td><td>6</td><td>0</td><td>0</td><td>6</td><td>25</td><td>0</td><td>21</td><td>4</td><td>34</td><td>1</td><td>3</td><td>0</td><td>30</td><td>34</td><td>12</td><td>0</td><td>0</td><td>2</td><td>0</td><td>0</td><td>0</td><td>40</td><td>3</td><td>37</td><td>0.625</td><td>0.225</td><td>0.15</td><td>0.666666666667</td><td>0.333333333333</td><td>0.0</td><td>1.0</td><td>0.0</td><td>1.0</td><td>1.0</td><td>0.0</td><td>0.0</td><td>--</td><td>--</td><td>--</td><td>--</td><td>--</td><td>--</td><td>--</td><td>--</td><td>0.0</td><td>0.0</td><td>1.0</td><td>0.0</td><td>0.84</td><td>0.16</td><td>0.0294117647059</td><td>0.0882352941176</td><td>0.0</td><td>0.882352941176</td><td>0.352941176471</td><td>0.0</td><td>0.0</td><td>0.0588235294118</td><td>0.0</td><td>0.0</td><td>0.0</td><td>0.075</td><td>0.925</td><td>598900</td><td>AGZ000drmd</td></tr>\n",
       "<tr><td>5857c4a3d369fd004000000f</td><td>40</td><td>4</td><td>28</td><td>8</td><td>28</td><td>3</td><td>25</td><td>25</td><td>20</td><td>5</td><td>25</td><td>21</td><td>4</td><td>25</td><td>8</td><td>15</td><td>2</td><td>21</td><td>4</td><td>3</td><td>14</td><td>21</td><td>5</td><td>13</td><td>1</td><td>1</td><td>1</td><td>3</td><td>2</td><td>0</td><td>1</td><td>4</td><td>3</td><td>1</td><td>0</td><td>32</td><td>0</td><td>9</td><td>3</td><td>20</td><td>32</td><td>8</td><td>0</td><td>1</td><td>6</td><td>7</td><td>1</td><td>0</td><td>40</td><td>3</td><td>37</td><td>0.1</td><td>0.7</td><td>0.2</td><td>0.107142857143</td><td>0.892857142857</td><td>0.8</td><td>0.2</td><td>0.84</td><td>0.16</td><td>0.32</td><td>0.6</td><td>0.08</td><td>0.190476190476</td><td>0.142857142857</td><td>0.666666666667</td><td>0.238095238095</td><td>0.619047619048</td><td>0.047619047619</td><td>0.047619047619</td><td>0.047619047619</td><td>0.666666666667</td><td>0.0</td><td>0.333333333333</td><td>0.75</td><td>0.25</td><td>0.0</td><td>0.0</td><td>0.28125</td><td>0.09375</td><td>0.625</td><td>0.25</td><td>0.0</td><td>0.03125</td><td>0.1875</td><td>0.21875</td><td>0.03125</td><td>0.0</td><td>0.075</td><td>0.925</td><td>598911</td><td>AGZ000drmc</td></tr>\n",
       "<tr><td>5857c4a3d369fd0040000011</td><td>40</td><td>20</td><td>11</td><td>9</td><td>11</td><td>11</td><td>0</td><td>0</td><td>0</td><td>0</td><td>0</td><td>0</td><td>0</td><td>0</td><td>0</td><td>0</td><td>0</td><td>0</td><td>0</td><td>0</td><td>0</td><td>0</td><td>0</td><td>0</td><td>0</td><td>0</td><td>0</td><td>11</td><td>8</td><td>2</td><td>1</td><td>20</td><td>0</td><td>7</td><td>13</td><td>31</td><td>1</td><td>4</td><td>1</td><td>25</td><td>31</td><td>7</td><td>2</td><td>1</td><td>1</td><td>3</td><td>1</td><td>0</td><td>40</td><td>0</td><td>40</td><td>0.5</td><td>0.275</td><td>0.225</td><td>1.0</td><td>0.0</td><td>--</td><td>--</td><td>--</td><td>--</td><td>--</td><td>--</td><td>--</td><td>--</td><td>--</td><td>--</td><td>--</td><td>--</td><td>--</td><td>--</td><td>--</td><td>0.727272727273</td><td>0.181818181818</td><td>0.0909090909091</td><td>0.0</td><td>0.35</td><td>0.65</td><td>0.0322580645161</td><td>0.129032258065</td><td>0.0322580645161</td><td>0.806451612903</td><td>0.225806451613</td><td>0.0645161290323</td><td>0.0322580645161</td><td>0.0322580645161</td><td>0.0967741935484</td><td>0.0322580645161</td><td>0.0</td><td>0.0</td><td>1.0</td><td>598923</td><td>AGZ000drmb</td></tr>\n",
       "<tr><td>5857c4a3d369fd0040000013</td><td>40</td><td>27</td><td>5</td><td>8</td><td>5</td><td>2</td><td>3</td><td>3</td><td>3</td><td>0</td><td>3</td><td>1</td><td>2</td><td>3</td><td>2</td><td>1</td><td>0</td><td>1</td><td>1</td><td>0</td><td>0</td><td>1</td><td>0</td><td>1</td><td>0</td><td>0</td><td>0</td><td>2</td><td>1</td><td>1</td><td>0</td><td>27</td><td>1</td><td>22</td><td>4</td><td>32</td><td>2</td><td>5</td><td>1</td><td>24</td><td>32</td><td>15</td><td>1</td><td>1</td><td>1</td><td>0</td><td>0</td><td>1</td><td>40</td><td>3</td><td>37</td><td>0.675</td><td>0.125</td><td>0.2</td><td>0.4</td><td>0.6</td><td>1.0</td><td>0.0</td><td>0.333333333333</td><td>0.666666666667</td><td>0.666666666667</td><td>0.333333333333</td><td>0.0</td><td>1.0</td><td>0.0</td><td>0.0</td><td>0.0</td><td>1.0</td><td>0.0</td><td>0.0</td><td>0.0</td><td>0.5</td><td>0.5</td><td>0.0</td><td>0.037037037037</td><td>0.814814814815</td><td>0.148148148148</td><td>0.0625</td><td>0.15625</td><td>0.03125</td><td>0.75</td><td>0.46875</td><td>0.03125</td><td>0.03125</td><td>0.03125</td><td>0.0</td><td>0.0</td><td>0.03125</td><td>0.075</td><td>0.925</td><td>598922</td><td>AGZ000drma</td></tr>\n",
       "<tr><td>...</td><td>...</td><td>...</td><td>...</td><td>...</td><td>...</td><td>...</td><td>...</td><td>...</td><td>...</td><td>...</td><td>...</td><td>...</td><td>...</td><td>...</td><td>...</td><td>...</td><td>...</td><td>...</td><td>...</td><td>...</td><td>...</td><td>...</td><td>...</td><td>...</td><td>...</td><td>...</td><td>...</td><td>...</td><td>...</td><td>...</td><td>...</td><td>...</td><td>...</td><td>...</td><td>...</td><td>...</td><td>...</td><td>...</td><td>...</td><td>...</td><td>...</td><td>...</td><td>...</td><td>...</td><td>...</td><td>...</td><td>...</td><td>...</td><td>...</td><td>...</td><td>...</td><td>...</td><td>...</td><td>...</td><td>...</td><td>...</td><td>...</td><td>...</td><td>...</td><td>...</td><td>...</td><td>...</td><td>...</td><td>...</td><td>...</td><td>...</td><td>...</td><td>...</td><td>...</td><td>...</td><td>...</td><td>...</td><td>...</td><td>...</td><td>...</td><td>...</td><td>...</td><td>...</td><td>...</td><td>...</td><td>...</td><td>...</td><td>...</td><td>...</td><td>...</td><td>...</td><td>...</td><td>...</td><td>...</td><td>...</td><td>...</td><td>...</td></tr>\n",
       "<tr><td>5857c532d369fd00400059d3</td><td>40</td><td>29</td><td>1</td><td>10</td><td>1</td><td>0</td><td>1</td><td>1</td><td>0</td><td>1</td><td>1</td><td>0</td><td>1</td><td>1</td><td>0</td><td>0</td><td>1</td><td>0</td><td>0</td><td>0</td><td>0</td><td>0</td><td>0</td><td>0</td><td>0</td><td>0</td><td>0</td><td>0</td><td>0</td><td>0</td><td>0</td><td>29</td><td>28</td><td>1</td><td>0</td><td>30</td><td>2</td><td>3</td><td>0</td><td>25</td><td>30</td><td>6</td><td>0</td><td>0</td><td>0</td><td>1</td><td>0</td><td>0</td><td>40</td><td>1</td><td>39</td><td>0.725</td><td>0.025</td><td>0.25</td><td>0.0</td><td>1.0</td><td>0.0</td><td>1.0</td><td>0.0</td><td>1.0</td><td>0.0</td><td>0.0</td><td>1.0</td><td>--</td><td>--</td><td>--</td><td>--</td><td>--</td><td>--</td><td>--</td><td>--</td><td>--</td><td>--</td><td>--</td><td>0.965517241379</td><td>0.0344827586207</td><td>0.0</td><td>0.0666666666667</td><td>0.1</td><td>0.0</td><td>0.833333333333</td><td>0.2</td><td>0.0</td><td>0.0</td><td>0.0</td><td>0.0333333333333</td><td>0.0</td><td>0.0</td><td>0.025</td><td>0.975</td><td>575658</td><td>AGZ000dj5f</td></tr>\n",
       "<tr><td>5857c532d369fd00400059d5</td><td>40</td><td>2</td><td>34</td><td>4</td><td>34</td><td>33</td><td>1</td><td>1</td><td>0</td><td>1</td><td>1</td><td>0</td><td>1</td><td>1</td><td>1</td><td>0</td><td>0</td><td>0</td><td>0</td><td>0</td><td>0</td><td>0</td><td>0</td><td>0</td><td>0</td><td>0</td><td>0</td><td>33</td><td>14</td><td>2</td><td>17</td><td>2</td><td>0</td><td>1</td><td>1</td><td>36</td><td>0</td><td>3</td><td>0</td><td>33</td><td>36</td><td>10</td><td>2</td><td>1</td><td>1</td><td>0</td><td>14</td><td>1</td><td>40</td><td>2</td><td>38</td><td>0.05</td><td>0.85</td><td>0.1</td><td>0.970588235294</td><td>0.0294117647059</td><td>0.0</td><td>1.0</td><td>0.0</td><td>1.0</td><td>1.0</td><td>0.0</td><td>0.0</td><td>--</td><td>--</td><td>--</td><td>--</td><td>--</td><td>--</td><td>--</td><td>--</td><td>0.424242424242</td><td>0.0606060606061</td><td>0.515151515152</td><td>0.0</td><td>0.5</td><td>0.5</td><td>0.0</td><td>0.0833333333333</td><td>0.0</td><td>0.916666666667</td><td>0.277777777778</td><td>0.0555555555556</td><td>0.0277777777778</td><td>0.0277777777778</td><td>0.0</td><td>0.388888888889</td><td>0.0277777777778</td><td>0.05</td><td>0.95</td><td>575670</td><td>AGZ000dj5c</td></tr>\n",
       "<tr><td>5857c532d369fd00400059d7</td><td>40</td><td>31</td><td>3</td><td>6</td><td>3</td><td>0</td><td>3</td><td>3</td><td>0</td><td>3</td><td>3</td><td>0</td><td>3</td><td>3</td><td>3</td><td>0</td><td>0</td><td>0</td><td>0</td><td>0</td><td>0</td><td>0</td><td>0</td><td>0</td><td>0</td><td>0</td><td>0</td><td>0</td><td>0</td><td>0</td><td>0</td><td>31</td><td>30</td><td>1</td><td>0</td><td>34</td><td>19</td><td>0</td><td>1</td><td>14</td><td>34</td><td>11</td><td>0</td><td>0</td><td>0</td><td>2</td><td>1</td><td>0</td><td>40</td><td>2</td><td>38</td><td>0.775</td><td>0.075</td><td>0.15</td><td>0.0</td><td>1.0</td><td>0.0</td><td>1.0</td><td>0.0</td><td>1.0</td><td>1.0</td><td>0.0</td><td>0.0</td><td>--</td><td>--</td><td>--</td><td>--</td><td>--</td><td>--</td><td>--</td><td>--</td><td>--</td><td>--</td><td>--</td><td>0.967741935484</td><td>0.0322580645161</td><td>0.0</td><td>0.558823529412</td><td>0.0</td><td>0.0294117647059</td><td>0.411764705882</td><td>0.323529411765</td><td>0.0</td><td>0.0</td><td>0.0</td><td>0.0588235294118</td><td>0.0294117647059</td><td>0.0</td><td>0.05</td><td>0.95</td><td>575674</td><td>AGZ000dj5d</td></tr>\n",
       "<tr><td>5857c532d369fd00400059d9</td><td>40</td><td>2</td><td>28</td><td>10</td><td>28</td><td>1</td><td>27</td><td>27</td><td>14</td><td>13</td><td>27</td><td>26</td><td>1</td><td>27</td><td>0</td><td>14</td><td>13</td><td>26</td><td>3</td><td>13</td><td>10</td><td>26</td><td>2</td><td>21</td><td>3</td><td>0</td><td>0</td><td>1</td><td>1</td><td>0</td><td>0</td><td>2</td><td>1</td><td>1</td><td>0</td><td>30</td><td>0</td><td>5</td><td>3</td><td>22</td><td>30</td><td>8</td><td>1</td><td>1</td><td>2</td><td>2</td><td>1</td><td>0</td><td>40</td><td>0</td><td>40</td><td>0.05</td><td>0.7</td><td>0.25</td><td>0.0357142857143</td><td>0.964285714286</td><td>0.518518518519</td><td>0.481481481481</td><td>0.962962962963</td><td>0.037037037037</td><td>0.0</td><td>0.518518518519</td><td>0.481481481481</td><td>0.115384615385</td><td>0.5</td><td>0.384615384615</td><td>0.0769230769231</td><td>0.807692307692</td><td>0.115384615385</td><td>0.0</td><td>0.0</td><td>1.0</td><td>0.0</td><td>0.0</td><td>0.5</td><td>0.5</td><td>0.0</td><td>0.0</td><td>0.166666666667</td><td>0.1</td><td>0.733333333333</td><td>0.266666666667</td><td>0.0333333333333</td><td>0.0333333333333</td><td>0.0666666666667</td><td>0.0666666666667</td><td>0.0333333333333</td><td>0.0</td><td>0.0</td><td>1.0</td><td>575677</td><td>AGZ000dj5a</td></tr>\n",
       "<tr><td>5857c532d369fd00400059db</td><td>40</td><td>26</td><td>5</td><td>9</td><td>5</td><td>1</td><td>4</td><td>4</td><td>1</td><td>3</td><td>4</td><td>1</td><td>3</td><td>4</td><td>0</td><td>3</td><td>1</td><td>1</td><td>1</td><td>0</td><td>0</td><td>1</td><td>0</td><td>1</td><td>0</td><td>0</td><td>0</td><td>1</td><td>1</td><td>0</td><td>0</td><td>26</td><td>1</td><td>25</td><td>0</td><td>31</td><td>2</td><td>1</td><td>1</td><td>27</td><td>31</td><td>12</td><td>1</td><td>0</td><td>0</td><td>1</td><td>0</td><td>0</td><td>40</td><td>3</td><td>37</td><td>0.65</td><td>0.125</td><td>0.225</td><td>0.2</td><td>0.8</td><td>0.25</td><td>0.75</td><td>0.25</td><td>0.75</td><td>0.0</td><td>0.75</td><td>0.25</td><td>1.0</td><td>0.0</td><td>0.0</td><td>0.0</td><td>1.0</td><td>0.0</td><td>0.0</td><td>0.0</td><td>1.0</td><td>0.0</td><td>0.0</td><td>0.0384615384615</td><td>0.961538461538</td><td>0.0</td><td>0.0645161290323</td><td>0.0322580645161</td><td>0.0322580645161</td><td>0.870967741935</td><td>0.387096774194</td><td>0.0322580645161</td><td>0.0</td><td>0.0</td><td>0.0322580645161</td><td>0.0</td><td>0.0</td><td>0.075</td><td>0.925</td><td>575671</td><td>AGZ000dj5b</td></tr>\n",
       "<tr><td>5857c532d369fd00400059dd</td><td>40</td><td>5</td><td>33</td><td>2</td><td>33</td><td>13</td><td>20</td><td>20</td><td>2</td><td>18</td><td>20</td><td>10</td><td>10</td><td>20</td><td>1</td><td>14</td><td>5</td><td>10</td><td>6</td><td>2</td><td>2</td><td>10</td><td>0</td><td>6</td><td>1</td><td>0</td><td>3</td><td>13</td><td>11</td><td>0</td><td>2</td><td>5</td><td>0</td><td>4</td><td>1</td><td>38</td><td>5</td><td>2</td><td>0</td><td>31</td><td>38</td><td>5</td><td>10</td><td>1</td><td>0</td><td>1</td><td>1</td><td>1</td><td>40</td><td>1</td><td>39</td><td>0.125</td><td>0.825</td><td>0.05</td><td>0.393939393939</td><td>0.606060606061</td><td>0.1</td><td>0.9</td><td>0.5</td><td>0.5</td><td>0.05</td><td>0.7</td><td>0.25</td><td>0.6</td><td>0.2</td><td>0.2</td><td>0.0</td><td>0.6</td><td>0.1</td><td>0.0</td><td>0.3</td><td>0.846153846154</td><td>0.0</td><td>0.153846153846</td><td>0.0</td><td>0.8</td><td>0.2</td><td>0.131578947368</td><td>0.0526315789474</td><td>0.0</td><td>0.815789473684</td><td>0.131578947368</td><td>0.263157894737</td><td>0.0263157894737</td><td>0.0</td><td>0.0263157894737</td><td>0.0263157894737</td><td>0.0263157894737</td><td>0.025</td><td>0.975</td><td>575672</td><td>AGZ000dj58</td></tr>\n",
       "<tr><td>5857c532d369fd00400059df</td><td>40</td><td>13</td><td>24</td><td>3</td><td>24</td><td>13</td><td>11</td><td>11</td><td>2</td><td>9</td><td>11</td><td>1</td><td>10</td><td>11</td><td>0</td><td>6</td><td>5</td><td>1</td><td>1</td><td>0</td><td>0</td><td>1</td><td>0</td><td>1</td><td>0</td><td>0</td><td>0</td><td>13</td><td>12</td><td>1</td><td>0</td><td>13</td><td>0</td><td>11</td><td>2</td><td>37</td><td>1</td><td>2</td><td>0</td><td>34</td><td>37</td><td>5</td><td>1</td><td>1</td><td>0</td><td>5</td><td>0</td><td>9</td><td>40</td><td>1</td><td>39</td><td>0.325</td><td>0.6</td><td>0.075</td><td>0.541666666667</td><td>0.458333333333</td><td>0.181818181818</td><td>0.818181818182</td><td>0.0909090909091</td><td>0.909090909091</td><td>0.0</td><td>0.545454545455</td><td>0.454545454545</td><td>1.0</td><td>0.0</td><td>0.0</td><td>0.0</td><td>1.0</td><td>0.0</td><td>0.0</td><td>0.0</td><td>0.923076923077</td><td>0.0769230769231</td><td>0.0</td><td>0.0</td><td>0.846153846154</td><td>0.153846153846</td><td>0.027027027027</td><td>0.0540540540541</td><td>0.0</td><td>0.918918918919</td><td>0.135135135135</td><td>0.027027027027</td><td>0.027027027027</td><td>0.0</td><td>0.135135135135</td><td>0.0</td><td>0.243243243243</td><td>0.025</td><td>0.975</td><td>575673</td><td>AGZ000dj59</td></tr>\n",
       "<tr><td>5857c532d369fd00400059e1</td><td>40</td><td>11</td><td>23</td><td>6</td><td>23</td><td>22</td><td>1</td><td>1</td><td>0</td><td>1</td><td>1</td><td>0</td><td>1</td><td>1</td><td>0</td><td>1</td><td>0</td><td>0</td><td>0</td><td>0</td><td>0</td><td>0</td><td>0</td><td>0</td><td>0</td><td>0</td><td>0</td><td>22</td><td>9</td><td>0</td><td>13</td><td>11</td><td>0</td><td>1</td><td>10</td><td>34</td><td>2</td><td>6</td><td>2</td><td>24</td><td>34</td><td>7</td><td>3</td><td>1</td><td>2</td><td>3</td><td>0</td><td>0</td><td>40</td><td>1</td><td>39</td><td>0.275</td><td>0.575</td><td>0.15</td><td>0.95652173913</td><td>0.0434782608696</td><td>0.0</td><td>1.0</td><td>0.0</td><td>1.0</td><td>0.0</td><td>1.0</td><td>0.0</td><td>--</td><td>--</td><td>--</td><td>--</td><td>--</td><td>--</td><td>--</td><td>--</td><td>0.409090909091</td><td>0.0</td><td>0.590909090909</td><td>0.0</td><td>0.0909090909091</td><td>0.909090909091</td><td>0.0588235294118</td><td>0.176470588235</td><td>0.0588235294118</td><td>0.705882352941</td><td>0.205882352941</td><td>0.0882352941176</td><td>0.0294117647059</td><td>0.0588235294118</td><td>0.0882352941176</td><td>0.0</td><td>0.0</td><td>0.025</td><td>0.975</td><td>575686</td><td>AGZ000dj56</td></tr>\n",
       "<tr><td>5857c532d369fd00400059e3</td><td>40</td><td>22</td><td>7</td><td>11</td><td>7</td><td>0</td><td>7</td><td>7</td><td>2</td><td>5</td><td>7</td><td>3</td><td>4</td><td>7</td><td>0</td><td>6</td><td>1</td><td>3</td><td>1</td><td>1</td><td>1</td><td>3</td><td>0</td><td>3</td><td>0</td><td>0</td><td>0</td><td>0</td><td>0</td><td>0</td><td>0</td><td>22</td><td>6</td><td>16</td><td>0</td><td>29</td><td>2</td><td>1</td><td>0</td><td>26</td><td>29</td><td>10</td><td>0</td><td>0</td><td>0</td><td>3</td><td>0</td><td>0</td><td>40</td><td>0</td><td>40</td><td>0.55</td><td>0.175</td><td>0.275</td><td>0.0</td><td>1.0</td><td>0.285714285714</td><td>0.714285714286</td><td>0.428571428571</td><td>0.571428571429</td><td>0.0</td><td>0.857142857143</td><td>0.142857142857</td><td>0.333333333333</td><td>0.333333333333</td><td>0.333333333333</td><td>0.0</td><td>1.0</td><td>0.0</td><td>0.0</td><td>0.0</td><td>--</td><td>--</td><td>--</td><td>0.272727272727</td><td>0.727272727273</td><td>0.0</td><td>0.0689655172414</td><td>0.0344827586207</td><td>0.0</td><td>0.896551724138</td><td>0.344827586207</td><td>0.0</td><td>0.0</td><td>0.0</td><td>0.103448275862</td><td>0.0</td><td>0.0</td><td>0.0</td><td>1.0</td><td>575702</td><td>AGZ000dj57</td></tr>\n",
       "<tr><td>5857c532d369fd00400059e5</td><td>42</td><td>36</td><td>1</td><td>5</td><td>1</td><td>0</td><td>1</td><td>1</td><td>0</td><td>1</td><td>1</td><td>1</td><td>0</td><td>1</td><td>0</td><td>0</td><td>1</td><td>1</td><td>1</td><td>0</td><td>0</td><td>1</td><td>0</td><td>1</td><td>0</td><td>0</td><td>0</td><td>0</td><td>0</td><td>0</td><td>0</td><td>36</td><td>25</td><td>11</td><td>0</td><td>37</td><td>0</td><td>1</td><td>0</td><td>36</td><td>37</td><td>10</td><td>0</td><td>0</td><td>0</td><td>0</td><td>0</td><td>0</td><td>42</td><td>1</td><td>41</td><td>0.857142857143</td><td>0.0238095238095</td><td>0.119047619048</td><td>0.0</td><td>1.0</td><td>0.0</td><td>1.0</td><td>1.0</td><td>0.0</td><td>0.0</td><td>0.0</td><td>1.0</td><td>1.0</td><td>0.0</td><td>0.0</td><td>0.0</td><td>1.0</td><td>0.0</td><td>0.0</td><td>0.0</td><td>--</td><td>--</td><td>--</td><td>0.694444444444</td><td>0.305555555556</td><td>0.0</td><td>0.0</td><td>0.027027027027</td><td>0.0</td><td>0.972972972973</td><td>0.27027027027</td><td>0.0</td><td>0.0</td><td>0.0</td><td>0.0</td><td>0.0</td><td>0.0</td><td>0.0238095238095</td><td>0.97619047619</td><td>575701</td><td>AGZ000dj55</td></tr>\n",
       "</table>"
      ],
      "text/plain": [
       "<Table masked=True length=11507>\n",
       "       subject_id        shape_total shape_smooth ... survey_id zooniverse_id\n",
       "         str24              int64       int64     ...   int64       str10    \n",
       "------------------------ ----------- ------------ ... --------- -------------\n",
       "5857c4a3d369fd0040000001          40           33 ...    598860    AGZ000dir0\n",
       "5857c4a3d369fd0040000003          40           29 ...    598875    AGZ000dir2\n",
       "5857c4a3d369fd0040000005          40           31 ...    598877    AGZ000dir1\n",
       "5857c4a3d369fd0040000007          40           27 ...    598888    AGZ000dir4\n",
       "5857c4a3d369fd0040000009          40            8 ...    598889    AGZ000dir3\n",
       "5857c4a3d369fd004000000b          40           30 ...    598890    AGZ000drme\n",
       "5857c4a3d369fd004000000d          40           25 ...    598900    AGZ000drmd\n",
       "5857c4a3d369fd004000000f          40            4 ...    598911    AGZ000drmc\n",
       "5857c4a3d369fd0040000011          40           20 ...    598923    AGZ000drmb\n",
       "5857c4a3d369fd0040000013          40           27 ...    598922    AGZ000drma\n",
       "                     ...         ...          ... ...       ...           ...\n",
       "5857c532d369fd00400059d3          40           29 ...    575658    AGZ000dj5f\n",
       "5857c532d369fd00400059d5          40            2 ...    575670    AGZ000dj5c\n",
       "5857c532d369fd00400059d7          40           31 ...    575674    AGZ000dj5d\n",
       "5857c532d369fd00400059d9          40            2 ...    575677    AGZ000dj5a\n",
       "5857c532d369fd00400059db          40           26 ...    575671    AGZ000dj5b\n",
       "5857c532d369fd00400059dd          40            5 ...    575672    AGZ000dj58\n",
       "5857c532d369fd00400059df          40           13 ...    575673    AGZ000dj59\n",
       "5857c532d369fd00400059e1          40           11 ...    575686    AGZ000dj56\n",
       "5857c532d369fd00400059e3          40           22 ...    575702    AGZ000dj57\n",
       "5857c532d369fd00400059e5          42           36 ...    575701    AGZ000dj55"
      ]
     },
     "execution_count": 8,
     "metadata": {},
     "output_type": "execute_result"
    }
   ],
   "source": [
    "outdata"
   ]
  },
  {
   "cell_type": "code",
   "execution_count": 14,
   "metadata": {
    "collapsed": false
   },
   "outputs": [
    {
     "data": {
      "text/plain": [
       "11507"
      ]
     },
     "execution_count": 14,
     "metadata": {},
     "output_type": "execute_result"
    }
   ],
   "source": [
    "(outdata['shape_total'] >= 40).sum()"
   ]
  }
 ],
 "metadata": {
  "_draft": {
   "nbviewer_url": "https://gist.github.com/df1c052dd0ed94d9ec2dc1e98d060366"
  },
  "gist": {
   "data": {
    "description": "First look at GAMA GZ data",
    "public": false
   },
   "id": "df1c052dd0ed94d9ec2dc1e98d060366"
  },
  "hide_input": false,
  "kernelspec": {
   "display_name": "Python 3",
   "language": "python",
   "name": "python3"
  },
  "language_info": {
   "codemirror_mode": {
    "name": "ipython",
    "version": 3
   },
   "file_extension": ".py",
   "mimetype": "text/x-python",
   "name": "python",
   "nbconvert_exporter": "python",
   "pygments_lexer": "ipython3",
   "version": "3.6.0"
  },
  "latex_envs": {
   "LaTeX_envs_menu_present": true,
   "autocomplete": true,
   "bibliofile": "biblio.bib",
   "cite_by": "apalike",
   "current_citInitial": 1,
   "eqLabelWithNumbers": true,
   "eqNumInitial": 1,
   "hotkeys": {
    "equation": "Ctrl-E",
    "itemize": "Ctrl-I"
   },
   "labels_anchors": false,
   "latex_user_defs": false,
   "report_style_numbering": false,
   "user_envs_cfg": false
  }
 },
 "nbformat": 4,
 "nbformat_minor": 0
}
