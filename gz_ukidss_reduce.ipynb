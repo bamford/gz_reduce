{
 "cells": [
  {
   "cell_type": "code",
   "execution_count": 1,
   "metadata": {
    "collapsed": true
   },
   "outputs": [],
   "source": [
    "from gz_reduce import reduce_data"
   ]
  },
  {
   "cell_type": "markdown",
   "metadata": {},
   "source": [
    "### Get the data"
   ]
  },
  {
   "cell_type": "code",
   "execution_count": 2,
   "metadata": {},
   "outputs": [],
   "source": [
    "# %%bash\n",
    "# # get the gama tree definition\n",
    "# curl -O https://raw.githubusercontent.com/zooniverse/Galaxy-Zoo/master/app/lib/ukidss_tree.coffee"
   ]
  },
  {
   "cell_type": "code",
   "execution_count": 3,
   "metadata": {},
   "outputs": [],
   "source": [
    "# %%bash\n",
    "# # get the database dump\n",
    "# url=\"\"\n",
    "# curl $url | tar xz"
   ]
  },
  {
   "cell_type": "markdown",
   "metadata": {},
   "source": [
    "### Run the reduction"
   ]
  },
  {
   "cell_type": "code",
   "execution_count": 4,
   "metadata": {
    "collapsed": true
   },
   "outputs": [],
   "source": [
    "date='2017-07-09'\n",
    "tree='ukidss'\n",
    "subjectset='ukidss'\n",
    "survey_id_field='provided_image_id'\n",
    "outdata = reduce_data(date, tree, subjectset, survey_id_field)"
   ]
  },
  {
   "cell_type": "code",
   "execution_count": 5,
   "metadata": {
    "scrolled": false
   },
   "outputs": [
    {
     "data": {
      "text/html": [
       "&lt;Table masked=True length=70987&gt;\n",
       "<table id=\"table11587062976\" class=\"table-striped table-bordered table-condensed\">\n",
       "<thead><tr><th>subject_id</th><th>features_total</th><th>features_features_or_disk</th><th>features_star_or_artifact</th><th>edgeon_total</th><th>edgeon_yes</th><th>edgeon_no</th><th>bar_total</th><th>bar_bar</th><th>bar_no_bar</th><th>spiral_total</th><th>spiral_spiral</th><th>spiral_no_spiral</th><th>bulge_total</th><th>bulge_no_bulge</th><th>bulge_just_noticeable</th><th>bulge_obvious</th><th>bulge_dominant</th><th>odd_total</th><th>odd_yes</th><th>odd_no</th><th>oddtype_total</th><th>oddtype_ring</th><th>oddtype_lens_or_arc</th><th>oddtype_disturbed</th><th>oddtype_irregular</th><th>oddtype_other</th><th>oddtype_merger</th><th>oddtype_dust_lane</th><th>round_total</th><th>round_completely_round</th><th>round_in_between</th><th>round_cigar_shaped</th><th>bulgeshape_total</th><th>bulgeshape_rounded</th><th>bulgeshape_boxy</th><th>bulgeshape_no_bulge</th><th>spiralwinding_total</th><th>spiralwinding_tight</th><th>spiralwinding_medium</th><th>spiralwinding_loose</th><th>spiralnumber_total</th><th>spiralnumber_1</th><th>spiralnumber_2</th><th>spiralnumber_3</th><th>spiralnumber_4</th><th>spiralnumber_more_than_4</th><th>spiralnumber_cant_tell</th><th>discuss_total</th><th>discuss_yes</th><th>discuss_no</th><th>features_smooth_frac</th><th>survey_id</th><th>zooniverse_id</th></tr></thead>\n",
       "<thead><tr><th>str24</th><th>int64</th><th>int64</th><th>int64</th><th>int64</th><th>int64</th><th>int64</th><th>int64</th><th>int64</th><th>int64</th><th>int64</th><th>int64</th><th>int64</th><th>int64</th><th>int64</th><th>int64</th><th>int64</th><th>int64</th><th>int64</th><th>int64</th><th>int64</th><th>int64</th><th>int64</th><th>int64</th><th>int64</th><th>int64</th><th>int64</th><th>int64</th><th>int64</th><th>int64</th><th>int64</th><th>int64</th><th>int64</th><th>int64</th><th>int64</th><th>int64</th><th>int64</th><th>int64</th><th>int64</th><th>int64</th><th>int64</th><th>int64</th><th>int64</th><th>int64</th><th>int64</th><th>int64</th><th>int64</th><th>int64</th><th>int64</th><th>int64</th><th>int64</th><th>float64</th><th>str4</th><th>str10</th></tr></thead>\n",
       "<tr><td>524482ba3ae74054bf000001</td><td>40</td><td>24</td><td>1</td><td>24</td><td>23</td><td>1</td><td>1</td><td>0</td><td>1</td><td>1</td><td>0</td><td>1</td><td>1</td><td>0</td><td>1</td><td>0</td><td>0</td><td>39</td><td>3</td><td>36</td><td>0</td><td>0</td><td>0</td><td>0</td><td>0</td><td>0</td><td>0</td><td>0</td><td>15</td><td>0</td><td>0</td><td>15</td><td>23</td><td>6</td><td>0</td><td>17</td><td>0</td><td>0</td><td>0</td><td>0</td><td>0</td><td>0</td><td>0</td><td>0</td><td>0</td><td>0</td><td>0</td><td>40</td><td>1</td><td>39</td><td>0.375</td><td>None</td><td>AGZ00065um</td></tr>\n",
       "<tr><td>524482ba3ae74054bf000002</td><td>40</td><td>28</td><td>3</td><td>28</td><td>21</td><td>7</td><td>7</td><td>1</td><td>6</td><td>7</td><td>0</td><td>7</td><td>7</td><td>2</td><td>1</td><td>3</td><td>1</td><td>37</td><td>9</td><td>28</td><td>7</td><td>3</td><td>0</td><td>0</td><td>0</td><td>0</td><td>3</td><td>1</td><td>9</td><td>0</td><td>2</td><td>7</td><td>21</td><td>17</td><td>1</td><td>3</td><td>0</td><td>0</td><td>0</td><td>0</td><td>0</td><td>0</td><td>0</td><td>0</td><td>0</td><td>0</td><td>0</td><td>40</td><td>2</td><td>38</td><td>0.225</td><td>None</td><td>AGZ00065un</td></tr>\n",
       "<tr><td>524482ba3ae74054bf000003</td><td>40</td><td>1</td><td>9</td><td>1</td><td>0</td><td>1</td><td>1</td><td>1</td><td>0</td><td>1</td><td>0</td><td>1</td><td>1</td><td>0</td><td>0</td><td>1</td><td>0</td><td>31</td><td>0</td><td>31</td><td>0</td><td>0</td><td>0</td><td>0</td><td>0</td><td>0</td><td>0</td><td>0</td><td>30</td><td>28</td><td>2</td><td>0</td><td>0</td><td>0</td><td>0</td><td>0</td><td>0</td><td>0</td><td>0</td><td>0</td><td>0</td><td>0</td><td>0</td><td>0</td><td>0</td><td>0</td><td>0</td><td>40</td><td>0</td><td>40</td><td>0.75</td><td>None</td><td>AGZ00065uo</td></tr>\n",
       "<tr><td>524482ba3ae74054bf000004</td><td>40</td><td>4</td><td>8</td><td>4</td><td>1</td><td>3</td><td>3</td><td>0</td><td>3</td><td>3</td><td>0</td><td>3</td><td>3</td><td>0</td><td>0</td><td>2</td><td>1</td><td>32</td><td>2</td><td>30</td><td>1</td><td>0</td><td>0</td><td>0</td><td>0</td><td>1</td><td>0</td><td>0</td><td>28</td><td>22</td><td>6</td><td>0</td><td>1</td><td>1</td><td>0</td><td>0</td><td>0</td><td>0</td><td>0</td><td>0</td><td>0</td><td>0</td><td>0</td><td>0</td><td>0</td><td>0</td><td>0</td><td>40</td><td>1</td><td>39</td><td>0.7</td><td>None</td><td>AGZ00065up</td></tr>\n",
       "<tr><td>524482ba3ae74054bf000005</td><td>40</td><td>4</td><td>1</td><td>4</td><td>0</td><td>4</td><td>4</td><td>0</td><td>4</td><td>4</td><td>0</td><td>4</td><td>4</td><td>0</td><td>0</td><td>3</td><td>1</td><td>39</td><td>2</td><td>37</td><td>1</td><td>0</td><td>0</td><td>0</td><td>0</td><td>1</td><td>0</td><td>0</td><td>35</td><td>16</td><td>19</td><td>0</td><td>0</td><td>0</td><td>0</td><td>0</td><td>0</td><td>0</td><td>0</td><td>0</td><td>0</td><td>0</td><td>0</td><td>0</td><td>0</td><td>0</td><td>0</td><td>40</td><td>0</td><td>40</td><td>0.875</td><td>None</td><td>AGZ00065uq</td></tr>\n",
       "<tr><td>524482ba3ae74054bf000006</td><td>40</td><td>7</td><td>10</td><td>7</td><td>1</td><td>6</td><td>6</td><td>0</td><td>6</td><td>6</td><td>0</td><td>6</td><td>6</td><td>0</td><td>1</td><td>4</td><td>1</td><td>30</td><td>17</td><td>13</td><td>17</td><td>0</td><td>1</td><td>0</td><td>1</td><td>2</td><td>13</td><td>0</td><td>23</td><td>8</td><td>15</td><td>0</td><td>1</td><td>1</td><td>0</td><td>0</td><td>0</td><td>0</td><td>0</td><td>0</td><td>0</td><td>0</td><td>0</td><td>0</td><td>0</td><td>0</td><td>0</td><td>39</td><td>3</td><td>36</td><td>0.575</td><td>None</td><td>AGZ00065ur</td></tr>\n",
       "<tr><td>524482ba3ae74054bf000007</td><td>40</td><td>3</td><td>6</td><td>3</td><td>0</td><td>3</td><td>3</td><td>0</td><td>3</td><td>3</td><td>0</td><td>3</td><td>3</td><td>1</td><td>1</td><td>1</td><td>0</td><td>34</td><td>3</td><td>31</td><td>4</td><td>0</td><td>0</td><td>0</td><td>0</td><td>3</td><td>1</td><td>0</td><td>31</td><td>30</td><td>1</td><td>0</td><td>0</td><td>0</td><td>0</td><td>0</td><td>0</td><td>0</td><td>0</td><td>0</td><td>0</td><td>0</td><td>0</td><td>0</td><td>0</td><td>0</td><td>0</td><td>40</td><td>0</td><td>40</td><td>0.775</td><td>None</td><td>AGZ00065us</td></tr>\n",
       "<tr><td>524482ba3ae74054bf000008</td><td>40</td><td>8</td><td>8</td><td>8</td><td>1</td><td>7</td><td>7</td><td>0</td><td>7</td><td>7</td><td>2</td><td>5</td><td>7</td><td>0</td><td>1</td><td>2</td><td>4</td><td>32</td><td>3</td><td>29</td><td>4</td><td>0</td><td>0</td><td>1</td><td>3</td><td>0</td><td>0</td><td>0</td><td>24</td><td>18</td><td>6</td><td>0</td><td>1</td><td>1</td><td>0</td><td>0</td><td>2</td><td>1</td><td>1</td><td>0</td><td>2</td><td>0</td><td>0</td><td>0</td><td>0</td><td>0</td><td>2</td><td>40</td><td>0</td><td>40</td><td>0.6</td><td>None</td><td>AGZ00065ut</td></tr>\n",
       "<tr><td>524482ba3ae74054bf000009</td><td>40</td><td>2</td><td>4</td><td>2</td><td>2</td><td>0</td><td>0</td><td>0</td><td>0</td><td>0</td><td>0</td><td>0</td><td>0</td><td>0</td><td>0</td><td>0</td><td>0</td><td>36</td><td>1</td><td>35</td><td>1</td><td>0</td><td>1</td><td>0</td><td>0</td><td>0</td><td>0</td><td>0</td><td>34</td><td>25</td><td>9</td><td>0</td><td>2</td><td>2</td><td>0</td><td>0</td><td>0</td><td>0</td><td>0</td><td>0</td><td>0</td><td>0</td><td>0</td><td>0</td><td>0</td><td>0</td><td>0</td><td>40</td><td>3</td><td>37</td><td>0.85</td><td>None</td><td>AGZ00065uu</td></tr>\n",
       "<tr><td>524482ba3ae74054bf00000a</td><td>40</td><td>7</td><td>7</td><td>7</td><td>4</td><td>3</td><td>3</td><td>0</td><td>3</td><td>3</td><td>1</td><td>2</td><td>3</td><td>0</td><td>0</td><td>2</td><td>1</td><td>33</td><td>1</td><td>32</td><td>1</td><td>0</td><td>0</td><td>0</td><td>0</td><td>0</td><td>1</td><td>0</td><td>26</td><td>1</td><td>24</td><td>1</td><td>4</td><td>2</td><td>1</td><td>1</td><td>1</td><td>1</td><td>0</td><td>0</td><td>1</td><td>0</td><td>0</td><td>0</td><td>0</td><td>0</td><td>1</td><td>40</td><td>0</td><td>40</td><td>0.65</td><td>None</td><td>AGZ00065uv</td></tr>\n",
       "<tr><td>...</td><td>...</td><td>...</td><td>...</td><td>...</td><td>...</td><td>...</td><td>...</td><td>...</td><td>...</td><td>...</td><td>...</td><td>...</td><td>...</td><td>...</td><td>...</td><td>...</td><td>...</td><td>...</td><td>...</td><td>...</td><td>...</td><td>...</td><td>...</td><td>...</td><td>...</td><td>...</td><td>...</td><td>...</td><td>...</td><td>...</td><td>...</td><td>...</td><td>...</td><td>...</td><td>...</td><td>...</td><td>...</td><td>...</td><td>...</td><td>...</td><td>...</td><td>...</td><td>...</td><td>...</td><td>...</td><td>...</td><td>...</td><td>...</td><td>...</td><td>...</td><td>...</td><td>...</td><td>...</td></tr>\n",
       "<tr><td>524482bd3ae74054bf011583</td><td>40</td><td>16</td><td>4</td><td>16</td><td>2</td><td>14</td><td>14</td><td>5</td><td>9</td><td>14</td><td>9</td><td>5</td><td>14</td><td>0</td><td>0</td><td>11</td><td>3</td><td>36</td><td>9</td><td>27</td><td>13</td><td>2</td><td>1</td><td>2</td><td>0</td><td>3</td><td>4</td><td>1</td><td>20</td><td>2</td><td>18</td><td>0</td><td>2</td><td>2</td><td>0</td><td>0</td><td>9</td><td>2</td><td>3</td><td>4</td><td>9</td><td>1</td><td>4</td><td>0</td><td>0</td><td>0</td><td>4</td><td>40</td><td>1</td><td>39</td><td>0.5</td><td>None</td><td>AGZ0007oo0</td></tr>\n",
       "<tr><td>524482bd3ae74054bf011584</td><td>40</td><td>13</td><td>2</td><td>13</td><td>1</td><td>12</td><td>12</td><td>0</td><td>12</td><td>12</td><td>6</td><td>6</td><td>12</td><td>0</td><td>7</td><td>4</td><td>1</td><td>38</td><td>7</td><td>31</td><td>9</td><td>1</td><td>0</td><td>0</td><td>4</td><td>1</td><td>3</td><td>0</td><td>25</td><td>7</td><td>18</td><td>0</td><td>1</td><td>1</td><td>0</td><td>0</td><td>6</td><td>2</td><td>2</td><td>2</td><td>6</td><td>1</td><td>2</td><td>0</td><td>0</td><td>0</td><td>3</td><td>40</td><td>0</td><td>40</td><td>0.625</td><td>None</td><td>AGZ0007oo1</td></tr>\n",
       "<tr><td>524482bd3ae74054bf011585</td><td>40</td><td>6</td><td>6</td><td>6</td><td>2</td><td>4</td><td>4</td><td>1</td><td>3</td><td>4</td><td>3</td><td>1</td><td>4</td><td>0</td><td>2</td><td>1</td><td>1</td><td>34</td><td>6</td><td>28</td><td>1</td><td>1</td><td>0</td><td>0</td><td>0</td><td>0</td><td>0</td><td>0</td><td>28</td><td>7</td><td>21</td><td>0</td><td>2</td><td>1</td><td>0</td><td>1</td><td>3</td><td>2</td><td>1</td><td>0</td><td>3</td><td>0</td><td>0</td><td>0</td><td>0</td><td>0</td><td>3</td><td>40</td><td>1</td><td>39</td><td>0.7</td><td>None</td><td>AGZ0007oo2</td></tr>\n",
       "<tr><td>524482bd3ae74054bf011586</td><td>40</td><td>2</td><td>4</td><td>2</td><td>0</td><td>2</td><td>2</td><td>0</td><td>2</td><td>2</td><td>0</td><td>2</td><td>2</td><td>2</td><td>0</td><td>0</td><td>0</td><td>36</td><td>0</td><td>36</td><td>0</td><td>0</td><td>0</td><td>0</td><td>0</td><td>0</td><td>0</td><td>0</td><td>34</td><td>33</td><td>1</td><td>0</td><td>0</td><td>0</td><td>0</td><td>0</td><td>0</td><td>0</td><td>0</td><td>0</td><td>0</td><td>0</td><td>0</td><td>0</td><td>0</td><td>0</td><td>0</td><td>39</td><td>0</td><td>39</td><td>0.85</td><td>None</td><td>AGZ0007oo3</td></tr>\n",
       "<tr><td>524482bd3ae74054bf011587</td><td>40</td><td>5</td><td>5</td><td>5</td><td>1</td><td>4</td><td>4</td><td>0</td><td>4</td><td>4</td><td>0</td><td>4</td><td>4</td><td>1</td><td>2</td><td>1</td><td>0</td><td>35</td><td>3</td><td>32</td><td>2</td><td>0</td><td>0</td><td>0</td><td>0</td><td>1</td><td>1</td><td>0</td><td>30</td><td>4</td><td>26</td><td>0</td><td>1</td><td>1</td><td>0</td><td>0</td><td>0</td><td>0</td><td>0</td><td>0</td><td>0</td><td>0</td><td>0</td><td>0</td><td>0</td><td>0</td><td>0</td><td>40</td><td>0</td><td>40</td><td>0.75</td><td>None</td><td>AGZ0007oo4</td></tr>\n",
       "<tr><td>524482bd3ae74054bf011588</td><td>40</td><td>4</td><td>6</td><td>4</td><td>2</td><td>2</td><td>2</td><td>0</td><td>2</td><td>2</td><td>0</td><td>2</td><td>2</td><td>1</td><td>1</td><td>0</td><td>0</td><td>34</td><td>2</td><td>32</td><td>2</td><td>0</td><td>0</td><td>0</td><td>0</td><td>0</td><td>2</td><td>0</td><td>30</td><td>3</td><td>26</td><td>1</td><td>2</td><td>0</td><td>0</td><td>2</td><td>0</td><td>0</td><td>0</td><td>0</td><td>0</td><td>0</td><td>0</td><td>0</td><td>0</td><td>0</td><td>0</td><td>39</td><td>0</td><td>39</td><td>0.75</td><td>None</td><td>AGZ0007oo5</td></tr>\n",
       "<tr><td>524482bd3ae74054bf011589</td><td>40</td><td>5</td><td>3</td><td>5</td><td>0</td><td>5</td><td>5</td><td>0</td><td>5</td><td>5</td><td>1</td><td>4</td><td>5</td><td>0</td><td>2</td><td>3</td><td>0</td><td>37</td><td>3</td><td>34</td><td>4</td><td>0</td><td>0</td><td>0</td><td>3</td><td>0</td><td>1</td><td>0</td><td>32</td><td>26</td><td>6</td><td>0</td><td>0</td><td>0</td><td>0</td><td>0</td><td>1</td><td>0</td><td>1</td><td>0</td><td>1</td><td>0</td><td>0</td><td>0</td><td>0</td><td>0</td><td>1</td><td>39</td><td>1</td><td>38</td><td>0.8</td><td>None</td><td>AGZ0007oo6</td></tr>\n",
       "<tr><td>524482bd3ae74054bf01158a</td><td>40</td><td>1</td><td>6</td><td>1</td><td>0</td><td>1</td><td>1</td><td>0</td><td>1</td><td>1</td><td>0</td><td>1</td><td>1</td><td>0</td><td>0</td><td>1</td><td>0</td><td>34</td><td>1</td><td>33</td><td>0</td><td>0</td><td>0</td><td>0</td><td>0</td><td>0</td><td>0</td><td>0</td><td>33</td><td>10</td><td>23</td><td>0</td><td>0</td><td>0</td><td>0</td><td>0</td><td>0</td><td>0</td><td>0</td><td>0</td><td>0</td><td>0</td><td>0</td><td>0</td><td>0</td><td>0</td><td>0</td><td>40</td><td>0</td><td>40</td><td>0.825</td><td>None</td><td>AGZ0007oo7</td></tr>\n",
       "<tr><td>524482bd3ae74054bf01158b</td><td>40</td><td>9</td><td>2</td><td>9</td><td>3</td><td>6</td><td>6</td><td>1</td><td>5</td><td>6</td><td>2</td><td>4</td><td>6</td><td>0</td><td>4</td><td>2</td><td>0</td><td>38</td><td>3</td><td>35</td><td>2</td><td>0</td><td>0</td><td>1</td><td>0</td><td>0</td><td>0</td><td>1</td><td>29</td><td>0</td><td>27</td><td>2</td><td>3</td><td>3</td><td>0</td><td>0</td><td>2</td><td>2</td><td>0</td><td>0</td><td>2</td><td>0</td><td>0</td><td>0</td><td>1</td><td>0</td><td>1</td><td>40</td><td>0</td><td>40</td><td>0.725</td><td>None</td><td>AGZ0007oo8</td></tr>\n",
       "<tr><td>524482bd3ae74054bf01158c</td><td>41</td><td>7</td><td>5</td><td>7</td><td>0</td><td>7</td><td>7</td><td>4</td><td>3</td><td>7</td><td>3</td><td>4</td><td>7</td><td>0</td><td>1</td><td>3</td><td>3</td><td>36</td><td>3</td><td>33</td><td>4</td><td>0</td><td>0</td><td>0</td><td>3</td><td>1</td><td>0</td><td>0</td><td>29</td><td>18</td><td>11</td><td>0</td><td>0</td><td>0</td><td>0</td><td>0</td><td>3</td><td>0</td><td>1</td><td>2</td><td>3</td><td>0</td><td>1</td><td>0</td><td>0</td><td>0</td><td>2</td><td>41</td><td>1</td><td>40</td><td>0.707317073171</td><td>None</td><td>AGZ0007oo9</td></tr>\n",
       "</table>"
      ],
      "text/plain": [
       "<Table masked=True length=70987>\n",
       "       subject_id        features_total ... survey_id zooniverse_id\n",
       "         str24               int64      ...    str4       str10    \n",
       "------------------------ -------------- ... --------- -------------\n",
       "524482ba3ae74054bf000001             40 ...      None    AGZ00065um\n",
       "524482ba3ae74054bf000002             40 ...      None    AGZ00065un\n",
       "524482ba3ae74054bf000003             40 ...      None    AGZ00065uo\n",
       "524482ba3ae74054bf000004             40 ...      None    AGZ00065up\n",
       "524482ba3ae74054bf000005             40 ...      None    AGZ00065uq\n",
       "524482ba3ae74054bf000006             40 ...      None    AGZ00065ur\n",
       "524482ba3ae74054bf000007             40 ...      None    AGZ00065us\n",
       "524482ba3ae74054bf000008             40 ...      None    AGZ00065ut\n",
       "524482ba3ae74054bf000009             40 ...      None    AGZ00065uu\n",
       "524482ba3ae74054bf00000a             40 ...      None    AGZ00065uv\n",
       "                     ...            ... ...       ...           ...\n",
       "524482bd3ae74054bf011583             40 ...      None    AGZ0007oo0\n",
       "524482bd3ae74054bf011584             40 ...      None    AGZ0007oo1\n",
       "524482bd3ae74054bf011585             40 ...      None    AGZ0007oo2\n",
       "524482bd3ae74054bf011586             40 ...      None    AGZ0007oo3\n",
       "524482bd3ae74054bf011587             40 ...      None    AGZ0007oo4\n",
       "524482bd3ae74054bf011588             40 ...      None    AGZ0007oo5\n",
       "524482bd3ae74054bf011589             40 ...      None    AGZ0007oo6\n",
       "524482bd3ae74054bf01158a             40 ...      None    AGZ0007oo7\n",
       "524482bd3ae74054bf01158b             40 ...      None    AGZ0007oo8\n",
       "524482bd3ae74054bf01158c             41 ...      None    AGZ0007oo9"
      ]
     },
     "execution_count": 5,
     "metadata": {},
     "output_type": "execute_result"
    }
   ],
   "source": [
    "outdata"
   ]
  },
  {
   "cell_type": "code",
   "execution_count": 6,
   "metadata": {
    "collapsed": true
   },
   "outputs": [],
   "source": [
    "outdata.write('galaxy_zoo_{}_{}.fits'.format(subjectset, date), overwrite=True)"
   ]
  }
 ],
 "metadata": {
  "_draft": {
   "nbviewer_url": "https://gist.github.com/df1c052dd0ed94d9ec2dc1e98d060366"
  },
  "gist": {
   "data": {
    "description": "First look at GAMA GZ data",
    "public": false
   },
   "id": "df1c052dd0ed94d9ec2dc1e98d060366"
  },
  "hide_input": false,
  "kernelspec": {
   "display_name": "Python [default]",
   "language": "python",
   "name": "python3"
  },
  "language_info": {
   "codemirror_mode": {
    "name": "ipython",
    "version": 3
   },
   "file_extension": ".py",
   "mimetype": "text/x-python",
   "name": "python",
   "nbconvert_exporter": "python",
   "pygments_lexer": "ipython3",
   "version": "3.6.1"
  },
  "latex_envs": {
   "LaTeX_envs_menu_present": true,
   "autocomplete": true,
   "bibliofile": "biblio.bib",
   "cite_by": "apalike",
   "current_citInitial": 1,
   "eqLabelWithNumbers": true,
   "eqNumInitial": 1,
   "hotkeys": {
    "equation": "Ctrl-E",
    "itemize": "Ctrl-I"
   },
   "labels_anchors": false,
   "latex_user_defs": false,
   "report_style_numbering": false,
   "user_envs_cfg": false
  }
 },
 "nbformat": 4,
 "nbformat_minor": 1
}
