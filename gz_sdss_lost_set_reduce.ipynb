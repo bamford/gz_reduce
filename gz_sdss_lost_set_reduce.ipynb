{
 "cells": [
  {
   "cell_type": "code",
   "execution_count": 1,
   "metadata": {
    "collapsed": true
   },
   "outputs": [],
   "source": [
    "from gz_reduce import reduce_data"
   ]
  },
  {
   "cell_type": "markdown",
   "metadata": {},
   "source": [
    "### Get the data"
   ]
  },
  {
   "cell_type": "code",
   "execution_count": 2,
   "metadata": {},
   "outputs": [],
   "source": [
    "# %%bash\n",
    "# # get the gama tree definition\n",
    "# curl -O https://raw.githubusercontent.com/zooniverse/Galaxy-Zoo/master/app/lib/sloan_tree.coffee"
   ]
  },
  {
   "cell_type": "code",
   "execution_count": 3,
   "metadata": {},
   "outputs": [],
   "source": [
    "# %%bash\n",
    "# # get the database dump\n",
    "# url=\"\"\n",
    "# curl $url | tar xz"
   ]
  },
  {
   "cell_type": "code",
   "execution_count": 4,
   "metadata": {},
   "outputs": [
    {
     "name": "stdout",
     "output_type": "stream",
     "text": [
      "ObjectId(56f3df5d5925d90043000001),AGZ000dcyr,ObjectId(56f2b5ed5925d9004200c775),\"{\"\"absolute_size\"\":10.398740990305845,\"\"counters\"\":{\"\"feature\"\":12,\"\"smooth\"\":13,\"\"star\"\":15},\"\"mag\"\":{\"\"r\"\":16.27796471118927,\"\"u\"\":17.625834047794342,\"\"nearuv\"\":19.18173372745514,\"\"g\"\":16.797134280204773,\"\"i\"\":16.03347420692444,\"\"abs_r\"\":-17.76397705078125,\"\"z\"\":15.787057280540466,\"\"faruv\"\":19.45605218410492},\"\"nsa_id\"\":\"\"NSA_240\"\",\"\"petroflux_r\"\":237.49917602539062,\"\"petrorad_50_r\"\":10.752044677734375,\"\"petrorad_r\"\":23.605199813842773,\"\"redshift\"\":0.02156401239335537,\"\"retire_at\"\":40,\"\"survey\"\":\"\"sdss_lost_set\"\"}\"\r",
      "\r\n"
     ]
    }
   ],
   "source": [
    "!gzcat galaxy_zoo_subjects_lee.csv.gz | grep -i lost_set| head -1"
   ]
  },
  {
   "cell_type": "markdown",
   "metadata": {},
   "source": [
    "### Run the reduction"
   ]
  },
  {
   "cell_type": "code",
   "execution_count": 5,
   "metadata": {
    "collapsed": true
   },
   "outputs": [],
   "source": [
    "date='2017-06-18'\n",
    "tree='sloan'\n",
    "subjectset='sdss_lost_set'\n",
    "survey_id_field='nsa_id'\n",
    "outdata = reduce_data(date, tree, subjectset, survey_id_field)"
   ]
  },
  {
   "cell_type": "code",
   "execution_count": 6,
   "metadata": {},
   "outputs": [
    {
     "data": {
      "text/html": [
       "&lt;Table masked=True length=23383&gt;\n",
       "<table id=\"table4657860392\" class=\"table-striped table-bordered table-condensed\">\n",
       "<thead><tr><th>subject_id</th><th>features_total</th><th>features_features_or_disk</th><th>features_star_or_artifact</th><th>edgeon_total</th><th>edgeon_yes</th><th>edgeon_no</th><th>bar_total</th><th>bar_bar</th><th>bar_no_bar</th><th>spiral_total</th><th>spiral_spiral</th><th>spiral_no_spiral</th><th>bulge_total</th><th>bulge_no_bulge</th><th>bulge_just_noticeable</th><th>bulge_obvious</th><th>bulge_dominant</th><th>odd_total</th><th>odd_yes</th><th>odd_no</th><th>oddtype_total</th><th>oddtype_ring</th><th>oddtype_lens_or_arc</th><th>oddtype_disturbed</th><th>oddtype_irregular</th><th>oddtype_other</th><th>oddtype_merger</th><th>oddtype_dust_lane</th><th>round_total</th><th>round_completely_round</th><th>round_in_between</th><th>round_cigar_shaped</th><th>bulgeshape_total</th><th>bulgeshape_rounded</th><th>bulgeshape_boxy</th><th>bulgeshape_no_bulge</th><th>spiralwinding_total</th><th>spiralwinding_tight</th><th>spiralwinding_medium</th><th>spiralwinding_loose</th><th>spiralnumber_total</th><th>spiralnumber_1</th><th>spiralnumber_2</th><th>spiralnumber_3</th><th>spiralnumber_4</th><th>spiralnumber_more_than_4</th><th>spiralnumber_cant_tell</th><th>discuss_total</th><th>discuss_yes</th><th>discuss_no</th><th>features_smooth_frac</th><th>survey_id</th><th>zooniverse_id</th></tr></thead>\n",
       "<thead><tr><th>str24</th><th>int64</th><th>int64</th><th>int64</th><th>int64</th><th>int64</th><th>int64</th><th>int64</th><th>int64</th><th>int64</th><th>int64</th><th>int64</th><th>int64</th><th>int64</th><th>int64</th><th>int64</th><th>int64</th><th>int64</th><th>int64</th><th>int64</th><th>int64</th><th>int64</th><th>int64</th><th>int64</th><th>int64</th><th>int64</th><th>int64</th><th>int64</th><th>int64</th><th>int64</th><th>int64</th><th>int64</th><th>int64</th><th>int64</th><th>int64</th><th>int64</th><th>int64</th><th>int64</th><th>int64</th><th>int64</th><th>int64</th><th>int64</th><th>int64</th><th>int64</th><th>int64</th><th>int64</th><th>int64</th><th>int64</th><th>int64</th><th>int64</th><th>int64</th><th>float64</th><th>str10</th><th>str10</th></tr></thead>\n",
       "<tr><td>56f3df5d5925d90043000001</td><td>40</td><td>12</td><td>15</td><td>12</td><td>0</td><td>12</td><td>12</td><td>2</td><td>10</td><td>12</td><td>8</td><td>4</td><td>12</td><td>0</td><td>7</td><td>3</td><td>2</td><td>25</td><td>6</td><td>19</td><td>2</td><td>0</td><td>0</td><td>0</td><td>0</td><td>2</td><td>0</td><td>0</td><td>13</td><td>5</td><td>8</td><td>0</td><td>0</td><td>0</td><td>0</td><td>0</td><td>8</td><td>3</td><td>4</td><td>1</td><td>8</td><td>0</td><td>1</td><td>0</td><td>0</td><td>0</td><td>7</td><td>40</td><td>2</td><td>38</td><td>0.325</td><td>NSA_240</td><td>AGZ000dcyr</td></tr>\n",
       "<tr><td>56f3df5d5925d90043000003</td><td>40</td><td>16</td><td>7</td><td>16</td><td>2</td><td>14</td><td>14</td><td>0</td><td>14</td><td>14</td><td>2</td><td>12</td><td>14</td><td>1</td><td>1</td><td>10</td><td>2</td><td>33</td><td>14</td><td>19</td><td>16</td><td>5</td><td>0</td><td>2</td><td>1</td><td>6</td><td>1</td><td>1</td><td>17</td><td>13</td><td>4</td><td>0</td><td>2</td><td>1</td><td>0</td><td>1</td><td>2</td><td>0</td><td>1</td><td>1</td><td>2</td><td>1</td><td>0</td><td>1</td><td>0</td><td>0</td><td>0</td><td>38</td><td>1</td><td>37</td><td>0.425</td><td>NSA_529</td><td>AGZ000dcyq</td></tr>\n",
       "<tr><td>56f3df5d5925d90043000005</td><td>40</td><td>25</td><td>11</td><td>25</td><td>1</td><td>24</td><td>24</td><td>14</td><td>10</td><td>24</td><td>13</td><td>11</td><td>24</td><td>8</td><td>15</td><td>1</td><td>0</td><td>29</td><td>24</td><td>5</td><td>26</td><td>0</td><td>0</td><td>6</td><td>12</td><td>2</td><td>5</td><td>1</td><td>4</td><td>0</td><td>4</td><td>0</td><td>1</td><td>0</td><td>0</td><td>1</td><td>13</td><td>0</td><td>1</td><td>12</td><td>13</td><td>1</td><td>11</td><td>0</td><td>0</td><td>0</td><td>1</td><td>39</td><td>1</td><td>38</td><td>0.1</td><td>NSA_1055</td><td>AGZ000dcyp</td></tr>\n",
       "<tr><td>56f3df5d5925d90043000007</td><td>40</td><td>10</td><td>10</td><td>10</td><td>2</td><td>8</td><td>8</td><td>1</td><td>7</td><td>8</td><td>1</td><td>7</td><td>8</td><td>5</td><td>3</td><td>0</td><td>0</td><td>30</td><td>18</td><td>12</td><td>26</td><td>5</td><td>1</td><td>3</td><td>7</td><td>6</td><td>3</td><td>1</td><td>20</td><td>4</td><td>16</td><td>0</td><td>2</td><td>0</td><td>1</td><td>1</td><td>1</td><td>0</td><td>1</td><td>0</td><td>1</td><td>0</td><td>0</td><td>0</td><td>0</td><td>0</td><td>1</td><td>40</td><td>5</td><td>35</td><td>0.5</td><td>NSA_2652</td><td>AGZ000dcyo</td></tr>\n",
       "<tr><td>56f3df5d5925d90043000009</td><td>39</td><td>4</td><td>11</td><td>4</td><td>1</td><td>3</td><td>3</td><td>0</td><td>3</td><td>3</td><td>0</td><td>3</td><td>3</td><td>0</td><td>3</td><td>0</td><td>0</td><td>28</td><td>5</td><td>23</td><td>6</td><td>0</td><td>1</td><td>0</td><td>1</td><td>3</td><td>1</td><td>0</td><td>24</td><td>0</td><td>24</td><td>0</td><td>1</td><td>0</td><td>0</td><td>1</td><td>0</td><td>0</td><td>0</td><td>0</td><td>0</td><td>0</td><td>0</td><td>0</td><td>0</td><td>0</td><td>0</td><td>39</td><td>0</td><td>39</td><td>0.615384615385</td><td>NSA_2672</td><td>AGZ000dcyn</td></tr>\n",
       "<tr><td>56f3df5d5925d9004300000b</td><td>40</td><td>29</td><td>10</td><td>29</td><td>3</td><td>26</td><td>26</td><td>12</td><td>14</td><td>26</td><td>25</td><td>1</td><td>26</td><td>13</td><td>11</td><td>2</td><td>0</td><td>30</td><td>10</td><td>20</td><td>9</td><td>0</td><td>0</td><td>0</td><td>4</td><td>2</td><td>2</td><td>1</td><td>1</td><td>0</td><td>0</td><td>1</td><td>3</td><td>2</td><td>0</td><td>1</td><td>25</td><td>0</td><td>0</td><td>25</td><td>25</td><td>5</td><td>20</td><td>0</td><td>0</td><td>0</td><td>0</td><td>39</td><td>1</td><td>38</td><td>0.025</td><td>NSA_2686</td><td>AGZ000dcym</td></tr>\n",
       "<tr><td>56f3df5d5925d9004300000f</td><td>40</td><td>9</td><td>11</td><td>9</td><td>6</td><td>3</td><td>3</td><td>0</td><td>3</td><td>3</td><td>0</td><td>3</td><td>3</td><td>1</td><td>1</td><td>1</td><td>0</td><td>29</td><td>1</td><td>28</td><td>1</td><td>0</td><td>0</td><td>0</td><td>1</td><td>0</td><td>0</td><td>0</td><td>20</td><td>0</td><td>5</td><td>15</td><td>6</td><td>1</td><td>2</td><td>3</td><td>0</td><td>0</td><td>0</td><td>0</td><td>0</td><td>0</td><td>0</td><td>0</td><td>0</td><td>0</td><td>0</td><td>40</td><td>1</td><td>39</td><td>0.5</td><td>NSA_4048</td><td>AGZ000dcyk</td></tr>\n",
       "<tr><td>56f3df5d5925d90043000011</td><td>40</td><td>11</td><td>4</td><td>11</td><td>11</td><td>0</td><td>0</td><td>0</td><td>0</td><td>0</td><td>0</td><td>0</td><td>0</td><td>0</td><td>0</td><td>0</td><td>0</td><td>36</td><td>3</td><td>33</td><td>4</td><td>0</td><td>0</td><td>0</td><td>1</td><td>2</td><td>0</td><td>1</td><td>25</td><td>0</td><td>2</td><td>23</td><td>11</td><td>3</td><td>4</td><td>4</td><td>0</td><td>0</td><td>0</td><td>0</td><td>0</td><td>0</td><td>0</td><td>0</td><td>0</td><td>0</td><td>0</td><td>40</td><td>0</td><td>40</td><td>0.625</td><td>NSA_4071</td><td>AGZ000dcyj</td></tr>\n",
       "<tr><td>56f3df5d5925d90043000013</td><td>40</td><td>15</td><td>7</td><td>15</td><td>5</td><td>10</td><td>10</td><td>0</td><td>10</td><td>10</td><td>3</td><td>7</td><td>10</td><td>3</td><td>5</td><td>2</td><td>0</td><td>33</td><td>15</td><td>18</td><td>18</td><td>2</td><td>1</td><td>5</td><td>3</td><td>3</td><td>3</td><td>1</td><td>18</td><td>1</td><td>17</td><td>0</td><td>5</td><td>3</td><td>0</td><td>2</td><td>3</td><td>1</td><td>2</td><td>0</td><td>3</td><td>0</td><td>0</td><td>1</td><td>0</td><td>0</td><td>2</td><td>37</td><td>1</td><td>36</td><td>0.45</td><td>NSA_4203</td><td>AGZ000dcyi</td></tr>\n",
       "<tr><td>56f3df5d5925d90043000015</td><td>40</td><td>20</td><td>9</td><td>20</td><td>0</td><td>20</td><td>20</td><td>1</td><td>19</td><td>20</td><td>6</td><td>14</td><td>20</td><td>5</td><td>11</td><td>3</td><td>1</td><td>31</td><td>20</td><td>11</td><td>30</td><td>0</td><td>1</td><td>5</td><td>14</td><td>6</td><td>3</td><td>1</td><td>11</td><td>2</td><td>9</td><td>0</td><td>0</td><td>0</td><td>0</td><td>0</td><td>6</td><td>2</td><td>4</td><td>0</td><td>6</td><td>4</td><td>0</td><td>0</td><td>0</td><td>1</td><td>1</td><td>40</td><td>3</td><td>37</td><td>0.275</td><td>NSA_4233</td><td>AGZ000dcyh</td></tr>\n",
       "<tr><td>...</td><td>...</td><td>...</td><td>...</td><td>...</td><td>...</td><td>...</td><td>...</td><td>...</td><td>...</td><td>...</td><td>...</td><td>...</td><td>...</td><td>...</td><td>...</td><td>...</td><td>...</td><td>...</td><td>...</td><td>...</td><td>...</td><td>...</td><td>...</td><td>...</td><td>...</td><td>...</td><td>...</td><td>...</td><td>...</td><td>...</td><td>...</td><td>...</td><td>...</td><td>...</td><td>...</td><td>...</td><td>...</td><td>...</td><td>...</td><td>...</td><td>...</td><td>...</td><td>...</td><td>...</td><td>...</td><td>...</td><td>...</td><td>...</td><td>...</td><td>...</td><td>...</td><td>...</td><td>...</td></tr>\n",
       "<tr><td>56f3e0d65925d9004300c75d</td><td>29</td><td>5</td><td>15</td><td>5</td><td>1</td><td>4</td><td>4</td><td>0</td><td>4</td><td>4</td><td>0</td><td>4</td><td>4</td><td>1</td><td>0</td><td>3</td><td>0</td><td>14</td><td>9</td><td>5</td><td>9</td><td>0</td><td>0</td><td>0</td><td>0</td><td>2</td><td>7</td><td>0</td><td>9</td><td>9</td><td>0</td><td>0</td><td>1</td><td>1</td><td>0</td><td>0</td><td>0</td><td>0</td><td>0</td><td>0</td><td>0</td><td>0</td><td>0</td><td>0</td><td>0</td><td>0</td><td>0</td><td>29</td><td>3</td><td>26</td><td>0.310344827586</td><td>NSA_171737</td><td>AGZ000bhr6</td></tr>\n",
       "<tr><td>56f3e0d65925d9004300c75f</td><td>1</td><td>1</td><td>0</td><td>1</td><td>0</td><td>1</td><td>1</td><td>0</td><td>1</td><td>1</td><td>0</td><td>1</td><td>1</td><td>0</td><td>0</td><td>1</td><td>0</td><td>1</td><td>0</td><td>1</td><td>0</td><td>0</td><td>0</td><td>0</td><td>0</td><td>0</td><td>0</td><td>0</td><td>0</td><td>0</td><td>0</td><td>0</td><td>0</td><td>0</td><td>0</td><td>0</td><td>0</td><td>0</td><td>0</td><td>0</td><td>0</td><td>0</td><td>0</td><td>0</td><td>0</td><td>0</td><td>0</td><td>1</td><td>0</td><td>1</td><td>0.0</td><td>NSA_171740</td><td>AGZ000bhr7</td></tr>\n",
       "<tr><td>56f3e0d65925d9004300c761</td><td>8</td><td>2</td><td>2</td><td>2</td><td>0</td><td>2</td><td>2</td><td>0</td><td>2</td><td>2</td><td>0</td><td>2</td><td>2</td><td>0</td><td>0</td><td>1</td><td>1</td><td>6</td><td>1</td><td>5</td><td>1</td><td>0</td><td>0</td><td>0</td><td>0</td><td>0</td><td>1</td><td>0</td><td>4</td><td>4</td><td>0</td><td>0</td><td>0</td><td>0</td><td>0</td><td>0</td><td>0</td><td>0</td><td>0</td><td>0</td><td>0</td><td>0</td><td>0</td><td>0</td><td>0</td><td>0</td><td>0</td><td>8</td><td>1</td><td>7</td><td>0.5</td><td>NSA_171748</td><td>AGZ000bhr4</td></tr>\n",
       "<tr><td>56f3e0d65925d9004300c763</td><td>5</td><td>1</td><td>2</td><td>1</td><td>1</td><td>0</td><td>0</td><td>0</td><td>0</td><td>0</td><td>0</td><td>0</td><td>0</td><td>0</td><td>0</td><td>0</td><td>0</td><td>3</td><td>1</td><td>2</td><td>1</td><td>0</td><td>0</td><td>0</td><td>0</td><td>0</td><td>1</td><td>0</td><td>2</td><td>0</td><td>1</td><td>1</td><td>1</td><td>1</td><td>0</td><td>0</td><td>0</td><td>0</td><td>0</td><td>0</td><td>0</td><td>0</td><td>0</td><td>0</td><td>0</td><td>0</td><td>0</td><td>5</td><td>0</td><td>5</td><td>0.4</td><td>NSA_171768</td><td>AGZ000bhr5</td></tr>\n",
       "<tr><td>56f3e0d65925d9004300c765</td><td>1</td><td>0</td><td>0</td><td>0</td><td>0</td><td>0</td><td>0</td><td>0</td><td>0</td><td>0</td><td>0</td><td>0</td><td>0</td><td>0</td><td>0</td><td>0</td><td>0</td><td>1</td><td>0</td><td>1</td><td>0</td><td>0</td><td>0</td><td>0</td><td>0</td><td>0</td><td>0</td><td>0</td><td>1</td><td>0</td><td>0</td><td>1</td><td>0</td><td>0</td><td>0</td><td>0</td><td>0</td><td>0</td><td>0</td><td>0</td><td>0</td><td>0</td><td>0</td><td>0</td><td>0</td><td>0</td><td>0</td><td>1</td><td>0</td><td>1</td><td>1.0</td><td>NSA_171769</td><td>AGZ000bhr2</td></tr>\n",
       "<tr><td>56f3e0d65925d9004300c767</td><td>34</td><td>19</td><td>4</td><td>19</td><td>19</td><td>0</td><td>0</td><td>0</td><td>0</td><td>0</td><td>0</td><td>0</td><td>0</td><td>0</td><td>0</td><td>0</td><td>0</td><td>30</td><td>9</td><td>21</td><td>8</td><td>1</td><td>0</td><td>1</td><td>1</td><td>1</td><td>1</td><td>3</td><td>11</td><td>0</td><td>1</td><td>10</td><td>19</td><td>9</td><td>5</td><td>5</td><td>0</td><td>0</td><td>0</td><td>0</td><td>0</td><td>0</td><td>0</td><td>0</td><td>0</td><td>0</td><td>0</td><td>34</td><td>1</td><td>33</td><td>0.323529411765</td><td>NSA_171771</td><td>AGZ000bhr3</td></tr>\n",
       "<tr><td>56f3e0d65925d9004300c769</td><td>18</td><td>0</td><td>3</td><td>0</td><td>0</td><td>0</td><td>0</td><td>0</td><td>0</td><td>0</td><td>0</td><td>0</td><td>0</td><td>0</td><td>0</td><td>0</td><td>0</td><td>15</td><td>2</td><td>13</td><td>4</td><td>0</td><td>0</td><td>0</td><td>0</td><td>1</td><td>2</td><td>1</td><td>15</td><td>10</td><td>5</td><td>0</td><td>0</td><td>0</td><td>0</td><td>0</td><td>0</td><td>0</td><td>0</td><td>0</td><td>0</td><td>0</td><td>0</td><td>0</td><td>0</td><td>0</td><td>0</td><td>17</td><td>0</td><td>17</td><td>0.833333333333</td><td>NSA_171773</td><td>AGZ000bhr0</td></tr>\n",
       "<tr><td>56f3e0d65925d9004300c76d</td><td>20</td><td>10</td><td>2</td><td>10</td><td>9</td><td>1</td><td>1</td><td>0</td><td>1</td><td>1</td><td>0</td><td>1</td><td>1</td><td>0</td><td>1</td><td>0</td><td>0</td><td>18</td><td>2</td><td>16</td><td>1</td><td>0</td><td>0</td><td>0</td><td>0</td><td>0</td><td>0</td><td>1</td><td>8</td><td>0</td><td>0</td><td>8</td><td>9</td><td>7</td><td>1</td><td>1</td><td>0</td><td>0</td><td>0</td><td>0</td><td>0</td><td>0</td><td>0</td><td>0</td><td>0</td><td>0</td><td>0</td><td>19</td><td>1</td><td>18</td><td>0.4</td><td>NSA_171778</td><td>AGZ000bhqy</td></tr>\n",
       "<tr><td>56f3e0d65925d9004300c76f</td><td>12</td><td>6</td><td>1</td><td>6</td><td>5</td><td>1</td><td>1</td><td>0</td><td>1</td><td>1</td><td>0</td><td>1</td><td>1</td><td>0</td><td>0</td><td>1</td><td>0</td><td>11</td><td>8</td><td>3</td><td>10</td><td>0</td><td>0</td><td>1</td><td>1</td><td>0</td><td>7</td><td>1</td><td>5</td><td>0</td><td>2</td><td>3</td><td>5</td><td>4</td><td>0</td><td>1</td><td>0</td><td>0</td><td>0</td><td>0</td><td>0</td><td>0</td><td>0</td><td>0</td><td>0</td><td>0</td><td>0</td><td>12</td><td>0</td><td>12</td><td>0.416666666667</td><td>NSA_172307</td><td>AGZ000bhqz</td></tr>\n",
       "<tr><td>56f3e0d65925d9004300c771</td><td>41</td><td>6</td><td>16</td><td>6</td><td>1</td><td>5</td><td>5</td><td>0</td><td>5</td><td>5</td><td>0</td><td>5</td><td>5</td><td>3</td><td>0</td><td>0</td><td>2</td><td>25</td><td>17</td><td>8</td><td>15</td><td>0</td><td>0</td><td>1</td><td>0</td><td>0</td><td>13</td><td>1</td><td>19</td><td>17</td><td>2</td><td>0</td><td>1</td><td>1</td><td>0</td><td>0</td><td>0</td><td>0</td><td>0</td><td>0</td><td>0</td><td>0</td><td>0</td><td>0</td><td>0</td><td>0</td><td>0</td><td>41</td><td>1</td><td>40</td><td>0.463414634146</td><td>NSA_172843</td><td>AGZ000bhqx</td></tr>\n",
       "</table>"
      ],
      "text/plain": [
       "<Table masked=True length=23383>\n",
       "       subject_id        features_total ... survey_id  zooniverse_id\n",
       "         str24               int64      ...   str10        str10    \n",
       "------------------------ -------------- ... ---------- -------------\n",
       "56f3df5d5925d90043000001             40 ...    NSA_240    AGZ000dcyr\n",
       "56f3df5d5925d90043000003             40 ...    NSA_529    AGZ000dcyq\n",
       "56f3df5d5925d90043000005             40 ...   NSA_1055    AGZ000dcyp\n",
       "56f3df5d5925d90043000007             40 ...   NSA_2652    AGZ000dcyo\n",
       "56f3df5d5925d90043000009             39 ...   NSA_2672    AGZ000dcyn\n",
       "56f3df5d5925d9004300000b             40 ...   NSA_2686    AGZ000dcym\n",
       "56f3df5d5925d9004300000f             40 ...   NSA_4048    AGZ000dcyk\n",
       "56f3df5d5925d90043000011             40 ...   NSA_4071    AGZ000dcyj\n",
       "56f3df5d5925d90043000013             40 ...   NSA_4203    AGZ000dcyi\n",
       "56f3df5d5925d90043000015             40 ...   NSA_4233    AGZ000dcyh\n",
       "                     ...            ... ...        ...           ...\n",
       "56f3e0d65925d9004300c75d             29 ... NSA_171737    AGZ000bhr6\n",
       "56f3e0d65925d9004300c75f              1 ... NSA_171740    AGZ000bhr7\n",
       "56f3e0d65925d9004300c761              8 ... NSA_171748    AGZ000bhr4\n",
       "56f3e0d65925d9004300c763              5 ... NSA_171768    AGZ000bhr5\n",
       "56f3e0d65925d9004300c765              1 ... NSA_171769    AGZ000bhr2\n",
       "56f3e0d65925d9004300c767             34 ... NSA_171771    AGZ000bhr3\n",
       "56f3e0d65925d9004300c769             18 ... NSA_171773    AGZ000bhr0\n",
       "56f3e0d65925d9004300c76d             20 ... NSA_171778    AGZ000bhqy\n",
       "56f3e0d65925d9004300c76f             12 ... NSA_172307    AGZ000bhqz\n",
       "56f3e0d65925d9004300c771             41 ... NSA_172843    AGZ000bhqx"
      ]
     },
     "execution_count": 6,
     "metadata": {},
     "output_type": "execute_result"
    }
   ],
   "source": [
    "outdata"
   ]
  },
  {
   "cell_type": "code",
   "execution_count": 7,
   "metadata": {
    "collapsed": true
   },
   "outputs": [],
   "source": [
    "outdata.write('galaxy_zoo_{}_{}.fits'.format(subjectset, date), overwrite=True)"
   ]
  }
 ],
 "metadata": {
  "_draft": {
   "nbviewer_url": "https://gist.github.com/df1c052dd0ed94d9ec2dc1e98d060366"
  },
  "gist": {
   "data": {
    "description": "First look at GAMA GZ data",
    "public": false
   },
   "id": "df1c052dd0ed94d9ec2dc1e98d060366"
  },
  "hide_input": false,
  "kernelspec": {
   "display_name": "Python [default]",
   "language": "python",
   "name": "python3"
  },
  "language_info": {
   "codemirror_mode": {
    "name": "ipython",
    "version": 3
   },
   "file_extension": ".py",
   "mimetype": "text/x-python",
   "name": "python",
   "nbconvert_exporter": "python",
   "pygments_lexer": "ipython3",
   "version": "3.6.1"
  },
  "latex_envs": {
   "LaTeX_envs_menu_present": true,
   "autocomplete": true,
   "bibliofile": "biblio.bib",
   "cite_by": "apalike",
   "current_citInitial": 1,
   "eqLabelWithNumbers": true,
   "eqNumInitial": 1,
   "hotkeys": {
    "equation": "Ctrl-E",
    "itemize": "Ctrl-I"
   },
   "labels_anchors": false,
   "latex_user_defs": false,
   "report_style_numbering": false,
   "user_envs_cfg": false
  }
 },
 "nbformat": 4,
 "nbformat_minor": 1
}
