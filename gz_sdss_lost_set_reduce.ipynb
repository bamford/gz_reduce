{
 "cells": [
  {
   "cell_type": "code",
   "execution_count": 9,
   "metadata": {
    "collapsed": false
   },
   "outputs": [],
   "source": [
    "from gz_reduce import reduce_data"
   ]
  },
  {
   "cell_type": "markdown",
   "metadata": {},
   "source": [
    "### Get the data"
   ]
  },
  {
   "cell_type": "code",
   "execution_count": 4,
   "metadata": {
    "collapsed": false
   },
   "outputs": [
    {
     "name": "stderr",
     "output_type": "stream",
     "text": [
      "  % Total    % Received % Xferd  Average Speed   Time    Time     Time  Current\n",
      "                                 Dload  Upload   Total   Spent    Left  Speed\n",
      "\r",
      "  0     0    0     0    0     0      0      0 --:--:-- --:--:-- --:--:--     0\r",
      "100  5897  100  5897    0     0  19770      0 --:--:-- --:--:-- --:--:-- 22169\n"
     ]
    }
   ],
   "source": [
    "%%bash\n",
    "# get the gama tree definition\n",
    "curl -O https://raw.githubusercontent.com/zooniverse/Galaxy-Zoo/master/app/lib/sloan_tree.coffee"
   ]
  },
  {
   "cell_type": "code",
   "execution_count": 7,
   "metadata": {
    "collapsed": false
   },
   "outputs": [
    {
     "name": "stderr",
     "output_type": "stream",
     "text": [
      "  % Total    % Received % Xferd  Average Speed   Time    Time     Time  Current\n",
      "                                 Dload  Upload   Total   Spent    Left  Speed\n",
      "\r",
      "  0     0    0     0    0     0      0      0 --:--:-- --:--:-- --:--:--     0\r",
      "  0     0    0     0    0     0      0      0 --:--:-- --:--:-- --:--:--     0\r",
      "  6 13.8M    6  882k    0     0   740k      0  0:00:19  0:00:01  0:00:18  742k\r",
      " 36 13.8M   36 5115k    0     0  2334k      0  0:00:06  0:00:02  0:00:04 2338k\r",
      " 73 13.8M   73 10.1M    0     0  3248k      0  0:00:04  0:00:03  0:00:01 3251k\r",
      "100 13.8M  100 13.8M    0     0  3612k      0  0:00:03  0:00:03 --:--:-- 3615k\n"
     ]
    }
   ],
   "source": [
    "%%bash\n",
    "# get the database dump\n",
    "url=\"\"\n",
    "curl $url | tar xz"
   ]
  },
  {
   "cell_type": "markdown",
   "metadata": {},
   "source": [
    "### Run the reduction"
   ]
  },
  {
   "cell_type": "code",
   "execution_count": 10,
   "metadata": {
    "collapsed": false,
    "scrolled": true
   },
   "outputs": [],
   "source": [
    "date='2017-06-18'\n",
    "#outdata = reduce_data(date, tree='sloan', subjectset='sdss_lost_set')  # fails, do step by step..."
   ]
  },
  {
   "cell_type": "code",
   "execution_count": 16,
   "metadata": {
    "collapsed": true
   },
   "outputs": [],
   "source": [
    "from gz_reduce import *\n",
    "tree='sloan'\n",
    "subjectset='sdss_lost_set'"
   ]
  },
  {
   "cell_type": "code",
   "execution_count": 18,
   "metadata": {
    "collapsed": true
   },
   "outputs": [],
   "source": [
    "questions, answers = parse_tree(tree)\n",
    "template = '{}_galaxy_zoo_{}_classifications.csv'\n",
    "indata = Table.read(template.format(date, subjectset), fast_reader=False)"
   ]
  },
  {
   "cell_type": "code",
   "execution_count": 19,
   "metadata": {
    "collapsed": true
   },
   "outputs": [],
   "source": [
    "outdata = collate_classifications(indata, tree, questions, answers)"
   ]
  },
  {
   "cell_type": "code",
   "execution_count": 22,
   "metadata": {
    "collapsed": true
   },
   "outputs": [],
   "source": [
    "outdata = recalculate_odd_total(outdata)"
   ]
  },
  {
   "cell_type": "code",
   "execution_count": 23,
   "metadata": {
    "collapsed": true
   },
   "outputs": [],
   "source": [
    "outdata = calculate_fractions(outdata, questions, answers)"
   ]
  },
  {
   "cell_type": "code",
   "execution_count": 29,
   "metadata": {
    "collapsed": false
   },
   "outputs": [],
   "source": [
    "subjects = read_subjects('galaxy_zoo_subjects_lee.csv.gz', 'sdss_lost_set', 'nsa_id')"
   ]
  },
  {
   "cell_type": "code",
   "execution_count": 31,
   "metadata": {
    "collapsed": true
   },
   "outputs": [],
   "source": [
    "outdata = join(outdata, subjects, 'subject_id')"
   ]
  },
  {
   "cell_type": "code",
   "execution_count": 33,
   "metadata": {
    "collapsed": false
   },
   "outputs": [],
   "source": [
    "outdata.write('{}_galaxy_zoo_sdss_lost_set.fits'.format(date), overwrite=True)"
   ]
  },
  {
   "cell_type": "code",
   "execution_count": 34,
   "metadata": {
    "collapsed": false,
    "scrolled": false
   },
   "outputs": [
    {
     "data": {
      "text/html": [
       "&lt;Table masked=True length=23383&gt;\n",
       "<table id=\"table4477283912\" class=\"table-striped table-bordered table-condensed\">\n",
       "<thead><tr><th>subject_id</th><th>shape_total</th><th>shape_smooth</th><th>shape_features_or_disk</th><th>shape_star_or_artifact</th><th>disk_total</th><th>disk_yes</th><th>disk_no</th><th>bar_total</th><th>bar_bar</th><th>bar_no_bar</th><th>spiral_a_total</th><th>spiral_a_spiral</th><th>spiral_a_no_spiral</th><th>bulge_a_total</th><th>bulge_a_no_bulge</th><th>bulge_a_just_noticeable</th><th>bulge_a_obvious</th><th>bulge_a_dominant</th><th>odd_a_total</th><th>odd_a_yes</th><th>odd_a_no</th><th>odd_b_total</th><th>odd_b_ring</th><th>odd_b_lens_or_arc</th><th>odd_b_disturbed</th><th>odd_b_irregular</th><th>odd_b_other</th><th>odd_b_merger</th><th>odd_b_dust_lane</th><th>round_total</th><th>round_completely_round</th><th>round_in_between</th><th>round_cigar_shaped</th><th>bulge_b_total</th><th>bulge_b_rounded</th><th>bulge_b_boxy</th><th>bulge_b_no_bulge</th><th>spiral_b_total</th><th>spiral_b_tight</th><th>spiral_b_medium</th><th>spiral_b_loose</th><th>spiral_c_total</th><th>spiral_c_1</th><th>spiral_c_2</th><th>spiral_c_3</th><th>spiral_c_4</th><th>spiral_c_more_than_4</th><th>spiral_c_&quot;cant_tell&quot;</th><th>discuss_total</th><th>discuss_yes</th><th>discuss_no</th><th>odd_total</th><th>shape_smooth_frac</th><th>shape_features_or_disk_frac</th><th>shape_star_or_artifact_frac</th><th>disk_yes_frac</th><th>disk_no_frac</th><th>bar_bar_frac</th><th>bar_no_bar_frac</th><th>spiral_a_spiral_frac</th><th>spiral_a_no_spiral_frac</th><th>bulge_a_no_bulge_frac</th><th>bulge_a_just_noticeable_frac</th><th>bulge_a_obvious_frac</th><th>bulge_a_dominant_frac</th><th>odd_a_yes_frac</th><th>odd_a_no_frac</th><th>odd_b_ring_frac</th><th>odd_b_lens_or_arc_frac</th><th>odd_b_disturbed_frac</th><th>odd_b_irregular_frac</th><th>odd_b_other_frac</th><th>odd_b_merger_frac</th><th>odd_b_dust_lane_frac</th><th>round_completely_round_frac</th><th>round_in_between_frac</th><th>round_cigar_shaped_frac</th><th>bulge_b_rounded_frac</th><th>bulge_b_boxy_frac</th><th>bulge_b_no_bulge_frac</th><th>spiral_b_tight_frac</th><th>spiral_b_medium_frac</th><th>spiral_b_loose_frac</th><th>spiral_c_1_frac</th><th>spiral_c_2_frac</th><th>spiral_c_3_frac</th><th>spiral_c_4_frac</th><th>spiral_c_more_than_4_frac</th><th>spiral_c_&quot;cant_tell&quot;_frac</th><th>discuss_yes_frac</th><th>discuss_no_frac</th><th>survey_id</th><th>zooniverse_id</th></tr></thead>\n",
       "<thead><tr><th>str24</th><th>int64</th><th>int64</th><th>int64</th><th>int64</th><th>int64</th><th>int64</th><th>int64</th><th>int64</th><th>int64</th><th>int64</th><th>int64</th><th>int64</th><th>int64</th><th>int64</th><th>int64</th><th>int64</th><th>int64</th><th>int64</th><th>int64</th><th>int64</th><th>int64</th><th>int64</th><th>int64</th><th>int64</th><th>int64</th><th>int64</th><th>int64</th><th>int64</th><th>int64</th><th>int64</th><th>int64</th><th>int64</th><th>int64</th><th>int64</th><th>int64</th><th>int64</th><th>int64</th><th>int64</th><th>int64</th><th>int64</th><th>int64</th><th>int64</th><th>int64</th><th>int64</th><th>int64</th><th>int64</th><th>int64</th><th>int64</th><th>int64</th><th>int64</th><th>int64</th><th>int64</th><th>float64</th><th>float64</th><th>float64</th><th>float64</th><th>float64</th><th>float64</th><th>float64</th><th>float64</th><th>float64</th><th>float64</th><th>float64</th><th>float64</th><th>float64</th><th>float64</th><th>float64</th><th>float64</th><th>float64</th><th>float64</th><th>float64</th><th>float64</th><th>float64</th><th>float64</th><th>float64</th><th>float64</th><th>float64</th><th>float64</th><th>float64</th><th>float64</th><th>float64</th><th>float64</th><th>float64</th><th>float64</th><th>float64</th><th>float64</th><th>float64</th><th>float64</th><th>float64</th><th>float64</th><th>float64</th><th>str10</th><th>str10</th></tr></thead>\n",
       "<tr><td>56f3df5d5925d90043000001</td><td>40</td><td>13</td><td>12</td><td>15</td><td>12</td><td>0</td><td>12</td><td>12</td><td>2</td><td>10</td><td>12</td><td>8</td><td>4</td><td>12</td><td>0</td><td>7</td><td>3</td><td>2</td><td>25</td><td>6</td><td>19</td><td>2</td><td>0</td><td>0</td><td>0</td><td>0</td><td>2</td><td>0</td><td>0</td><td>13</td><td>5</td><td>8</td><td>0</td><td>0</td><td>0</td><td>0</td><td>0</td><td>8</td><td>3</td><td>4</td><td>1</td><td>8</td><td>0</td><td>1</td><td>0</td><td>0</td><td>0</td><td>7</td><td>40</td><td>2</td><td>38</td><td>25</td><td>0.325</td><td>0.3</td><td>0.375</td><td>0.0</td><td>1.0</td><td>0.166666666667</td><td>0.833333333333</td><td>0.666666666667</td><td>0.333333333333</td><td>0.0</td><td>0.583333333333</td><td>0.25</td><td>0.166666666667</td><td>0.24</td><td>0.76</td><td>0.0</td><td>0.0</td><td>0.0</td><td>0.0</td><td>1.0</td><td>0.0</td><td>0.0</td><td>0.384615384615</td><td>0.615384615385</td><td>0.0</td><td>--</td><td>--</td><td>--</td><td>0.375</td><td>0.5</td><td>0.125</td><td>0.0</td><td>0.125</td><td>0.0</td><td>0.0</td><td>0.0</td><td>0.875</td><td>0.05</td><td>0.95</td><td>NSA_240</td><td>AGZ000dcyr</td></tr>\n",
       "<tr><td>56f3df5d5925d90043000003</td><td>40</td><td>17</td><td>16</td><td>7</td><td>16</td><td>2</td><td>14</td><td>14</td><td>0</td><td>14</td><td>14</td><td>2</td><td>12</td><td>14</td><td>1</td><td>1</td><td>10</td><td>2</td><td>33</td><td>14</td><td>19</td><td>16</td><td>5</td><td>0</td><td>2</td><td>1</td><td>6</td><td>1</td><td>1</td><td>17</td><td>13</td><td>4</td><td>0</td><td>2</td><td>1</td><td>0</td><td>1</td><td>2</td><td>0</td><td>1</td><td>1</td><td>2</td><td>1</td><td>0</td><td>1</td><td>0</td><td>0</td><td>0</td><td>38</td><td>1</td><td>37</td><td>33</td><td>0.425</td><td>0.4</td><td>0.175</td><td>0.125</td><td>0.875</td><td>0.0</td><td>1.0</td><td>0.142857142857</td><td>0.857142857143</td><td>0.0714285714286</td><td>0.0714285714286</td><td>0.714285714286</td><td>0.142857142857</td><td>0.424242424242</td><td>0.575757575758</td><td>0.3125</td><td>0.0</td><td>0.125</td><td>0.0625</td><td>0.375</td><td>0.0625</td><td>0.0625</td><td>0.764705882353</td><td>0.235294117647</td><td>0.0</td><td>0.5</td><td>0.0</td><td>0.5</td><td>0.0</td><td>0.5</td><td>0.5</td><td>0.5</td><td>0.0</td><td>0.5</td><td>0.0</td><td>0.0</td><td>0.0</td><td>0.0263157894737</td><td>0.973684210526</td><td>NSA_529</td><td>AGZ000dcyq</td></tr>\n",
       "<tr><td>56f3df5d5925d90043000005</td><td>40</td><td>4</td><td>25</td><td>11</td><td>25</td><td>1</td><td>24</td><td>24</td><td>14</td><td>10</td><td>24</td><td>13</td><td>11</td><td>24</td><td>8</td><td>15</td><td>1</td><td>0</td><td>29</td><td>24</td><td>5</td><td>26</td><td>0</td><td>0</td><td>6</td><td>12</td><td>2</td><td>5</td><td>1</td><td>4</td><td>0</td><td>4</td><td>0</td><td>1</td><td>0</td><td>0</td><td>1</td><td>13</td><td>0</td><td>1</td><td>12</td><td>13</td><td>1</td><td>11</td><td>0</td><td>0</td><td>0</td><td>1</td><td>39</td><td>1</td><td>38</td><td>29</td><td>0.1</td><td>0.625</td><td>0.275</td><td>0.04</td><td>0.96</td><td>0.583333333333</td><td>0.416666666667</td><td>0.541666666667</td><td>0.458333333333</td><td>0.333333333333</td><td>0.625</td><td>0.0416666666667</td><td>0.0</td><td>0.827586206897</td><td>0.172413793103</td><td>0.0</td><td>0.0</td><td>0.230769230769</td><td>0.461538461538</td><td>0.0769230769231</td><td>0.192307692308</td><td>0.0384615384615</td><td>0.0</td><td>1.0</td><td>0.0</td><td>0.0</td><td>0.0</td><td>1.0</td><td>0.0</td><td>0.0769230769231</td><td>0.923076923077</td><td>0.0769230769231</td><td>0.846153846154</td><td>0.0</td><td>0.0</td><td>0.0</td><td>0.0769230769231</td><td>0.025641025641</td><td>0.974358974359</td><td>NSA_1055</td><td>AGZ000dcyp</td></tr>\n",
       "<tr><td>56f3df5d5925d90043000007</td><td>40</td><td>20</td><td>10</td><td>10</td><td>10</td><td>2</td><td>8</td><td>8</td><td>1</td><td>7</td><td>8</td><td>1</td><td>7</td><td>8</td><td>5</td><td>3</td><td>0</td><td>0</td><td>30</td><td>18</td><td>12</td><td>26</td><td>5</td><td>1</td><td>3</td><td>7</td><td>6</td><td>3</td><td>1</td><td>20</td><td>4</td><td>16</td><td>0</td><td>2</td><td>0</td><td>1</td><td>1</td><td>1</td><td>0</td><td>1</td><td>0</td><td>1</td><td>0</td><td>0</td><td>0</td><td>0</td><td>0</td><td>1</td><td>40</td><td>5</td><td>35</td><td>30</td><td>0.5</td><td>0.25</td><td>0.25</td><td>0.2</td><td>0.8</td><td>0.125</td><td>0.875</td><td>0.125</td><td>0.875</td><td>0.625</td><td>0.375</td><td>0.0</td><td>0.0</td><td>0.6</td><td>0.4</td><td>0.192307692308</td><td>0.0384615384615</td><td>0.115384615385</td><td>0.269230769231</td><td>0.230769230769</td><td>0.115384615385</td><td>0.0384615384615</td><td>0.2</td><td>0.8</td><td>0.0</td><td>0.0</td><td>0.5</td><td>0.5</td><td>0.0</td><td>1.0</td><td>0.0</td><td>0.0</td><td>0.0</td><td>0.0</td><td>0.0</td><td>0.0</td><td>1.0</td><td>0.125</td><td>0.875</td><td>NSA_2652</td><td>AGZ000dcyo</td></tr>\n",
       "<tr><td>56f3df5d5925d90043000009</td><td>39</td><td>24</td><td>4</td><td>11</td><td>4</td><td>1</td><td>3</td><td>3</td><td>0</td><td>3</td><td>3</td><td>0</td><td>3</td><td>3</td><td>0</td><td>3</td><td>0</td><td>0</td><td>28</td><td>5</td><td>23</td><td>6</td><td>0</td><td>1</td><td>0</td><td>1</td><td>3</td><td>1</td><td>0</td><td>24</td><td>0</td><td>24</td><td>0</td><td>1</td><td>0</td><td>0</td><td>1</td><td>0</td><td>0</td><td>0</td><td>0</td><td>0</td><td>0</td><td>0</td><td>0</td><td>0</td><td>0</td><td>0</td><td>39</td><td>0</td><td>39</td><td>28</td><td>0.615384615385</td><td>0.102564102564</td><td>0.282051282051</td><td>0.25</td><td>0.75</td><td>0.0</td><td>1.0</td><td>0.0</td><td>1.0</td><td>0.0</td><td>1.0</td><td>0.0</td><td>0.0</td><td>0.178571428571</td><td>0.821428571429</td><td>0.0</td><td>0.166666666667</td><td>0.0</td><td>0.166666666667</td><td>0.5</td><td>0.166666666667</td><td>0.0</td><td>0.0</td><td>1.0</td><td>0.0</td><td>0.0</td><td>0.0</td><td>1.0</td><td>--</td><td>--</td><td>--</td><td>--</td><td>--</td><td>--</td><td>--</td><td>--</td><td>--</td><td>0.0</td><td>1.0</td><td>NSA_2672</td><td>AGZ000dcyn</td></tr>\n",
       "<tr><td>56f3df5d5925d9004300000b</td><td>40</td><td>1</td><td>29</td><td>10</td><td>29</td><td>3</td><td>26</td><td>26</td><td>12</td><td>14</td><td>26</td><td>25</td><td>1</td><td>26</td><td>13</td><td>11</td><td>2</td><td>0</td><td>30</td><td>10</td><td>20</td><td>9</td><td>0</td><td>0</td><td>0</td><td>4</td><td>2</td><td>2</td><td>1</td><td>1</td><td>0</td><td>0</td><td>1</td><td>3</td><td>2</td><td>0</td><td>1</td><td>25</td><td>0</td><td>0</td><td>25</td><td>25</td><td>5</td><td>20</td><td>0</td><td>0</td><td>0</td><td>0</td><td>39</td><td>1</td><td>38</td><td>30</td><td>0.025</td><td>0.725</td><td>0.25</td><td>0.103448275862</td><td>0.896551724138</td><td>0.461538461538</td><td>0.538461538462</td><td>0.961538461538</td><td>0.0384615384615</td><td>0.5</td><td>0.423076923077</td><td>0.0769230769231</td><td>0.0</td><td>0.333333333333</td><td>0.666666666667</td><td>0.0</td><td>0.0</td><td>0.0</td><td>0.444444444444</td><td>0.222222222222</td><td>0.222222222222</td><td>0.111111111111</td><td>0.0</td><td>0.0</td><td>1.0</td><td>0.666666666667</td><td>0.0</td><td>0.333333333333</td><td>0.0</td><td>0.0</td><td>1.0</td><td>0.2</td><td>0.8</td><td>0.0</td><td>0.0</td><td>0.0</td><td>0.0</td><td>0.025641025641</td><td>0.974358974359</td><td>NSA_2686</td><td>AGZ000dcym</td></tr>\n",
       "<tr><td>56f3df5d5925d9004300000f</td><td>40</td><td>20</td><td>9</td><td>11</td><td>9</td><td>6</td><td>3</td><td>3</td><td>0</td><td>3</td><td>3</td><td>0</td><td>3</td><td>3</td><td>1</td><td>1</td><td>1</td><td>0</td><td>29</td><td>1</td><td>28</td><td>1</td><td>0</td><td>0</td><td>0</td><td>1</td><td>0</td><td>0</td><td>0</td><td>20</td><td>0</td><td>5</td><td>15</td><td>6</td><td>1</td><td>2</td><td>3</td><td>0</td><td>0</td><td>0</td><td>0</td><td>0</td><td>0</td><td>0</td><td>0</td><td>0</td><td>0</td><td>0</td><td>40</td><td>1</td><td>39</td><td>29</td><td>0.5</td><td>0.225</td><td>0.275</td><td>0.666666666667</td><td>0.333333333333</td><td>0.0</td><td>1.0</td><td>0.0</td><td>1.0</td><td>0.333333333333</td><td>0.333333333333</td><td>0.333333333333</td><td>0.0</td><td>0.0344827586207</td><td>0.965517241379</td><td>0.0</td><td>0.0</td><td>0.0</td><td>1.0</td><td>0.0</td><td>0.0</td><td>0.0</td><td>0.0</td><td>0.25</td><td>0.75</td><td>0.166666666667</td><td>0.333333333333</td><td>0.5</td><td>--</td><td>--</td><td>--</td><td>--</td><td>--</td><td>--</td><td>--</td><td>--</td><td>--</td><td>0.025</td><td>0.975</td><td>NSA_4048</td><td>AGZ000dcyk</td></tr>\n",
       "<tr><td>56f3df5d5925d90043000011</td><td>40</td><td>25</td><td>11</td><td>4</td><td>11</td><td>11</td><td>0</td><td>0</td><td>0</td><td>0</td><td>0</td><td>0</td><td>0</td><td>0</td><td>0</td><td>0</td><td>0</td><td>0</td><td>36</td><td>3</td><td>33</td><td>4</td><td>0</td><td>0</td><td>0</td><td>1</td><td>2</td><td>0</td><td>1</td><td>25</td><td>0</td><td>2</td><td>23</td><td>11</td><td>3</td><td>4</td><td>4</td><td>0</td><td>0</td><td>0</td><td>0</td><td>0</td><td>0</td><td>0</td><td>0</td><td>0</td><td>0</td><td>0</td><td>40</td><td>0</td><td>40</td><td>36</td><td>0.625</td><td>0.275</td><td>0.1</td><td>1.0</td><td>0.0</td><td>--</td><td>--</td><td>--</td><td>--</td><td>--</td><td>--</td><td>--</td><td>--</td><td>0.0833333333333</td><td>0.916666666667</td><td>0.0</td><td>0.0</td><td>0.0</td><td>0.25</td><td>0.5</td><td>0.0</td><td>0.25</td><td>0.0</td><td>0.08</td><td>0.92</td><td>0.272727272727</td><td>0.363636363636</td><td>0.363636363636</td><td>--</td><td>--</td><td>--</td><td>--</td><td>--</td><td>--</td><td>--</td><td>--</td><td>--</td><td>0.0</td><td>1.0</td><td>NSA_4071</td><td>AGZ000dcyj</td></tr>\n",
       "<tr><td>56f3df5d5925d90043000013</td><td>40</td><td>18</td><td>15</td><td>7</td><td>15</td><td>5</td><td>10</td><td>10</td><td>0</td><td>10</td><td>10</td><td>3</td><td>7</td><td>10</td><td>3</td><td>5</td><td>2</td><td>0</td><td>33</td><td>15</td><td>18</td><td>18</td><td>2</td><td>1</td><td>5</td><td>3</td><td>3</td><td>3</td><td>1</td><td>18</td><td>1</td><td>17</td><td>0</td><td>5</td><td>3</td><td>0</td><td>2</td><td>3</td><td>1</td><td>2</td><td>0</td><td>3</td><td>0</td><td>0</td><td>1</td><td>0</td><td>0</td><td>2</td><td>37</td><td>1</td><td>36</td><td>33</td><td>0.45</td><td>0.375</td><td>0.175</td><td>0.333333333333</td><td>0.666666666667</td><td>0.0</td><td>1.0</td><td>0.3</td><td>0.7</td><td>0.3</td><td>0.5</td><td>0.2</td><td>0.0</td><td>0.454545454545</td><td>0.545454545455</td><td>0.111111111111</td><td>0.0555555555556</td><td>0.277777777778</td><td>0.166666666667</td><td>0.166666666667</td><td>0.166666666667</td><td>0.0555555555556</td><td>0.0555555555556</td><td>0.944444444444</td><td>0.0</td><td>0.6</td><td>0.0</td><td>0.4</td><td>0.333333333333</td><td>0.666666666667</td><td>0.0</td><td>0.0</td><td>0.0</td><td>0.333333333333</td><td>0.0</td><td>0.0</td><td>0.666666666667</td><td>0.027027027027</td><td>0.972972972973</td><td>NSA_4203</td><td>AGZ000dcyi</td></tr>\n",
       "<tr><td>56f3df5d5925d90043000015</td><td>40</td><td>11</td><td>20</td><td>9</td><td>20</td><td>0</td><td>20</td><td>20</td><td>1</td><td>19</td><td>20</td><td>6</td><td>14</td><td>20</td><td>5</td><td>11</td><td>3</td><td>1</td><td>31</td><td>20</td><td>11</td><td>30</td><td>0</td><td>1</td><td>5</td><td>14</td><td>6</td><td>3</td><td>1</td><td>11</td><td>2</td><td>9</td><td>0</td><td>0</td><td>0</td><td>0</td><td>0</td><td>6</td><td>2</td><td>4</td><td>0</td><td>6</td><td>4</td><td>0</td><td>0</td><td>0</td><td>1</td><td>1</td><td>40</td><td>3</td><td>37</td><td>31</td><td>0.275</td><td>0.5</td><td>0.225</td><td>0.0</td><td>1.0</td><td>0.05</td><td>0.95</td><td>0.3</td><td>0.7</td><td>0.25</td><td>0.55</td><td>0.15</td><td>0.05</td><td>0.645161290323</td><td>0.354838709677</td><td>0.0</td><td>0.0333333333333</td><td>0.166666666667</td><td>0.466666666667</td><td>0.2</td><td>0.1</td><td>0.0333333333333</td><td>0.181818181818</td><td>0.818181818182</td><td>0.0</td><td>--</td><td>--</td><td>--</td><td>0.333333333333</td><td>0.666666666667</td><td>0.0</td><td>0.666666666667</td><td>0.0</td><td>0.0</td><td>0.0</td><td>0.166666666667</td><td>0.166666666667</td><td>0.075</td><td>0.925</td><td>NSA_4233</td><td>AGZ000dcyh</td></tr>\n",
       "<tr><td>...</td><td>...</td><td>...</td><td>...</td><td>...</td><td>...</td><td>...</td><td>...</td><td>...</td><td>...</td><td>...</td><td>...</td><td>...</td><td>...</td><td>...</td><td>...</td><td>...</td><td>...</td><td>...</td><td>...</td><td>...</td><td>...</td><td>...</td><td>...</td><td>...</td><td>...</td><td>...</td><td>...</td><td>...</td><td>...</td><td>...</td><td>...</td><td>...</td><td>...</td><td>...</td><td>...</td><td>...</td><td>...</td><td>...</td><td>...</td><td>...</td><td>...</td><td>...</td><td>...</td><td>...</td><td>...</td><td>...</td><td>...</td><td>...</td><td>...</td><td>...</td><td>...</td><td>...</td><td>...</td><td>...</td><td>...</td><td>...</td><td>...</td><td>...</td><td>...</td><td>...</td><td>...</td><td>...</td><td>...</td><td>...</td><td>...</td><td>...</td><td>...</td><td>...</td><td>...</td><td>...</td><td>...</td><td>...</td><td>...</td><td>...</td><td>...</td><td>...</td><td>...</td><td>...</td><td>...</td><td>...</td><td>...</td><td>...</td><td>...</td><td>...</td><td>...</td><td>...</td><td>...</td><td>...</td><td>...</td><td>...</td><td>...</td><td>...</td><td>...</td></tr>\n",
       "<tr><td>56f3e0d65925d9004300c75d</td><td>29</td><td>9</td><td>5</td><td>15</td><td>5</td><td>1</td><td>4</td><td>4</td><td>0</td><td>4</td><td>4</td><td>0</td><td>4</td><td>4</td><td>1</td><td>0</td><td>3</td><td>0</td><td>14</td><td>9</td><td>5</td><td>9</td><td>0</td><td>0</td><td>0</td><td>0</td><td>2</td><td>7</td><td>0</td><td>9</td><td>9</td><td>0</td><td>0</td><td>1</td><td>1</td><td>0</td><td>0</td><td>0</td><td>0</td><td>0</td><td>0</td><td>0</td><td>0</td><td>0</td><td>0</td><td>0</td><td>0</td><td>0</td><td>29</td><td>3</td><td>26</td><td>14</td><td>0.310344827586</td><td>0.172413793103</td><td>0.51724137931</td><td>0.2</td><td>0.8</td><td>0.0</td><td>1.0</td><td>0.0</td><td>1.0</td><td>0.25</td><td>0.0</td><td>0.75</td><td>0.0</td><td>0.642857142857</td><td>0.357142857143</td><td>0.0</td><td>0.0</td><td>0.0</td><td>0.0</td><td>0.222222222222</td><td>0.777777777778</td><td>0.0</td><td>1.0</td><td>0.0</td><td>0.0</td><td>1.0</td><td>0.0</td><td>0.0</td><td>--</td><td>--</td><td>--</td><td>--</td><td>--</td><td>--</td><td>--</td><td>--</td><td>--</td><td>0.103448275862</td><td>0.896551724138</td><td>NSA_171737</td><td>AGZ000bhr6</td></tr>\n",
       "<tr><td>56f3e0d65925d9004300c75f</td><td>1</td><td>0</td><td>1</td><td>0</td><td>1</td><td>0</td><td>1</td><td>1</td><td>0</td><td>1</td><td>1</td><td>0</td><td>1</td><td>1</td><td>0</td><td>0</td><td>1</td><td>0</td><td>1</td><td>0</td><td>1</td><td>0</td><td>0</td><td>0</td><td>0</td><td>0</td><td>0</td><td>0</td><td>0</td><td>0</td><td>0</td><td>0</td><td>0</td><td>0</td><td>0</td><td>0</td><td>0</td><td>0</td><td>0</td><td>0</td><td>0</td><td>0</td><td>0</td><td>0</td><td>0</td><td>0</td><td>0</td><td>0</td><td>1</td><td>0</td><td>1</td><td>1</td><td>0.0</td><td>1.0</td><td>0.0</td><td>0.0</td><td>1.0</td><td>0.0</td><td>1.0</td><td>0.0</td><td>1.0</td><td>0.0</td><td>0.0</td><td>1.0</td><td>0.0</td><td>0.0</td><td>1.0</td><td>--</td><td>--</td><td>--</td><td>--</td><td>--</td><td>--</td><td>--</td><td>--</td><td>--</td><td>--</td><td>--</td><td>--</td><td>--</td><td>--</td><td>--</td><td>--</td><td>--</td><td>--</td><td>--</td><td>--</td><td>--</td><td>--</td><td>0.0</td><td>1.0</td><td>NSA_171740</td><td>AGZ000bhr7</td></tr>\n",
       "<tr><td>56f3e0d65925d9004300c761</td><td>8</td><td>4</td><td>2</td><td>2</td><td>2</td><td>0</td><td>2</td><td>2</td><td>0</td><td>2</td><td>2</td><td>0</td><td>2</td><td>2</td><td>0</td><td>0</td><td>1</td><td>1</td><td>6</td><td>1</td><td>5</td><td>1</td><td>0</td><td>0</td><td>0</td><td>0</td><td>0</td><td>1</td><td>0</td><td>4</td><td>4</td><td>0</td><td>0</td><td>0</td><td>0</td><td>0</td><td>0</td><td>0</td><td>0</td><td>0</td><td>0</td><td>0</td><td>0</td><td>0</td><td>0</td><td>0</td><td>0</td><td>0</td><td>8</td><td>1</td><td>7</td><td>6</td><td>0.5</td><td>0.25</td><td>0.25</td><td>0.0</td><td>1.0</td><td>0.0</td><td>1.0</td><td>0.0</td><td>1.0</td><td>0.0</td><td>0.0</td><td>0.5</td><td>0.5</td><td>0.166666666667</td><td>0.833333333333</td><td>0.0</td><td>0.0</td><td>0.0</td><td>0.0</td><td>0.0</td><td>1.0</td><td>0.0</td><td>1.0</td><td>0.0</td><td>0.0</td><td>--</td><td>--</td><td>--</td><td>--</td><td>--</td><td>--</td><td>--</td><td>--</td><td>--</td><td>--</td><td>--</td><td>--</td><td>0.125</td><td>0.875</td><td>NSA_171748</td><td>AGZ000bhr4</td></tr>\n",
       "<tr><td>56f3e0d65925d9004300c763</td><td>5</td><td>2</td><td>1</td><td>2</td><td>1</td><td>1</td><td>0</td><td>0</td><td>0</td><td>0</td><td>0</td><td>0</td><td>0</td><td>0</td><td>0</td><td>0</td><td>0</td><td>0</td><td>3</td><td>1</td><td>2</td><td>1</td><td>0</td><td>0</td><td>0</td><td>0</td><td>0</td><td>1</td><td>0</td><td>2</td><td>0</td><td>1</td><td>1</td><td>1</td><td>1</td><td>0</td><td>0</td><td>0</td><td>0</td><td>0</td><td>0</td><td>0</td><td>0</td><td>0</td><td>0</td><td>0</td><td>0</td><td>0</td><td>5</td><td>0</td><td>5</td><td>3</td><td>0.4</td><td>0.2</td><td>0.4</td><td>1.0</td><td>0.0</td><td>--</td><td>--</td><td>--</td><td>--</td><td>--</td><td>--</td><td>--</td><td>--</td><td>0.333333333333</td><td>0.666666666667</td><td>0.0</td><td>0.0</td><td>0.0</td><td>0.0</td><td>0.0</td><td>1.0</td><td>0.0</td><td>0.0</td><td>0.5</td><td>0.5</td><td>1.0</td><td>0.0</td><td>0.0</td><td>--</td><td>--</td><td>--</td><td>--</td><td>--</td><td>--</td><td>--</td><td>--</td><td>--</td><td>0.0</td><td>1.0</td><td>NSA_171768</td><td>AGZ000bhr5</td></tr>\n",
       "<tr><td>56f3e0d65925d9004300c765</td><td>1</td><td>1</td><td>0</td><td>0</td><td>0</td><td>0</td><td>0</td><td>0</td><td>0</td><td>0</td><td>0</td><td>0</td><td>0</td><td>0</td><td>0</td><td>0</td><td>0</td><td>0</td><td>1</td><td>0</td><td>1</td><td>0</td><td>0</td><td>0</td><td>0</td><td>0</td><td>0</td><td>0</td><td>0</td><td>1</td><td>0</td><td>0</td><td>1</td><td>0</td><td>0</td><td>0</td><td>0</td><td>0</td><td>0</td><td>0</td><td>0</td><td>0</td><td>0</td><td>0</td><td>0</td><td>0</td><td>0</td><td>0</td><td>1</td><td>0</td><td>1</td><td>1</td><td>1.0</td><td>0.0</td><td>0.0</td><td>--</td><td>--</td><td>--</td><td>--</td><td>--</td><td>--</td><td>--</td><td>--</td><td>--</td><td>--</td><td>0.0</td><td>1.0</td><td>--</td><td>--</td><td>--</td><td>--</td><td>--</td><td>--</td><td>--</td><td>0.0</td><td>0.0</td><td>1.0</td><td>--</td><td>--</td><td>--</td><td>--</td><td>--</td><td>--</td><td>--</td><td>--</td><td>--</td><td>--</td><td>--</td><td>--</td><td>0.0</td><td>1.0</td><td>NSA_171769</td><td>AGZ000bhr2</td></tr>\n",
       "<tr><td>56f3e0d65925d9004300c767</td><td>34</td><td>11</td><td>19</td><td>4</td><td>19</td><td>19</td><td>0</td><td>0</td><td>0</td><td>0</td><td>0</td><td>0</td><td>0</td><td>0</td><td>0</td><td>0</td><td>0</td><td>0</td><td>30</td><td>9</td><td>21</td><td>8</td><td>1</td><td>0</td><td>1</td><td>1</td><td>1</td><td>1</td><td>3</td><td>11</td><td>0</td><td>1</td><td>10</td><td>19</td><td>9</td><td>5</td><td>5</td><td>0</td><td>0</td><td>0</td><td>0</td><td>0</td><td>0</td><td>0</td><td>0</td><td>0</td><td>0</td><td>0</td><td>34</td><td>1</td><td>33</td><td>30</td><td>0.323529411765</td><td>0.558823529412</td><td>0.117647058824</td><td>1.0</td><td>0.0</td><td>--</td><td>--</td><td>--</td><td>--</td><td>--</td><td>--</td><td>--</td><td>--</td><td>0.3</td><td>0.7</td><td>0.125</td><td>0.0</td><td>0.125</td><td>0.125</td><td>0.125</td><td>0.125</td><td>0.375</td><td>0.0</td><td>0.0909090909091</td><td>0.909090909091</td><td>0.473684210526</td><td>0.263157894737</td><td>0.263157894737</td><td>--</td><td>--</td><td>--</td><td>--</td><td>--</td><td>--</td><td>--</td><td>--</td><td>--</td><td>0.0294117647059</td><td>0.970588235294</td><td>NSA_171771</td><td>AGZ000bhr3</td></tr>\n",
       "<tr><td>56f3e0d65925d9004300c769</td><td>18</td><td>15</td><td>0</td><td>3</td><td>0</td><td>0</td><td>0</td><td>0</td><td>0</td><td>0</td><td>0</td><td>0</td><td>0</td><td>0</td><td>0</td><td>0</td><td>0</td><td>0</td><td>15</td><td>2</td><td>13</td><td>4</td><td>0</td><td>0</td><td>0</td><td>0</td><td>1</td><td>2</td><td>1</td><td>15</td><td>10</td><td>5</td><td>0</td><td>0</td><td>0</td><td>0</td><td>0</td><td>0</td><td>0</td><td>0</td><td>0</td><td>0</td><td>0</td><td>0</td><td>0</td><td>0</td><td>0</td><td>0</td><td>17</td><td>0</td><td>17</td><td>15</td><td>0.833333333333</td><td>0.0</td><td>0.166666666667</td><td>--</td><td>--</td><td>--</td><td>--</td><td>--</td><td>--</td><td>--</td><td>--</td><td>--</td><td>--</td><td>0.133333333333</td><td>0.866666666667</td><td>0.0</td><td>0.0</td><td>0.0</td><td>0.0</td><td>0.25</td><td>0.5</td><td>0.25</td><td>0.666666666667</td><td>0.333333333333</td><td>0.0</td><td>--</td><td>--</td><td>--</td><td>--</td><td>--</td><td>--</td><td>--</td><td>--</td><td>--</td><td>--</td><td>--</td><td>--</td><td>0.0</td><td>1.0</td><td>NSA_171773</td><td>AGZ000bhr0</td></tr>\n",
       "<tr><td>56f3e0d65925d9004300c76d</td><td>20</td><td>8</td><td>10</td><td>2</td><td>10</td><td>9</td><td>1</td><td>1</td><td>0</td><td>1</td><td>1</td><td>0</td><td>1</td><td>1</td><td>0</td><td>1</td><td>0</td><td>0</td><td>18</td><td>2</td><td>16</td><td>1</td><td>0</td><td>0</td><td>0</td><td>0</td><td>0</td><td>0</td><td>1</td><td>8</td><td>0</td><td>0</td><td>8</td><td>9</td><td>7</td><td>1</td><td>1</td><td>0</td><td>0</td><td>0</td><td>0</td><td>0</td><td>0</td><td>0</td><td>0</td><td>0</td><td>0</td><td>0</td><td>19</td><td>1</td><td>18</td><td>18</td><td>0.4</td><td>0.5</td><td>0.1</td><td>0.9</td><td>0.1</td><td>0.0</td><td>1.0</td><td>0.0</td><td>1.0</td><td>0.0</td><td>1.0</td><td>0.0</td><td>0.0</td><td>0.111111111111</td><td>0.888888888889</td><td>0.0</td><td>0.0</td><td>0.0</td><td>0.0</td><td>0.0</td><td>0.0</td><td>1.0</td><td>0.0</td><td>0.0</td><td>1.0</td><td>0.777777777778</td><td>0.111111111111</td><td>0.111111111111</td><td>--</td><td>--</td><td>--</td><td>--</td><td>--</td><td>--</td><td>--</td><td>--</td><td>--</td><td>0.0526315789474</td><td>0.947368421053</td><td>NSA_171778</td><td>AGZ000bhqy</td></tr>\n",
       "<tr><td>56f3e0d65925d9004300c76f</td><td>12</td><td>5</td><td>6</td><td>1</td><td>6</td><td>5</td><td>1</td><td>1</td><td>0</td><td>1</td><td>1</td><td>0</td><td>1</td><td>1</td><td>0</td><td>0</td><td>1</td><td>0</td><td>11</td><td>8</td><td>3</td><td>10</td><td>0</td><td>0</td><td>1</td><td>1</td><td>0</td><td>7</td><td>1</td><td>5</td><td>0</td><td>2</td><td>3</td><td>5</td><td>4</td><td>0</td><td>1</td><td>0</td><td>0</td><td>0</td><td>0</td><td>0</td><td>0</td><td>0</td><td>0</td><td>0</td><td>0</td><td>0</td><td>12</td><td>0</td><td>12</td><td>11</td><td>0.416666666667</td><td>0.5</td><td>0.0833333333333</td><td>0.833333333333</td><td>0.166666666667</td><td>0.0</td><td>1.0</td><td>0.0</td><td>1.0</td><td>0.0</td><td>0.0</td><td>1.0</td><td>0.0</td><td>0.727272727273</td><td>0.272727272727</td><td>0.0</td><td>0.0</td><td>0.1</td><td>0.1</td><td>0.0</td><td>0.7</td><td>0.1</td><td>0.0</td><td>0.4</td><td>0.6</td><td>0.8</td><td>0.0</td><td>0.2</td><td>--</td><td>--</td><td>--</td><td>--</td><td>--</td><td>--</td><td>--</td><td>--</td><td>--</td><td>0.0</td><td>1.0</td><td>NSA_172307</td><td>AGZ000bhqz</td></tr>\n",
       "<tr><td>56f3e0d65925d9004300c771</td><td>41</td><td>19</td><td>6</td><td>16</td><td>6</td><td>1</td><td>5</td><td>5</td><td>0</td><td>5</td><td>5</td><td>0</td><td>5</td><td>5</td><td>3</td><td>0</td><td>0</td><td>2</td><td>25</td><td>17</td><td>8</td><td>15</td><td>0</td><td>0</td><td>1</td><td>0</td><td>0</td><td>13</td><td>1</td><td>19</td><td>17</td><td>2</td><td>0</td><td>1</td><td>1</td><td>0</td><td>0</td><td>0</td><td>0</td><td>0</td><td>0</td><td>0</td><td>0</td><td>0</td><td>0</td><td>0</td><td>0</td><td>0</td><td>41</td><td>1</td><td>40</td><td>25</td><td>0.463414634146</td><td>0.146341463415</td><td>0.390243902439</td><td>0.166666666667</td><td>0.833333333333</td><td>0.0</td><td>1.0</td><td>0.0</td><td>1.0</td><td>0.6</td><td>0.0</td><td>0.0</td><td>0.4</td><td>0.68</td><td>0.32</td><td>0.0</td><td>0.0</td><td>0.0666666666667</td><td>0.0</td><td>0.0</td><td>0.866666666667</td><td>0.0666666666667</td><td>0.894736842105</td><td>0.105263157895</td><td>0.0</td><td>1.0</td><td>0.0</td><td>0.0</td><td>--</td><td>--</td><td>--</td><td>--</td><td>--</td><td>--</td><td>--</td><td>--</td><td>--</td><td>0.0243902439024</td><td>0.975609756098</td><td>NSA_172843</td><td>AGZ000bhqx</td></tr>\n",
       "</table>"
      ],
      "text/plain": [
       "<Table masked=True length=23383>\n",
       "       subject_id        shape_total shape_smooth ... survey_id  zooniverse_id\n",
       "         str24              int64       int64     ...   str10        str10    \n",
       "------------------------ ----------- ------------ ... ---------- -------------\n",
       "56f3df5d5925d90043000001          40           13 ...    NSA_240    AGZ000dcyr\n",
       "56f3df5d5925d90043000003          40           17 ...    NSA_529    AGZ000dcyq\n",
       "56f3df5d5925d90043000005          40            4 ...   NSA_1055    AGZ000dcyp\n",
       "56f3df5d5925d90043000007          40           20 ...   NSA_2652    AGZ000dcyo\n",
       "56f3df5d5925d90043000009          39           24 ...   NSA_2672    AGZ000dcyn\n",
       "56f3df5d5925d9004300000b          40            1 ...   NSA_2686    AGZ000dcym\n",
       "56f3df5d5925d9004300000f          40           20 ...   NSA_4048    AGZ000dcyk\n",
       "56f3df5d5925d90043000011          40           25 ...   NSA_4071    AGZ000dcyj\n",
       "56f3df5d5925d90043000013          40           18 ...   NSA_4203    AGZ000dcyi\n",
       "56f3df5d5925d90043000015          40           11 ...   NSA_4233    AGZ000dcyh\n",
       "                     ...         ...          ... ...        ...           ...\n",
       "56f3e0d65925d9004300c75d          29            9 ... NSA_171737    AGZ000bhr6\n",
       "56f3e0d65925d9004300c75f           1            0 ... NSA_171740    AGZ000bhr7\n",
       "56f3e0d65925d9004300c761           8            4 ... NSA_171748    AGZ000bhr4\n",
       "56f3e0d65925d9004300c763           5            2 ... NSA_171768    AGZ000bhr5\n",
       "56f3e0d65925d9004300c765           1            1 ... NSA_171769    AGZ000bhr2\n",
       "56f3e0d65925d9004300c767          34           11 ... NSA_171771    AGZ000bhr3\n",
       "56f3e0d65925d9004300c769          18           15 ... NSA_171773    AGZ000bhr0\n",
       "56f3e0d65925d9004300c76d          20            8 ... NSA_171778    AGZ000bhqy\n",
       "56f3e0d65925d9004300c76f          12            5 ... NSA_172307    AGZ000bhqz\n",
       "56f3e0d65925d9004300c771          41           19 ... NSA_172843    AGZ000bhqx"
      ]
     },
     "execution_count": 34,
     "metadata": {},
     "output_type": "execute_result"
    }
   ],
   "source": [
    "outdata"
   ]
  },
  {
   "cell_type": "code",
   "execution_count": 35,
   "metadata": {
    "collapsed": false
   },
   "outputs": [
    {
     "data": {
      "text/plain": [
       "10464"
      ]
     },
     "execution_count": 35,
     "metadata": {},
     "output_type": "execute_result"
    }
   ],
   "source": [
    "(outdata['shape_total'] >= 40).sum()"
   ]
  }
 ],
 "metadata": {
  "_draft": {
   "nbviewer_url": "https://gist.github.com/df1c052dd0ed94d9ec2dc1e98d060366"
  },
  "gist": {
   "data": {
    "description": "First look at GAMA GZ data",
    "public": false
   },
   "id": "df1c052dd0ed94d9ec2dc1e98d060366"
  },
  "hide_input": false,
  "kernelspec": {
   "display_name": "Python 3",
   "language": "python",
   "name": "python3"
  },
  "language_info": {
   "codemirror_mode": {
    "name": "ipython",
    "version": 3
   },
   "file_extension": ".py",
   "mimetype": "text/x-python",
   "name": "python",
   "nbconvert_exporter": "python",
   "pygments_lexer": "ipython3",
   "version": "3.6.0"
  },
  "latex_envs": {
   "LaTeX_envs_menu_present": true,
   "autocomplete": true,
   "bibliofile": "biblio.bib",
   "cite_by": "apalike",
   "current_citInitial": 1,
   "eqLabelWithNumbers": true,
   "eqNumInitial": 1,
   "hotkeys": {
    "equation": "Ctrl-E",
    "itemize": "Ctrl-I"
   },
   "labels_anchors": false,
   "latex_user_defs": false,
   "report_style_numbering": false,
   "user_envs_cfg": false
  }
 },
 "nbformat": 4,
 "nbformat_minor": 0
}
