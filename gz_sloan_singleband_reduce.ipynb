{
 "cells": [
  {
   "cell_type": "code",
   "execution_count": 1,
   "metadata": {
    "collapsed": true
   },
   "outputs": [],
   "source": [
    "from gz_reduce import reduce_data"
   ]
  },
  {
   "cell_type": "markdown",
   "metadata": {},
   "source": [
    "### Get the data"
   ]
  },
  {
   "cell_type": "code",
   "execution_count": 2,
   "metadata": {},
   "outputs": [],
   "source": [
    "# %%bash\n",
    "# # get the gama tree definition\n",
    "# curl -O https://raw.githubusercontent.com/zooniverse/Galaxy-Zoo/master/app/lib/sloan_singleband_tree.coffee"
   ]
  },
  {
   "cell_type": "code",
   "execution_count": 3,
   "metadata": {},
   "outputs": [],
   "source": [
    "# %%bash\n",
    "# # get the database dump\n",
    "# url=\"\"\n",
    "# curl $url | tar xz"
   ]
  },
  {
   "cell_type": "markdown",
   "metadata": {},
   "source": [
    "### Run the reduction"
   ]
  },
  {
   "cell_type": "code",
   "execution_count": 4,
   "metadata": {
    "collapsed": true
   },
   "outputs": [],
   "source": [
    "date='2017-07-09'\n",
    "tree='sloan_singleband'\n",
    "subjectset='sloan_singleband'\n",
    "survey_id_field='provided_image_id'\n",
    "outdata = reduce_data(date, tree, subjectset, survey_id_field)"
   ]
  },
  {
   "cell_type": "code",
   "execution_count": 5,
   "metadata": {
    "collapsed": true,
    "scrolled": false
   },
   "outputs": [],
   "source": [
    "outdata['band'] = [x[1:2] for x in outdata['survey_id']]"
   ]
  },
  {
   "cell_type": "code",
   "execution_count": 6,
   "metadata": {
    "collapsed": true
   },
   "outputs": [],
   "source": [
    "outdata['objid'] = [x[2:] for x in outdata['survey_id']]"
   ]
  },
  {
   "cell_type": "code",
   "execution_count": 7,
   "metadata": {
    "scrolled": false
   },
   "outputs": [
    {
     "data": {
      "text/html": [
       "&lt;Table masked=True length=4975&gt;\n",
       "<table id=\"table4651342928\" class=\"table-striped table-bordered table-condensed\">\n",
       "<thead><tr><th>subject_id</th><th>features_total</th><th>features_features_or_disk</th><th>features_star_or_artifact</th><th>edgeon_total</th><th>edgeon_yes</th><th>edgeon_no</th><th>bar_total</th><th>bar_bar</th><th>bar_no_bar</th><th>spiral_total</th><th>spiral_spiral</th><th>spiral_no_spiral</th><th>bulge_total</th><th>bulge_no_bulge</th><th>bulge_just_noticeable</th><th>bulge_obvious</th><th>bulge_dominant</th><th>odd_total</th><th>odd_yes</th><th>odd_no</th><th>oddtype_total</th><th>oddtype_ring</th><th>oddtype_lens_or_arc</th><th>oddtype_disturbed</th><th>oddtype_irregular</th><th>oddtype_other</th><th>oddtype_merger</th><th>oddtype_dust_lane</th><th>round_total</th><th>round_completely_round</th><th>round_in_between</th><th>round_cigar_shaped</th><th>bulgeshape_total</th><th>bulgeshape_rounded</th><th>bulgeshape_boxy</th><th>bulgeshape_no_bulge</th><th>spiralwinding_total</th><th>spiralwinding_tight</th><th>spiralwinding_medium</th><th>spiralwinding_loose</th><th>spiralnumber_total</th><th>spiralnumber_1</th><th>spiralnumber_2</th><th>spiralnumber_3</th><th>spiralnumber_4</th><th>spiralnumber_more_than_4</th><th>spiralnumber_cant_tell</th><th>discuss_total</th><th>discuss_yes</th><th>discuss_no</th><th>features_smooth_frac</th><th>survey_id</th><th>zooniverse_id</th><th>band</th><th>objid</th></tr></thead>\n",
       "<thead><tr><th>str24</th><th>int64</th><th>int64</th><th>int64</th><th>int64</th><th>int64</th><th>int64</th><th>int64</th><th>int64</th><th>int64</th><th>int64</th><th>int64</th><th>int64</th><th>int64</th><th>int64</th><th>int64</th><th>int64</th><th>int64</th><th>int64</th><th>int64</th><th>int64</th><th>int64</th><th>int64</th><th>int64</th><th>int64</th><th>int64</th><th>int64</th><th>int64</th><th>int64</th><th>int64</th><th>int64</th><th>int64</th><th>int64</th><th>int64</th><th>int64</th><th>int64</th><th>int64</th><th>int64</th><th>int64</th><th>int64</th><th>int64</th><th>int64</th><th>int64</th><th>int64</th><th>int64</th><th>int64</th><th>int64</th><th>int64</th><th>int64</th><th>int64</th><th>int64</th><th>float64</th><th>str21</th><th>str10</th><th>str1</th><th>str19</th></tr></thead>\n",
       "<tr><td>5500598169736d5162000000</td><td>40</td><td>1</td><td>15</td><td>1</td><td>0</td><td>1</td><td>1</td><td>0</td><td>1</td><td>1</td><td>0</td><td>1</td><td>1</td><td>0</td><td>0</td><td>1</td><td>0</td><td>25</td><td>2</td><td>23</td><td>1</td><td>0</td><td>0</td><td>0</td><td>0</td><td>1</td><td>0</td><td>0</td><td>24</td><td>21</td><td>3</td><td>0</td><td>0</td><td>0</td><td>0</td><td>0</td><td>0</td><td>0</td><td>0</td><td>0</td><td>0</td><td>0</td><td>0</td><td>0</td><td>0</td><td>0</td><td>0</td><td>40</td><td>3</td><td>37</td><td>0.6</td><td>cu1237648703522603390</td><td>AGZ0007tsa</td><td>u</td><td>1237648703522603390</td></tr>\n",
       "<tr><td>5500598169736d5162000100</td><td>40</td><td>9</td><td>11</td><td>9</td><td>2</td><td>7</td><td>7</td><td>0</td><td>7</td><td>7</td><td>0</td><td>7</td><td>7</td><td>0</td><td>5</td><td>2</td><td>0</td><td>29</td><td>3</td><td>26</td><td>5</td><td>1</td><td>1</td><td>0</td><td>0</td><td>1</td><td>0</td><td>2</td><td>20</td><td>18</td><td>2</td><td>0</td><td>2</td><td>0</td><td>1</td><td>1</td><td>0</td><td>0</td><td>0</td><td>0</td><td>0</td><td>0</td><td>0</td><td>0</td><td>0</td><td>0</td><td>0</td><td>40</td><td>0</td><td>40</td><td>0.5</td><td>cu1237658424092852272</td><td>AGZ0007tze</td><td>u</td><td>1237658424092852272</td></tr>\n",
       "<tr><td>5500598169736d5162000200</td><td>40</td><td>16</td><td>16</td><td>16</td><td>3</td><td>13</td><td>13</td><td>5</td><td>8</td><td>13</td><td>10</td><td>3</td><td>13</td><td>2</td><td>10</td><td>1</td><td>0</td><td>24</td><td>6</td><td>18</td><td>3</td><td>0</td><td>0</td><td>0</td><td>2</td><td>1</td><td>0</td><td>0</td><td>8</td><td>1</td><td>3</td><td>4</td><td>3</td><td>2</td><td>1</td><td>0</td><td>10</td><td>1</td><td>1</td><td>8</td><td>10</td><td>3</td><td>6</td><td>0</td><td>0</td><td>0</td><td>1</td><td>40</td><td>2</td><td>38</td><td>0.2</td><td>cu1237662301377593547</td><td>AGZ0007u6i</td><td>u</td><td>1237662301377593547</td></tr>\n",
       "<tr><td>5500598169736d5162000300</td><td>40</td><td>15</td><td>13</td><td>15</td><td>6</td><td>9</td><td>9</td><td>4</td><td>5</td><td>9</td><td>3</td><td>6</td><td>9</td><td>0</td><td>4</td><td>4</td><td>1</td><td>27</td><td>8</td><td>19</td><td>6</td><td>1</td><td>0</td><td>1</td><td>1</td><td>1</td><td>2</td><td>0</td><td>12</td><td>3</td><td>9</td><td>0</td><td>6</td><td>6</td><td>0</td><td>0</td><td>3</td><td>0</td><td>1</td><td>2</td><td>3</td><td>0</td><td>1</td><td>0</td><td>0</td><td>0</td><td>2</td><td>40</td><td>3</td><td>37</td><td>0.3</td><td>cu1237665566609375250</td><td>AGZ0007udm</td><td>u</td><td>1237665566609375250</td></tr>\n",
       "<tr><td>5500598169736d5162000400</td><td>40</td><td>33</td><td>4</td><td>33</td><td>4</td><td>29</td><td>29</td><td>11</td><td>18</td><td>29</td><td>27</td><td>2</td><td>29</td><td>1</td><td>12</td><td>13</td><td>3</td><td>36</td><td>15</td><td>21</td><td>13</td><td>8</td><td>1</td><td>1</td><td>2</td><td>1</td><td>0</td><td>0</td><td>3</td><td>2</td><td>1</td><td>0</td><td>4</td><td>3</td><td>0</td><td>1</td><td>27</td><td>18</td><td>9</td><td>0</td><td>27</td><td>0</td><td>6</td><td>6</td><td>2</td><td>4</td><td>9</td><td>40</td><td>2</td><td>38</td><td>0.075</td><td>cg1237651192435638433</td><td>AGZ0007ukq</td><td>g</td><td>1237651192435638433</td></tr>\n",
       "<tr><td>5500598169736d5162000500</td><td>41</td><td>35</td><td>6</td><td>35</td><td>6</td><td>29</td><td>29</td><td>13</td><td>16</td><td>29</td><td>26</td><td>3</td><td>29</td><td>2</td><td>15</td><td>10</td><td>2</td><td>35</td><td>22</td><td>13</td><td>23</td><td>1</td><td>0</td><td>1</td><td>1</td><td>9</td><td>11</td><td>0</td><td>0</td><td>0</td><td>0</td><td>0</td><td>6</td><td>4</td><td>0</td><td>2</td><td>26</td><td>2</td><td>15</td><td>9</td><td>26</td><td>1</td><td>24</td><td>0</td><td>0</td><td>0</td><td>1</td><td>41</td><td>9</td><td>32</td><td>0.0</td><td>cg1237658803107201032</td><td>AGZ0007uru</td><td>g</td><td>1237658803107201032</td></tr>\n",
       "<tr><td>5500598169736d5162010000</td><td>39</td><td>26</td><td>11</td><td>26</td><td>3</td><td>23</td><td>23</td><td>6</td><td>17</td><td>23</td><td>17</td><td>6</td><td>23</td><td>16</td><td>3</td><td>4</td><td>0</td><td>28</td><td>8</td><td>20</td><td>7</td><td>0</td><td>0</td><td>2</td><td>3</td><td>0</td><td>2</td><td>0</td><td>2</td><td>0</td><td>1</td><td>1</td><td>3</td><td>0</td><td>0</td><td>3</td><td>17</td><td>1</td><td>4</td><td>12</td><td>17</td><td>0</td><td>15</td><td>0</td><td>0</td><td>0</td><td>2</td><td>39</td><td>1</td><td>38</td><td>0.0512820512821</td><td>cu1237648704047284273</td><td>AGZ0007tsb</td><td>u</td><td>1237648704047284273</td></tr>\n",
       "<tr><td>5500598169736d5162010100</td><td>41</td><td>9</td><td>9</td><td>9</td><td>2</td><td>7</td><td>7</td><td>1</td><td>6</td><td>7</td><td>1</td><td>6</td><td>7</td><td>1</td><td>3</td><td>3</td><td>0</td><td>32</td><td>11</td><td>21</td><td>12</td><td>0</td><td>1</td><td>0</td><td>3</td><td>1</td><td>6</td><td>1</td><td>23</td><td>1</td><td>18</td><td>4</td><td>2</td><td>1</td><td>0</td><td>1</td><td>1</td><td>0</td><td>0</td><td>1</td><td>1</td><td>0</td><td>0</td><td>0</td><td>0</td><td>0</td><td>1</td><td>41</td><td>3</td><td>38</td><td>0.560975609756</td><td>cu1237658424095015122</td><td>AGZ0007tzf</td><td>u</td><td>1237658424095015122</td></tr>\n",
       "<tr><td>5500598169736d5162010200</td><td>40</td><td>15</td><td>4</td><td>15</td><td>0</td><td>15</td><td>15</td><td>1</td><td>14</td><td>15</td><td>2</td><td>13</td><td>15</td><td>0</td><td>1</td><td>11</td><td>3</td><td>36</td><td>8</td><td>28</td><td>8</td><td>7</td><td>0</td><td>0</td><td>0</td><td>0</td><td>0</td><td>1</td><td>21</td><td>14</td><td>7</td><td>0</td><td>0</td><td>0</td><td>0</td><td>0</td><td>2</td><td>1</td><td>1</td><td>0</td><td>2</td><td>0</td><td>0</td><td>0</td><td>0</td><td>0</td><td>2</td><td>40</td><td>2</td><td>38</td><td>0.525</td><td>cu1237662301909614624</td><td>AGZ0007u6j</td><td>u</td><td>1237662301909614624</td></tr>\n",
       "<tr><td>5500598169736d5162010300</td><td>40</td><td>26</td><td>9</td><td>26</td><td>17</td><td>9</td><td>9</td><td>2</td><td>7</td><td>9</td><td>4</td><td>5</td><td>9</td><td>1</td><td>4</td><td>3</td><td>1</td><td>31</td><td>5</td><td>26</td><td>3</td><td>1</td><td>1</td><td>0</td><td>0</td><td>1</td><td>0</td><td>0</td><td>5</td><td>0</td><td>0</td><td>5</td><td>17</td><td>14</td><td>1</td><td>2</td><td>4</td><td>0</td><td>0</td><td>4</td><td>4</td><td>0</td><td>3</td><td>0</td><td>0</td><td>0</td><td>1</td><td>40</td><td>1</td><td>39</td><td>0.125</td><td>cu1237665566611275964</td><td>AGZ0007udn</td><td>u</td><td>1237665566611275964</td></tr>\n",
       "<tr><td>...</td><td>...</td><td>...</td><td>...</td><td>...</td><td>...</td><td>...</td><td>...</td><td>...</td><td>...</td><td>...</td><td>...</td><td>...</td><td>...</td><td>...</td><td>...</td><td>...</td><td>...</td><td>...</td><td>...</td><td>...</td><td>...</td><td>...</td><td>...</td><td>...</td><td>...</td><td>...</td><td>...</td><td>...</td><td>...</td><td>...</td><td>...</td><td>...</td><td>...</td><td>...</td><td>...</td><td>...</td><td>...</td><td>...</td><td>...</td><td>...</td><td>...</td><td>...</td><td>...</td><td>...</td><td>...</td><td>...</td><td>...</td><td>...</td><td>...</td><td>...</td><td>...</td><td>...</td><td>...</td><td>...</td><td>...</td></tr>\n",
       "<tr><td>5500598369736d5162fd1100</td><td>40</td><td>21</td><td>4</td><td>21</td><td>5</td><td>16</td><td>16</td><td>12</td><td>4</td><td>16</td><td>4</td><td>12</td><td>16</td><td>0</td><td>3</td><td>3</td><td>10</td><td>36</td><td>7</td><td>29</td><td>3</td><td>1</td><td>0</td><td>0</td><td>0</td><td>1</td><td>0</td><td>1</td><td>15</td><td>2</td><td>13</td><td>0</td><td>5</td><td>4</td><td>1</td><td>0</td><td>4</td><td>1</td><td>2</td><td>1</td><td>4</td><td>0</td><td>2</td><td>0</td><td>0</td><td>0</td><td>2</td><td>40</td><td>2</td><td>38</td><td>0.375</td><td>cz1237664337181016127</td><td>AGZ0007xc7</td><td>z</td><td>1237664337181016127</td></tr>\n",
       "<tr><td>5500598369736d5162fd1200</td><td>40</td><td>35</td><td>3</td><td>35</td><td>9</td><td>26</td><td>26</td><td>23</td><td>3</td><td>26</td><td>24</td><td>2</td><td>26</td><td>1</td><td>2</td><td>15</td><td>8</td><td>37</td><td>12</td><td>25</td><td>11</td><td>0</td><td>0</td><td>1</td><td>3</td><td>5</td><td>2</td><td>0</td><td>2</td><td>0</td><td>1</td><td>1</td><td>9</td><td>6</td><td>3</td><td>0</td><td>24</td><td>3</td><td>10</td><td>11</td><td>24</td><td>4</td><td>20</td><td>0</td><td>0</td><td>0</td><td>0</td><td>40</td><td>5</td><td>35</td><td>0.05</td><td>cz1237667783350026437</td><td>AGZ0007xjb</td><td>z</td><td>1237667783350026437</td></tr>\n",
       "<tr><td>5500598369736d5162fe0f00</td><td>40</td><td>9</td><td>8</td><td>9</td><td>0</td><td>9</td><td>9</td><td>2</td><td>7</td><td>9</td><td>6</td><td>3</td><td>9</td><td>0</td><td>1</td><td>1</td><td>7</td><td>32</td><td>8</td><td>24</td><td>8</td><td>0</td><td>0</td><td>1</td><td>2</td><td>3</td><td>2</td><td>0</td><td>23</td><td>10</td><td>13</td><td>0</td><td>0</td><td>0</td><td>0</td><td>0</td><td>6</td><td>1</td><td>3</td><td>2</td><td>6</td><td>0</td><td>4</td><td>0</td><td>0</td><td>0</td><td>2</td><td>40</td><td>4</td><td>36</td><td>0.575</td><td>cz1237654881274036399</td><td>AGZ0007wy0</td><td>z</td><td>1237654881274036399</td></tr>\n",
       "<tr><td>5500598369736d5162fe1000</td><td>41</td><td>9</td><td>6</td><td>9</td><td>2</td><td>7</td><td>7</td><td>1</td><td>6</td><td>7</td><td>1</td><td>6</td><td>7</td><td>1</td><td>0</td><td>2</td><td>4</td><td>35</td><td>7</td><td>28</td><td>4</td><td>1</td><td>1</td><td>0</td><td>1</td><td>1</td><td>0</td><td>0</td><td>26</td><td>3</td><td>23</td><td>0</td><td>2</td><td>0</td><td>2</td><td>0</td><td>1</td><td>1</td><td>0</td><td>0</td><td>1</td><td>0</td><td>0</td><td>0</td><td>0</td><td>0</td><td>1</td><td>41</td><td>0</td><td>41</td><td>0.634146341463</td><td>cz1237661068174426238</td><td>AGZ0007x54</td><td>z</td><td>1237661068174426238</td></tr>\n",
       "<tr><td>5500598369736d5162fe1100</td><td>40</td><td>3</td><td>2</td><td>3</td><td>0</td><td>3</td><td>3</td><td>0</td><td>3</td><td>3</td><td>1</td><td>2</td><td>3</td><td>0</td><td>0</td><td>1</td><td>2</td><td>38</td><td>4</td><td>34</td><td>4</td><td>0</td><td>0</td><td>1</td><td>0</td><td>2</td><td>0</td><td>1</td><td>35</td><td>9</td><td>26</td><td>0</td><td>0</td><td>0</td><td>0</td><td>0</td><td>1</td><td>1</td><td>0</td><td>0</td><td>1</td><td>0</td><td>0</td><td>0</td><td>0</td><td>0</td><td>1</td><td>40</td><td>2</td><td>38</td><td>0.875</td><td>cz1237664337711005759</td><td>AGZ0007xc8</td><td>z</td><td>1237664337711005759</td></tr>\n",
       "<tr><td>5500598369736d5162fe1200</td><td>40</td><td>12</td><td>8</td><td>12</td><td>5</td><td>7</td><td>7</td><td>3</td><td>4</td><td>7</td><td>2</td><td>5</td><td>7</td><td>1</td><td>1</td><td>4</td><td>1</td><td>32</td><td>4</td><td>28</td><td>3</td><td>0</td><td>0</td><td>0</td><td>1</td><td>2</td><td>0</td><td>0</td><td>20</td><td>1</td><td>10</td><td>9</td><td>5</td><td>2</td><td>2</td><td>1</td><td>2</td><td>1</td><td>0</td><td>1</td><td>2</td><td>0</td><td>1</td><td>0</td><td>0</td><td>0</td><td>1</td><td>40</td><td>2</td><td>38</td><td>0.5</td><td>cz1237667783356448928</td><td>AGZ0007xjc</td><td>z</td><td>1237667783356448928</td></tr>\n",
       "<tr><td>5500598369736d5162ff0f00</td><td>40</td><td>17</td><td>11</td><td>17</td><td>0</td><td>17</td><td>17</td><td>1</td><td>16</td><td>17</td><td>5</td><td>12</td><td>17</td><td>0</td><td>1</td><td>6</td><td>10</td><td>29</td><td>18</td><td>11</td><td>20</td><td>13</td><td>1</td><td>0</td><td>3</td><td>2</td><td>0</td><td>1</td><td>12</td><td>6</td><td>6</td><td>0</td><td>0</td><td>0</td><td>0</td><td>0</td><td>5</td><td>4</td><td>0</td><td>1</td><td>5</td><td>0</td><td>1</td><td>0</td><td>0</td><td>1</td><td>3</td><td>40</td><td>1</td><td>39</td><td>0.3</td><td>cz1237654881798062100</td><td>AGZ0007wy1</td><td>z</td><td>1237654881798062100</td></tr>\n",
       "<tr><td>5500598369736d5162ff1000</td><td>41</td><td>15</td><td>5</td><td>15</td><td>4</td><td>11</td><td>11</td><td>3</td><td>8</td><td>11</td><td>6</td><td>5</td><td>11</td><td>6</td><td>0</td><td>2</td><td>3</td><td>36</td><td>18</td><td>18</td><td>21</td><td>0</td><td>1</td><td>4</td><td>4</td><td>2</td><td>9</td><td>1</td><td>21</td><td>1</td><td>11</td><td>9</td><td>4</td><td>0</td><td>2</td><td>2</td><td>6</td><td>1</td><td>1</td><td>4</td><td>6</td><td>1</td><td>2</td><td>0</td><td>0</td><td>0</td><td>3</td><td>41</td><td>6</td><td>35</td><td>0.512195121951</td><td>cz1237661068179406917</td><td>AGZ0007x55</td><td>z</td><td>1237661068179406917</td></tr>\n",
       "<tr><td>5500598369736d5162ff1100</td><td>41</td><td>23</td><td>6</td><td>23</td><td>3</td><td>20</td><td>20</td><td>7</td><td>13</td><td>20</td><td>16</td><td>4</td><td>20</td><td>1</td><td>3</td><td>5</td><td>11</td><td>35</td><td>15</td><td>20</td><td>17</td><td>0</td><td>0</td><td>0</td><td>3</td><td>6</td><td>7</td><td>1</td><td>12</td><td>7</td><td>3</td><td>2</td><td>3</td><td>1</td><td>1</td><td>1</td><td>16</td><td>4</td><td>6</td><td>6</td><td>16</td><td>4</td><td>9</td><td>0</td><td>0</td><td>0</td><td>3</td><td>41</td><td>5</td><td>36</td><td>0.292682926829</td><td>cz1237664337713496121</td><td>AGZ0007xc9</td><td>z</td><td>1237664337713496121</td></tr>\n",
       "<tr><td>5500598369736d5162ff1200</td><td>40</td><td>27</td><td>7</td><td>27</td><td>5</td><td>22</td><td>22</td><td>18</td><td>4</td><td>22</td><td>13</td><td>9</td><td>22</td><td>0</td><td>1</td><td>9</td><td>12</td><td>33</td><td>15</td><td>18</td><td>11</td><td>7</td><td>0</td><td>0</td><td>1</td><td>1</td><td>0</td><td>2</td><td>6</td><td>1</td><td>2</td><td>3</td><td>5</td><td>4</td><td>1</td><td>0</td><td>13</td><td>2</td><td>2</td><td>9</td><td>13</td><td>3</td><td>10</td><td>0</td><td>0</td><td>0</td><td>0</td><td>40</td><td>6</td><td>34</td><td>0.15</td><td>cz1237667783361626246</td><td>AGZ0007xjd</td><td>z</td><td>1237667783361626246</td></tr>\n",
       "</table>"
      ],
      "text/plain": [
       "<Table masked=True length=4975>\n",
       "       subject_id        features_total ... band        objid       \n",
       "         str24               int64      ... str1        str19       \n",
       "------------------------ -------------- ... ---- -------------------\n",
       "5500598169736d5162000000             40 ...    u 1237648703522603390\n",
       "5500598169736d5162000100             40 ...    u 1237658424092852272\n",
       "5500598169736d5162000200             40 ...    u 1237662301377593547\n",
       "5500598169736d5162000300             40 ...    u 1237665566609375250\n",
       "5500598169736d5162000400             40 ...    g 1237651192435638433\n",
       "5500598169736d5162000500             41 ...    g 1237658803107201032\n",
       "5500598169736d5162010000             39 ...    u 1237648704047284273\n",
       "5500598169736d5162010100             41 ...    u 1237658424095015122\n",
       "5500598169736d5162010200             40 ...    u 1237662301909614624\n",
       "5500598169736d5162010300             40 ...    u 1237665566611275964\n",
       "                     ...            ... ...  ...                 ...\n",
       "5500598369736d5162fd1100             40 ...    z 1237664337181016127\n",
       "5500598369736d5162fd1200             40 ...    z 1237667783350026437\n",
       "5500598369736d5162fe0f00             40 ...    z 1237654881274036399\n",
       "5500598369736d5162fe1000             41 ...    z 1237661068174426238\n",
       "5500598369736d5162fe1100             40 ...    z 1237664337711005759\n",
       "5500598369736d5162fe1200             40 ...    z 1237667783356448928\n",
       "5500598369736d5162ff0f00             40 ...    z 1237654881798062100\n",
       "5500598369736d5162ff1000             41 ...    z 1237661068179406917\n",
       "5500598369736d5162ff1100             41 ...    z 1237664337713496121\n",
       "5500598369736d5162ff1200             40 ...    z 1237667783361626246"
      ]
     },
     "execution_count": 7,
     "metadata": {},
     "output_type": "execute_result"
    }
   ],
   "source": [
    "outdata"
   ]
  },
  {
   "cell_type": "code",
   "execution_count": 8,
   "metadata": {
    "collapsed": true
   },
   "outputs": [],
   "source": [
    "outdata.write('galaxy_zoo_{}_{}.fits'.format(subjectset, date), overwrite=True)"
   ]
  }
 ],
 "metadata": {
  "_draft": {
   "nbviewer_url": "https://gist.github.com/df1c052dd0ed94d9ec2dc1e98d060366"
  },
  "gist": {
   "data": {
    "description": "First look at GAMA GZ data",
    "public": false
   },
   "id": "df1c052dd0ed94d9ec2dc1e98d060366"
  },
  "hide_input": false,
  "kernelspec": {
   "display_name": "Python [default]",
   "language": "python",
   "name": "python3"
  },
  "language_info": {
   "codemirror_mode": {
    "name": "ipython",
    "version": 3
   },
   "file_extension": ".py",
   "mimetype": "text/x-python",
   "name": "python",
   "nbconvert_exporter": "python",
   "pygments_lexer": "ipython3",
   "version": "3.6.1"
  },
  "latex_envs": {
   "LaTeX_envs_menu_present": true,
   "autocomplete": true,
   "bibliofile": "biblio.bib",
   "cite_by": "apalike",
   "current_citInitial": 1,
   "eqLabelWithNumbers": true,
   "eqNumInitial": 1,
   "hotkeys": {
    "equation": "Ctrl-E",
    "itemize": "Ctrl-I"
   },
   "labels_anchors": false,
   "latex_user_defs": false,
   "report_style_numbering": false,
   "user_envs_cfg": false
  }
 },
 "nbformat": 4,
 "nbformat_minor": 1
}
