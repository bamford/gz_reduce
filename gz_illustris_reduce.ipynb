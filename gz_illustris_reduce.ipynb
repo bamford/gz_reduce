{
 "cells": [
  {
   "cell_type": "code",
   "execution_count": 1,
   "metadata": {
    "collapsed": false
   },
   "outputs": [],
   "source": [
    "from gz_reduce import reduce_data"
   ]
  },
  {
   "cell_type": "markdown",
   "metadata": {},
   "source": [
    "### Get the data"
   ]
  },
  {
   "cell_type": "code",
   "execution_count": 2,
   "metadata": {
    "collapsed": false
   },
   "outputs": [
    {
     "name": "stderr",
     "output_type": "stream",
     "text": [
      "  % Total    % Received % Xferd  Average Speed   Time    Time     Time  Current\n",
      "                                 Dload  Upload   Total   Spent    Left  Speed\n",
      "\r",
      "  0     0    0     0    0     0      0      0 --:--:-- --:--:-- --:--:--     0\r",
      "100  7714  100  7714    0     0  32217      0 --:--:-- --:--:-- --:--:-- 36215\n"
     ]
    }
   ],
   "source": [
    "%%bash\n",
    "# get the gama tree definition\n",
    "curl -O https://raw.githubusercontent.com/zooniverse/Galaxy-Zoo/master/app/lib/illustris_tree.coffee"
   ]
  },
  {
   "cell_type": "code",
   "execution_count": 3,
   "metadata": {
    "collapsed": false
   },
   "outputs": [
    {
     "name": "stderr",
     "output_type": "stream",
     "text": [
      "  % Total    % Received % Xferd  Average Speed   Time    Time     Time  Current\n",
      "                                 Dload  Upload   Total   Spent    Left  Speed\n",
      "\r",
      "  0     0    0     0    0     0      0      0 --:--:-- --:--:-- --:--:--     0\r",
      "  0     0    0     0    0     0      0      0 --:--:-- --:--:-- --:--:--     0\r",
      "  1 20.3M    1  356k    0     0   315k      0  0:01:06  0:00:01  0:01:05  316k\r",
      " 22 20.3M   22 4708k    0     0  2277k      0  0:00:09  0:00:02  0:00:07 2282k\r",
      " 47 20.3M   47 9927k    0     0  3222k      0  0:00:06  0:00:03  0:00:03 3226k\r",
      " 72 20.3M   72 14.8M    0     0  3736k      0  0:00:05  0:00:04  0:00:01 3739k\r",
      " 97 20.3M   97 19.8M    0     0  4011k      0  0:00:05  0:00:05 --:--:-- 4082k\r",
      "100 20.3M  100 20.3M    0     0  4039k      0  0:00:05  0:00:05 --:--:-- 5084k\n"
     ]
    }
   ],
   "source": [
    "%%bash\n",
    "# get the database dump\n",
    "url=\"\"\n",
    "curl $url | tar xz"
   ]
  },
  {
   "cell_type": "markdown",
   "metadata": {},
   "source": [
    "### Run the reduction"
   ]
  },
  {
   "cell_type": "code",
   "execution_count": 5,
   "metadata": {
    "collapsed": false,
    "scrolled": true
   },
   "outputs": [],
   "source": [
    "date='2017-06-18'\n",
    "outdata = reduce_data(date, tree='illustris', subjectset='illustris')"
   ]
  },
  {
   "cell_type": "code",
   "execution_count": 7,
   "metadata": {
    "collapsed": true
   },
   "outputs": [],
   "source": [
    "outdata.write('{}_galaxy_zoo_illustris.fits'.format(date), overwrite=True)"
   ]
  },
  {
   "cell_type": "code",
   "execution_count": 8,
   "metadata": {
    "collapsed": false,
    "scrolled": false
   },
   "outputs": [
    {
     "data": {
      "text/html": [
       "&lt;Table masked=True length=63640&gt;\n",
       "<table id=\"table8239543632\" class=\"table-striped table-bordered table-condensed\">\n",
       "<thead><tr><th>subject_id</th><th>shape_total</th><th>shape_smooth</th><th>shape_features_or_disk</th><th>shape_star_or_artifact</th><th>disk_total</th><th>disk_yes</th><th>disk_no</th><th>bar_total</th><th>bar_bar</th><th>bar_no_bar</th><th>spiral_a_total</th><th>spiral_a_spiral</th><th>spiral_a_no_spiral</th><th>bulge_a_total</th><th>bulge_a_no_bulge</th><th>bulge_a_just_noticeable</th><th>bulge_a_obvious</th><th>bulge_a_dominant</th><th>odd_a_total</th><th>odd_a_ring</th><th>odd_a_lens_or_arc</th><th>odd_a_disturbed</th><th>odd_a_irregular</th><th>odd_a_other</th><th>odd_a_merger</th><th>odd_a_dust_lane</th><th>round_total</th><th>round_completely_round</th><th>round_in_between</th><th>round_cigar_shaped</th><th>bulge_b_total</th><th>bulge_b_rounded</th><th>bulge_b_boxy</th><th>bulge_b_no_bulge</th><th>spiral_b_total</th><th>spiral_b_tight</th><th>spiral_b_medium</th><th>spiral_b_loose</th><th>spiral_c_total</th><th>spiral_c_1</th><th>spiral_c_2</th><th>spiral_c_3</th><th>spiral_c_4</th><th>spiral_c_more_than_4</th><th>spiral_c_&quot;cant_tell&quot;</th><th>odd_b_total</th><th>odd_b_yes</th><th>odd_b_no</th><th>discuss_total</th><th>discuss_yes</th><th>discuss_no</th><th>odd_total</th><th>shape_smooth_frac</th><th>shape_features_or_disk_frac</th><th>shape_star_or_artifact_frac</th><th>disk_yes_frac</th><th>disk_no_frac</th><th>bar_bar_frac</th><th>bar_no_bar_frac</th><th>spiral_a_spiral_frac</th><th>spiral_a_no_spiral_frac</th><th>bulge_a_no_bulge_frac</th><th>bulge_a_just_noticeable_frac</th><th>bulge_a_obvious_frac</th><th>bulge_a_dominant_frac</th><th>odd_a_ring_frac</th><th>odd_a_lens_or_arc_frac</th><th>odd_a_disturbed_frac</th><th>odd_a_irregular_frac</th><th>odd_a_other_frac</th><th>odd_a_merger_frac</th><th>odd_a_dust_lane_frac</th><th>round_completely_round_frac</th><th>round_in_between_frac</th><th>round_cigar_shaped_frac</th><th>bulge_b_rounded_frac</th><th>bulge_b_boxy_frac</th><th>bulge_b_no_bulge_frac</th><th>spiral_b_tight_frac</th><th>spiral_b_medium_frac</th><th>spiral_b_loose_frac</th><th>spiral_c_1_frac</th><th>spiral_c_2_frac</th><th>spiral_c_3_frac</th><th>spiral_c_4_frac</th><th>spiral_c_more_than_4_frac</th><th>spiral_c_&quot;cant_tell&quot;_frac</th><th>odd_b_yes_frac</th><th>odd_b_no_frac</th><th>discuss_yes_frac</th><th>discuss_no_frac</th><th>survey_id</th><th>zooniverse_id</th></tr></thead>\n",
       "<thead><tr><th>str24</th><th>int64</th><th>int64</th><th>int64</th><th>int64</th><th>int64</th><th>int64</th><th>int64</th><th>int64</th><th>int64</th><th>int64</th><th>int64</th><th>int64</th><th>int64</th><th>int64</th><th>int64</th><th>int64</th><th>int64</th><th>int64</th><th>int64</th><th>int64</th><th>int64</th><th>int64</th><th>int64</th><th>int64</th><th>int64</th><th>int64</th><th>int64</th><th>int64</th><th>int64</th><th>int64</th><th>int64</th><th>int64</th><th>int64</th><th>int64</th><th>int64</th><th>int64</th><th>int64</th><th>int64</th><th>int64</th><th>int64</th><th>int64</th><th>int64</th><th>int64</th><th>int64</th><th>int64</th><th>int64</th><th>int64</th><th>int64</th><th>int64</th><th>int64</th><th>int64</th><th>int64</th><th>float64</th><th>float64</th><th>float64</th><th>float64</th><th>float64</th><th>float64</th><th>float64</th><th>float64</th><th>float64</th><th>float64</th><th>float64</th><th>float64</th><th>float64</th><th>float64</th><th>float64</th><th>float64</th><th>float64</th><th>float64</th><th>float64</th><th>float64</th><th>float64</th><th>float64</th><th>float64</th><th>float64</th><th>float64</th><th>float64</th><th>float64</th><th>float64</th><th>float64</th><th>float64</th><th>float64</th><th>float64</th><th>float64</th><th>float64</th><th>float64</th><th>float64</th><th>float64</th><th>float64</th><th>float64</th><th>str36</th><th>str10</th></tr></thead>\n",
       "<tr><td>55a818227a72617753000000</td><td>40</td><td>23</td><td>9</td><td>8</td><td>9</td><td>6</td><td>3</td><td>3</td><td>3</td><td>0</td><td>3</td><td>0</td><td>3</td><td>3</td><td>0</td><td>0</td><td>2</td><td>1</td><td>6</td><td>0</td><td>1</td><td>1</td><td>1</td><td>3</td><td>0</td><td>0</td><td>23</td><td>0</td><td>6</td><td>17</td><td>6</td><td>0</td><td>1</td><td>5</td><td>0</td><td>0</td><td>0</td><td>0</td><td>0</td><td>0</td><td>0</td><td>0</td><td>0</td><td>0</td><td>0</td><td>32</td><td>9</td><td>23</td><td>40</td><td>1</td><td>39</td><td>32</td><td>0.575</td><td>0.225</td><td>0.2</td><td>0.666666666667</td><td>0.333333333333</td><td>1.0</td><td>0.0</td><td>0.0</td><td>1.0</td><td>0.0</td><td>0.0</td><td>0.666666666667</td><td>0.333333333333</td><td>0.0</td><td>0.166666666667</td><td>0.166666666667</td><td>0.166666666667</td><td>0.5</td><td>0.0</td><td>0.0</td><td>0.0</td><td>0.260869565217</td><td>0.739130434783</td><td>0.0</td><td>0.166666666667</td><td>0.833333333333</td><td>--</td><td>--</td><td>--</td><td>--</td><td>--</td><td>--</td><td>--</td><td>--</td><td>--</td><td>0.28125</td><td>0.71875</td><td>0.025</td><td>0.975</td><td>synthetic_image_25_camera_0_bg_0</td><td>AGZ0008863</td></tr>\n",
       "<tr><td>55a818227a72617753000001</td><td>40</td><td>26</td><td>9</td><td>5</td><td>9</td><td>0</td><td>9</td><td>9</td><td>0</td><td>9</td><td>9</td><td>2</td><td>7</td><td>9</td><td>5</td><td>3</td><td>1</td><td>0</td><td>15</td><td>0</td><td>0</td><td>1</td><td>5</td><td>8</td><td>1</td><td>0</td><td>26</td><td>1</td><td>24</td><td>1</td><td>0</td><td>0</td><td>0</td><td>0</td><td>2</td><td>1</td><td>1</td><td>0</td><td>2</td><td>0</td><td>0</td><td>0</td><td>0</td><td>0</td><td>2</td><td>35</td><td>13</td><td>22</td><td>40</td><td>3</td><td>37</td><td>35</td><td>0.65</td><td>0.225</td><td>0.125</td><td>0.0</td><td>1.0</td><td>0.0</td><td>1.0</td><td>0.222222222222</td><td>0.777777777778</td><td>0.555555555556</td><td>0.333333333333</td><td>0.111111111111</td><td>0.0</td><td>0.0</td><td>0.0</td><td>0.0666666666667</td><td>0.333333333333</td><td>0.533333333333</td><td>0.0666666666667</td><td>0.0</td><td>0.0384615384615</td><td>0.923076923077</td><td>0.0384615384615</td><td>--</td><td>--</td><td>--</td><td>0.5</td><td>0.5</td><td>0.0</td><td>0.0</td><td>0.0</td><td>0.0</td><td>0.0</td><td>0.0</td><td>1.0</td><td>0.371428571429</td><td>0.628571428571</td><td>0.075</td><td>0.925</td><td>synthetic_image_26_camera_0_bg_0</td><td>AGZ0008864</td></tr>\n",
       "<tr><td>55a818227a72617753000002</td><td>40</td><td>24</td><td>10</td><td>6</td><td>10</td><td>5</td><td>5</td><td>5</td><td>2</td><td>3</td><td>5</td><td>1</td><td>4</td><td>5</td><td>4</td><td>0</td><td>1</td><td>0</td><td>10</td><td>0</td><td>1</td><td>1</td><td>3</td><td>3</td><td>2</td><td>0</td><td>24</td><td>1</td><td>10</td><td>13</td><td>5</td><td>1</td><td>1</td><td>3</td><td>1</td><td>1</td><td>0</td><td>0</td><td>1</td><td>0</td><td>0</td><td>0</td><td>0</td><td>0</td><td>1</td><td>34</td><td>8</td><td>26</td><td>40</td><td>1</td><td>39</td><td>34</td><td>0.6</td><td>0.25</td><td>0.15</td><td>0.5</td><td>0.5</td><td>0.4</td><td>0.6</td><td>0.2</td><td>0.8</td><td>0.8</td><td>0.0</td><td>0.2</td><td>0.0</td><td>0.0</td><td>0.1</td><td>0.1</td><td>0.3</td><td>0.3</td><td>0.2</td><td>0.0</td><td>0.0416666666667</td><td>0.416666666667</td><td>0.541666666667</td><td>0.2</td><td>0.2</td><td>0.6</td><td>1.0</td><td>0.0</td><td>0.0</td><td>0.0</td><td>0.0</td><td>0.0</td><td>0.0</td><td>0.0</td><td>1.0</td><td>0.235294117647</td><td>0.764705882353</td><td>0.025</td><td>0.975</td><td>synthetic_image_27_camera_0_bg_0</td><td>AGZ0008865</td></tr>\n",
       "<tr><td>55a818227a72617753000003</td><td>40</td><td>13</td><td>21</td><td>6</td><td>21</td><td>0</td><td>21</td><td>21</td><td>2</td><td>19</td><td>21</td><td>1</td><td>20</td><td>21</td><td>10</td><td>9</td><td>1</td><td>1</td><td>28</td><td>2</td><td>0</td><td>3</td><td>12</td><td>9</td><td>2</td><td>0</td><td>13</td><td>8</td><td>5</td><td>0</td><td>0</td><td>0</td><td>0</td><td>0</td><td>1</td><td>0</td><td>1</td><td>0</td><td>1</td><td>0</td><td>0</td><td>0</td><td>0</td><td>0</td><td>1</td><td>34</td><td>21</td><td>13</td><td>40</td><td>3</td><td>37</td><td>34</td><td>0.325</td><td>0.525</td><td>0.15</td><td>0.0</td><td>1.0</td><td>0.0952380952381</td><td>0.904761904762</td><td>0.047619047619</td><td>0.952380952381</td><td>0.47619047619</td><td>0.428571428571</td><td>0.047619047619</td><td>0.047619047619</td><td>0.0714285714286</td><td>0.0</td><td>0.107142857143</td><td>0.428571428571</td><td>0.321428571429</td><td>0.0714285714286</td><td>0.0</td><td>0.615384615385</td><td>0.384615384615</td><td>0.0</td><td>--</td><td>--</td><td>--</td><td>0.0</td><td>1.0</td><td>0.0</td><td>0.0</td><td>0.0</td><td>0.0</td><td>0.0</td><td>0.0</td><td>1.0</td><td>0.617647058824</td><td>0.382352941176</td><td>0.075</td><td>0.925</td><td>synthetic_image_28_camera_0_bg_0</td><td>AGZ0008866</td></tr>\n",
       "<tr><td>55a818227a72617753000004</td><td>40</td><td>28</td><td>8</td><td>4</td><td>8</td><td>1</td><td>7</td><td>7</td><td>3</td><td>4</td><td>7</td><td>1</td><td>6</td><td>7</td><td>0</td><td>0</td><td>5</td><td>2</td><td>6</td><td>0</td><td>0</td><td>2</td><td>0</td><td>4</td><td>0</td><td>0</td><td>28</td><td>18</td><td>10</td><td>0</td><td>1</td><td>0</td><td>1</td><td>0</td><td>1</td><td>0</td><td>1</td><td>0</td><td>1</td><td>0</td><td>0</td><td>0</td><td>0</td><td>0</td><td>1</td><td>36</td><td>9</td><td>27</td><td>40</td><td>0</td><td>40</td><td>36</td><td>0.7</td><td>0.2</td><td>0.1</td><td>0.125</td><td>0.875</td><td>0.428571428571</td><td>0.571428571429</td><td>0.142857142857</td><td>0.857142857143</td><td>0.0</td><td>0.0</td><td>0.714285714286</td><td>0.285714285714</td><td>0.0</td><td>0.0</td><td>0.333333333333</td><td>0.0</td><td>0.666666666667</td><td>0.0</td><td>0.0</td><td>0.642857142857</td><td>0.357142857143</td><td>0.0</td><td>0.0</td><td>1.0</td><td>0.0</td><td>0.0</td><td>1.0</td><td>0.0</td><td>0.0</td><td>0.0</td><td>0.0</td><td>0.0</td><td>0.0</td><td>1.0</td><td>0.25</td><td>0.75</td><td>0.0</td><td>1.0</td><td>synthetic_image_29_camera_0_bg_0</td><td>AGZ0008867</td></tr>\n",
       "<tr><td>55a818227a72617753000005</td><td>40</td><td>14</td><td>20</td><td>6</td><td>20</td><td>6</td><td>14</td><td>14</td><td>2</td><td>12</td><td>14</td><td>0</td><td>14</td><td>14</td><td>6</td><td>6</td><td>2</td><td>0</td><td>27</td><td>1</td><td>0</td><td>4</td><td>11</td><td>7</td><td>3</td><td>1</td><td>14</td><td>5</td><td>9</td><td>0</td><td>6</td><td>3</td><td>2</td><td>1</td><td>0</td><td>0</td><td>0</td><td>0</td><td>0</td><td>0</td><td>0</td><td>0</td><td>0</td><td>0</td><td>0</td><td>34</td><td>19</td><td>15</td><td>40</td><td>0</td><td>40</td><td>34</td><td>0.35</td><td>0.5</td><td>0.15</td><td>0.3</td><td>0.7</td><td>0.142857142857</td><td>0.857142857143</td><td>0.0</td><td>1.0</td><td>0.428571428571</td><td>0.428571428571</td><td>0.142857142857</td><td>0.0</td><td>0.037037037037</td><td>0.0</td><td>0.148148148148</td><td>0.407407407407</td><td>0.259259259259</td><td>0.111111111111</td><td>0.037037037037</td><td>0.357142857143</td><td>0.642857142857</td><td>0.0</td><td>0.5</td><td>0.333333333333</td><td>0.166666666667</td><td>--</td><td>--</td><td>--</td><td>--</td><td>--</td><td>--</td><td>--</td><td>--</td><td>--</td><td>0.558823529412</td><td>0.441176470588</td><td>0.0</td><td>1.0</td><td>synthetic_image_40_camera_0_bg_0</td><td>AGZ0008868</td></tr>\n",
       "<tr><td>55a818227a72617753000006</td><td>40</td><td>32</td><td>3</td><td>5</td><td>3</td><td>0</td><td>3</td><td>3</td><td>0</td><td>3</td><td>3</td><td>0</td><td>3</td><td>3</td><td>1</td><td>1</td><td>1</td><td>0</td><td>5</td><td>0</td><td>0</td><td>1</td><td>0</td><td>3</td><td>0</td><td>1</td><td>32</td><td>6</td><td>25</td><td>1</td><td>0</td><td>0</td><td>0</td><td>0</td><td>0</td><td>0</td><td>0</td><td>0</td><td>0</td><td>0</td><td>0</td><td>0</td><td>0</td><td>0</td><td>0</td><td>35</td><td>5</td><td>30</td><td>40</td><td>3</td><td>37</td><td>35</td><td>0.8</td><td>0.075</td><td>0.125</td><td>0.0</td><td>1.0</td><td>0.0</td><td>1.0</td><td>0.0</td><td>1.0</td><td>0.333333333333</td><td>0.333333333333</td><td>0.333333333333</td><td>0.0</td><td>0.0</td><td>0.0</td><td>0.2</td><td>0.0</td><td>0.6</td><td>0.0</td><td>0.2</td><td>0.1875</td><td>0.78125</td><td>0.03125</td><td>--</td><td>--</td><td>--</td><td>--</td><td>--</td><td>--</td><td>--</td><td>--</td><td>--</td><td>--</td><td>--</td><td>--</td><td>0.142857142857</td><td>0.857142857143</td><td>0.075</td><td>0.925</td><td>synthetic_image_45_camera_0_bg_0</td><td>AGZ0008869</td></tr>\n",
       "<tr><td>55a818227a72617753000007</td><td>40</td><td>19</td><td>15</td><td>6</td><td>15</td><td>0</td><td>15</td><td>15</td><td>0</td><td>15</td><td>15</td><td>2</td><td>13</td><td>15</td><td>12</td><td>2</td><td>0</td><td>1</td><td>31</td><td>1</td><td>2</td><td>6</td><td>7</td><td>10</td><td>4</td><td>1</td><td>19</td><td>10</td><td>8</td><td>1</td><td>0</td><td>0</td><td>0</td><td>0</td><td>2</td><td>2</td><td>0</td><td>0</td><td>2</td><td>0</td><td>0</td><td>0</td><td>0</td><td>0</td><td>2</td><td>34</td><td>23</td><td>11</td><td>40</td><td>2</td><td>38</td><td>34</td><td>0.475</td><td>0.375</td><td>0.15</td><td>0.0</td><td>1.0</td><td>0.0</td><td>1.0</td><td>0.133333333333</td><td>0.866666666667</td><td>0.8</td><td>0.133333333333</td><td>0.0</td><td>0.0666666666667</td><td>0.0322580645161</td><td>0.0645161290323</td><td>0.193548387097</td><td>0.225806451613</td><td>0.322580645161</td><td>0.129032258065</td><td>0.0322580645161</td><td>0.526315789474</td><td>0.421052631579</td><td>0.0526315789474</td><td>--</td><td>--</td><td>--</td><td>1.0</td><td>0.0</td><td>0.0</td><td>0.0</td><td>0.0</td><td>0.0</td><td>0.0</td><td>0.0</td><td>1.0</td><td>0.676470588235</td><td>0.323529411765</td><td>0.05</td><td>0.95</td><td>synthetic_image_46_camera_0_bg_0</td><td>AGZ000886a</td></tr>\n",
       "<tr><td>55a818227a72617753000008</td><td>40</td><td>21</td><td>15</td><td>4</td><td>15</td><td>4</td><td>11</td><td>11</td><td>1</td><td>10</td><td>11</td><td>1</td><td>10</td><td>11</td><td>11</td><td>0</td><td>0</td><td>0</td><td>29</td><td>1</td><td>1</td><td>6</td><td>10</td><td>5</td><td>5</td><td>1</td><td>21</td><td>0</td><td>14</td><td>7</td><td>4</td><td>0</td><td>1</td><td>3</td><td>1</td><td>1</td><td>0</td><td>0</td><td>1</td><td>0</td><td>0</td><td>0</td><td>0</td><td>0</td><td>1</td><td>36</td><td>21</td><td>15</td><td>40</td><td>2</td><td>38</td><td>36</td><td>0.525</td><td>0.375</td><td>0.1</td><td>0.266666666667</td><td>0.733333333333</td><td>0.0909090909091</td><td>0.909090909091</td><td>0.0909090909091</td><td>0.909090909091</td><td>1.0</td><td>0.0</td><td>0.0</td><td>0.0</td><td>0.0344827586207</td><td>0.0344827586207</td><td>0.206896551724</td><td>0.344827586207</td><td>0.172413793103</td><td>0.172413793103</td><td>0.0344827586207</td><td>0.0</td><td>0.666666666667</td><td>0.333333333333</td><td>0.0</td><td>0.25</td><td>0.75</td><td>1.0</td><td>0.0</td><td>0.0</td><td>0.0</td><td>0.0</td><td>0.0</td><td>0.0</td><td>0.0</td><td>1.0</td><td>0.583333333333</td><td>0.416666666667</td><td>0.05</td><td>0.95</td><td>synthetic_image_47_camera_0_bg_0</td><td>AGZ000886b</td></tr>\n",
       "<tr><td>55a818227a72617753000009</td><td>41</td><td>27</td><td>9</td><td>5</td><td>9</td><td>4</td><td>5</td><td>5</td><td>5</td><td>0</td><td>5</td><td>0</td><td>5</td><td>5</td><td>0</td><td>0</td><td>4</td><td>1</td><td>4</td><td>0</td><td>0</td><td>0</td><td>1</td><td>2</td><td>1</td><td>0</td><td>27</td><td>3</td><td>20</td><td>4</td><td>4</td><td>0</td><td>4</td><td>0</td><td>0</td><td>0</td><td>0</td><td>0</td><td>0</td><td>0</td><td>0</td><td>0</td><td>0</td><td>0</td><td>0</td><td>36</td><td>5</td><td>31</td><td>41</td><td>2</td><td>39</td><td>36</td><td>0.658536585366</td><td>0.219512195122</td><td>0.121951219512</td><td>0.444444444444</td><td>0.555555555556</td><td>1.0</td><td>0.0</td><td>0.0</td><td>1.0</td><td>0.0</td><td>0.0</td><td>0.8</td><td>0.2</td><td>0.0</td><td>0.0</td><td>0.0</td><td>0.25</td><td>0.5</td><td>0.25</td><td>0.0</td><td>0.111111111111</td><td>0.740740740741</td><td>0.148148148148</td><td>0.0</td><td>1.0</td><td>0.0</td><td>--</td><td>--</td><td>--</td><td>--</td><td>--</td><td>--</td><td>--</td><td>--</td><td>--</td><td>0.138888888889</td><td>0.861111111111</td><td>0.0487804878049</td><td>0.951219512195</td><td>synthetic_image_48_camera_0_bg_0</td><td>AGZ000886c</td></tr>\n",
       "<tr><td>...</td><td>...</td><td>...</td><td>...</td><td>...</td><td>...</td><td>...</td><td>...</td><td>...</td><td>...</td><td>...</td><td>...</td><td>...</td><td>...</td><td>...</td><td>...</td><td>...</td><td>...</td><td>...</td><td>...</td><td>...</td><td>...</td><td>...</td><td>...</td><td>...</td><td>...</td><td>...</td><td>...</td><td>...</td><td>...</td><td>...</td><td>...</td><td>...</td><td>...</td><td>...</td><td>...</td><td>...</td><td>...</td><td>...</td><td>...</td><td>...</td><td>...</td><td>...</td><td>...</td><td>...</td><td>...</td><td>...</td><td>...</td><td>...</td><td>...</td><td>...</td><td>...</td><td>...</td><td>...</td><td>...</td><td>...</td><td>...</td><td>...</td><td>...</td><td>...</td><td>...</td><td>...</td><td>...</td><td>...</td><td>...</td><td>...</td><td>...</td><td>...</td><td>...</td><td>...</td><td>...</td><td>...</td><td>...</td><td>...</td><td>...</td><td>...</td><td>...</td><td>...</td><td>...</td><td>...</td><td>...</td><td>...</td><td>...</td><td>...</td><td>...</td><td>...</td><td>...</td><td>...</td><td>...</td><td>...</td><td>...</td><td>...</td><td>...</td><td>...</td></tr>\n",
       "<tr><td>55a818577a7261775301a125</td><td>40</td><td>25</td><td>10</td><td>5</td><td>10</td><td>0</td><td>10</td><td>10</td><td>0</td><td>10</td><td>10</td><td>2</td><td>8</td><td>10</td><td>9</td><td>1</td><td>0</td><td>0</td><td>17</td><td>0</td><td>0</td><td>2</td><td>5</td><td>9</td><td>1</td><td>0</td><td>25</td><td>9</td><td>16</td><td>0</td><td>0</td><td>0</td><td>0</td><td>0</td><td>2</td><td>1</td><td>1</td><td>0</td><td>2</td><td>0</td><td>0</td><td>1</td><td>0</td><td>0</td><td>1</td><td>35</td><td>15</td><td>20</td><td>40</td><td>2</td><td>38</td><td>35</td><td>0.625</td><td>0.25</td><td>0.125</td><td>0.0</td><td>1.0</td><td>0.0</td><td>1.0</td><td>0.2</td><td>0.8</td><td>0.9</td><td>0.1</td><td>0.0</td><td>0.0</td><td>0.0</td><td>0.0</td><td>0.117647058824</td><td>0.294117647059</td><td>0.529411764706</td><td>0.0588235294118</td><td>0.0</td><td>0.36</td><td>0.64</td><td>0.0</td><td>--</td><td>--</td><td>--</td><td>0.5</td><td>0.5</td><td>0.0</td><td>0.0</td><td>0.0</td><td>0.5</td><td>0.0</td><td>0.0</td><td>0.5</td><td>0.428571428571</td><td>0.571428571429</td><td>0.05</td><td>0.95</td><td>synthetic_image_410699_camera_3_bg_3</td><td>AGZ000aikg</td></tr>\n",
       "<tr><td>55a818577a7261775301a182</td><td>40</td><td>20</td><td>7</td><td>13</td><td>7</td><td>3</td><td>4</td><td>4</td><td>0</td><td>4</td><td>4</td><td>0</td><td>4</td><td>4</td><td>2</td><td>1</td><td>1</td><td>0</td><td>5</td><td>0</td><td>0</td><td>1</td><td>0</td><td>3</td><td>1</td><td>0</td><td>20</td><td>0</td><td>17</td><td>3</td><td>3</td><td>2</td><td>1</td><td>0</td><td>0</td><td>0</td><td>0</td><td>0</td><td>0</td><td>0</td><td>0</td><td>0</td><td>0</td><td>0</td><td>0</td><td>27</td><td>6</td><td>21</td><td>40</td><td>0</td><td>40</td><td>27</td><td>0.5</td><td>0.175</td><td>0.325</td><td>0.428571428571</td><td>0.571428571429</td><td>0.0</td><td>1.0</td><td>0.0</td><td>1.0</td><td>0.5</td><td>0.25</td><td>0.25</td><td>0.0</td><td>0.0</td><td>0.0</td><td>0.2</td><td>0.0</td><td>0.6</td><td>0.2</td><td>0.0</td><td>0.0</td><td>0.85</td><td>0.15</td><td>0.666666666667</td><td>0.333333333333</td><td>0.0</td><td>--</td><td>--</td><td>--</td><td>--</td><td>--</td><td>--</td><td>--</td><td>--</td><td>--</td><td>0.222222222222</td><td>0.777777777778</td><td>0.0</td><td>1.0</td><td>synthetic_image_418562_camera_3_bg_3</td><td>AGZ000ain1</td></tr>\n",
       "<tr><td>55a818587a7261775301a21a</td><td>41</td><td>29</td><td>2</td><td>10</td><td>2</td><td>0</td><td>2</td><td>2</td><td>0</td><td>2</td><td>2</td><td>0</td><td>2</td><td>2</td><td>0</td><td>1</td><td>1</td><td>0</td><td>2</td><td>0</td><td>0</td><td>1</td><td>1</td><td>0</td><td>0</td><td>0</td><td>29</td><td>28</td><td>1</td><td>0</td><td>0</td><td>0</td><td>0</td><td>0</td><td>0</td><td>0</td><td>0</td><td>0</td><td>0</td><td>0</td><td>0</td><td>0</td><td>0</td><td>0</td><td>0</td><td>31</td><td>2</td><td>29</td><td>41</td><td>0</td><td>41</td><td>31</td><td>0.707317073171</td><td>0.0487804878049</td><td>0.243902439024</td><td>0.0</td><td>1.0</td><td>0.0</td><td>1.0</td><td>0.0</td><td>1.0</td><td>0.0</td><td>0.5</td><td>0.5</td><td>0.0</td><td>0.0</td><td>0.0</td><td>0.5</td><td>0.5</td><td>0.0</td><td>0.0</td><td>0.0</td><td>0.965517241379</td><td>0.0344827586207</td><td>0.0</td><td>--</td><td>--</td><td>--</td><td>--</td><td>--</td><td>--</td><td>--</td><td>--</td><td>--</td><td>--</td><td>--</td><td>--</td><td>0.0645161290323</td><td>0.935483870968</td><td>0.0</td><td>1.0</td><td>synthetic_image_420507_camera_3_bg_3</td><td>AGZ000air9</td></tr>\n",
       "<tr><td>55a818587a7261775301a263</td><td>41</td><td>21</td><td>12</td><td>8</td><td>12</td><td>1</td><td>11</td><td>11</td><td>1</td><td>10</td><td>11</td><td>3</td><td>8</td><td>11</td><td>7</td><td>3</td><td>1</td><td>0</td><td>15</td><td>0</td><td>0</td><td>2</td><td>9</td><td>2</td><td>1</td><td>1</td><td>21</td><td>3</td><td>16</td><td>2</td><td>1</td><td>0</td><td>0</td><td>1</td><td>3</td><td>1</td><td>2</td><td>0</td><td>3</td><td>1</td><td>2</td><td>0</td><td>0</td><td>0</td><td>0</td><td>33</td><td>11</td><td>22</td><td>41</td><td>2</td><td>39</td><td>33</td><td>0.512195121951</td><td>0.292682926829</td><td>0.19512195122</td><td>0.0833333333333</td><td>0.916666666667</td><td>0.0909090909091</td><td>0.909090909091</td><td>0.272727272727</td><td>0.727272727273</td><td>0.636363636364</td><td>0.272727272727</td><td>0.0909090909091</td><td>0.0</td><td>0.0</td><td>0.0</td><td>0.133333333333</td><td>0.6</td><td>0.133333333333</td><td>0.0666666666667</td><td>0.0666666666667</td><td>0.142857142857</td><td>0.761904761905</td><td>0.0952380952381</td><td>0.0</td><td>0.0</td><td>1.0</td><td>0.333333333333</td><td>0.666666666667</td><td>0.0</td><td>0.333333333333</td><td>0.666666666667</td><td>0.0</td><td>0.0</td><td>0.0</td><td>0.0</td><td>0.333333333333</td><td>0.666666666667</td><td>0.0487804878049</td><td>0.951219512195</td><td>synthetic_image_423655_camera_3_bg_3</td><td>AGZ000aita</td></tr>\n",
       "<tr><td>55a818587a7261775301a2cf</td><td>42</td><td>27</td><td>3</td><td>12</td><td>3</td><td>0</td><td>3</td><td>3</td><td>0</td><td>3</td><td>3</td><td>0</td><td>3</td><td>3</td><td>3</td><td>0</td><td>0</td><td>0</td><td>13</td><td>0</td><td>2</td><td>1</td><td>2</td><td>5</td><td>3</td><td>0</td><td>27</td><td>25</td><td>2</td><td>0</td><td>0</td><td>0</td><td>0</td><td>0</td><td>0</td><td>0</td><td>0</td><td>0</td><td>0</td><td>0</td><td>0</td><td>0</td><td>0</td><td>0</td><td>0</td><td>30</td><td>12</td><td>18</td><td>42</td><td>1</td><td>41</td><td>30</td><td>0.642857142857</td><td>0.0714285714286</td><td>0.285714285714</td><td>0.0</td><td>1.0</td><td>0.0</td><td>1.0</td><td>0.0</td><td>1.0</td><td>1.0</td><td>0.0</td><td>0.0</td><td>0.0</td><td>0.0</td><td>0.153846153846</td><td>0.0769230769231</td><td>0.153846153846</td><td>0.384615384615</td><td>0.230769230769</td><td>0.0</td><td>0.925925925926</td><td>0.0740740740741</td><td>0.0</td><td>--</td><td>--</td><td>--</td><td>--</td><td>--</td><td>--</td><td>--</td><td>--</td><td>--</td><td>--</td><td>--</td><td>--</td><td>0.4</td><td>0.6</td><td>0.0238095238095</td><td>0.97619047619</td><td>synthetic_image_427577_camera_3_bg_3</td><td>AGZ000aiwa</td></tr>\n",
       "<tr><td>55a818587a7261775301a2ff</td><td>41</td><td>19</td><td>10</td><td>12</td><td>10</td><td>1</td><td>9</td><td>9</td><td>1</td><td>8</td><td>9</td><td>0</td><td>9</td><td>9</td><td>7</td><td>2</td><td>0</td><td>0</td><td>21</td><td>0</td><td>0</td><td>3</td><td>5</td><td>7</td><td>5</td><td>1</td><td>19</td><td>6</td><td>13</td><td>0</td><td>1</td><td>1</td><td>0</td><td>0</td><td>0</td><td>0</td><td>0</td><td>0</td><td>0</td><td>0</td><td>0</td><td>0</td><td>0</td><td>0</td><td>0</td><td>29</td><td>16</td><td>13</td><td>41</td><td>2</td><td>39</td><td>29</td><td>0.463414634146</td><td>0.243902439024</td><td>0.292682926829</td><td>0.1</td><td>0.9</td><td>0.111111111111</td><td>0.888888888889</td><td>0.0</td><td>1.0</td><td>0.777777777778</td><td>0.222222222222</td><td>0.0</td><td>0.0</td><td>0.0</td><td>0.0</td><td>0.142857142857</td><td>0.238095238095</td><td>0.333333333333</td><td>0.238095238095</td><td>0.047619047619</td><td>0.315789473684</td><td>0.684210526316</td><td>0.0</td><td>1.0</td><td>0.0</td><td>0.0</td><td>--</td><td>--</td><td>--</td><td>--</td><td>--</td><td>--</td><td>--</td><td>--</td><td>--</td><td>0.551724137931</td><td>0.448275862069</td><td>0.0487804878049</td><td>0.951219512195</td><td>synthetic_image_429396_camera_3_bg_3</td><td>AGZ000aixm</td></tr>\n",
       "<tr><td>55a818597a7261775301a72e</td><td>40</td><td>23</td><td>8</td><td>9</td><td>8</td><td>0</td><td>8</td><td>8</td><td>0</td><td>8</td><td>8</td><td>2</td><td>6</td><td>8</td><td>7</td><td>1</td><td>0</td><td>0</td><td>18</td><td>0</td><td>2</td><td>2</td><td>5</td><td>5</td><td>3</td><td>1</td><td>23</td><td>4</td><td>19</td><td>0</td><td>0</td><td>0</td><td>0</td><td>0</td><td>2</td><td>0</td><td>0</td><td>2</td><td>2</td><td>1</td><td>0</td><td>0</td><td>0</td><td>0</td><td>1</td><td>31</td><td>14</td><td>17</td><td>40</td><td>2</td><td>38</td><td>31</td><td>0.575</td><td>0.2</td><td>0.225</td><td>0.0</td><td>1.0</td><td>0.0</td><td>1.0</td><td>0.25</td><td>0.75</td><td>0.875</td><td>0.125</td><td>0.0</td><td>0.0</td><td>0.0</td><td>0.111111111111</td><td>0.111111111111</td><td>0.277777777778</td><td>0.277777777778</td><td>0.166666666667</td><td>0.0555555555556</td><td>0.173913043478</td><td>0.826086956522</td><td>0.0</td><td>--</td><td>--</td><td>--</td><td>0.0</td><td>0.0</td><td>1.0</td><td>0.5</td><td>0.0</td><td>0.0</td><td>0.0</td><td>0.0</td><td>0.5</td><td>0.451612903226</td><td>0.548387096774</td><td>0.05</td><td>0.95</td><td>synthetic_image_461487_camera_3_bg_3</td><td>AGZ000ajrd</td></tr>\n",
       "<tr><td>55a818597a7261775301a98e</td><td>40</td><td>32</td><td>3</td><td>5</td><td>3</td><td>2</td><td>1</td><td>1</td><td>0</td><td>1</td><td>1</td><td>0</td><td>1</td><td>1</td><td>0</td><td>0</td><td>0</td><td>1</td><td>3</td><td>1</td><td>1</td><td>0</td><td>0</td><td>0</td><td>1</td><td>0</td><td>32</td><td>0</td><td>23</td><td>9</td><td>2</td><td>1</td><td>0</td><td>1</td><td>0</td><td>0</td><td>0</td><td>0</td><td>0</td><td>0</td><td>0</td><td>0</td><td>0</td><td>0</td><td>0</td><td>35</td><td>3</td><td>32</td><td>40</td><td>1</td><td>39</td><td>35</td><td>0.8</td><td>0.075</td><td>0.125</td><td>0.666666666667</td><td>0.333333333333</td><td>0.0</td><td>1.0</td><td>0.0</td><td>1.0</td><td>0.0</td><td>0.0</td><td>0.0</td><td>1.0</td><td>0.333333333333</td><td>0.333333333333</td><td>0.0</td><td>0.0</td><td>0.0</td><td>0.333333333333</td><td>0.0</td><td>0.0</td><td>0.71875</td><td>0.28125</td><td>0.5</td><td>0.0</td><td>0.5</td><td>--</td><td>--</td><td>--</td><td>--</td><td>--</td><td>--</td><td>--</td><td>--</td><td>--</td><td>0.0857142857143</td><td>0.914285714286</td><td>0.025</td><td>0.975</td><td>synthetic_image_476171_camera_3_bg_3</td><td>AGZ000ak89</td></tr>\n",
       "<tr><td>55a8185a7a7261775301ae68</td><td>40</td><td>31</td><td>2</td><td>7</td><td>2</td><td>0</td><td>2</td><td>2</td><td>1</td><td>1</td><td>2</td><td>1</td><td>1</td><td>2</td><td>2</td><td>0</td><td>0</td><td>0</td><td>1</td><td>0</td><td>0</td><td>0</td><td>0</td><td>1</td><td>0</td><td>0</td><td>31</td><td>20</td><td>11</td><td>0</td><td>0</td><td>0</td><td>0</td><td>0</td><td>1</td><td>0</td><td>0</td><td>1</td><td>1</td><td>0</td><td>0</td><td>0</td><td>0</td><td>0</td><td>1</td><td>33</td><td>2</td><td>31</td><td>40</td><td>0</td><td>40</td><td>33</td><td>0.775</td><td>0.05</td><td>0.175</td><td>0.0</td><td>1.0</td><td>0.5</td><td>0.5</td><td>0.5</td><td>0.5</td><td>1.0</td><td>0.0</td><td>0.0</td><td>0.0</td><td>0.0</td><td>0.0</td><td>0.0</td><td>0.0</td><td>1.0</td><td>0.0</td><td>0.0</td><td>0.645161290323</td><td>0.354838709677</td><td>0.0</td><td>--</td><td>--</td><td>--</td><td>0.0</td><td>0.0</td><td>1.0</td><td>0.0</td><td>0.0</td><td>0.0</td><td>0.0</td><td>0.0</td><td>1.0</td><td>0.0606060606061</td><td>0.939393939394</td><td>0.0</td><td>1.0</td><td>synthetic_image_578347_camera_3_bg_3</td><td>AGZ000al6r</td></tr>\n",
       "<tr><td>55a8185a7a7261775301aead</td><td>40</td><td>18</td><td>8</td><td>14</td><td>8</td><td>1</td><td>7</td><td>7</td><td>0</td><td>7</td><td>7</td><td>3</td><td>4</td><td>7</td><td>3</td><td>3</td><td>1</td><td>0</td><td>2</td><td>0</td><td>0</td><td>0</td><td>0</td><td>0</td><td>2</td><td>0</td><td>18</td><td>15</td><td>3</td><td>0</td><td>1</td><td>1</td><td>0</td><td>0</td><td>3</td><td>0</td><td>1</td><td>2</td><td>3</td><td>0</td><td>1</td><td>1</td><td>0</td><td>0</td><td>1</td><td>26</td><td>3</td><td>23</td><td>40</td><td>1</td><td>39</td><td>26</td><td>0.45</td><td>0.2</td><td>0.35</td><td>0.125</td><td>0.875</td><td>0.0</td><td>1.0</td><td>0.428571428571</td><td>0.571428571429</td><td>0.428571428571</td><td>0.428571428571</td><td>0.142857142857</td><td>0.0</td><td>0.0</td><td>0.0</td><td>0.0</td><td>0.0</td><td>0.0</td><td>1.0</td><td>0.0</td><td>0.833333333333</td><td>0.166666666667</td><td>0.0</td><td>1.0</td><td>0.0</td><td>0.0</td><td>0.0</td><td>0.333333333333</td><td>0.666666666667</td><td>0.0</td><td>0.333333333333</td><td>0.333333333333</td><td>0.0</td><td>0.0</td><td>0.333333333333</td><td>0.115384615385</td><td>0.884615384615</td><td>0.025</td><td>0.975</td><td>synthetic_image_525516_camera_3_bg_3</td><td>AGZ000al8o</td></tr>\n",
       "</table>"
      ],
      "text/plain": [
       "<Table masked=True length=63640>\n",
       "       subject_id        shape_total ... zooniverse_id\n",
       "         str24              int64    ...     str10    \n",
       "------------------------ ----------- ... -------------\n",
       "55a818227a72617753000000          40 ...    AGZ0008863\n",
       "55a818227a72617753000001          40 ...    AGZ0008864\n",
       "55a818227a72617753000002          40 ...    AGZ0008865\n",
       "55a818227a72617753000003          40 ...    AGZ0008866\n",
       "55a818227a72617753000004          40 ...    AGZ0008867\n",
       "55a818227a72617753000005          40 ...    AGZ0008868\n",
       "55a818227a72617753000006          40 ...    AGZ0008869\n",
       "55a818227a72617753000007          40 ...    AGZ000886a\n",
       "55a818227a72617753000008          40 ...    AGZ000886b\n",
       "55a818227a72617753000009          41 ...    AGZ000886c\n",
       "                     ...         ... ...           ...\n",
       "55a818577a7261775301a125          40 ...    AGZ000aikg\n",
       "55a818577a7261775301a182          40 ...    AGZ000ain1\n",
       "55a818587a7261775301a21a          41 ...    AGZ000air9\n",
       "55a818587a7261775301a263          41 ...    AGZ000aita\n",
       "55a818587a7261775301a2cf          42 ...    AGZ000aiwa\n",
       "55a818587a7261775301a2ff          41 ...    AGZ000aixm\n",
       "55a818597a7261775301a72e          40 ...    AGZ000ajrd\n",
       "55a818597a7261775301a98e          40 ...    AGZ000ak89\n",
       "55a8185a7a7261775301ae68          40 ...    AGZ000al6r\n",
       "55a8185a7a7261775301aead          40 ...    AGZ000al8o"
      ]
     },
     "execution_count": 8,
     "metadata": {},
     "output_type": "execute_result"
    }
   ],
   "source": [
    "outdata"
   ]
  },
  {
   "cell_type": "code",
   "execution_count": 9,
   "metadata": {
    "collapsed": false
   },
   "outputs": [
    {
     "data": {
      "text/plain": [
       "17133"
      ]
     },
     "execution_count": 9,
     "metadata": {},
     "output_type": "execute_result"
    }
   ],
   "source": [
    "(outdata['shape_total'] >= 40).sum()"
   ]
  }
 ],
 "metadata": {
  "_draft": {
   "nbviewer_url": "https://gist.github.com/df1c052dd0ed94d9ec2dc1e98d060366"
  },
  "gist": {
   "data": {
    "description": "First look at GAMA GZ data",
    "public": false
   },
   "id": "df1c052dd0ed94d9ec2dc1e98d060366"
  },
  "hide_input": false,
  "kernelspec": {
   "display_name": "Python 3",
   "language": "python",
   "name": "python3"
  },
  "language_info": {
   "codemirror_mode": {
    "name": "ipython",
    "version": 3
   },
   "file_extension": ".py",
   "mimetype": "text/x-python",
   "name": "python",
   "nbconvert_exporter": "python",
   "pygments_lexer": "ipython3",
   "version": "3.6.0"
  },
  "latex_envs": {
   "LaTeX_envs_menu_present": true,
   "autocomplete": true,
   "bibliofile": "biblio.bib",
   "cite_by": "apalike",
   "current_citInitial": 1,
   "eqLabelWithNumbers": true,
   "eqNumInitial": 1,
   "hotkeys": {
    "equation": "Ctrl-E",
    "itemize": "Ctrl-I"
   },
   "labels_anchors": false,
   "latex_user_defs": false,
   "report_style_numbering": false,
   "user_envs_cfg": false
  }
 },
 "nbformat": 4,
 "nbformat_minor": 0
}
