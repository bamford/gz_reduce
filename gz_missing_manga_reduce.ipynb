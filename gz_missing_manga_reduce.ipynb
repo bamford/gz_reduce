{
 "cells": [
  {
   "cell_type": "code",
   "execution_count": 1,
   "metadata": {},
   "outputs": [],
   "source": [
    "from gz_reduce import reduce_data"
   ]
  },
  {
   "cell_type": "markdown",
   "metadata": {},
   "source": [
    "### Get the data"
   ]
  },
  {
   "cell_type": "code",
   "execution_count": 2,
   "metadata": {},
   "outputs": [],
   "source": [
    "# %%bash\n",
    "# # get the gama tree definition\n",
    "# curl -O https://raw.githubusercontent.com/zooniverse/Galaxy-Zoo/master/app/lib/sloan_tree.coffee"
   ]
  },
  {
   "cell_type": "code",
   "execution_count": 3,
   "metadata": {},
   "outputs": [],
   "source": [
    "# %%bash\n",
    "# # get the database dump\n",
    "# url=\"\"\n",
    "# curl $url | tar xz"
   ]
  },
  {
   "cell_type": "code",
   "execution_count": 4,
   "metadata": {},
   "outputs": [
    {
     "name": "stdout",
     "output_type": "stream",
     "text": [
      "\"id\",\"subject_id\",\"user\",\"created_at\",\"lang\",\"user_agent\",\"sloan-0\",\"sloan-1\",\"sloan-2\",\"sloan-3\",\"sloan-4\",\"sloan-5\",\"sloan-6\",\"sloan-7\",\"sloan-8\",\"sloan-9\",\"sloan-10\",\"sloan-11\"\r\n",
      "\"5899e02b7d25c7258f00006c\",\"58949edf3ed268004100137b\",\"rick1847\",\"2017-02-07 14:56:43 UTC\",\"en\",\"unknown\",\"a-2\",\"\",\"\",\"\",\"\",\"\",\"\",\"\",\"\",\"\",\"\",\"a-1\"\r\n"
     ]
    }
   ],
   "source": [
    "!head -2 2017-07-09_galaxy_zoo_missing_manga_classifications.csv"
   ]
  },
  {
   "cell_type": "code",
   "execution_count": 5,
   "metadata": {},
   "outputs": [
    {
     "name": "stdout",
     "output_type": "stream",
     "text": [
      "ObjectId(58949ec13ed2680041000001),AGZ000en4u,ObjectId(5894999f7d25c7236f000001),\"{\"\"counters\"\":{\"\"feature\"\":15,\"\"smooth\"\":21,\"\"star\"\":4},\"\"dr8objid\"\":\"\"1237645943978983581\"\",\"\"mangaid\"\":\"\"1-202088\"\",\"\"nsa_id\"\":\"\"nsa_213765\"\",\"\"nsa_z\"\":\"\"0.0486018\"\",\"\"petro_r50_r\"\":\"\"4.820167\"\",\"\"petro_r90_r\"\":\"\"12.03879\"\",\"\"retire_at\"\":40,\"\"survey\"\":\"\"missing_manga\"\"}\"\r",
      "\r\n"
     ]
    }
   ],
   "source": [
    "!gzcat galaxy_zoo_subjects_lee.csv.gz | grep -i manga | head -1"
   ]
  },
  {
   "cell_type": "markdown",
   "metadata": {},
   "source": [
    "### Run the reduction"
   ]
  },
  {
   "cell_type": "code",
   "execution_count": 6,
   "metadata": {
    "scrolled": true
   },
   "outputs": [],
   "source": [
    "date='2017-07-09'\n",
    "tree='sloan'\n",
    "subjectset='missing_manga'\n",
    "survey_id_field='dr8objid'\n",
    "outdata = reduce_data(date, tree, subjectset, survey_id_field)"
   ]
  },
  {
   "cell_type": "code",
   "execution_count": 7,
   "metadata": {},
   "outputs": [
    {
     "data": {
      "text/html": [
       "&lt;Table masked=True length=2540&gt;\n",
       "<table id=\"table4963974896\" class=\"table-striped table-bordered table-condensed\">\n",
       "<thead><tr><th>subject_id</th><th>features_total</th><th>features_features_or_disk</th><th>features_star_or_artifact</th><th>edgeon_total</th><th>edgeon_yes</th><th>edgeon_no</th><th>bar_total</th><th>bar_bar</th><th>bar_no_bar</th><th>spiral_total</th><th>spiral_spiral</th><th>spiral_no_spiral</th><th>bulge_total</th><th>bulge_no_bulge</th><th>bulge_just_noticeable</th><th>bulge_obvious</th><th>bulge_dominant</th><th>odd_total</th><th>odd_yes</th><th>odd_no</th><th>oddtype_total</th><th>oddtype_ring</th><th>oddtype_lens_or_arc</th><th>oddtype_disturbed</th><th>oddtype_irregular</th><th>oddtype_other</th><th>oddtype_merger</th><th>oddtype_dust_lane</th><th>round_total</th><th>round_completely_round</th><th>round_in_between</th><th>round_cigar_shaped</th><th>bulgeshape_total</th><th>bulgeshape_rounded</th><th>bulgeshape_boxy</th><th>bulgeshape_no_bulge</th><th>spiralwinding_total</th><th>spiralwinding_tight</th><th>spiralwinding_medium</th><th>spiralwinding_loose</th><th>spiralnumber_total</th><th>spiralnumber_1</th><th>spiralnumber_2</th><th>spiralnumber_3</th><th>spiralnumber_4</th><th>spiralnumber_more_than_4</th><th>spiralnumber_cant_tell</th><th>discuss_total</th><th>discuss_yes</th><th>discuss_no</th><th>features_smooth_frac</th><th>survey_id</th><th>zooniverse_id</th></tr></thead>\n",
       "<thead><tr><th>str24</th><th>int64</th><th>int64</th><th>int64</th><th>int64</th><th>int64</th><th>int64</th><th>int64</th><th>int64</th><th>int64</th><th>int64</th><th>int64</th><th>int64</th><th>int64</th><th>int64</th><th>int64</th><th>int64</th><th>int64</th><th>int64</th><th>int64</th><th>int64</th><th>int64</th><th>int64</th><th>int64</th><th>int64</th><th>int64</th><th>int64</th><th>int64</th><th>int64</th><th>int64</th><th>int64</th><th>int64</th><th>int64</th><th>int64</th><th>int64</th><th>int64</th><th>int64</th><th>int64</th><th>int64</th><th>int64</th><th>int64</th><th>int64</th><th>int64</th><th>int64</th><th>int64</th><th>int64</th><th>int64</th><th>int64</th><th>int64</th><th>int64</th><th>int64</th><th>float64</th><th>str19</th><th>str10</th></tr></thead>\n",
       "<tr><td>58949ec13ed2680041000001</td><td>40</td><td>15</td><td>4</td><td>15</td><td>8</td><td>7</td><td>7</td><td>1</td><td>6</td><td>7</td><td>4</td><td>3</td><td>7</td><td>4</td><td>3</td><td>0</td><td>0</td><td>36</td><td>12</td><td>24</td><td>10</td><td>2</td><td>0</td><td>0</td><td>1</td><td>3</td><td>4</td><td>0</td><td>21</td><td>2</td><td>8</td><td>11</td><td>8</td><td>2</td><td>2</td><td>4</td><td>4</td><td>1</td><td>2</td><td>1</td><td>4</td><td>0</td><td>1</td><td>0</td><td>0</td><td>0</td><td>3</td><td>37</td><td>2</td><td>35</td><td>0.525</td><td>1237645943978983581</td><td>AGZ000en4u</td></tr>\n",
       "<tr><td>58949ec23ed2680041000003</td><td>40</td><td>4</td><td>12</td><td>4</td><td>1</td><td>3</td><td>3</td><td>0</td><td>3</td><td>3</td><td>1</td><td>2</td><td>3</td><td>0</td><td>0</td><td>3</td><td>0</td><td>28</td><td>13</td><td>15</td><td>9</td><td>0</td><td>0</td><td>0</td><td>0</td><td>6</td><td>3</td><td>0</td><td>24</td><td>23</td><td>1</td><td>0</td><td>1</td><td>1</td><td>0</td><td>0</td><td>1</td><td>1</td><td>0</td><td>0</td><td>1</td><td>0</td><td>0</td><td>0</td><td>0</td><td>0</td><td>1</td><td>36</td><td>2</td><td>34</td><td>0.6</td><td>1237648702974460146</td><td>AGZ000en4v</td></tr>\n",
       "<tr><td>58949ec23ed2680041000005</td><td>40</td><td>19</td><td>9</td><td>19</td><td>1</td><td>18</td><td>18</td><td>2</td><td>16</td><td>18</td><td>12</td><td>6</td><td>18</td><td>1</td><td>3</td><td>10</td><td>4</td><td>31</td><td>15</td><td>16</td><td>18</td><td>0</td><td>0</td><td>3</td><td>4</td><td>5</td><td>6</td><td>0</td><td>12</td><td>8</td><td>4</td><td>0</td><td>1</td><td>1</td><td>0</td><td>0</td><td>12</td><td>2</td><td>4</td><td>6</td><td>12</td><td>1</td><td>9</td><td>0</td><td>0</td><td>0</td><td>2</td><td>36</td><td>5</td><td>31</td><td>0.3</td><td>1237648702979833866</td><td>AGZ000en4w</td></tr>\n",
       "<tr><td>58949ec23ed2680041000007</td><td>40</td><td>31</td><td>8</td><td>31</td><td>5</td><td>26</td><td>26</td><td>20</td><td>6</td><td>26</td><td>25</td><td>1</td><td>26</td><td>6</td><td>14</td><td>5</td><td>1</td><td>32</td><td>11</td><td>21</td><td>11</td><td>0</td><td>0</td><td>3</td><td>5</td><td>2</td><td>1</td><td>0</td><td>1</td><td>0</td><td>1</td><td>0</td><td>5</td><td>0</td><td>2</td><td>3</td><td>25</td><td>2</td><td>12</td><td>11</td><td>25</td><td>0</td><td>4</td><td>1</td><td>6</td><td>5</td><td>9</td><td>35</td><td>2</td><td>33</td><td>0.025</td><td>1237648702984093714</td><td>AGZ000en4x</td></tr>\n",
       "<tr><td>58949ec23ed2680041000009</td><td>40</td><td>35</td><td>3</td><td>35</td><td>2</td><td>33</td><td>33</td><td>14</td><td>19</td><td>33</td><td>32</td><td>1</td><td>33</td><td>3</td><td>21</td><td>9</td><td>0</td><td>37</td><td>6</td><td>31</td><td>10</td><td>1</td><td>1</td><td>2</td><td>0</td><td>3</td><td>1</td><td>2</td><td>2</td><td>1</td><td>1</td><td>0</td><td>2</td><td>2</td><td>0</td><td>0</td><td>32</td><td>17</td><td>12</td><td>3</td><td>32</td><td>5</td><td>13</td><td>3</td><td>0</td><td>1</td><td>10</td><td>37</td><td>1</td><td>36</td><td>0.05</td><td>1237648703503401151</td><td>AGZ000en4y</td></tr>\n",
       "<tr><td>58949ec23ed268004100000b</td><td>40</td><td>8</td><td>4</td><td>8</td><td>5</td><td>3</td><td>3</td><td>1</td><td>2</td><td>3</td><td>0</td><td>3</td><td>3</td><td>1</td><td>0</td><td>1</td><td>1</td><td>36</td><td>4</td><td>32</td><td>3</td><td>0</td><td>0</td><td>1</td><td>0</td><td>1</td><td>0</td><td>1</td><td>28</td><td>1</td><td>18</td><td>9</td><td>5</td><td>4</td><td>1</td><td>0</td><td>0</td><td>0</td><td>0</td><td>0</td><td>0</td><td>0</td><td>0</td><td>0</td><td>0</td><td>0</td><td>0</td><td>35</td><td>0</td><td>35</td><td>0.7</td><td>1237648703504187560</td><td>AGZ000en4z</td></tr>\n",
       "<tr><td>58949ec23ed268004100000d</td><td>40</td><td>33</td><td>6</td><td>33</td><td>1</td><td>32</td><td>32</td><td>5</td><td>27</td><td>32</td><td>30</td><td>2</td><td>32</td><td>0</td><td>6</td><td>23</td><td>3</td><td>34</td><td>11</td><td>23</td><td>14</td><td>3</td><td>0</td><td>2</td><td>1</td><td>3</td><td>3</td><td>2</td><td>1</td><td>1</td><td>0</td><td>0</td><td>1</td><td>1</td><td>0</td><td>0</td><td>30</td><td>17</td><td>9</td><td>4</td><td>30</td><td>3</td><td>7</td><td>3</td><td>2</td><td>3</td><td>12</td><td>37</td><td>4</td><td>33</td><td>0.025</td><td>1237648703516770428</td><td>AGZ000en50</td></tr>\n",
       "<tr><td>58949ec23ed268004100000f</td><td>40</td><td>5</td><td>10</td><td>5</td><td>1</td><td>4</td><td>4</td><td>0</td><td>4</td><td>4</td><td>2</td><td>2</td><td>4</td><td>0</td><td>0</td><td>3</td><td>1</td><td>30</td><td>1</td><td>29</td><td>1</td><td>0</td><td>0</td><td>0</td><td>0</td><td>1</td><td>0</td><td>0</td><td>25</td><td>23</td><td>1</td><td>1</td><td>1</td><td>1</td><td>0</td><td>0</td><td>2</td><td>0</td><td>1</td><td>1</td><td>2</td><td>0</td><td>1</td><td>0</td><td>0</td><td>0</td><td>1</td><td>39</td><td>1</td><td>38</td><td>0.625</td><td>1237648704042696896</td><td>AGZ000en51</td></tr>\n",
       "<tr><td>58949ec23ed2680041000011</td><td>40</td><td>21</td><td>4</td><td>21</td><td>21</td><td>0</td><td>0</td><td>0</td><td>0</td><td>0</td><td>0</td><td>0</td><td>0</td><td>0</td><td>0</td><td>0</td><td>0</td><td>36</td><td>3</td><td>33</td><td>3</td><td>1</td><td>0</td><td>0</td><td>0</td><td>0</td><td>0</td><td>2</td><td>15</td><td>0</td><td>0</td><td>15</td><td>21</td><td>5</td><td>2</td><td>14</td><td>0</td><td>0</td><td>0</td><td>0</td><td>0</td><td>0</td><td>0</td><td>0</td><td>0</td><td>0</td><td>0</td><td>39</td><td>2</td><td>37</td><td>0.375</td><td>1237648704045842573</td><td>AGZ000en52</td></tr>\n",
       "<tr><td>58949ec23ed2680041000013</td><td>40</td><td>30</td><td>4</td><td>30</td><td>27</td><td>3</td><td>3</td><td>2</td><td>1</td><td>3</td><td>0</td><td>3</td><td>3</td><td>2</td><td>0</td><td>1</td><td>0</td><td>36</td><td>26</td><td>10</td><td>28</td><td>0</td><td>0</td><td>3</td><td>2</td><td>3</td><td>0</td><td>20</td><td>6</td><td>0</td><td>1</td><td>5</td><td>27</td><td>7</td><td>10</td><td>10</td><td>0</td><td>0</td><td>0</td><td>0</td><td>0</td><td>0</td><td>0</td><td>0</td><td>0</td><td>0</td><td>0</td><td>39</td><td>8</td><td>31</td><td>0.15</td><td>1237648704051478700</td><td>AGZ000en53</td></tr>\n",
       "<tr><td>...</td><td>...</td><td>...</td><td>...</td><td>...</td><td>...</td><td>...</td><td>...</td><td>...</td><td>...</td><td>...</td><td>...</td><td>...</td><td>...</td><td>...</td><td>...</td><td>...</td><td>...</td><td>...</td><td>...</td><td>...</td><td>...</td><td>...</td><td>...</td><td>...</td><td>...</td><td>...</td><td>...</td><td>...</td><td>...</td><td>...</td><td>...</td><td>...</td><td>...</td><td>...</td><td>...</td><td>...</td><td>...</td><td>...</td><td>...</td><td>...</td><td>...</td><td>...</td><td>...</td><td>...</td><td>...</td><td>...</td><td>...</td><td>...</td><td>...</td><td>...</td><td>...</td><td>...</td><td>...</td></tr>\n",
       "<tr><td>58949edf3ed26800410013c5</td><td>40</td><td>33</td><td>5</td><td>33</td><td>4</td><td>29</td><td>29</td><td>3</td><td>26</td><td>29</td><td>28</td><td>1</td><td>29</td><td>0</td><td>11</td><td>15</td><td>3</td><td>35</td><td>13</td><td>22</td><td>13</td><td>1</td><td>1</td><td>1</td><td>1</td><td>2</td><td>7</td><td>0</td><td>2</td><td>2</td><td>0</td><td>0</td><td>4</td><td>3</td><td>1</td><td>0</td><td>28</td><td>21</td><td>6</td><td>1</td><td>28</td><td>0</td><td>3</td><td>6</td><td>2</td><td>3</td><td>14</td><td>39</td><td>2</td><td>37</td><td>0.05</td><td>1237678617434456201</td><td>AGZ000el87</td></tr>\n",
       "<tr><td>58949edf3ed26800410013c7</td><td>40</td><td>5</td><td>7</td><td>5</td><td>2</td><td>3</td><td>3</td><td>0</td><td>3</td><td>3</td><td>0</td><td>3</td><td>3</td><td>1</td><td>2</td><td>0</td><td>0</td><td>33</td><td>2</td><td>31</td><td>2</td><td>1</td><td>0</td><td>0</td><td>0</td><td>0</td><td>0</td><td>1</td><td>28</td><td>6</td><td>22</td><td>0</td><td>2</td><td>1</td><td>0</td><td>1</td><td>0</td><td>0</td><td>0</td><td>0</td><td>0</td><td>0</td><td>0</td><td>0</td><td>0</td><td>0</td><td>0</td><td>37</td><td>2</td><td>35</td><td>0.7</td><td>1237678617434521697</td><td>AGZ000el86</td></tr>\n",
       "<tr><td>58949ee03ed26800410013c9</td><td>40</td><td>10</td><td>2</td><td>10</td><td>10</td><td>0</td><td>0</td><td>0</td><td>0</td><td>0</td><td>0</td><td>0</td><td>0</td><td>0</td><td>0</td><td>0</td><td>0</td><td>38</td><td>2</td><td>36</td><td>2</td><td>0</td><td>0</td><td>0</td><td>0</td><td>1</td><td>0</td><td>1</td><td>28</td><td>0</td><td>1</td><td>27</td><td>10</td><td>2</td><td>0</td><td>8</td><td>0</td><td>0</td><td>0</td><td>0</td><td>0</td><td>0</td><td>0</td><td>0</td><td>0</td><td>0</td><td>0</td><td>39</td><td>1</td><td>38</td><td>0.7</td><td>1237678617434521845</td><td>AGZ000el85</td></tr>\n",
       "<tr><td>58949ee03ed26800410013cb</td><td>40</td><td>9</td><td>7</td><td>9</td><td>0</td><td>9</td><td>9</td><td>1</td><td>8</td><td>9</td><td>2</td><td>7</td><td>9</td><td>1</td><td>1</td><td>4</td><td>3</td><td>33</td><td>20</td><td>13</td><td>25</td><td>0</td><td>0</td><td>0</td><td>3</td><td>8</td><td>14</td><td>0</td><td>24</td><td>15</td><td>9</td><td>0</td><td>0</td><td>0</td><td>0</td><td>0</td><td>2</td><td>1</td><td>0</td><td>1</td><td>2</td><td>1</td><td>0</td><td>0</td><td>0</td><td>0</td><td>1</td><td>36</td><td>2</td><td>34</td><td>0.6</td><td>1237678617936462553</td><td>AGZ000el84</td></tr>\n",
       "<tr><td>58949ee03ed26800410013cd</td><td>40</td><td>5</td><td>8</td><td>5</td><td>3</td><td>2</td><td>2</td><td>0</td><td>2</td><td>2</td><td>1</td><td>1</td><td>2</td><td>0</td><td>0</td><td>1</td><td>1</td><td>32</td><td>4</td><td>28</td><td>3</td><td>0</td><td>0</td><td>0</td><td>0</td><td>0</td><td>2</td><td>1</td><td>27</td><td>2</td><td>21</td><td>4</td><td>3</td><td>2</td><td>0</td><td>1</td><td>1</td><td>0</td><td>0</td><td>1</td><td>1</td><td>0</td><td>1</td><td>0</td><td>0</td><td>0</td><td>0</td><td>38</td><td>3</td><td>35</td><td>0.675</td><td>1237678617937248521</td><td>AGZ000el83</td></tr>\n",
       "<tr><td>58949ee03ed26800410013cf</td><td>40</td><td>8</td><td>8</td><td>8</td><td>4</td><td>4</td><td>4</td><td>0</td><td>4</td><td>4</td><td>0</td><td>4</td><td>4</td><td>1</td><td>2</td><td>1</td><td>0</td><td>32</td><td>19</td><td>13</td><td>18</td><td>1</td><td>0</td><td>1</td><td>0</td><td>5</td><td>11</td><td>0</td><td>24</td><td>8</td><td>16</td><td>0</td><td>4</td><td>2</td><td>1</td><td>1</td><td>0</td><td>0</td><td>0</td><td>0</td><td>0</td><td>0</td><td>0</td><td>0</td><td>0</td><td>0</td><td>0</td><td>36</td><td>1</td><td>35</td><td>0.6</td><td>1237678617937314324</td><td>AGZ000el82</td></tr>\n",
       "<tr><td>58949ee03ed26800410013d1</td><td>40</td><td>10</td><td>9</td><td>10</td><td>0</td><td>10</td><td>10</td><td>1</td><td>9</td><td>10</td><td>0</td><td>10</td><td>10</td><td>4</td><td>0</td><td>3</td><td>3</td><td>31</td><td>21</td><td>10</td><td>26</td><td>0</td><td>1</td><td>0</td><td>0</td><td>7</td><td>15</td><td>3</td><td>21</td><td>21</td><td>0</td><td>0</td><td>0</td><td>0</td><td>0</td><td>0</td><td>0</td><td>0</td><td>0</td><td>0</td><td>0</td><td>0</td><td>0</td><td>0</td><td>0</td><td>0</td><td>0</td><td>36</td><td>3</td><td>33</td><td>0.525</td><td>1237678877784146123</td><td>AGZ000el81</td></tr>\n",
       "<tr><td>58949ee03ed26800410013d3</td><td>40</td><td>16</td><td>7</td><td>16</td><td>8</td><td>8</td><td>8</td><td>8</td><td>0</td><td>8</td><td>3</td><td>5</td><td>8</td><td>2</td><td>5</td><td>1</td><td>0</td><td>33</td><td>15</td><td>18</td><td>20</td><td>0</td><td>0</td><td>3</td><td>11</td><td>2</td><td>3</td><td>1</td><td>17</td><td>1</td><td>2</td><td>14</td><td>8</td><td>0</td><td>2</td><td>6</td><td>3</td><td>0</td><td>1</td><td>2</td><td>3</td><td>0</td><td>3</td><td>0</td><td>0</td><td>0</td><td>0</td><td>35</td><td>3</td><td>32</td><td>0.425</td><td>1237679167160713399</td><td>AGZ000el80</td></tr>\n",
       "<tr><td>58949ee03ed26800410013d5</td><td>41</td><td>19</td><td>10</td><td>19</td><td>13</td><td>6</td><td>6</td><td>3</td><td>3</td><td>6</td><td>1</td><td>5</td><td>6</td><td>3</td><td>3</td><td>0</td><td>0</td><td>31</td><td>11</td><td>20</td><td>13</td><td>2</td><td>2</td><td>2</td><td>2</td><td>1</td><td>1</td><td>3</td><td>12</td><td>0</td><td>7</td><td>5</td><td>13</td><td>4</td><td>0</td><td>9</td><td>1</td><td>0</td><td>1</td><td>0</td><td>1</td><td>0</td><td>1</td><td>0</td><td>0</td><td>0</td><td>0</td><td>30</td><td>1</td><td>29</td><td>0.292682926829</td><td>1237679167162024147</td><td>AGZ000el7z</td></tr>\n",
       "<tr><td>58949ee03ed26800410013d7</td><td>40</td><td>13</td><td>6</td><td>13</td><td>4</td><td>9</td><td>9</td><td>0</td><td>9</td><td>9</td><td>1</td><td>8</td><td>9</td><td>2</td><td>1</td><td>2</td><td>4</td><td>34</td><td>29</td><td>5</td><td>33</td><td>1</td><td>0</td><td>0</td><td>0</td><td>5</td><td>25</td><td>2</td><td>21</td><td>12</td><td>9</td><td>0</td><td>4</td><td>3</td><td>0</td><td>1</td><td>1</td><td>0</td><td>1</td><td>0</td><td>1</td><td>0</td><td>1</td><td>0</td><td>0</td><td>0</td><td>0</td><td>37</td><td>4</td><td>33</td><td>0.525</td><td>1237679437738606625</td><td>AGZ000el7y</td></tr>\n",
       "</table>"
      ],
      "text/plain": [
       "<Table masked=True length=2540>\n",
       "       subject_id        features_total ...      survey_id      zooniverse_id\n",
       "         str24               int64      ...        str19            str10    \n",
       "------------------------ -------------- ... ------------------- -------------\n",
       "58949ec13ed2680041000001             40 ... 1237645943978983581    AGZ000en4u\n",
       "58949ec23ed2680041000003             40 ... 1237648702974460146    AGZ000en4v\n",
       "58949ec23ed2680041000005             40 ... 1237648702979833866    AGZ000en4w\n",
       "58949ec23ed2680041000007             40 ... 1237648702984093714    AGZ000en4x\n",
       "58949ec23ed2680041000009             40 ... 1237648703503401151    AGZ000en4y\n",
       "58949ec23ed268004100000b             40 ... 1237648703504187560    AGZ000en4z\n",
       "58949ec23ed268004100000d             40 ... 1237648703516770428    AGZ000en50\n",
       "58949ec23ed268004100000f             40 ... 1237648704042696896    AGZ000en51\n",
       "58949ec23ed2680041000011             40 ... 1237648704045842573    AGZ000en52\n",
       "58949ec23ed2680041000013             40 ... 1237648704051478700    AGZ000en53\n",
       "                     ...            ... ...                 ...           ...\n",
       "58949edf3ed26800410013c5             40 ... 1237678617434456201    AGZ000el87\n",
       "58949edf3ed26800410013c7             40 ... 1237678617434521697    AGZ000el86\n",
       "58949ee03ed26800410013c9             40 ... 1237678617434521845    AGZ000el85\n",
       "58949ee03ed26800410013cb             40 ... 1237678617936462553    AGZ000el84\n",
       "58949ee03ed26800410013cd             40 ... 1237678617937248521    AGZ000el83\n",
       "58949ee03ed26800410013cf             40 ... 1237678617937314324    AGZ000el82\n",
       "58949ee03ed26800410013d1             40 ... 1237678877784146123    AGZ000el81\n",
       "58949ee03ed26800410013d3             40 ... 1237679167160713399    AGZ000el80\n",
       "58949ee03ed26800410013d5             41 ... 1237679167162024147    AGZ000el7z\n",
       "58949ee03ed26800410013d7             40 ... 1237679437738606625    AGZ000el7y"
      ]
     },
     "execution_count": 7,
     "metadata": {},
     "output_type": "execute_result"
    }
   ],
   "source": [
    "outdata"
   ]
  },
  {
   "cell_type": "code",
   "execution_count": 8,
   "metadata": {
    "collapsed": true
   },
   "outputs": [],
   "source": [
    "outdata.write('galaxy_zoo_{}_{}.fits'.format(subjectset, date), overwrite=True)"
   ]
  }
 ],
 "metadata": {
  "_draft": {
   "nbviewer_url": "https://gist.github.com/df1c052dd0ed94d9ec2dc1e98d060366"
  },
  "gist": {
   "data": {
    "description": "First look at GAMA GZ data",
    "public": false
   },
   "id": "df1c052dd0ed94d9ec2dc1e98d060366"
  },
  "hide_input": false,
  "kernelspec": {
   "display_name": "Python [default]",
   "language": "python",
   "name": "python3"
  },
  "language_info": {
   "codemirror_mode": {
    "name": "ipython",
    "version": 3
   },
   "file_extension": ".py",
   "mimetype": "text/x-python",
   "name": "python",
   "nbconvert_exporter": "python",
   "pygments_lexer": "ipython3",
   "version": "3.6.1"
  },
  "latex_envs": {
   "LaTeX_envs_menu_present": true,
   "autocomplete": true,
   "bibliofile": "biblio.bib",
   "cite_by": "apalike",
   "current_citInitial": 1,
   "eqLabelWithNumbers": true,
   "eqNumInitial": 1,
   "hotkeys": {
    "equation": "Ctrl-E",
    "itemize": "Ctrl-I"
   },
   "labels_anchors": false,
   "latex_user_defs": false,
   "report_style_numbering": false,
   "user_envs_cfg": false
  }
 },
 "nbformat": 4,
 "nbformat_minor": 1
}
