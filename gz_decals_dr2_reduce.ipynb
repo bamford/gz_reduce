{
 "cells": [
  {
   "cell_type": "code",
   "execution_count": 1,
   "metadata": {},
   "outputs": [],
   "source": [
    "from gz_reduce import reduce_data"
   ]
  },
  {
   "cell_type": "markdown",
   "metadata": {},
   "source": [
    "### Get the data"
   ]
  },
  {
   "cell_type": "code",
   "execution_count": 2,
   "metadata": {},
   "outputs": [],
   "source": [
    "# %%bash\n",
    "# # get the gama tree definition\n",
    "# curl -O https://raw.githubusercontent.com/zooniverse/Galaxy-Zoo/master/app/lib/decals_tree.coffee"
   ]
  },
  {
   "cell_type": "code",
   "execution_count": 3,
   "metadata": {},
   "outputs": [],
   "source": [
    "# %%bash\n",
    "# # get the DR2 database dump\n",
    "# url=\"\"\n",
    "# curl $url | tar xz"
   ]
  },
  {
   "cell_type": "markdown",
   "metadata": {},
   "source": [
    "### Run the reduction"
   ]
  },
  {
   "cell_type": "code",
   "execution_count": 5,
   "metadata": {},
   "outputs": [],
   "source": [
    "date='2017-06-18'\n",
    "tree='decals'\n",
    "subjectset='decals_dr2'\n",
    "survey_id_field='nsa_id'\n",
    "outdata = reduce_data(date, tree, subjectset, survey_id_field, subjectstub=tree)"
   ]
  },
  {
   "cell_type": "code",
   "execution_count": 6,
   "metadata": {},
   "outputs": [
    {
     "data": {
      "text/html": [
       "&lt;Table masked=True length=61594&gt;\n",
       "<table id=\"table4874686592\" class=\"table-striped table-bordered table-condensed\">\n",
       "<thead><tr><th>subject_id</th><th>features_total</th><th>features_features_or_disk</th><th>features_star_or_artifact</th><th>edgeon_total</th><th>edgeon_yes</th><th>edgeon_no</th><th>bar_total</th><th>bar_bar</th><th>bar_no_bar</th><th>spiral_total</th><th>spiral_spiral</th><th>spiral_no_spiral</th><th>bulge_total</th><th>bulge_no_bulge</th><th>bulge_obvious</th><th>bulge_dominant</th><th>spiralwinding_total</th><th>spiralwinding_tight</th><th>spiralwinding_medium</th><th>spiralwinding_loose</th><th>spiralnumber_total</th><th>spiralnumber_1</th><th>spiralnumber_2</th><th>spiralnumber_3</th><th>spiralnumber_4</th><th>spiralnumber_more_than_4</th><th>bulgeshape_total</th><th>bulgeshape_rounded</th><th>bulgeshape_boxy</th><th>bulgeshape_no_bulge</th><th>round_total</th><th>round_completely_round</th><th>round_in_between</th><th>round_cigar_shaped</th><th>mergers_total</th><th>mergers_merging</th><th>mergers_tidal_debris</th><th>mergers_both</th><th>mergers_neither</th><th>oddtype_total</th><th>oddtype_none</th><th>oddtype_ring</th><th>oddtype_lens_or_arc</th><th>oddtype_irregular</th><th>oddtype_other</th><th>oddtype_dust_lane</th><th>oddtype_overlapping</th><th>discuss_total</th><th>discuss_yes</th><th>discuss_no</th><th>odd_total</th><th>features_smooth_frac</th><th>survey_id</th><th>zooniverse_id</th></tr></thead>\n",
       "<thead><tr><th>str24</th><th>int64</th><th>int64</th><th>int64</th><th>int64</th><th>int64</th><th>int64</th><th>int64</th><th>int64</th><th>int64</th><th>int64</th><th>int64</th><th>int64</th><th>int64</th><th>int64</th><th>int64</th><th>int64</th><th>int64</th><th>int64</th><th>int64</th><th>int64</th><th>int64</th><th>int64</th><th>int64</th><th>int64</th><th>int64</th><th>int64</th><th>int64</th><th>int64</th><th>int64</th><th>int64</th><th>int64</th><th>int64</th><th>int64</th><th>int64</th><th>int64</th><th>int64</th><th>int64</th><th>int64</th><th>int64</th><th>int64</th><th>int64</th><th>int64</th><th>int64</th><th>int64</th><th>int64</th><th>int64</th><th>int64</th><th>int64</th><th>int64</th><th>int64</th><th>int64</th><th>float64</th><th>str10</th><th>str10</th></tr></thead>\n",
       "<tr><td>56f3daf85925d90042018ee9</td><td>40</td><td>31</td><td>3</td><td>31</td><td>3</td><td>28</td><td>28</td><td>4</td><td>24</td><td>28</td><td>3</td><td>25</td><td>28</td><td>0</td><td>6</td><td>22</td><td>3</td><td>2</td><td>0</td><td>1</td><td>3</td><td>0</td><td>2</td><td>0</td><td>0</td><td>1</td><td>3</td><td>2</td><td>1</td><td>0</td><td>6</td><td>2</td><td>4</td><td>0</td><td>37</td><td>0</td><td>6</td><td>1</td><td>30</td><td>46</td><td>0</td><td>34</td><td>1</td><td>2</td><td>4</td><td>4</td><td>1</td><td>40</td><td>8</td><td>32</td><td>37</td><td>0.15</td><td>NSA_0</td><td>AGZ000bi3l</td></tr>\n",
       "<tr><td>56f3daf85925d90042018eeb</td><td>40</td><td>5</td><td>6</td><td>5</td><td>0</td><td>5</td><td>5</td><td>0</td><td>5</td><td>5</td><td>0</td><td>5</td><td>5</td><td>0</td><td>3</td><td>2</td><td>0</td><td>0</td><td>0</td><td>0</td><td>0</td><td>0</td><td>0</td><td>0</td><td>0</td><td>0</td><td>0</td><td>0</td><td>0</td><td>0</td><td>29</td><td>25</td><td>4</td><td>0</td><td>34</td><td>2</td><td>4</td><td>0</td><td>28</td><td>15</td><td>11</td><td>0</td><td>0</td><td>1</td><td>2</td><td>1</td><td>0</td><td>40</td><td>1</td><td>39</td><td>34</td><td>0.725</td><td>NSA_3</td><td>AGZ000bi3j</td></tr>\n",
       "<tr><td>56f3daf85925d90042018eed</td><td>40</td><td>18</td><td>3</td><td>18</td><td>6</td><td>12</td><td>12</td><td>6</td><td>6</td><td>12</td><td>5</td><td>7</td><td>12</td><td>6</td><td>6</td><td>0</td><td>5</td><td>1</td><td>2</td><td>2</td><td>5</td><td>0</td><td>4</td><td>0</td><td>0</td><td>1</td><td>6</td><td>1</td><td>3</td><td>2</td><td>19</td><td>0</td><td>17</td><td>2</td><td>37</td><td>1</td><td>1</td><td>1</td><td>34</td><td>16</td><td>9</td><td>2</td><td>1</td><td>1</td><td>1</td><td>1</td><td>1</td><td>40</td><td>3</td><td>37</td><td>37</td><td>0.475</td><td>NSA_4</td><td>AGZ000bi3k</td></tr>\n",
       "<tr><td>56f3daf85925d90042018eef</td><td>40</td><td>2</td><td>6</td><td>2</td><td>1</td><td>1</td><td>1</td><td>0</td><td>1</td><td>1</td><td>0</td><td>1</td><td>1</td><td>1</td><td>0</td><td>0</td><td>0</td><td>0</td><td>0</td><td>0</td><td>0</td><td>0</td><td>0</td><td>0</td><td>0</td><td>0</td><td>1</td><td>1</td><td>0</td><td>0</td><td>32</td><td>21</td><td>11</td><td>0</td><td>34</td><td>2</td><td>1</td><td>0</td><td>31</td><td>12</td><td>9</td><td>1</td><td>0</td><td>1</td><td>1</td><td>0</td><td>0</td><td>40</td><td>0</td><td>40</td><td>34</td><td>0.8</td><td>NSA_5</td><td>AGZ000bi3h</td></tr>\n",
       "<tr><td>56f3daf85925d90042018ef1</td><td>40</td><td>2</td><td>8</td><td>2</td><td>1</td><td>1</td><td>1</td><td>0</td><td>1</td><td>1</td><td>0</td><td>1</td><td>1</td><td>0</td><td>1</td><td>0</td><td>0</td><td>0</td><td>0</td><td>0</td><td>0</td><td>0</td><td>0</td><td>0</td><td>0</td><td>0</td><td>1</td><td>0</td><td>1</td><td>0</td><td>30</td><td>14</td><td>16</td><td>0</td><td>32</td><td>3</td><td>3</td><td>0</td><td>26</td><td>16</td><td>8</td><td>0</td><td>1</td><td>2</td><td>3</td><td>0</td><td>2</td><td>40</td><td>2</td><td>38</td><td>32</td><td>0.75</td><td>NSA_7</td><td>AGZ000bi3i</td></tr>\n",
       "<tr><td>56f3daf85925d90042018ef3</td><td>40</td><td>6</td><td>8</td><td>6</td><td>2</td><td>4</td><td>4</td><td>0</td><td>4</td><td>4</td><td>0</td><td>4</td><td>4</td><td>0</td><td>4</td><td>0</td><td>0</td><td>0</td><td>0</td><td>0</td><td>0</td><td>0</td><td>0</td><td>0</td><td>0</td><td>0</td><td>2</td><td>1</td><td>1</td><td>0</td><td>26</td><td>26</td><td>0</td><td>0</td><td>32</td><td>14</td><td>2</td><td>1</td><td>15</td><td>27</td><td>5</td><td>0</td><td>4</td><td>1</td><td>7</td><td>1</td><td>9</td><td>40</td><td>2</td><td>38</td><td>32</td><td>0.65</td><td>NSA_11</td><td>AGZ000bi3f</td></tr>\n",
       "<tr><td>56f3daf85925d90042018ef5</td><td>40</td><td>28</td><td>5</td><td>28</td><td>19</td><td>9</td><td>9</td><td>2</td><td>7</td><td>9</td><td>6</td><td>3</td><td>9</td><td>0</td><td>9</td><td>0</td><td>6</td><td>1</td><td>1</td><td>4</td><td>6</td><td>0</td><td>5</td><td>1</td><td>0</td><td>0</td><td>19</td><td>16</td><td>2</td><td>1</td><td>7</td><td>0</td><td>1</td><td>6</td><td>35</td><td>5</td><td>8</td><td>6</td><td>16</td><td>18</td><td>9</td><td>1</td><td>0</td><td>4</td><td>2</td><td>2</td><td>0</td><td>40</td><td>3</td><td>37</td><td>35</td><td>0.175</td><td>NSA_12</td><td>AGZ000bi3g</td></tr>\n",
       "<tr><td>56f3daf85925d90042018ef7</td><td>40</td><td>7</td><td>6</td><td>7</td><td>1</td><td>6</td><td>6</td><td>0</td><td>6</td><td>6</td><td>0</td><td>6</td><td>6</td><td>0</td><td>2</td><td>4</td><td>0</td><td>0</td><td>0</td><td>0</td><td>0</td><td>0</td><td>0</td><td>0</td><td>0</td><td>0</td><td>1</td><td>0</td><td>0</td><td>1</td><td>27</td><td>25</td><td>2</td><td>0</td><td>34</td><td>27</td><td>1</td><td>2</td><td>4</td><td>20</td><td>5</td><td>0</td><td>0</td><td>1</td><td>7</td><td>2</td><td>5</td><td>40</td><td>1</td><td>39</td><td>34</td><td>0.675</td><td>NSA_13</td><td>AGZ000bi3d</td></tr>\n",
       "<tr><td>56f3daf85925d90042018ef9</td><td>40</td><td>4</td><td>12</td><td>4</td><td>1</td><td>3</td><td>3</td><td>1</td><td>2</td><td>3</td><td>0</td><td>3</td><td>3</td><td>1</td><td>1</td><td>1</td><td>0</td><td>0</td><td>0</td><td>0</td><td>0</td><td>0</td><td>0</td><td>0</td><td>0</td><td>0</td><td>1</td><td>1</td><td>0</td><td>0</td><td>24</td><td>13</td><td>11</td><td>0</td><td>28</td><td>5</td><td>1</td><td>0</td><td>22</td><td>14</td><td>11</td><td>2</td><td>0</td><td>0</td><td>0</td><td>0</td><td>1</td><td>40</td><td>2</td><td>38</td><td>28</td><td>0.6</td><td>NSA_16</td><td>AGZ000bi3e</td></tr>\n",
       "<tr><td>56f3daf85925d90042018efb</td><td>40</td><td>32</td><td>2</td><td>32</td><td>5</td><td>27</td><td>27</td><td>15</td><td>12</td><td>27</td><td>21</td><td>6</td><td>27</td><td>2</td><td>22</td><td>3</td><td>21</td><td>0</td><td>11</td><td>10</td><td>21</td><td>2</td><td>17</td><td>0</td><td>1</td><td>1</td><td>5</td><td>1</td><td>3</td><td>1</td><td>6</td><td>4</td><td>2</td><td>0</td><td>38</td><td>3</td><td>9</td><td>4</td><td>22</td><td>23</td><td>14</td><td>0</td><td>0</td><td>3</td><td>2</td><td>1</td><td>3</td><td>40</td><td>2</td><td>38</td><td>38</td><td>0.15</td><td>NSA_17</td><td>AGZ000bi3b</td></tr>\n",
       "<tr><td>...</td><td>...</td><td>...</td><td>...</td><td>...</td><td>...</td><td>...</td><td>...</td><td>...</td><td>...</td><td>...</td><td>...</td><td>...</td><td>...</td><td>...</td><td>...</td><td>...</td><td>...</td><td>...</td><td>...</td><td>...</td><td>...</td><td>...</td><td>...</td><td>...</td><td>...</td><td>...</td><td>...</td><td>...</td><td>...</td><td>...</td><td>...</td><td>...</td><td>...</td><td>...</td><td>...</td><td>...</td><td>...</td><td>...</td><td>...</td><td>...</td><td>...</td><td>...</td><td>...</td><td>...</td><td>...</td><td>...</td><td>...</td><td>...</td><td>...</td><td>...</td><td>...</td><td>...</td><td>...</td><td>...</td></tr>\n",
       "<tr><td>56f3deb65925d9004203700b</td><td>40</td><td>12</td><td>8</td><td>12</td><td>11</td><td>1</td><td>1</td><td>1</td><td>0</td><td>1</td><td>0</td><td>1</td><td>1</td><td>0</td><td>0</td><td>1</td><td>0</td><td>0</td><td>0</td><td>0</td><td>0</td><td>0</td><td>0</td><td>0</td><td>0</td><td>0</td><td>11</td><td>7</td><td>0</td><td>4</td><td>20</td><td>0</td><td>4</td><td>16</td><td>32</td><td>0</td><td>20</td><td>1</td><td>11</td><td>19</td><td>15</td><td>0</td><td>0</td><td>0</td><td>3</td><td>1</td><td>0</td><td>40</td><td>3</td><td>37</td><td>32</td><td>0.5</td><td>NSA_698445</td><td>AGZ000bi3w</td></tr>\n",
       "<tr><td>56f3deb65925d9004203700d</td><td>40</td><td>28</td><td>4</td><td>28</td><td>26</td><td>2</td><td>2</td><td>1</td><td>1</td><td>2</td><td>1</td><td>1</td><td>2</td><td>0</td><td>2</td><td>0</td><td>1</td><td>0</td><td>0</td><td>1</td><td>1</td><td>0</td><td>1</td><td>0</td><td>0</td><td>0</td><td>26</td><td>25</td><td>1</td><td>0</td><td>8</td><td>1</td><td>0</td><td>7</td><td>36</td><td>5</td><td>1</td><td>2</td><td>28</td><td>24</td><td>18</td><td>2</td><td>0</td><td>0</td><td>1</td><td>1</td><td>2</td><td>40</td><td>2</td><td>38</td><td>36</td><td>0.2</td><td>NSA_698450</td><td>AGZ000bi3t</td></tr>\n",
       "<tr><td>56f3deb65925d9004203700f</td><td>40</td><td>12</td><td>9</td><td>12</td><td>0</td><td>12</td><td>12</td><td>0</td><td>12</td><td>12</td><td>0</td><td>12</td><td>12</td><td>6</td><td>5</td><td>1</td><td>0</td><td>0</td><td>0</td><td>0</td><td>0</td><td>0</td><td>0</td><td>0</td><td>0</td><td>0</td><td>0</td><td>0</td><td>0</td><td>0</td><td>19</td><td>15</td><td>4</td><td>0</td><td>31</td><td>2</td><td>5</td><td>2</td><td>22</td><td>29</td><td>4</td><td>0</td><td>3</td><td>12</td><td>5</td><td>0</td><td>5</td><td>40</td><td>3</td><td>37</td><td>31</td><td>0.475</td><td>NSA_698451</td><td>AGZ000bi3u</td></tr>\n",
       "<tr><td>56f3deb65925d90042037011</td><td>40</td><td>3</td><td>19</td><td>3</td><td>1</td><td>2</td><td>2</td><td>0</td><td>2</td><td>2</td><td>0</td><td>2</td><td>2</td><td>1</td><td>1</td><td>0</td><td>0</td><td>0</td><td>0</td><td>0</td><td>0</td><td>0</td><td>0</td><td>0</td><td>0</td><td>0</td><td>1</td><td>0</td><td>1</td><td>0</td><td>18</td><td>2</td><td>14</td><td>2</td><td>21</td><td>2</td><td>5</td><td>0</td><td>14</td><td>10</td><td>7</td><td>0</td><td>0</td><td>1</td><td>1</td><td>0</td><td>1</td><td>40</td><td>1</td><td>39</td><td>21</td><td>0.45</td><td>NSA_698452</td><td>AGZ000bi3r</td></tr>\n",
       "<tr><td>56f3deb65925d90042037013</td><td>41</td><td>19</td><td>2</td><td>19</td><td>16</td><td>3</td><td>3</td><td>2</td><td>1</td><td>3</td><td>1</td><td>2</td><td>3</td><td>2</td><td>1</td><td>0</td><td>1</td><td>0</td><td>0</td><td>1</td><td>1</td><td>0</td><td>1</td><td>0</td><td>0</td><td>0</td><td>16</td><td>2</td><td>5</td><td>9</td><td>20</td><td>0</td><td>0</td><td>20</td><td>39</td><td>4</td><td>3</td><td>1</td><td>31</td><td>24</td><td>16</td><td>0</td><td>1</td><td>0</td><td>5</td><td>0</td><td>2</td><td>41</td><td>2</td><td>39</td><td>39</td><td>0.487804878049</td><td>NSA_698454</td><td>AGZ000bi3s</td></tr>\n",
       "<tr><td>56f3deb65925d90042037015</td><td>40</td><td>12</td><td>22</td><td>12</td><td>0</td><td>12</td><td>12</td><td>3</td><td>9</td><td>12</td><td>6</td><td>6</td><td>12</td><td>6</td><td>6</td><td>0</td><td>6</td><td>1</td><td>1</td><td>4</td><td>6</td><td>0</td><td>6</td><td>0</td><td>0</td><td>0</td><td>0</td><td>0</td><td>0</td><td>0</td><td>6</td><td>4</td><td>1</td><td>1</td><td>18</td><td>5</td><td>2</td><td>0</td><td>11</td><td>12</td><td>1</td><td>1</td><td>0</td><td>6</td><td>2</td><td>1</td><td>1</td><td>40</td><td>0</td><td>40</td><td>18</td><td>0.15</td><td>NSA_698455</td><td>AGZ000bi3p</td></tr>\n",
       "<tr><td>56f3deb65925d90042037017</td><td>40</td><td>15</td><td>4</td><td>15</td><td>0</td><td>15</td><td>15</td><td>3</td><td>12</td><td>15</td><td>7</td><td>8</td><td>15</td><td>5</td><td>9</td><td>1</td><td>7</td><td>1</td><td>1</td><td>5</td><td>7</td><td>1</td><td>6</td><td>0</td><td>0</td><td>0</td><td>0</td><td>0</td><td>0</td><td>0</td><td>21</td><td>17</td><td>4</td><td>0</td><td>36</td><td>10</td><td>1</td><td>3</td><td>22</td><td>19</td><td>10</td><td>0</td><td>0</td><td>3</td><td>5</td><td>0</td><td>1</td><td>40</td><td>0</td><td>40</td><td>36</td><td>0.525</td><td>NSA_698456</td><td>AGZ000bi3q</td></tr>\n",
       "<tr><td>56f3deb65925d90042037019</td><td>40</td><td>15</td><td>3</td><td>15</td><td>11</td><td>4</td><td>4</td><td>0</td><td>4</td><td>4</td><td>0</td><td>4</td><td>4</td><td>1</td><td>3</td><td>0</td><td>0</td><td>0</td><td>0</td><td>0</td><td>0</td><td>0</td><td>0</td><td>0</td><td>0</td><td>0</td><td>11</td><td>11</td><td>0</td><td>0</td><td>22</td><td>2</td><td>16</td><td>4</td><td>37</td><td>20</td><td>0</td><td>4</td><td>13</td><td>25</td><td>7</td><td>0</td><td>0</td><td>1</td><td>3</td><td>0</td><td>14</td><td>40</td><td>4</td><td>36</td><td>37</td><td>0.55</td><td>NSA_698458</td><td>AGZ000bi3n</td></tr>\n",
       "<tr><td>56f3deb65925d9004203701b</td><td>40</td><td>2</td><td>8</td><td>2</td><td>0</td><td>2</td><td>2</td><td>0</td><td>2</td><td>2</td><td>0</td><td>2</td><td>2</td><td>0</td><td>0</td><td>2</td><td>0</td><td>0</td><td>0</td><td>0</td><td>0</td><td>0</td><td>0</td><td>0</td><td>0</td><td>0</td><td>0</td><td>0</td><td>0</td><td>0</td><td>30</td><td>26</td><td>3</td><td>1</td><td>32</td><td>3</td><td>3</td><td>0</td><td>26</td><td>17</td><td>9</td><td>0</td><td>0</td><td>0</td><td>3</td><td>0</td><td>5</td><td>39</td><td>2</td><td>37</td><td>32</td><td>0.75</td><td>NSA_698459</td><td>AGZ000bi3o</td></tr>\n",
       "<tr><td>56f3deb65925d9004203701d</td><td>40</td><td>27</td><td>4</td><td>27</td><td>5</td><td>22</td><td>22</td><td>4</td><td>18</td><td>22</td><td>12</td><td>10</td><td>22</td><td>11</td><td>10</td><td>1</td><td>12</td><td>5</td><td>5</td><td>2</td><td>12</td><td>1</td><td>9</td><td>1</td><td>1</td><td>0</td><td>5</td><td>3</td><td>1</td><td>1</td><td>9</td><td>0</td><td>9</td><td>0</td><td>36</td><td>8</td><td>7</td><td>2</td><td>19</td><td>29</td><td>6</td><td>1</td><td>2</td><td>7</td><td>5</td><td>0</td><td>8</td><td>40</td><td>4</td><td>36</td><td>36</td><td>0.225</td><td>NSA_698540</td><td>AGZ000bi3m</td></tr>\n",
       "</table>"
      ],
      "text/plain": [
       "<Table masked=True length=61594>\n",
       "       subject_id        features_total ... survey_id  zooniverse_id\n",
       "         str24               int64      ...   str10        str10    \n",
       "------------------------ -------------- ... ---------- -------------\n",
       "56f3daf85925d90042018ee9             40 ...      NSA_0    AGZ000bi3l\n",
       "56f3daf85925d90042018eeb             40 ...      NSA_3    AGZ000bi3j\n",
       "56f3daf85925d90042018eed             40 ...      NSA_4    AGZ000bi3k\n",
       "56f3daf85925d90042018eef             40 ...      NSA_5    AGZ000bi3h\n",
       "56f3daf85925d90042018ef1             40 ...      NSA_7    AGZ000bi3i\n",
       "56f3daf85925d90042018ef3             40 ...     NSA_11    AGZ000bi3f\n",
       "56f3daf85925d90042018ef5             40 ...     NSA_12    AGZ000bi3g\n",
       "56f3daf85925d90042018ef7             40 ...     NSA_13    AGZ000bi3d\n",
       "56f3daf85925d90042018ef9             40 ...     NSA_16    AGZ000bi3e\n",
       "56f3daf85925d90042018efb             40 ...     NSA_17    AGZ000bi3b\n",
       "                     ...            ... ...        ...           ...\n",
       "56f3deb65925d9004203700b             40 ... NSA_698445    AGZ000bi3w\n",
       "56f3deb65925d9004203700d             40 ... NSA_698450    AGZ000bi3t\n",
       "56f3deb65925d9004203700f             40 ... NSA_698451    AGZ000bi3u\n",
       "56f3deb65925d90042037011             40 ... NSA_698452    AGZ000bi3r\n",
       "56f3deb65925d90042037013             41 ... NSA_698454    AGZ000bi3s\n",
       "56f3deb65925d90042037015             40 ... NSA_698455    AGZ000bi3p\n",
       "56f3deb65925d90042037017             40 ... NSA_698456    AGZ000bi3q\n",
       "56f3deb65925d90042037019             40 ... NSA_698458    AGZ000bi3n\n",
       "56f3deb65925d9004203701b             40 ... NSA_698459    AGZ000bi3o\n",
       "56f3deb65925d9004203701d             40 ... NSA_698540    AGZ000bi3m"
      ]
     },
     "execution_count": 6,
     "metadata": {},
     "output_type": "execute_result"
    }
   ],
   "source": [
    "outdata"
   ]
  },
  {
   "cell_type": "code",
   "execution_count": 7,
   "metadata": {
    "scrolled": true
   },
   "outputs": [],
   "source": [
    "outdata.write('galaxy_zoo_{}_{}.fits'.format(subjectset, date), overwrite=True)"
   ]
  }
 ],
 "metadata": {
  "_draft": {
   "nbviewer_url": "https://gist.github.com/df1c052dd0ed94d9ec2dc1e98d060366"
  },
  "gist": {
   "data": {
    "description": "First look at GAMA GZ data",
    "public": false
   },
   "id": "df1c052dd0ed94d9ec2dc1e98d060366"
  },
  "hide_input": false,
  "kernelspec": {
   "display_name": "Python [default]",
   "language": "python",
   "name": "python3"
  },
  "language_info": {
   "codemirror_mode": {
    "name": "ipython",
    "version": 3
   },
   "file_extension": ".py",
   "mimetype": "text/x-python",
   "name": "python",
   "nbconvert_exporter": "python",
   "pygments_lexer": "ipython3",
   "version": "3.6.1"
  },
  "latex_envs": {
   "LaTeX_envs_menu_present": true,
   "autocomplete": true,
   "bibliofile": "biblio.bib",
   "cite_by": "apalike",
   "current_citInitial": 1,
   "eqLabelWithNumbers": true,
   "eqNumInitial": 1,
   "hotkeys": {
    "equation": "Ctrl-E",
    "itemize": "Ctrl-I"
   },
   "labels_anchors": false,
   "latex_user_defs": false,
   "report_style_numbering": false,
   "user_envs_cfg": false
  }
 },
 "nbformat": 4,
 "nbformat_minor": 1
}
