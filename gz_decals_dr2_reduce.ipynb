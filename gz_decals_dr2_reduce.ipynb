{
 "cells": [
  {
   "cell_type": "code",
   "execution_count": 1,
   "metadata": {
    "collapsed": false
   },
   "outputs": [],
   "source": [
    "from gz_reduce import reduce_data"
   ]
  },
  {
   "cell_type": "markdown",
   "metadata": {},
   "source": [
    "### Get the data"
   ]
  },
  {
   "cell_type": "code",
   "execution_count": 2,
   "metadata": {
    "collapsed": false
   },
   "outputs": [],
   "source": [
    "# %%bash\n",
    "# # get the gama tree definition\n",
    "# curl -O https://raw.githubusercontent.com/zooniverse/Galaxy-Zoo/master/app/lib/decals_tree.coffee"
   ]
  },
  {
   "cell_type": "code",
   "execution_count": 3,
   "metadata": {
    "collapsed": false
   },
   "outputs": [],
   "source": [
    "# %%bash\n",
    "# # get the DR2 database dump\n",
    "# url=\"\"\n",
    "# curl $url | tar xz"
   ]
  },
  {
   "cell_type": "markdown",
   "metadata": {},
   "source": [
    "### Run the reduction"
   ]
  },
  {
   "cell_type": "code",
   "execution_count": 4,
   "metadata": {
    "collapsed": true
   },
   "outputs": [],
   "source": [
    "date='2017-06-18'"
   ]
  },
  {
   "cell_type": "code",
   "execution_count": 5,
   "metadata": {
    "collapsed": false
   },
   "outputs": [],
   "source": [
    "outdata_dr2 = reduce_data(date, tree='decals', subjectset='decals_dr2',\n",
    "                         survey_id_field='nsa_id',\n",
    "                         subjectcat='galaxy_zoo_subjects_lee.csv.gz')"
   ]
  },
  {
   "cell_type": "code",
   "execution_count": 6,
   "metadata": {
    "collapsed": false
   },
   "outputs": [
    {
     "data": {
      "text/html": [
       "&lt;Table masked=True length=61594&gt;\n",
       "<table id=\"table4737481528\" class=\"table-striped table-bordered table-condensed\">\n",
       "<thead><tr><th>subject_id</th><th>shape_total</th><th>shape_smooth</th><th>shape_features_or_disk</th><th>shape_star_or_artifact</th><th>disk_total</th><th>disk_yes</th><th>disk_no</th><th>bar_total</th><th>bar_bar</th><th>bar_no_bar</th><th>spiral_a_total</th><th>spiral_a_spiral</th><th>spiral_a_no_spiral</th><th>bulge_a_total</th><th>bulge_a_no_bulge</th><th>bulge_a_obvious</th><th>bulge_a_dominant</th><th>spiral_b_total</th><th>spiral_b_tight</th><th>spiral_b_medium</th><th>spiral_b_loose</th><th>spiral_c_total</th><th>spiral_c_1</th><th>spiral_c_2</th><th>spiral_c_3</th><th>spiral_c_4</th><th>spiral_c_more_than_4</th><th>bulge_b_total</th><th>bulge_b_rounded</th><th>bulge_b_boxy</th><th>bulge_b_no_bulge</th><th>round_total</th><th>round_completely_round</th><th>round_in_between</th><th>round_cigar_shaped</th><th>mergers_total</th><th>mergers_merging</th><th>mergers_tidal_debris</th><th>mergers_both</th><th>mergers_neither</th><th>odd_total</th><th>odd_none</th><th>odd_ring</th><th>odd_lens_or_arc</th><th>odd_irregular</th><th>odd_other</th><th>odd_dust_lane</th><th>odd_overlapping</th><th>discuss_total</th><th>discuss_yes</th><th>discuss_no</th><th>shape_smooth_frac</th><th>shape_features_or_disk_frac</th><th>shape_star_or_artifact_frac</th><th>disk_yes_frac</th><th>disk_no_frac</th><th>bar_bar_frac</th><th>bar_no_bar_frac</th><th>spiral_a_spiral_frac</th><th>spiral_a_no_spiral_frac</th><th>bulge_a_no_bulge_frac</th><th>bulge_a_obvious_frac</th><th>bulge_a_dominant_frac</th><th>spiral_b_tight_frac</th><th>spiral_b_medium_frac</th><th>spiral_b_loose_frac</th><th>spiral_c_1_frac</th><th>spiral_c_2_frac</th><th>spiral_c_3_frac</th><th>spiral_c_4_frac</th><th>spiral_c_more_than_4_frac</th><th>bulge_b_rounded_frac</th><th>bulge_b_boxy_frac</th><th>bulge_b_no_bulge_frac</th><th>round_completely_round_frac</th><th>round_in_between_frac</th><th>round_cigar_shaped_frac</th><th>mergers_merging_frac</th><th>mergers_tidal_debris_frac</th><th>mergers_both_frac</th><th>mergers_neither_frac</th><th>odd_none_frac</th><th>odd_ring_frac</th><th>odd_lens_or_arc_frac</th><th>odd_irregular_frac</th><th>odd_other_frac</th><th>odd_dust_lane_frac</th><th>odd_overlapping_frac</th><th>discuss_yes_frac</th><th>discuss_no_frac</th><th>survey_id</th><th>zooniverse_id</th></tr></thead>\n",
       "<thead><tr><th>str24</th><th>int64</th><th>int64</th><th>int64</th><th>int64</th><th>int64</th><th>int64</th><th>int64</th><th>int64</th><th>int64</th><th>int64</th><th>int64</th><th>int64</th><th>int64</th><th>int64</th><th>int64</th><th>int64</th><th>int64</th><th>int64</th><th>int64</th><th>int64</th><th>int64</th><th>int64</th><th>int64</th><th>int64</th><th>int64</th><th>int64</th><th>int64</th><th>int64</th><th>int64</th><th>int64</th><th>int64</th><th>int64</th><th>int64</th><th>int64</th><th>int64</th><th>int64</th><th>int64</th><th>int64</th><th>int64</th><th>int64</th><th>int64</th><th>int64</th><th>int64</th><th>int64</th><th>int64</th><th>int64</th><th>int64</th><th>int64</th><th>int64</th><th>int64</th><th>int64</th><th>float64</th><th>float64</th><th>float64</th><th>float64</th><th>float64</th><th>float64</th><th>float64</th><th>float64</th><th>float64</th><th>float64</th><th>float64</th><th>float64</th><th>float64</th><th>float64</th><th>float64</th><th>float64</th><th>float64</th><th>float64</th><th>float64</th><th>float64</th><th>float64</th><th>float64</th><th>float64</th><th>float64</th><th>float64</th><th>float64</th><th>float64</th><th>float64</th><th>float64</th><th>float64</th><th>float64</th><th>float64</th><th>float64</th><th>float64</th><th>float64</th><th>float64</th><th>float64</th><th>float64</th><th>float64</th><th>str10</th><th>str10</th></tr></thead>\n",
       "<tr><td>56f3daf85925d90042018ee9</td><td>40</td><td>6</td><td>31</td><td>3</td><td>31</td><td>3</td><td>28</td><td>28</td><td>4</td><td>24</td><td>28</td><td>3</td><td>25</td><td>28</td><td>0</td><td>6</td><td>22</td><td>3</td><td>2</td><td>0</td><td>1</td><td>3</td><td>0</td><td>2</td><td>0</td><td>0</td><td>1</td><td>3</td><td>2</td><td>1</td><td>0</td><td>6</td><td>2</td><td>4</td><td>0</td><td>37</td><td>0</td><td>6</td><td>1</td><td>30</td><td>37</td><td>0</td><td>34</td><td>1</td><td>2</td><td>4</td><td>4</td><td>1</td><td>40</td><td>8</td><td>32</td><td>0.15</td><td>0.775</td><td>0.075</td><td>0.0967741935484</td><td>0.903225806452</td><td>0.142857142857</td><td>0.857142857143</td><td>0.107142857143</td><td>0.892857142857</td><td>0.0</td><td>0.214285714286</td><td>0.785714285714</td><td>0.666666666667</td><td>0.0</td><td>0.333333333333</td><td>0.0</td><td>0.666666666667</td><td>0.0</td><td>0.0</td><td>0.333333333333</td><td>0.666666666667</td><td>0.333333333333</td><td>0.0</td><td>0.333333333333</td><td>0.666666666667</td><td>0.0</td><td>0.0</td><td>0.162162162162</td><td>0.027027027027</td><td>0.810810810811</td><td>0.0</td><td>0.918918918919</td><td>0.027027027027</td><td>0.0540540540541</td><td>0.108108108108</td><td>0.108108108108</td><td>0.027027027027</td><td>0.2</td><td>0.8</td><td>NSA_0</td><td>AGZ000bi3l</td></tr>\n",
       "<tr><td>56f3daf85925d90042018eeb</td><td>40</td><td>29</td><td>5</td><td>6</td><td>5</td><td>0</td><td>5</td><td>5</td><td>0</td><td>5</td><td>5</td><td>0</td><td>5</td><td>5</td><td>0</td><td>3</td><td>2</td><td>0</td><td>0</td><td>0</td><td>0</td><td>0</td><td>0</td><td>0</td><td>0</td><td>0</td><td>0</td><td>0</td><td>0</td><td>0</td><td>0</td><td>29</td><td>25</td><td>4</td><td>0</td><td>34</td><td>2</td><td>4</td><td>0</td><td>28</td><td>34</td><td>11</td><td>0</td><td>0</td><td>1</td><td>2</td><td>1</td><td>0</td><td>40</td><td>1</td><td>39</td><td>0.725</td><td>0.125</td><td>0.15</td><td>0.0</td><td>1.0</td><td>0.0</td><td>1.0</td><td>0.0</td><td>1.0</td><td>0.0</td><td>0.6</td><td>0.4</td><td>--</td><td>--</td><td>--</td><td>--</td><td>--</td><td>--</td><td>--</td><td>--</td><td>--</td><td>--</td><td>--</td><td>0.862068965517</td><td>0.137931034483</td><td>0.0</td><td>0.0588235294118</td><td>0.117647058824</td><td>0.0</td><td>0.823529411765</td><td>0.323529411765</td><td>0.0</td><td>0.0</td><td>0.0294117647059</td><td>0.0588235294118</td><td>0.0294117647059</td><td>0.0</td><td>0.025</td><td>0.975</td><td>NSA_3</td><td>AGZ000bi3j</td></tr>\n",
       "<tr><td>56f3daf85925d90042018eed</td><td>40</td><td>19</td><td>18</td><td>3</td><td>18</td><td>6</td><td>12</td><td>12</td><td>6</td><td>6</td><td>12</td><td>5</td><td>7</td><td>12</td><td>6</td><td>6</td><td>0</td><td>5</td><td>1</td><td>2</td><td>2</td><td>5</td><td>0</td><td>4</td><td>0</td><td>0</td><td>1</td><td>6</td><td>1</td><td>3</td><td>2</td><td>19</td><td>0</td><td>17</td><td>2</td><td>37</td><td>1</td><td>1</td><td>1</td><td>34</td><td>37</td><td>9</td><td>2</td><td>1</td><td>1</td><td>1</td><td>1</td><td>1</td><td>40</td><td>3</td><td>37</td><td>0.475</td><td>0.45</td><td>0.075</td><td>0.333333333333</td><td>0.666666666667</td><td>0.5</td><td>0.5</td><td>0.416666666667</td><td>0.583333333333</td><td>0.5</td><td>0.5</td><td>0.0</td><td>0.2</td><td>0.4</td><td>0.4</td><td>0.0</td><td>0.8</td><td>0.0</td><td>0.0</td><td>0.2</td><td>0.166666666667</td><td>0.5</td><td>0.333333333333</td><td>0.0</td><td>0.894736842105</td><td>0.105263157895</td><td>0.027027027027</td><td>0.027027027027</td><td>0.027027027027</td><td>0.918918918919</td><td>0.243243243243</td><td>0.0540540540541</td><td>0.027027027027</td><td>0.027027027027</td><td>0.027027027027</td><td>0.027027027027</td><td>0.027027027027</td><td>0.075</td><td>0.925</td><td>NSA_4</td><td>AGZ000bi3k</td></tr>\n",
       "<tr><td>56f3daf85925d90042018eef</td><td>40</td><td>32</td><td>2</td><td>6</td><td>2</td><td>1</td><td>1</td><td>1</td><td>0</td><td>1</td><td>1</td><td>0</td><td>1</td><td>1</td><td>1</td><td>0</td><td>0</td><td>0</td><td>0</td><td>0</td><td>0</td><td>0</td><td>0</td><td>0</td><td>0</td><td>0</td><td>0</td><td>1</td><td>1</td><td>0</td><td>0</td><td>32</td><td>21</td><td>11</td><td>0</td><td>34</td><td>2</td><td>1</td><td>0</td><td>31</td><td>34</td><td>9</td><td>1</td><td>0</td><td>1</td><td>1</td><td>0</td><td>0</td><td>40</td><td>0</td><td>40</td><td>0.8</td><td>0.05</td><td>0.15</td><td>0.5</td><td>0.5</td><td>0.0</td><td>1.0</td><td>0.0</td><td>1.0</td><td>1.0</td><td>0.0</td><td>0.0</td><td>--</td><td>--</td><td>--</td><td>--</td><td>--</td><td>--</td><td>--</td><td>--</td><td>1.0</td><td>0.0</td><td>0.0</td><td>0.65625</td><td>0.34375</td><td>0.0</td><td>0.0588235294118</td><td>0.0294117647059</td><td>0.0</td><td>0.911764705882</td><td>0.264705882353</td><td>0.0294117647059</td><td>0.0</td><td>0.0294117647059</td><td>0.0294117647059</td><td>0.0</td><td>0.0</td><td>0.0</td><td>1.0</td><td>NSA_5</td><td>AGZ000bi3h</td></tr>\n",
       "<tr><td>56f3daf85925d90042018ef1</td><td>40</td><td>30</td><td>2</td><td>8</td><td>2</td><td>1</td><td>1</td><td>1</td><td>0</td><td>1</td><td>1</td><td>0</td><td>1</td><td>1</td><td>0</td><td>1</td><td>0</td><td>0</td><td>0</td><td>0</td><td>0</td><td>0</td><td>0</td><td>0</td><td>0</td><td>0</td><td>0</td><td>1</td><td>0</td><td>1</td><td>0</td><td>30</td><td>14</td><td>16</td><td>0</td><td>32</td><td>3</td><td>3</td><td>0</td><td>26</td><td>32</td><td>8</td><td>0</td><td>1</td><td>2</td><td>3</td><td>0</td><td>2</td><td>40</td><td>2</td><td>38</td><td>0.75</td><td>0.05</td><td>0.2</td><td>0.5</td><td>0.5</td><td>0.0</td><td>1.0</td><td>0.0</td><td>1.0</td><td>0.0</td><td>1.0</td><td>0.0</td><td>--</td><td>--</td><td>--</td><td>--</td><td>--</td><td>--</td><td>--</td><td>--</td><td>0.0</td><td>1.0</td><td>0.0</td><td>0.466666666667</td><td>0.533333333333</td><td>0.0</td><td>0.09375</td><td>0.09375</td><td>0.0</td><td>0.8125</td><td>0.25</td><td>0.0</td><td>0.03125</td><td>0.0625</td><td>0.09375</td><td>0.0</td><td>0.0625</td><td>0.05</td><td>0.95</td><td>NSA_7</td><td>AGZ000bi3i</td></tr>\n",
       "<tr><td>56f3daf85925d90042018ef3</td><td>40</td><td>26</td><td>6</td><td>8</td><td>6</td><td>2</td><td>4</td><td>4</td><td>0</td><td>4</td><td>4</td><td>0</td><td>4</td><td>4</td><td>0</td><td>4</td><td>0</td><td>0</td><td>0</td><td>0</td><td>0</td><td>0</td><td>0</td><td>0</td><td>0</td><td>0</td><td>0</td><td>2</td><td>1</td><td>1</td><td>0</td><td>26</td><td>26</td><td>0</td><td>0</td><td>32</td><td>14</td><td>2</td><td>1</td><td>15</td><td>32</td><td>5</td><td>0</td><td>4</td><td>1</td><td>7</td><td>1</td><td>9</td><td>40</td><td>2</td><td>38</td><td>0.65</td><td>0.15</td><td>0.2</td><td>0.333333333333</td><td>0.666666666667</td><td>0.0</td><td>1.0</td><td>0.0</td><td>1.0</td><td>0.0</td><td>1.0</td><td>0.0</td><td>--</td><td>--</td><td>--</td><td>--</td><td>--</td><td>--</td><td>--</td><td>--</td><td>0.5</td><td>0.5</td><td>0.0</td><td>1.0</td><td>0.0</td><td>0.0</td><td>0.4375</td><td>0.0625</td><td>0.03125</td><td>0.46875</td><td>0.15625</td><td>0.0</td><td>0.125</td><td>0.03125</td><td>0.21875</td><td>0.03125</td><td>0.28125</td><td>0.05</td><td>0.95</td><td>NSA_11</td><td>AGZ000bi3f</td></tr>\n",
       "<tr><td>56f3daf85925d90042018ef5</td><td>40</td><td>7</td><td>28</td><td>5</td><td>28</td><td>19</td><td>9</td><td>9</td><td>2</td><td>7</td><td>9</td><td>6</td><td>3</td><td>9</td><td>0</td><td>9</td><td>0</td><td>6</td><td>1</td><td>1</td><td>4</td><td>6</td><td>0</td><td>5</td><td>1</td><td>0</td><td>0</td><td>19</td><td>16</td><td>2</td><td>1</td><td>7</td><td>0</td><td>1</td><td>6</td><td>35</td><td>5</td><td>8</td><td>6</td><td>16</td><td>35</td><td>9</td><td>1</td><td>0</td><td>4</td><td>2</td><td>2</td><td>0</td><td>40</td><td>3</td><td>37</td><td>0.175</td><td>0.7</td><td>0.125</td><td>0.678571428571</td><td>0.321428571429</td><td>0.222222222222</td><td>0.777777777778</td><td>0.666666666667</td><td>0.333333333333</td><td>0.0</td><td>1.0</td><td>0.0</td><td>0.166666666667</td><td>0.166666666667</td><td>0.666666666667</td><td>0.0</td><td>0.833333333333</td><td>0.166666666667</td><td>0.0</td><td>0.0</td><td>0.842105263158</td><td>0.105263157895</td><td>0.0526315789474</td><td>0.0</td><td>0.142857142857</td><td>0.857142857143</td><td>0.142857142857</td><td>0.228571428571</td><td>0.171428571429</td><td>0.457142857143</td><td>0.257142857143</td><td>0.0285714285714</td><td>0.0</td><td>0.114285714286</td><td>0.0571428571429</td><td>0.0571428571429</td><td>0.0</td><td>0.075</td><td>0.925</td><td>NSA_12</td><td>AGZ000bi3g</td></tr>\n",
       "<tr><td>56f3daf85925d90042018ef7</td><td>40</td><td>27</td><td>7</td><td>6</td><td>7</td><td>1</td><td>6</td><td>6</td><td>0</td><td>6</td><td>6</td><td>0</td><td>6</td><td>6</td><td>0</td><td>2</td><td>4</td><td>0</td><td>0</td><td>0</td><td>0</td><td>0</td><td>0</td><td>0</td><td>0</td><td>0</td><td>0</td><td>1</td><td>0</td><td>0</td><td>1</td><td>27</td><td>25</td><td>2</td><td>0</td><td>34</td><td>27</td><td>1</td><td>2</td><td>4</td><td>34</td><td>5</td><td>0</td><td>0</td><td>1</td><td>7</td><td>2</td><td>5</td><td>40</td><td>1</td><td>39</td><td>0.675</td><td>0.175</td><td>0.15</td><td>0.142857142857</td><td>0.857142857143</td><td>0.0</td><td>1.0</td><td>0.0</td><td>1.0</td><td>0.0</td><td>0.333333333333</td><td>0.666666666667</td><td>--</td><td>--</td><td>--</td><td>--</td><td>--</td><td>--</td><td>--</td><td>--</td><td>0.0</td><td>0.0</td><td>1.0</td><td>0.925925925926</td><td>0.0740740740741</td><td>0.0</td><td>0.794117647059</td><td>0.0294117647059</td><td>0.0588235294118</td><td>0.117647058824</td><td>0.147058823529</td><td>0.0</td><td>0.0</td><td>0.0294117647059</td><td>0.205882352941</td><td>0.0588235294118</td><td>0.147058823529</td><td>0.025</td><td>0.975</td><td>NSA_13</td><td>AGZ000bi3d</td></tr>\n",
       "<tr><td>56f3daf85925d90042018ef9</td><td>40</td><td>24</td><td>4</td><td>12</td><td>4</td><td>1</td><td>3</td><td>3</td><td>1</td><td>2</td><td>3</td><td>0</td><td>3</td><td>3</td><td>1</td><td>1</td><td>1</td><td>0</td><td>0</td><td>0</td><td>0</td><td>0</td><td>0</td><td>0</td><td>0</td><td>0</td><td>0</td><td>1</td><td>1</td><td>0</td><td>0</td><td>24</td><td>13</td><td>11</td><td>0</td><td>28</td><td>5</td><td>1</td><td>0</td><td>22</td><td>28</td><td>11</td><td>2</td><td>0</td><td>0</td><td>0</td><td>0</td><td>1</td><td>40</td><td>2</td><td>38</td><td>0.6</td><td>0.1</td><td>0.3</td><td>0.25</td><td>0.75</td><td>0.333333333333</td><td>0.666666666667</td><td>0.0</td><td>1.0</td><td>0.333333333333</td><td>0.333333333333</td><td>0.333333333333</td><td>--</td><td>--</td><td>--</td><td>--</td><td>--</td><td>--</td><td>--</td><td>--</td><td>1.0</td><td>0.0</td><td>0.0</td><td>0.541666666667</td><td>0.458333333333</td><td>0.0</td><td>0.178571428571</td><td>0.0357142857143</td><td>0.0</td><td>0.785714285714</td><td>0.392857142857</td><td>0.0714285714286</td><td>0.0</td><td>0.0</td><td>0.0</td><td>0.0</td><td>0.0357142857143</td><td>0.05</td><td>0.95</td><td>NSA_16</td><td>AGZ000bi3e</td></tr>\n",
       "<tr><td>56f3daf85925d90042018efb</td><td>40</td><td>6</td><td>32</td><td>2</td><td>32</td><td>5</td><td>27</td><td>27</td><td>15</td><td>12</td><td>27</td><td>21</td><td>6</td><td>27</td><td>2</td><td>22</td><td>3</td><td>21</td><td>0</td><td>11</td><td>10</td><td>21</td><td>2</td><td>17</td><td>0</td><td>1</td><td>1</td><td>5</td><td>1</td><td>3</td><td>1</td><td>6</td><td>4</td><td>2</td><td>0</td><td>38</td><td>3</td><td>9</td><td>4</td><td>22</td><td>38</td><td>14</td><td>0</td><td>0</td><td>3</td><td>2</td><td>1</td><td>3</td><td>40</td><td>2</td><td>38</td><td>0.15</td><td>0.8</td><td>0.05</td><td>0.15625</td><td>0.84375</td><td>0.555555555556</td><td>0.444444444444</td><td>0.777777777778</td><td>0.222222222222</td><td>0.0740740740741</td><td>0.814814814815</td><td>0.111111111111</td><td>0.0</td><td>0.52380952381</td><td>0.47619047619</td><td>0.0952380952381</td><td>0.809523809524</td><td>0.0</td><td>0.047619047619</td><td>0.047619047619</td><td>0.2</td><td>0.6</td><td>0.2</td><td>0.666666666667</td><td>0.333333333333</td><td>0.0</td><td>0.0789473684211</td><td>0.236842105263</td><td>0.105263157895</td><td>0.578947368421</td><td>0.368421052632</td><td>0.0</td><td>0.0</td><td>0.0789473684211</td><td>0.0526315789474</td><td>0.0263157894737</td><td>0.0789473684211</td><td>0.05</td><td>0.95</td><td>NSA_17</td><td>AGZ000bi3b</td></tr>\n",
       "<tr><td>...</td><td>...</td><td>...</td><td>...</td><td>...</td><td>...</td><td>...</td><td>...</td><td>...</td><td>...</td><td>...</td><td>...</td><td>...</td><td>...</td><td>...</td><td>...</td><td>...</td><td>...</td><td>...</td><td>...</td><td>...</td><td>...</td><td>...</td><td>...</td><td>...</td><td>...</td><td>...</td><td>...</td><td>...</td><td>...</td><td>...</td><td>...</td><td>...</td><td>...</td><td>...</td><td>...</td><td>...</td><td>...</td><td>...</td><td>...</td><td>...</td><td>...</td><td>...</td><td>...</td><td>...</td><td>...</td><td>...</td><td>...</td><td>...</td><td>...</td><td>...</td><td>...</td><td>...</td><td>...</td><td>...</td><td>...</td><td>...</td><td>...</td><td>...</td><td>...</td><td>...</td><td>...</td><td>...</td><td>...</td><td>...</td><td>...</td><td>...</td><td>...</td><td>...</td><td>...</td><td>...</td><td>...</td><td>...</td><td>...</td><td>...</td><td>...</td><td>...</td><td>...</td><td>...</td><td>...</td><td>...</td><td>...</td><td>...</td><td>...</td><td>...</td><td>...</td><td>...</td><td>...</td><td>...</td><td>...</td><td>...</td><td>...</td><td>...</td></tr>\n",
       "<tr><td>56f3deb65925d9004203700b</td><td>40</td><td>20</td><td>12</td><td>8</td><td>12</td><td>11</td><td>1</td><td>1</td><td>1</td><td>0</td><td>1</td><td>0</td><td>1</td><td>1</td><td>0</td><td>0</td><td>1</td><td>0</td><td>0</td><td>0</td><td>0</td><td>0</td><td>0</td><td>0</td><td>0</td><td>0</td><td>0</td><td>11</td><td>7</td><td>0</td><td>4</td><td>20</td><td>0</td><td>4</td><td>16</td><td>32</td><td>0</td><td>20</td><td>1</td><td>11</td><td>32</td><td>15</td><td>0</td><td>0</td><td>0</td><td>3</td><td>1</td><td>0</td><td>40</td><td>3</td><td>37</td><td>0.5</td><td>0.3</td><td>0.2</td><td>0.916666666667</td><td>0.0833333333333</td><td>1.0</td><td>0.0</td><td>0.0</td><td>1.0</td><td>0.0</td><td>0.0</td><td>1.0</td><td>--</td><td>--</td><td>--</td><td>--</td><td>--</td><td>--</td><td>--</td><td>--</td><td>0.636363636364</td><td>0.0</td><td>0.363636363636</td><td>0.0</td><td>0.2</td><td>0.8</td><td>0.0</td><td>0.625</td><td>0.03125</td><td>0.34375</td><td>0.46875</td><td>0.0</td><td>0.0</td><td>0.0</td><td>0.09375</td><td>0.03125</td><td>0.0</td><td>0.075</td><td>0.925</td><td>NSA_698445</td><td>AGZ000bi3w</td></tr>\n",
       "<tr><td>56f3deb65925d9004203700d</td><td>40</td><td>8</td><td>28</td><td>4</td><td>28</td><td>26</td><td>2</td><td>2</td><td>1</td><td>1</td><td>2</td><td>1</td><td>1</td><td>2</td><td>0</td><td>2</td><td>0</td><td>1</td><td>0</td><td>0</td><td>1</td><td>1</td><td>0</td><td>1</td><td>0</td><td>0</td><td>0</td><td>26</td><td>25</td><td>1</td><td>0</td><td>8</td><td>1</td><td>0</td><td>7</td><td>36</td><td>5</td><td>1</td><td>2</td><td>28</td><td>36</td><td>18</td><td>2</td><td>0</td><td>0</td><td>1</td><td>1</td><td>2</td><td>40</td><td>2</td><td>38</td><td>0.2</td><td>0.7</td><td>0.1</td><td>0.928571428571</td><td>0.0714285714286</td><td>0.5</td><td>0.5</td><td>0.5</td><td>0.5</td><td>0.0</td><td>1.0</td><td>0.0</td><td>0.0</td><td>0.0</td><td>1.0</td><td>0.0</td><td>1.0</td><td>0.0</td><td>0.0</td><td>0.0</td><td>0.961538461538</td><td>0.0384615384615</td><td>0.0</td><td>0.125</td><td>0.0</td><td>0.875</td><td>0.138888888889</td><td>0.0277777777778</td><td>0.0555555555556</td><td>0.777777777778</td><td>0.5</td><td>0.0555555555556</td><td>0.0</td><td>0.0</td><td>0.0277777777778</td><td>0.0277777777778</td><td>0.0555555555556</td><td>0.05</td><td>0.95</td><td>NSA_698450</td><td>AGZ000bi3t</td></tr>\n",
       "<tr><td>56f3deb65925d9004203700f</td><td>40</td><td>19</td><td>12</td><td>9</td><td>12</td><td>0</td><td>12</td><td>12</td><td>0</td><td>12</td><td>12</td><td>0</td><td>12</td><td>12</td><td>6</td><td>5</td><td>1</td><td>0</td><td>0</td><td>0</td><td>0</td><td>0</td><td>0</td><td>0</td><td>0</td><td>0</td><td>0</td><td>0</td><td>0</td><td>0</td><td>0</td><td>19</td><td>15</td><td>4</td><td>0</td><td>31</td><td>2</td><td>5</td><td>2</td><td>22</td><td>31</td><td>4</td><td>0</td><td>3</td><td>12</td><td>5</td><td>0</td><td>5</td><td>40</td><td>3</td><td>37</td><td>0.475</td><td>0.3</td><td>0.225</td><td>0.0</td><td>1.0</td><td>0.0</td><td>1.0</td><td>0.0</td><td>1.0</td><td>0.5</td><td>0.416666666667</td><td>0.0833333333333</td><td>--</td><td>--</td><td>--</td><td>--</td><td>--</td><td>--</td><td>--</td><td>--</td><td>--</td><td>--</td><td>--</td><td>0.789473684211</td><td>0.210526315789</td><td>0.0</td><td>0.0645161290323</td><td>0.161290322581</td><td>0.0645161290323</td><td>0.709677419355</td><td>0.129032258065</td><td>0.0</td><td>0.0967741935484</td><td>0.387096774194</td><td>0.161290322581</td><td>0.0</td><td>0.161290322581</td><td>0.075</td><td>0.925</td><td>NSA_698451</td><td>AGZ000bi3u</td></tr>\n",
       "<tr><td>56f3deb65925d90042037011</td><td>40</td><td>18</td><td>3</td><td>19</td><td>3</td><td>1</td><td>2</td><td>2</td><td>0</td><td>2</td><td>2</td><td>0</td><td>2</td><td>2</td><td>1</td><td>1</td><td>0</td><td>0</td><td>0</td><td>0</td><td>0</td><td>0</td><td>0</td><td>0</td><td>0</td><td>0</td><td>0</td><td>1</td><td>0</td><td>1</td><td>0</td><td>18</td><td>2</td><td>14</td><td>2</td><td>21</td><td>2</td><td>5</td><td>0</td><td>14</td><td>21</td><td>7</td><td>0</td><td>0</td><td>1</td><td>1</td><td>0</td><td>1</td><td>40</td><td>1</td><td>39</td><td>0.45</td><td>0.075</td><td>0.475</td><td>0.333333333333</td><td>0.666666666667</td><td>0.0</td><td>1.0</td><td>0.0</td><td>1.0</td><td>0.5</td><td>0.5</td><td>0.0</td><td>--</td><td>--</td><td>--</td><td>--</td><td>--</td><td>--</td><td>--</td><td>--</td><td>0.0</td><td>1.0</td><td>0.0</td><td>0.111111111111</td><td>0.777777777778</td><td>0.111111111111</td><td>0.0952380952381</td><td>0.238095238095</td><td>0.0</td><td>0.666666666667</td><td>0.333333333333</td><td>0.0</td><td>0.0</td><td>0.047619047619</td><td>0.047619047619</td><td>0.0</td><td>0.047619047619</td><td>0.025</td><td>0.975</td><td>NSA_698452</td><td>AGZ000bi3r</td></tr>\n",
       "<tr><td>56f3deb65925d90042037013</td><td>41</td><td>20</td><td>19</td><td>2</td><td>19</td><td>16</td><td>3</td><td>3</td><td>2</td><td>1</td><td>3</td><td>1</td><td>2</td><td>3</td><td>2</td><td>1</td><td>0</td><td>1</td><td>0</td><td>0</td><td>1</td><td>1</td><td>0</td><td>1</td><td>0</td><td>0</td><td>0</td><td>16</td><td>2</td><td>5</td><td>9</td><td>20</td><td>0</td><td>0</td><td>20</td><td>39</td><td>4</td><td>3</td><td>1</td><td>31</td><td>39</td><td>16</td><td>0</td><td>1</td><td>0</td><td>5</td><td>0</td><td>2</td><td>41</td><td>2</td><td>39</td><td>0.487804878049</td><td>0.463414634146</td><td>0.0487804878049</td><td>0.842105263158</td><td>0.157894736842</td><td>0.666666666667</td><td>0.333333333333</td><td>0.333333333333</td><td>0.666666666667</td><td>0.666666666667</td><td>0.333333333333</td><td>0.0</td><td>0.0</td><td>0.0</td><td>1.0</td><td>0.0</td><td>1.0</td><td>0.0</td><td>0.0</td><td>0.0</td><td>0.125</td><td>0.3125</td><td>0.5625</td><td>0.0</td><td>0.0</td><td>1.0</td><td>0.102564102564</td><td>0.0769230769231</td><td>0.025641025641</td><td>0.794871794872</td><td>0.410256410256</td><td>0.0</td><td>0.025641025641</td><td>0.0</td><td>0.128205128205</td><td>0.0</td><td>0.0512820512821</td><td>0.0487804878049</td><td>0.951219512195</td><td>NSA_698454</td><td>AGZ000bi3s</td></tr>\n",
       "<tr><td>56f3deb65925d90042037015</td><td>40</td><td>6</td><td>12</td><td>22</td><td>12</td><td>0</td><td>12</td><td>12</td><td>3</td><td>9</td><td>12</td><td>6</td><td>6</td><td>12</td><td>6</td><td>6</td><td>0</td><td>6</td><td>1</td><td>1</td><td>4</td><td>6</td><td>0</td><td>6</td><td>0</td><td>0</td><td>0</td><td>0</td><td>0</td><td>0</td><td>0</td><td>6</td><td>4</td><td>1</td><td>1</td><td>18</td><td>5</td><td>2</td><td>0</td><td>11</td><td>18</td><td>1</td><td>1</td><td>0</td><td>6</td><td>2</td><td>1</td><td>1</td><td>40</td><td>0</td><td>40</td><td>0.15</td><td>0.3</td><td>0.55</td><td>0.0</td><td>1.0</td><td>0.25</td><td>0.75</td><td>0.5</td><td>0.5</td><td>0.5</td><td>0.5</td><td>0.0</td><td>0.166666666667</td><td>0.166666666667</td><td>0.666666666667</td><td>0.0</td><td>1.0</td><td>0.0</td><td>0.0</td><td>0.0</td><td>--</td><td>--</td><td>--</td><td>0.666666666667</td><td>0.166666666667</td><td>0.166666666667</td><td>0.277777777778</td><td>0.111111111111</td><td>0.0</td><td>0.611111111111</td><td>0.0555555555556</td><td>0.0555555555556</td><td>0.0</td><td>0.333333333333</td><td>0.111111111111</td><td>0.0555555555556</td><td>0.0555555555556</td><td>0.0</td><td>1.0</td><td>NSA_698455</td><td>AGZ000bi3p</td></tr>\n",
       "<tr><td>56f3deb65925d90042037017</td><td>40</td><td>21</td><td>15</td><td>4</td><td>15</td><td>0</td><td>15</td><td>15</td><td>3</td><td>12</td><td>15</td><td>7</td><td>8</td><td>15</td><td>5</td><td>9</td><td>1</td><td>7</td><td>1</td><td>1</td><td>5</td><td>7</td><td>1</td><td>6</td><td>0</td><td>0</td><td>0</td><td>0</td><td>0</td><td>0</td><td>0</td><td>21</td><td>17</td><td>4</td><td>0</td><td>36</td><td>10</td><td>1</td><td>3</td><td>22</td><td>36</td><td>10</td><td>0</td><td>0</td><td>3</td><td>5</td><td>0</td><td>1</td><td>40</td><td>0</td><td>40</td><td>0.525</td><td>0.375</td><td>0.1</td><td>0.0</td><td>1.0</td><td>0.2</td><td>0.8</td><td>0.466666666667</td><td>0.533333333333</td><td>0.333333333333</td><td>0.6</td><td>0.0666666666667</td><td>0.142857142857</td><td>0.142857142857</td><td>0.714285714286</td><td>0.142857142857</td><td>0.857142857143</td><td>0.0</td><td>0.0</td><td>0.0</td><td>--</td><td>--</td><td>--</td><td>0.809523809524</td><td>0.190476190476</td><td>0.0</td><td>0.277777777778</td><td>0.0277777777778</td><td>0.0833333333333</td><td>0.611111111111</td><td>0.277777777778</td><td>0.0</td><td>0.0</td><td>0.0833333333333</td><td>0.138888888889</td><td>0.0</td><td>0.0277777777778</td><td>0.0</td><td>1.0</td><td>NSA_698456</td><td>AGZ000bi3q</td></tr>\n",
       "<tr><td>56f3deb65925d90042037019</td><td>40</td><td>22</td><td>15</td><td>3</td><td>15</td><td>11</td><td>4</td><td>4</td><td>0</td><td>4</td><td>4</td><td>0</td><td>4</td><td>4</td><td>1</td><td>3</td><td>0</td><td>0</td><td>0</td><td>0</td><td>0</td><td>0</td><td>0</td><td>0</td><td>0</td><td>0</td><td>0</td><td>11</td><td>11</td><td>0</td><td>0</td><td>22</td><td>2</td><td>16</td><td>4</td><td>37</td><td>20</td><td>0</td><td>4</td><td>13</td><td>37</td><td>7</td><td>0</td><td>0</td><td>1</td><td>3</td><td>0</td><td>14</td><td>40</td><td>4</td><td>36</td><td>0.55</td><td>0.375</td><td>0.075</td><td>0.733333333333</td><td>0.266666666667</td><td>0.0</td><td>1.0</td><td>0.0</td><td>1.0</td><td>0.25</td><td>0.75</td><td>0.0</td><td>--</td><td>--</td><td>--</td><td>--</td><td>--</td><td>--</td><td>--</td><td>--</td><td>1.0</td><td>0.0</td><td>0.0</td><td>0.0909090909091</td><td>0.727272727273</td><td>0.181818181818</td><td>0.540540540541</td><td>0.0</td><td>0.108108108108</td><td>0.351351351351</td><td>0.189189189189</td><td>0.0</td><td>0.0</td><td>0.027027027027</td><td>0.0810810810811</td><td>0.0</td><td>0.378378378378</td><td>0.1</td><td>0.9</td><td>NSA_698458</td><td>AGZ000bi3n</td></tr>\n",
       "<tr><td>56f3deb65925d9004203701b</td><td>40</td><td>30</td><td>2</td><td>8</td><td>2</td><td>0</td><td>2</td><td>2</td><td>0</td><td>2</td><td>2</td><td>0</td><td>2</td><td>2</td><td>0</td><td>0</td><td>2</td><td>0</td><td>0</td><td>0</td><td>0</td><td>0</td><td>0</td><td>0</td><td>0</td><td>0</td><td>0</td><td>0</td><td>0</td><td>0</td><td>0</td><td>30</td><td>26</td><td>3</td><td>1</td><td>32</td><td>3</td><td>3</td><td>0</td><td>26</td><td>32</td><td>9</td><td>0</td><td>0</td><td>0</td><td>3</td><td>0</td><td>5</td><td>39</td><td>2</td><td>37</td><td>0.75</td><td>0.05</td><td>0.2</td><td>0.0</td><td>1.0</td><td>0.0</td><td>1.0</td><td>0.0</td><td>1.0</td><td>0.0</td><td>0.0</td><td>1.0</td><td>--</td><td>--</td><td>--</td><td>--</td><td>--</td><td>--</td><td>--</td><td>--</td><td>--</td><td>--</td><td>--</td><td>0.866666666667</td><td>0.1</td><td>0.0333333333333</td><td>0.09375</td><td>0.09375</td><td>0.0</td><td>0.8125</td><td>0.28125</td><td>0.0</td><td>0.0</td><td>0.0</td><td>0.09375</td><td>0.0</td><td>0.15625</td><td>0.0512820512821</td><td>0.948717948718</td><td>NSA_698459</td><td>AGZ000bi3o</td></tr>\n",
       "<tr><td>56f3deb65925d9004203701d</td><td>40</td><td>9</td><td>27</td><td>4</td><td>27</td><td>5</td><td>22</td><td>22</td><td>4</td><td>18</td><td>22</td><td>12</td><td>10</td><td>22</td><td>11</td><td>10</td><td>1</td><td>12</td><td>5</td><td>5</td><td>2</td><td>12</td><td>1</td><td>9</td><td>1</td><td>1</td><td>0</td><td>5</td><td>3</td><td>1</td><td>1</td><td>9</td><td>0</td><td>9</td><td>0</td><td>36</td><td>8</td><td>7</td><td>2</td><td>19</td><td>36</td><td>6</td><td>1</td><td>2</td><td>7</td><td>5</td><td>0</td><td>8</td><td>40</td><td>4</td><td>36</td><td>0.225</td><td>0.675</td><td>0.1</td><td>0.185185185185</td><td>0.814814814815</td><td>0.181818181818</td><td>0.818181818182</td><td>0.545454545455</td><td>0.454545454545</td><td>0.5</td><td>0.454545454545</td><td>0.0454545454545</td><td>0.416666666667</td><td>0.416666666667</td><td>0.166666666667</td><td>0.0833333333333</td><td>0.75</td><td>0.0833333333333</td><td>0.0833333333333</td><td>0.0</td><td>0.6</td><td>0.2</td><td>0.2</td><td>0.0</td><td>1.0</td><td>0.0</td><td>0.222222222222</td><td>0.194444444444</td><td>0.0555555555556</td><td>0.527777777778</td><td>0.166666666667</td><td>0.0277777777778</td><td>0.0555555555556</td><td>0.194444444444</td><td>0.138888888889</td><td>0.0</td><td>0.222222222222</td><td>0.1</td><td>0.9</td><td>NSA_698540</td><td>AGZ000bi3m</td></tr>\n",
       "</table>"
      ],
      "text/plain": [
       "<Table masked=True length=61594>\n",
       "       subject_id        shape_total shape_smooth ... survey_id  zooniverse_id\n",
       "         str24              int64       int64     ...   str10        str10    \n",
       "------------------------ ----------- ------------ ... ---------- -------------\n",
       "56f3daf85925d90042018ee9          40            6 ...      NSA_0    AGZ000bi3l\n",
       "56f3daf85925d90042018eeb          40           29 ...      NSA_3    AGZ000bi3j\n",
       "56f3daf85925d90042018eed          40           19 ...      NSA_4    AGZ000bi3k\n",
       "56f3daf85925d90042018eef          40           32 ...      NSA_5    AGZ000bi3h\n",
       "56f3daf85925d90042018ef1          40           30 ...      NSA_7    AGZ000bi3i\n",
       "56f3daf85925d90042018ef3          40           26 ...     NSA_11    AGZ000bi3f\n",
       "56f3daf85925d90042018ef5          40            7 ...     NSA_12    AGZ000bi3g\n",
       "56f3daf85925d90042018ef7          40           27 ...     NSA_13    AGZ000bi3d\n",
       "56f3daf85925d90042018ef9          40           24 ...     NSA_16    AGZ000bi3e\n",
       "56f3daf85925d90042018efb          40            6 ...     NSA_17    AGZ000bi3b\n",
       "                     ...         ...          ... ...        ...           ...\n",
       "56f3deb65925d9004203700b          40           20 ... NSA_698445    AGZ000bi3w\n",
       "56f3deb65925d9004203700d          40            8 ... NSA_698450    AGZ000bi3t\n",
       "56f3deb65925d9004203700f          40           19 ... NSA_698451    AGZ000bi3u\n",
       "56f3deb65925d90042037011          40           18 ... NSA_698452    AGZ000bi3r\n",
       "56f3deb65925d90042037013          41           20 ... NSA_698454    AGZ000bi3s\n",
       "56f3deb65925d90042037015          40            6 ... NSA_698455    AGZ000bi3p\n",
       "56f3deb65925d90042037017          40           21 ... NSA_698456    AGZ000bi3q\n",
       "56f3deb65925d90042037019          40           22 ... NSA_698458    AGZ000bi3n\n",
       "56f3deb65925d9004203701b          40           30 ... NSA_698459    AGZ000bi3o\n",
       "56f3deb65925d9004203701d          40            9 ... NSA_698540    AGZ000bi3m"
      ]
     },
     "execution_count": 6,
     "metadata": {},
     "output_type": "execute_result"
    }
   ],
   "source": [
    "outdata_dr2"
   ]
  },
  {
   "cell_type": "code",
   "execution_count": 7,
   "metadata": {
    "collapsed": false,
    "scrolled": true
   },
   "outputs": [],
   "source": [
    "outdata_dr2.write('{}_galaxy_zoo_decals_dr2.fits'.format(date), overwrite=True)"
   ]
  }
 ],
 "metadata": {
  "_draft": {
   "nbviewer_url": "https://gist.github.com/df1c052dd0ed94d9ec2dc1e98d060366"
  },
  "gist": {
   "data": {
    "description": "First look at GAMA GZ data",
    "public": false
   },
   "id": "df1c052dd0ed94d9ec2dc1e98d060366"
  },
  "hide_input": false,
  "kernelspec": {
   "display_name": "Python 3",
   "language": "python",
   "name": "python3"
  },
  "language_info": {
   "codemirror_mode": {
    "name": "ipython",
    "version": 3
   },
   "file_extension": ".py",
   "mimetype": "text/x-python",
   "name": "python",
   "nbconvert_exporter": "python",
   "pygments_lexer": "ipython3",
   "version": "3.6.0"
  },
  "latex_envs": {
   "LaTeX_envs_menu_present": true,
   "autocomplete": true,
   "bibliofile": "biblio.bib",
   "cite_by": "apalike",
   "current_citInitial": 1,
   "eqLabelWithNumbers": true,
   "eqNumInitial": 1,
   "hotkeys": {
    "equation": "Ctrl-E",
    "itemize": "Ctrl-I"
   },
   "labels_anchors": false,
   "latex_user_defs": false,
   "report_style_numbering": false,
   "user_envs_cfg": false
  }
 },
 "nbformat": 4,
 "nbformat_minor": 0
}
