{
 "cells": [
  {
   "cell_type": "code",
   "execution_count": 1,
   "metadata": {
    "collapsed": true
   },
   "outputs": [],
   "source": [
    "from gz_reduce import reduce_data"
   ]
  },
  {
   "cell_type": "markdown",
   "metadata": {},
   "source": [
    "### Get the data"
   ]
  },
  {
   "cell_type": "code",
   "execution_count": 2,
   "metadata": {},
   "outputs": [],
   "source": [
    "# %%bash\n",
    "# # get the gama tree definition\n",
    "# curl -O https://raw.githubusercontent.com/zooniverse/Galaxy-Zoo/master/app/lib/decals_tree.coffee"
   ]
  },
  {
   "cell_type": "code",
   "execution_count": 3,
   "metadata": {},
   "outputs": [],
   "source": [
    "# %%bash\n",
    "# # get the DR1 database dump\n",
    "# url=\"\"\n",
    "# curl $url | tar xz"
   ]
  },
  {
   "cell_type": "markdown",
   "metadata": {},
   "source": [
    "### Run the reduction"
   ]
  },
  {
   "cell_type": "code",
   "execution_count": 4,
   "metadata": {
    "scrolled": true
   },
   "outputs": [],
   "source": [
    "date='2017-03-19'\n",
    "tree='decals'\n",
    "subjectset='decals'\n",
    "survey_id_field='provided_image_id'\n",
    "outdata = reduce_data(date, tree, subjectset, survey_id_field)"
   ]
  },
  {
   "cell_type": "code",
   "execution_count": 5,
   "metadata": {},
   "outputs": [
    {
     "data": {
      "text/html": [
       "&lt;Table masked=True length=32430&gt;\n",
       "<table id=\"table9491589888\" class=\"table-striped table-bordered table-condensed\">\n",
       "<thead><tr><th>subject_id</th><th>features_total</th><th>features_features_or_disk</th><th>features_star_or_artifact</th><th>edgeon_total</th><th>edgeon_yes</th><th>edgeon_no</th><th>bar_total</th><th>bar_bar</th><th>bar_no_bar</th><th>spiral_total</th><th>spiral_spiral</th><th>spiral_no_spiral</th><th>bulge_total</th><th>bulge_no_bulge</th><th>bulge_obvious</th><th>bulge_dominant</th><th>spiralwinding_total</th><th>spiralwinding_tight</th><th>spiralwinding_medium</th><th>spiralwinding_loose</th><th>spiralnumber_total</th><th>spiralnumber_1</th><th>spiralnumber_2</th><th>spiralnumber_3</th><th>spiralnumber_4</th><th>spiralnumber_more_than_4</th><th>bulgeshape_total</th><th>bulgeshape_rounded</th><th>bulgeshape_boxy</th><th>bulgeshape_no_bulge</th><th>round_total</th><th>round_completely_round</th><th>round_in_between</th><th>round_cigar_shaped</th><th>mergers_total</th><th>mergers_merging</th><th>mergers_tidal_debris</th><th>mergers_both</th><th>mergers_neither</th><th>oddtype_total</th><th>oddtype_none</th><th>oddtype_ring</th><th>oddtype_lens_or_arc</th><th>oddtype_irregular</th><th>oddtype_other</th><th>oddtype_dust_lane</th><th>oddtype_overlapping</th><th>discuss_total</th><th>discuss_yes</th><th>discuss_no</th><th>odd_total</th><th>features_smooth_frac</th><th>survey_id</th><th>zooniverse_id</th></tr></thead>\n",
       "<thead><tr><th>str24</th><th>int64</th><th>int64</th><th>int64</th><th>int64</th><th>int64</th><th>int64</th><th>int64</th><th>int64</th><th>int64</th><th>int64</th><th>int64</th><th>int64</th><th>int64</th><th>int64</th><th>int64</th><th>int64</th><th>int64</th><th>int64</th><th>int64</th><th>int64</th><th>int64</th><th>int64</th><th>int64</th><th>int64</th><th>int64</th><th>int64</th><th>int64</th><th>int64</th><th>int64</th><th>int64</th><th>int64</th><th>int64</th><th>int64</th><th>int64</th><th>int64</th><th>int64</th><th>int64</th><th>int64</th><th>int64</th><th>int64</th><th>int64</th><th>int64</th><th>int64</th><th>int64</th><th>int64</th><th>int64</th><th>int64</th><th>int64</th><th>int64</th><th>int64</th><th>int64</th><th>float64</th><th>str19</th><th>str10</th></tr></thead>\n",
       "<tr><td>55a7d7a27a726119cd00000b</td><td>45</td><td>15</td><td>11</td><td>15</td><td>2</td><td>13</td><td>13</td><td>1</td><td>12</td><td>13</td><td>8</td><td>5</td><td>13</td><td>0</td><td>12</td><td>1</td><td>8</td><td>4</td><td>4</td><td>0</td><td>8</td><td>0</td><td>5</td><td>1</td><td>1</td><td>1</td><td>2</td><td>2</td><td>0</td><td>0</td><td>19</td><td>16</td><td>2</td><td>1</td><td>34</td><td>5</td><td>3</td><td>3</td><td>23</td><td>19</td><td>7</td><td>4</td><td>0</td><td>2</td><td>3</td><td>0</td><td>3</td><td>45</td><td>2</td><td>43</td><td>34</td><td>0.422222222222</td><td>J103438.28-005109.6</td><td>AGZ000al92</td></tr>\n",
       "<tr><td>55a7d7a27a726119cd00000c</td><td>41</td><td>2</td><td>6</td><td>2</td><td>1</td><td>1</td><td>1</td><td>0</td><td>1</td><td>1</td><td>0</td><td>1</td><td>1</td><td>0</td><td>1</td><td>0</td><td>0</td><td>0</td><td>0</td><td>0</td><td>0</td><td>0</td><td>0</td><td>0</td><td>0</td><td>0</td><td>1</td><td>1</td><td>0</td><td>0</td><td>33</td><td>28</td><td>5</td><td>0</td><td>35</td><td>7</td><td>3</td><td>1</td><td>24</td><td>15</td><td>11</td><td>0</td><td>0</td><td>0</td><td>3</td><td>0</td><td>1</td><td>41</td><td>1</td><td>40</td><td>35</td><td>0.80487804878</td><td>J103542.82-004509.8</td><td>AGZ000al93</td></tr>\n",
       "<tr><td>55a7d7a27a726119cd00000d</td><td>47</td><td>1</td><td>10</td><td>1</td><td>0</td><td>1</td><td>1</td><td>0</td><td>1</td><td>1</td><td>0</td><td>1</td><td>1</td><td>0</td><td>1</td><td>0</td><td>0</td><td>0</td><td>0</td><td>0</td><td>0</td><td>0</td><td>0</td><td>0</td><td>0</td><td>0</td><td>0</td><td>0</td><td>0</td><td>0</td><td>36</td><td>23</td><td>13</td><td>0</td><td>37</td><td>1</td><td>1</td><td>0</td><td>35</td><td>12</td><td>12</td><td>0</td><td>0</td><td>0</td><td>0</td><td>0</td><td>0</td><td>47</td><td>4</td><td>43</td><td>37</td><td>0.765957446809</td><td>J103501.69-004952.4</td><td>AGZ000al94</td></tr>\n",
       "<tr><td>55a7d7a27a726119cd00000e</td><td>53</td><td>15</td><td>6</td><td>15</td><td>0</td><td>15</td><td>15</td><td>2</td><td>13</td><td>15</td><td>8</td><td>7</td><td>15</td><td>4</td><td>11</td><td>0</td><td>8</td><td>7</td><td>1</td><td>0</td><td>8</td><td>0</td><td>4</td><td>0</td><td>2</td><td>2</td><td>0</td><td>0</td><td>0</td><td>0</td><td>32</td><td>16</td><td>16</td><td>0</td><td>47</td><td>1</td><td>2</td><td>1</td><td>43</td><td>30</td><td>17</td><td>3</td><td>1</td><td>1</td><td>6</td><td>1</td><td>1</td><td>53</td><td>1</td><td>52</td><td>47</td><td>0.603773584906</td><td>J103649.87-003753.2</td><td>AGZ000al95</td></tr>\n",
       "<tr><td>55a7d7a27a726119cd00000f</td><td>53</td><td>6</td><td>7</td><td>6</td><td>0</td><td>6</td><td>6</td><td>3</td><td>3</td><td>6</td><td>0</td><td>6</td><td>6</td><td>1</td><td>4</td><td>1</td><td>0</td><td>0</td><td>0</td><td>0</td><td>0</td><td>0</td><td>0</td><td>0</td><td>0</td><td>0</td><td>0</td><td>0</td><td>0</td><td>0</td><td>40</td><td>10</td><td>29</td><td>1</td><td>46</td><td>4</td><td>2</td><td>1</td><td>39</td><td>22</td><td>19</td><td>1</td><td>0</td><td>0</td><td>0</td><td>2</td><td>0</td><td>53</td><td>2</td><td>51</td><td>46</td><td>0.754716981132</td><td>J103647.21-004056.4</td><td>AGZ000al96</td></tr>\n",
       "<tr><td>55a7d7a27a726119cd000012</td><td>60</td><td>8</td><td>11</td><td>8</td><td>0</td><td>8</td><td>8</td><td>0</td><td>8</td><td>8</td><td>0</td><td>8</td><td>8</td><td>1</td><td>6</td><td>1</td><td>0</td><td>0</td><td>0</td><td>0</td><td>0</td><td>0</td><td>0</td><td>0</td><td>0</td><td>0</td><td>0</td><td>0</td><td>0</td><td>0</td><td>41</td><td>40</td><td>0</td><td>1</td><td>49</td><td>8</td><td>3</td><td>0</td><td>38</td><td>27</td><td>11</td><td>1</td><td>0</td><td>0</td><td>2</td><td>1</td><td>12</td><td>60</td><td>1</td><td>59</td><td>49</td><td>0.683333333333</td><td>J103601.86-003748.4</td><td>AGZ000al99</td></tr>\n",
       "<tr><td>55a7d7a27a726119cd000013</td><td>47</td><td>18</td><td>4</td><td>18</td><td>11</td><td>7</td><td>7</td><td>2</td><td>5</td><td>7</td><td>1</td><td>6</td><td>7</td><td>0</td><td>5</td><td>2</td><td>1</td><td>1</td><td>0</td><td>0</td><td>1</td><td>0</td><td>1</td><td>0</td><td>0</td><td>0</td><td>11</td><td>9</td><td>2</td><td>0</td><td>25</td><td>2</td><td>19</td><td>4</td><td>43</td><td>4</td><td>2</td><td>2</td><td>35</td><td>12</td><td>7</td><td>2</td><td>0</td><td>0</td><td>3</td><td>0</td><td>0</td><td>47</td><td>2</td><td>45</td><td>43</td><td>0.531914893617</td><td>J103613.80-003502.6</td><td>AGZ000al9a</td></tr>\n",
       "<tr><td>55a7d7a27a726119cd000014</td><td>47</td><td>7</td><td>5</td><td>7</td><td>2</td><td>5</td><td>5</td><td>0</td><td>5</td><td>5</td><td>0</td><td>5</td><td>5</td><td>0</td><td>3</td><td>2</td><td>0</td><td>0</td><td>0</td><td>0</td><td>0</td><td>0</td><td>0</td><td>0</td><td>0</td><td>0</td><td>2</td><td>2</td><td>0</td><td>0</td><td>35</td><td>2</td><td>31</td><td>2</td><td>42</td><td>0</td><td>2</td><td>3</td><td>37</td><td>17</td><td>14</td><td>2</td><td>0</td><td>0</td><td>1</td><td>0</td><td>0</td><td>47</td><td>0</td><td>47</td><td>42</td><td>0.744680851064</td><td>J103609.37-001213.7</td><td>AGZ000al9b</td></tr>\n",
       "<tr><td>55a7d7a27a726119cd000015</td><td>56</td><td>21</td><td>4</td><td>21</td><td>17</td><td>4</td><td>4</td><td>0</td><td>4</td><td>4</td><td>0</td><td>4</td><td>4</td><td>0</td><td>3</td><td>1</td><td>0</td><td>0</td><td>0</td><td>0</td><td>0</td><td>0</td><td>0</td><td>0</td><td>0</td><td>0</td><td>17</td><td>12</td><td>1</td><td>4</td><td>31</td><td>0</td><td>5</td><td>26</td><td>52</td><td>0</td><td>2</td><td>1</td><td>49</td><td>25</td><td>21</td><td>3</td><td>0</td><td>0</td><td>0</td><td>1</td><td>0</td><td>56</td><td>1</td><td>55</td><td>52</td><td>0.553571428571</td><td>J103651.94-003617.5</td><td>AGZ000al9c</td></tr>\n",
       "<tr><td>55a7d7a27a726119cd000017</td><td>44</td><td>2</td><td>7</td><td>2</td><td>2</td><td>0</td><td>0</td><td>0</td><td>0</td><td>0</td><td>0</td><td>0</td><td>0</td><td>0</td><td>0</td><td>0</td><td>0</td><td>0</td><td>0</td><td>0</td><td>0</td><td>0</td><td>0</td><td>0</td><td>0</td><td>0</td><td>2</td><td>2</td><td>0</td><td>0</td><td>35</td><td>25</td><td>10</td><td>0</td><td>37</td><td>1</td><td>1</td><td>0</td><td>35</td><td>15</td><td>14</td><td>0</td><td>0</td><td>0</td><td>0</td><td>0</td><td>1</td><td>44</td><td>0</td><td>44</td><td>37</td><td>0.795454545455</td><td>J103714.27-000514.7</td><td>AGZ000al9e</td></tr>\n",
       "<tr><td>...</td><td>...</td><td>...</td><td>...</td><td>...</td><td>...</td><td>...</td><td>...</td><td>...</td><td>...</td><td>...</td><td>...</td><td>...</td><td>...</td><td>...</td><td>...</td><td>...</td><td>...</td><td>...</td><td>...</td><td>...</td><td>...</td><td>...</td><td>...</td><td>...</td><td>...</td><td>...</td><td>...</td><td>...</td><td>...</td><td>...</td><td>...</td><td>...</td><td>...</td><td>...</td><td>...</td><td>...</td><td>...</td><td>...</td><td>...</td><td>...</td><td>...</td><td>...</td><td>...</td><td>...</td><td>...</td><td>...</td><td>...</td><td>...</td><td>...</td><td>...</td><td>...</td><td>...</td><td>...</td><td>...</td></tr>\n",
       "<tr><td>55a7d7b47a726119cd00a477</td><td>51</td><td>46</td><td>3</td><td>46</td><td>1</td><td>45</td><td>45</td><td>9</td><td>36</td><td>45</td><td>43</td><td>2</td><td>45</td><td>3</td><td>42</td><td>0</td><td>43</td><td>25</td><td>16</td><td>2</td><td>43</td><td>0</td><td>8</td><td>25</td><td>9</td><td>1</td><td>1</td><td>1</td><td>0</td><td>0</td><td>2</td><td>2</td><td>0</td><td>0</td><td>48</td><td>0</td><td>4</td><td>3</td><td>41</td><td>21</td><td>11</td><td>1</td><td>0</td><td>1</td><td>3</td><td>4</td><td>1</td><td>51</td><td>5</td><td>46</td><td>48</td><td>0.0392156862745</td><td>J103811.51-001326.1</td><td>AGZ000bhqa</td></tr>\n",
       "<tr><td>55a7d7b47a726119cd00a478</td><td>60</td><td>28</td><td>12</td><td>28</td><td>6</td><td>22</td><td>22</td><td>8</td><td>14</td><td>22</td><td>18</td><td>4</td><td>22</td><td>0</td><td>22</td><td>0</td><td>18</td><td>9</td><td>7</td><td>2</td><td>18</td><td>1</td><td>14</td><td>2</td><td>1</td><td>0</td><td>6</td><td>4</td><td>0</td><td>2</td><td>20</td><td>1</td><td>14</td><td>5</td><td>48</td><td>19</td><td>1</td><td>2</td><td>26</td><td>20</td><td>15</td><td>3</td><td>0</td><td>1</td><td>1</td><td>0</td><td>0</td><td>60</td><td>6</td><td>54</td><td>48</td><td>0.333333333333</td><td>J103810.73-003657.4</td><td>AGZ000bhqb</td></tr>\n",
       "<tr><td>55a7d7b47a726119cd00a479</td><td>45</td><td>21</td><td>15</td><td>21</td><td>2</td><td>19</td><td>19</td><td>3</td><td>16</td><td>19</td><td>9</td><td>10</td><td>19</td><td>2</td><td>9</td><td>8</td><td>9</td><td>0</td><td>3</td><td>6</td><td>9</td><td>0</td><td>8</td><td>1</td><td>0</td><td>0</td><td>2</td><td>2</td><td>0</td><td>0</td><td>9</td><td>1</td><td>5</td><td>3</td><td>30</td><td>5</td><td>8</td><td>8</td><td>9</td><td>27</td><td>2</td><td>1</td><td>2</td><td>6</td><td>8</td><td>1</td><td>7</td><td>45</td><td>3</td><td>42</td><td>30</td><td>0.2</td><td>J103725.76-004152.6</td><td>AGZ000bhqc</td></tr>\n",
       "<tr><td>55a7d7b47a726119cd00a47a</td><td>53</td><td>23</td><td>17</td><td>23</td><td>20</td><td>3</td><td>3</td><td>1</td><td>2</td><td>3</td><td>2</td><td>1</td><td>3</td><td>2</td><td>0</td><td>1</td><td>2</td><td>1</td><td>0</td><td>1</td><td>2</td><td>1</td><td>0</td><td>0</td><td>0</td><td>1</td><td>20</td><td>19</td><td>0</td><td>1</td><td>13</td><td>0</td><td>6</td><td>7</td><td>36</td><td>4</td><td>1</td><td>2</td><td>29</td><td>23</td><td>10</td><td>1</td><td>3</td><td>1</td><td>4</td><td>1</td><td>3</td><td>53</td><td>4</td><td>49</td><td>36</td><td>0.245283018868</td><td>J103717.24-004113.0</td><td>AGZ000bhqd</td></tr>\n",
       "<tr><td>55a7d7b47a726119cd00a47c</td><td>50</td><td>12</td><td>7</td><td>12</td><td>0</td><td>12</td><td>12</td><td>1</td><td>11</td><td>12</td><td>2</td><td>10</td><td>12</td><td>4</td><td>8</td><td>0</td><td>2</td><td>1</td><td>1</td><td>0</td><td>2</td><td>0</td><td>2</td><td>0</td><td>0</td><td>0</td><td>0</td><td>0</td><td>0</td><td>0</td><td>31</td><td>4</td><td>27</td><td>0</td><td>43</td><td>19</td><td>0</td><td>6</td><td>18</td><td>24</td><td>13</td><td>0</td><td>0</td><td>4</td><td>6</td><td>1</td><td>0</td><td>50</td><td>3</td><td>47</td><td>43</td><td>0.62</td><td>J103611.04-002151.5</td><td>AGZ000bhqf</td></tr>\n",
       "<tr><td>55a7d7b47a726119cd00a47d</td><td>45</td><td>5</td><td>9</td><td>5</td><td>0</td><td>5</td><td>5</td><td>1</td><td>4</td><td>5</td><td>0</td><td>5</td><td>5</td><td>0</td><td>3</td><td>2</td><td>0</td><td>0</td><td>0</td><td>0</td><td>0</td><td>0</td><td>0</td><td>0</td><td>0</td><td>0</td><td>0</td><td>0</td><td>0</td><td>0</td><td>31</td><td>12</td><td>19</td><td>0</td><td>36</td><td>4</td><td>2</td><td>1</td><td>29</td><td>26</td><td>12</td><td>2</td><td>2</td><td>1</td><td>5</td><td>1</td><td>3</td><td>45</td><td>4</td><td>41</td><td>36</td><td>0.688888888889</td><td>J103534.06-002143.3</td><td>AGZ000bhqg</td></tr>\n",
       "<tr><td>55a7d7b47a726119cd00a47e</td><td>56</td><td>16</td><td>4</td><td>16</td><td>13</td><td>3</td><td>3</td><td>0</td><td>3</td><td>3</td><td>0</td><td>3</td><td>3</td><td>1</td><td>1</td><td>1</td><td>0</td><td>0</td><td>0</td><td>0</td><td>0</td><td>0</td><td>0</td><td>0</td><td>0</td><td>0</td><td>13</td><td>12</td><td>0</td><td>1</td><td>36</td><td>3</td><td>17</td><td>16</td><td>52</td><td>0</td><td>5</td><td>0</td><td>47</td><td>22</td><td>18</td><td>3</td><td>0</td><td>0</td><td>0</td><td>0</td><td>1</td><td>56</td><td>2</td><td>54</td><td>52</td><td>0.642857142857</td><td>J103530.40-002620.1</td><td>AGZ000bhqh</td></tr>\n",
       "<tr><td>55a7d7b47a726119cd00a480</td><td>47</td><td>18</td><td>8</td><td>18</td><td>17</td><td>1</td><td>1</td><td>1</td><td>0</td><td>1</td><td>0</td><td>1</td><td>1</td><td>0</td><td>1</td><td>0</td><td>0</td><td>0</td><td>0</td><td>0</td><td>0</td><td>0</td><td>0</td><td>0</td><td>0</td><td>0</td><td>17</td><td>4</td><td>2</td><td>11</td><td>21</td><td>0</td><td>3</td><td>18</td><td>39</td><td>11</td><td>0</td><td>2</td><td>26</td><td>18</td><td>7</td><td>0</td><td>1</td><td>0</td><td>3</td><td>0</td><td>7</td><td>47</td><td>0</td><td>47</td><td>39</td><td>0.446808510638</td><td>J103411.87-002753.4</td><td>AGZ000bhqj</td></tr>\n",
       "<tr><td>55a7d7b47a726119cd00a483</td><td>45</td><td>11</td><td>11</td><td>11</td><td>4</td><td>7</td><td>7</td><td>0</td><td>7</td><td>7</td><td>0</td><td>7</td><td>7</td><td>6</td><td>1</td><td>0</td><td>0</td><td>0</td><td>0</td><td>0</td><td>0</td><td>0</td><td>0</td><td>0</td><td>0</td><td>0</td><td>4</td><td>1</td><td>1</td><td>2</td><td>23</td><td>1</td><td>15</td><td>7</td><td>34</td><td>21</td><td>1</td><td>2</td><td>10</td><td>19</td><td>4</td><td>1</td><td>0</td><td>6</td><td>5</td><td>2</td><td>1</td><td>45</td><td>5</td><td>40</td><td>34</td><td>0.511111111111</td><td>J103343.33-003338.2</td><td>AGZ000bhqm</td></tr>\n",
       "<tr><td>55a7d7b47a726119cd00a484</td><td>47</td><td>17</td><td>10</td><td>17</td><td>11</td><td>6</td><td>6</td><td>0</td><td>6</td><td>6</td><td>1</td><td>5</td><td>6</td><td>3</td><td>3</td><td>0</td><td>1</td><td>1</td><td>0</td><td>0</td><td>1</td><td>1</td><td>0</td><td>0</td><td>0</td><td>0</td><td>11</td><td>7</td><td>1</td><td>3</td><td>20</td><td>1</td><td>10</td><td>9</td><td>37</td><td>17</td><td>6</td><td>2</td><td>12</td><td>18</td><td>9</td><td>2</td><td>0</td><td>0</td><td>4</td><td>1</td><td>2</td><td>47</td><td>2</td><td>45</td><td>37</td><td>0.425531914894</td><td>J230924.60-001458.1</td><td>AGZ000bhqn</td></tr>\n",
       "</table>"
      ],
      "text/plain": [
       "<Table masked=True length=32430>\n",
       "       subject_id        features_total ...      survey_id      zooniverse_id\n",
       "         str24               int64      ...        str19            str10    \n",
       "------------------------ -------------- ... ------------------- -------------\n",
       "55a7d7a27a726119cd00000b             45 ... J103438.28-005109.6    AGZ000al92\n",
       "55a7d7a27a726119cd00000c             41 ... J103542.82-004509.8    AGZ000al93\n",
       "55a7d7a27a726119cd00000d             47 ... J103501.69-004952.4    AGZ000al94\n",
       "55a7d7a27a726119cd00000e             53 ... J103649.87-003753.2    AGZ000al95\n",
       "55a7d7a27a726119cd00000f             53 ... J103647.21-004056.4    AGZ000al96\n",
       "55a7d7a27a726119cd000012             60 ... J103601.86-003748.4    AGZ000al99\n",
       "55a7d7a27a726119cd000013             47 ... J103613.80-003502.6    AGZ000al9a\n",
       "55a7d7a27a726119cd000014             47 ... J103609.37-001213.7    AGZ000al9b\n",
       "55a7d7a27a726119cd000015             56 ... J103651.94-003617.5    AGZ000al9c\n",
       "55a7d7a27a726119cd000017             44 ... J103714.27-000514.7    AGZ000al9e\n",
       "                     ...            ... ...                 ...           ...\n",
       "55a7d7b47a726119cd00a477             51 ... J103811.51-001326.1    AGZ000bhqa\n",
       "55a7d7b47a726119cd00a478             60 ... J103810.73-003657.4    AGZ000bhqb\n",
       "55a7d7b47a726119cd00a479             45 ... J103725.76-004152.6    AGZ000bhqc\n",
       "55a7d7b47a726119cd00a47a             53 ... J103717.24-004113.0    AGZ000bhqd\n",
       "55a7d7b47a726119cd00a47c             50 ... J103611.04-002151.5    AGZ000bhqf\n",
       "55a7d7b47a726119cd00a47d             45 ... J103534.06-002143.3    AGZ000bhqg\n",
       "55a7d7b47a726119cd00a47e             56 ... J103530.40-002620.1    AGZ000bhqh\n",
       "55a7d7b47a726119cd00a480             47 ... J103411.87-002753.4    AGZ000bhqj\n",
       "55a7d7b47a726119cd00a483             45 ... J103343.33-003338.2    AGZ000bhqm\n",
       "55a7d7b47a726119cd00a484             47 ... J230924.60-001458.1    AGZ000bhqn"
      ]
     },
     "execution_count": 5,
     "metadata": {},
     "output_type": "execute_result"
    }
   ],
   "source": [
    "outdata"
   ]
  },
  {
   "cell_type": "code",
   "execution_count": 6,
   "metadata": {},
   "outputs": [],
   "source": [
    "outdata.write('galaxy_zoo_{}_dr1_{}.fits'.format(subjectset, date), overwrite=True)"
   ]
  }
 ],
 "metadata": {
  "_draft": {
   "nbviewer_url": "https://gist.github.com/df1c052dd0ed94d9ec2dc1e98d060366"
  },
  "gist": {
   "data": {
    "description": "First look at GAMA GZ data",
    "public": false
   },
   "id": "df1c052dd0ed94d9ec2dc1e98d060366"
  },
  "hide_input": false,
  "kernelspec": {
   "display_name": "Python [default]",
   "language": "python",
   "name": "python3"
  },
  "language_info": {
   "codemirror_mode": {
    "name": "ipython",
    "version": 3
   },
   "file_extension": ".py",
   "mimetype": "text/x-python",
   "name": "python",
   "nbconvert_exporter": "python",
   "pygments_lexer": "ipython3",
   "version": "3.6.1"
  },
  "latex_envs": {
   "LaTeX_envs_menu_present": true,
   "autocomplete": true,
   "bibliofile": "biblio.bib",
   "cite_by": "apalike",
   "current_citInitial": 1,
   "eqLabelWithNumbers": true,
   "eqNumInitial": 1,
   "hotkeys": {
    "equation": "Ctrl-E",
    "itemize": "Ctrl-I"
   },
   "labels_anchors": false,
   "latex_user_defs": false,
   "report_style_numbering": false,
   "user_envs_cfg": false
  }
 },
 "nbformat": 4,
 "nbformat_minor": 1
}
