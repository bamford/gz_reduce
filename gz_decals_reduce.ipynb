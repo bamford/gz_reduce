{
 "cells": [
  {
   "cell_type": "code",
   "execution_count": 1,
   "metadata": {
    "collapsed": true
   },
   "outputs": [],
   "source": [
    "from gz_reduce import reduce_data"
   ]
  },
  {
   "cell_type": "markdown",
   "metadata": {},
   "source": [
    "### Get the data"
   ]
  },
  {
   "cell_type": "code",
   "execution_count": 2,
   "metadata": {
    "collapsed": false
   },
   "outputs": [],
   "source": [
    "# %%bash\n",
    "# # get the gama tree definition\n",
    "# curl -O https://raw.githubusercontent.com/zooniverse/Galaxy-Zoo/master/app/lib/decals_tree.coffee"
   ]
  },
  {
   "cell_type": "code",
   "execution_count": 3,
   "metadata": {
    "collapsed": false
   },
   "outputs": [],
   "source": [
    "# %%bash\n",
    "# # get the DR1 database dump\n",
    "# url=\"\"\n",
    "# curl $url | tar xz"
   ]
  },
  {
   "cell_type": "markdown",
   "metadata": {},
   "source": [
    "### Run the reduction"
   ]
  },
  {
   "cell_type": "code",
   "execution_count": 4,
   "metadata": {
    "collapsed": false,
    "scrolled": true
   },
   "outputs": [],
   "source": [
    "date='2017-03-19'\n",
    "outdata_dr1 = reduce_data(date, tree='decals', subjectset='decals',\n",
    "                          survey_id_field='provided_image_id',\n",
    "                          subjectcat='galaxy_zoo_subjects_lee.csv.gz')"
   ]
  },
  {
   "cell_type": "code",
   "execution_count": 5,
   "metadata": {
    "collapsed": false
   },
   "outputs": [
    {
     "data": {
      "text/html": [
       "&lt;Table masked=True length=32430&gt;\n",
       "<table id=\"table9544919976\" class=\"table-striped table-bordered table-condensed\">\n",
       "<thead><tr><th>subject_id</th><th>shape_total</th><th>shape_smooth</th><th>shape_features_or_disk</th><th>shape_star_or_artifact</th><th>disk_total</th><th>disk_yes</th><th>disk_no</th><th>bar_total</th><th>bar_bar</th><th>bar_no_bar</th><th>spiral_a_total</th><th>spiral_a_spiral</th><th>spiral_a_no_spiral</th><th>bulge_a_total</th><th>bulge_a_no_bulge</th><th>bulge_a_obvious</th><th>bulge_a_dominant</th><th>spiral_b_total</th><th>spiral_b_tight</th><th>spiral_b_medium</th><th>spiral_b_loose</th><th>spiral_c_total</th><th>spiral_c_1</th><th>spiral_c_2</th><th>spiral_c_3</th><th>spiral_c_4</th><th>spiral_c_more_than_4</th><th>bulge_b_total</th><th>bulge_b_rounded</th><th>bulge_b_boxy</th><th>bulge_b_no_bulge</th><th>round_total</th><th>round_completely_round</th><th>round_in_between</th><th>round_cigar_shaped</th><th>mergers_total</th><th>mergers_merging</th><th>mergers_tidal_debris</th><th>mergers_both</th><th>mergers_neither</th><th>odd_total</th><th>odd_none</th><th>odd_ring</th><th>odd_lens_or_arc</th><th>odd_irregular</th><th>odd_other</th><th>odd_dust_lane</th><th>odd_overlapping</th><th>discuss_total</th><th>discuss_yes</th><th>discuss_no</th><th>shape_smooth_frac</th><th>shape_features_or_disk_frac</th><th>shape_star_or_artifact_frac</th><th>disk_yes_frac</th><th>disk_no_frac</th><th>bar_bar_frac</th><th>bar_no_bar_frac</th><th>spiral_a_spiral_frac</th><th>spiral_a_no_spiral_frac</th><th>bulge_a_no_bulge_frac</th><th>bulge_a_obvious_frac</th><th>bulge_a_dominant_frac</th><th>spiral_b_tight_frac</th><th>spiral_b_medium_frac</th><th>spiral_b_loose_frac</th><th>spiral_c_1_frac</th><th>spiral_c_2_frac</th><th>spiral_c_3_frac</th><th>spiral_c_4_frac</th><th>spiral_c_more_than_4_frac</th><th>bulge_b_rounded_frac</th><th>bulge_b_boxy_frac</th><th>bulge_b_no_bulge_frac</th><th>round_completely_round_frac</th><th>round_in_between_frac</th><th>round_cigar_shaped_frac</th><th>mergers_merging_frac</th><th>mergers_tidal_debris_frac</th><th>mergers_both_frac</th><th>mergers_neither_frac</th><th>odd_none_frac</th><th>odd_ring_frac</th><th>odd_lens_or_arc_frac</th><th>odd_irregular_frac</th><th>odd_other_frac</th><th>odd_dust_lane_frac</th><th>odd_overlapping_frac</th><th>discuss_yes_frac</th><th>discuss_no_frac</th><th>survey_id</th><th>zooniverse_id</th></tr></thead>\n",
       "<thead><tr><th>str24</th><th>int64</th><th>int64</th><th>int64</th><th>int64</th><th>int64</th><th>int64</th><th>int64</th><th>int64</th><th>int64</th><th>int64</th><th>int64</th><th>int64</th><th>int64</th><th>int64</th><th>int64</th><th>int64</th><th>int64</th><th>int64</th><th>int64</th><th>int64</th><th>int64</th><th>int64</th><th>int64</th><th>int64</th><th>int64</th><th>int64</th><th>int64</th><th>int64</th><th>int64</th><th>int64</th><th>int64</th><th>int64</th><th>int64</th><th>int64</th><th>int64</th><th>int64</th><th>int64</th><th>int64</th><th>int64</th><th>int64</th><th>int64</th><th>int64</th><th>int64</th><th>int64</th><th>int64</th><th>int64</th><th>int64</th><th>int64</th><th>int64</th><th>int64</th><th>int64</th><th>float64</th><th>float64</th><th>float64</th><th>float64</th><th>float64</th><th>float64</th><th>float64</th><th>float64</th><th>float64</th><th>float64</th><th>float64</th><th>float64</th><th>float64</th><th>float64</th><th>float64</th><th>float64</th><th>float64</th><th>float64</th><th>float64</th><th>float64</th><th>float64</th><th>float64</th><th>float64</th><th>float64</th><th>float64</th><th>float64</th><th>float64</th><th>float64</th><th>float64</th><th>float64</th><th>float64</th><th>float64</th><th>float64</th><th>float64</th><th>float64</th><th>float64</th><th>float64</th><th>float64</th><th>float64</th><th>str19</th><th>str10</th></tr></thead>\n",
       "<tr><td>55a7d7a27a726119cd00000b</td><td>45</td><td>19</td><td>15</td><td>11</td><td>15</td><td>2</td><td>13</td><td>13</td><td>1</td><td>12</td><td>13</td><td>8</td><td>5</td><td>13</td><td>0</td><td>12</td><td>1</td><td>8</td><td>4</td><td>4</td><td>0</td><td>8</td><td>0</td><td>5</td><td>1</td><td>1</td><td>1</td><td>2</td><td>2</td><td>0</td><td>0</td><td>19</td><td>16</td><td>2</td><td>1</td><td>34</td><td>5</td><td>3</td><td>3</td><td>23</td><td>34</td><td>7</td><td>4</td><td>0</td><td>2</td><td>3</td><td>0</td><td>3</td><td>45</td><td>2</td><td>43</td><td>0.422222222222</td><td>0.333333333333</td><td>0.244444444444</td><td>0.133333333333</td><td>0.866666666667</td><td>0.0769230769231</td><td>0.923076923077</td><td>0.615384615385</td><td>0.384615384615</td><td>0.0</td><td>0.923076923077</td><td>0.0769230769231</td><td>0.5</td><td>0.5</td><td>0.0</td><td>0.0</td><td>0.625</td><td>0.125</td><td>0.125</td><td>0.125</td><td>1.0</td><td>0.0</td><td>0.0</td><td>0.842105263158</td><td>0.105263157895</td><td>0.0526315789474</td><td>0.147058823529</td><td>0.0882352941176</td><td>0.0882352941176</td><td>0.676470588235</td><td>0.205882352941</td><td>0.117647058824</td><td>0.0</td><td>0.0588235294118</td><td>0.0882352941176</td><td>0.0</td><td>0.0882352941176</td><td>0.0444444444444</td><td>0.955555555556</td><td>J103438.28-005109.6</td><td>AGZ000al92</td></tr>\n",
       "<tr><td>55a7d7a27a726119cd00000c</td><td>41</td><td>33</td><td>2</td><td>6</td><td>2</td><td>1</td><td>1</td><td>1</td><td>0</td><td>1</td><td>1</td><td>0</td><td>1</td><td>1</td><td>0</td><td>1</td><td>0</td><td>0</td><td>0</td><td>0</td><td>0</td><td>0</td><td>0</td><td>0</td><td>0</td><td>0</td><td>0</td><td>1</td><td>1</td><td>0</td><td>0</td><td>33</td><td>28</td><td>5</td><td>0</td><td>35</td><td>7</td><td>3</td><td>1</td><td>24</td><td>35</td><td>11</td><td>0</td><td>0</td><td>0</td><td>3</td><td>0</td><td>1</td><td>41</td><td>1</td><td>40</td><td>0.80487804878</td><td>0.0487804878049</td><td>0.146341463415</td><td>0.5</td><td>0.5</td><td>0.0</td><td>1.0</td><td>0.0</td><td>1.0</td><td>0.0</td><td>1.0</td><td>0.0</td><td>--</td><td>--</td><td>--</td><td>--</td><td>--</td><td>--</td><td>--</td><td>--</td><td>1.0</td><td>0.0</td><td>0.0</td><td>0.848484848485</td><td>0.151515151515</td><td>0.0</td><td>0.2</td><td>0.0857142857143</td><td>0.0285714285714</td><td>0.685714285714</td><td>0.314285714286</td><td>0.0</td><td>0.0</td><td>0.0</td><td>0.0857142857143</td><td>0.0</td><td>0.0285714285714</td><td>0.0243902439024</td><td>0.975609756098</td><td>J103542.82-004509.8</td><td>AGZ000al93</td></tr>\n",
       "<tr><td>55a7d7a27a726119cd00000d</td><td>47</td><td>36</td><td>1</td><td>10</td><td>1</td><td>0</td><td>1</td><td>1</td><td>0</td><td>1</td><td>1</td><td>0</td><td>1</td><td>1</td><td>0</td><td>1</td><td>0</td><td>0</td><td>0</td><td>0</td><td>0</td><td>0</td><td>0</td><td>0</td><td>0</td><td>0</td><td>0</td><td>0</td><td>0</td><td>0</td><td>0</td><td>36</td><td>23</td><td>13</td><td>0</td><td>37</td><td>1</td><td>1</td><td>0</td><td>35</td><td>37</td><td>12</td><td>0</td><td>0</td><td>0</td><td>0</td><td>0</td><td>0</td><td>47</td><td>4</td><td>43</td><td>0.765957446809</td><td>0.0212765957447</td><td>0.212765957447</td><td>0.0</td><td>1.0</td><td>0.0</td><td>1.0</td><td>0.0</td><td>1.0</td><td>0.0</td><td>1.0</td><td>0.0</td><td>--</td><td>--</td><td>--</td><td>--</td><td>--</td><td>--</td><td>--</td><td>--</td><td>--</td><td>--</td><td>--</td><td>0.638888888889</td><td>0.361111111111</td><td>0.0</td><td>0.027027027027</td><td>0.027027027027</td><td>0.0</td><td>0.945945945946</td><td>0.324324324324</td><td>0.0</td><td>0.0</td><td>0.0</td><td>0.0</td><td>0.0</td><td>0.0</td><td>0.0851063829787</td><td>0.914893617021</td><td>J103501.69-004952.4</td><td>AGZ000al94</td></tr>\n",
       "<tr><td>55a7d7a27a726119cd00000e</td><td>53</td><td>32</td><td>15</td><td>6</td><td>15</td><td>0</td><td>15</td><td>15</td><td>2</td><td>13</td><td>15</td><td>8</td><td>7</td><td>15</td><td>4</td><td>11</td><td>0</td><td>8</td><td>7</td><td>1</td><td>0</td><td>8</td><td>0</td><td>4</td><td>0</td><td>2</td><td>2</td><td>0</td><td>0</td><td>0</td><td>0</td><td>32</td><td>16</td><td>16</td><td>0</td><td>47</td><td>1</td><td>2</td><td>1</td><td>43</td><td>47</td><td>17</td><td>3</td><td>1</td><td>1</td><td>6</td><td>1</td><td>1</td><td>53</td><td>1</td><td>52</td><td>0.603773584906</td><td>0.283018867925</td><td>0.11320754717</td><td>0.0</td><td>1.0</td><td>0.133333333333</td><td>0.866666666667</td><td>0.533333333333</td><td>0.466666666667</td><td>0.266666666667</td><td>0.733333333333</td><td>0.0</td><td>0.875</td><td>0.125</td><td>0.0</td><td>0.0</td><td>0.5</td><td>0.0</td><td>0.25</td><td>0.25</td><td>--</td><td>--</td><td>--</td><td>0.5</td><td>0.5</td><td>0.0</td><td>0.0212765957447</td><td>0.0425531914894</td><td>0.0212765957447</td><td>0.914893617021</td><td>0.36170212766</td><td>0.063829787234</td><td>0.0212765957447</td><td>0.0212765957447</td><td>0.127659574468</td><td>0.0212765957447</td><td>0.0212765957447</td><td>0.0188679245283</td><td>0.981132075472</td><td>J103649.87-003753.2</td><td>AGZ000al95</td></tr>\n",
       "<tr><td>55a7d7a27a726119cd00000f</td><td>53</td><td>40</td><td>6</td><td>7</td><td>6</td><td>0</td><td>6</td><td>6</td><td>3</td><td>3</td><td>6</td><td>0</td><td>6</td><td>6</td><td>1</td><td>4</td><td>1</td><td>0</td><td>0</td><td>0</td><td>0</td><td>0</td><td>0</td><td>0</td><td>0</td><td>0</td><td>0</td><td>0</td><td>0</td><td>0</td><td>0</td><td>40</td><td>10</td><td>29</td><td>1</td><td>46</td><td>4</td><td>2</td><td>1</td><td>39</td><td>46</td><td>19</td><td>1</td><td>0</td><td>0</td><td>0</td><td>2</td><td>0</td><td>53</td><td>2</td><td>51</td><td>0.754716981132</td><td>0.11320754717</td><td>0.132075471698</td><td>0.0</td><td>1.0</td><td>0.5</td><td>0.5</td><td>0.0</td><td>1.0</td><td>0.166666666667</td><td>0.666666666667</td><td>0.166666666667</td><td>--</td><td>--</td><td>--</td><td>--</td><td>--</td><td>--</td><td>--</td><td>--</td><td>--</td><td>--</td><td>--</td><td>0.25</td><td>0.725</td><td>0.025</td><td>0.0869565217391</td><td>0.0434782608696</td><td>0.0217391304348</td><td>0.847826086957</td><td>0.413043478261</td><td>0.0217391304348</td><td>0.0</td><td>0.0</td><td>0.0</td><td>0.0434782608696</td><td>0.0</td><td>0.0377358490566</td><td>0.962264150943</td><td>J103647.21-004056.4</td><td>AGZ000al96</td></tr>\n",
       "<tr><td>55a7d7a27a726119cd000012</td><td>60</td><td>41</td><td>8</td><td>11</td><td>8</td><td>0</td><td>8</td><td>8</td><td>0</td><td>8</td><td>8</td><td>0</td><td>8</td><td>8</td><td>1</td><td>6</td><td>1</td><td>0</td><td>0</td><td>0</td><td>0</td><td>0</td><td>0</td><td>0</td><td>0</td><td>0</td><td>0</td><td>0</td><td>0</td><td>0</td><td>0</td><td>41</td><td>40</td><td>0</td><td>1</td><td>49</td><td>8</td><td>3</td><td>0</td><td>38</td><td>49</td><td>11</td><td>1</td><td>0</td><td>0</td><td>2</td><td>1</td><td>12</td><td>60</td><td>1</td><td>59</td><td>0.683333333333</td><td>0.133333333333</td><td>0.183333333333</td><td>0.0</td><td>1.0</td><td>0.0</td><td>1.0</td><td>0.0</td><td>1.0</td><td>0.125</td><td>0.75</td><td>0.125</td><td>--</td><td>--</td><td>--</td><td>--</td><td>--</td><td>--</td><td>--</td><td>--</td><td>--</td><td>--</td><td>--</td><td>0.975609756098</td><td>0.0</td><td>0.0243902439024</td><td>0.163265306122</td><td>0.0612244897959</td><td>0.0</td><td>0.775510204082</td><td>0.224489795918</td><td>0.0204081632653</td><td>0.0</td><td>0.0</td><td>0.0408163265306</td><td>0.0204081632653</td><td>0.244897959184</td><td>0.0166666666667</td><td>0.983333333333</td><td>J103601.86-003748.4</td><td>AGZ000al99</td></tr>\n",
       "<tr><td>55a7d7a27a726119cd000013</td><td>47</td><td>25</td><td>18</td><td>4</td><td>18</td><td>11</td><td>7</td><td>7</td><td>2</td><td>5</td><td>7</td><td>1</td><td>6</td><td>7</td><td>0</td><td>5</td><td>2</td><td>1</td><td>1</td><td>0</td><td>0</td><td>1</td><td>0</td><td>1</td><td>0</td><td>0</td><td>0</td><td>11</td><td>9</td><td>2</td><td>0</td><td>25</td><td>2</td><td>19</td><td>4</td><td>43</td><td>4</td><td>2</td><td>2</td><td>35</td><td>43</td><td>7</td><td>2</td><td>0</td><td>0</td><td>3</td><td>0</td><td>0</td><td>47</td><td>2</td><td>45</td><td>0.531914893617</td><td>0.382978723404</td><td>0.0851063829787</td><td>0.611111111111</td><td>0.388888888889</td><td>0.285714285714</td><td>0.714285714286</td><td>0.142857142857</td><td>0.857142857143</td><td>0.0</td><td>0.714285714286</td><td>0.285714285714</td><td>1.0</td><td>0.0</td><td>0.0</td><td>0.0</td><td>1.0</td><td>0.0</td><td>0.0</td><td>0.0</td><td>0.818181818182</td><td>0.181818181818</td><td>0.0</td><td>0.08</td><td>0.76</td><td>0.16</td><td>0.093023255814</td><td>0.046511627907</td><td>0.046511627907</td><td>0.813953488372</td><td>0.162790697674</td><td>0.046511627907</td><td>0.0</td><td>0.0</td><td>0.0697674418605</td><td>0.0</td><td>0.0</td><td>0.0425531914894</td><td>0.957446808511</td><td>J103613.80-003502.6</td><td>AGZ000al9a</td></tr>\n",
       "<tr><td>55a7d7a27a726119cd000014</td><td>47</td><td>35</td><td>7</td><td>5</td><td>7</td><td>2</td><td>5</td><td>5</td><td>0</td><td>5</td><td>5</td><td>0</td><td>5</td><td>5</td><td>0</td><td>3</td><td>2</td><td>0</td><td>0</td><td>0</td><td>0</td><td>0</td><td>0</td><td>0</td><td>0</td><td>0</td><td>0</td><td>2</td><td>2</td><td>0</td><td>0</td><td>35</td><td>2</td><td>31</td><td>2</td><td>42</td><td>0</td><td>2</td><td>3</td><td>37</td><td>42</td><td>14</td><td>2</td><td>0</td><td>0</td><td>1</td><td>0</td><td>0</td><td>47</td><td>0</td><td>47</td><td>0.744680851064</td><td>0.148936170213</td><td>0.106382978723</td><td>0.285714285714</td><td>0.714285714286</td><td>0.0</td><td>1.0</td><td>0.0</td><td>1.0</td><td>0.0</td><td>0.6</td><td>0.4</td><td>--</td><td>--</td><td>--</td><td>--</td><td>--</td><td>--</td><td>--</td><td>--</td><td>1.0</td><td>0.0</td><td>0.0</td><td>0.0571428571429</td><td>0.885714285714</td><td>0.0571428571429</td><td>0.0</td><td>0.047619047619</td><td>0.0714285714286</td><td>0.880952380952</td><td>0.333333333333</td><td>0.047619047619</td><td>0.0</td><td>0.0</td><td>0.0238095238095</td><td>0.0</td><td>0.0</td><td>0.0</td><td>1.0</td><td>J103609.37-001213.7</td><td>AGZ000al9b</td></tr>\n",
       "<tr><td>55a7d7a27a726119cd000015</td><td>56</td><td>31</td><td>21</td><td>4</td><td>21</td><td>17</td><td>4</td><td>4</td><td>0</td><td>4</td><td>4</td><td>0</td><td>4</td><td>4</td><td>0</td><td>3</td><td>1</td><td>0</td><td>0</td><td>0</td><td>0</td><td>0</td><td>0</td><td>0</td><td>0</td><td>0</td><td>0</td><td>17</td><td>12</td><td>1</td><td>4</td><td>31</td><td>0</td><td>5</td><td>26</td><td>52</td><td>0</td><td>2</td><td>1</td><td>49</td><td>52</td><td>21</td><td>3</td><td>0</td><td>0</td><td>0</td><td>1</td><td>0</td><td>56</td><td>1</td><td>55</td><td>0.553571428571</td><td>0.375</td><td>0.0714285714286</td><td>0.809523809524</td><td>0.190476190476</td><td>0.0</td><td>1.0</td><td>0.0</td><td>1.0</td><td>0.0</td><td>0.75</td><td>0.25</td><td>--</td><td>--</td><td>--</td><td>--</td><td>--</td><td>--</td><td>--</td><td>--</td><td>0.705882352941</td><td>0.0588235294118</td><td>0.235294117647</td><td>0.0</td><td>0.161290322581</td><td>0.838709677419</td><td>0.0</td><td>0.0384615384615</td><td>0.0192307692308</td><td>0.942307692308</td><td>0.403846153846</td><td>0.0576923076923</td><td>0.0</td><td>0.0</td><td>0.0</td><td>0.0192307692308</td><td>0.0</td><td>0.0178571428571</td><td>0.982142857143</td><td>J103651.94-003617.5</td><td>AGZ000al9c</td></tr>\n",
       "<tr><td>55a7d7a27a726119cd000017</td><td>44</td><td>35</td><td>2</td><td>7</td><td>2</td><td>2</td><td>0</td><td>0</td><td>0</td><td>0</td><td>0</td><td>0</td><td>0</td><td>0</td><td>0</td><td>0</td><td>0</td><td>0</td><td>0</td><td>0</td><td>0</td><td>0</td><td>0</td><td>0</td><td>0</td><td>0</td><td>0</td><td>2</td><td>2</td><td>0</td><td>0</td><td>35</td><td>25</td><td>10</td><td>0</td><td>37</td><td>1</td><td>1</td><td>0</td><td>35</td><td>37</td><td>14</td><td>0</td><td>0</td><td>0</td><td>0</td><td>0</td><td>1</td><td>44</td><td>0</td><td>44</td><td>0.795454545455</td><td>0.0454545454545</td><td>0.159090909091</td><td>1.0</td><td>0.0</td><td>--</td><td>--</td><td>--</td><td>--</td><td>--</td><td>--</td><td>--</td><td>--</td><td>--</td><td>--</td><td>--</td><td>--</td><td>--</td><td>--</td><td>--</td><td>1.0</td><td>0.0</td><td>0.0</td><td>0.714285714286</td><td>0.285714285714</td><td>0.0</td><td>0.027027027027</td><td>0.027027027027</td><td>0.0</td><td>0.945945945946</td><td>0.378378378378</td><td>0.0</td><td>0.0</td><td>0.0</td><td>0.0</td><td>0.0</td><td>0.027027027027</td><td>0.0</td><td>1.0</td><td>J103714.27-000514.7</td><td>AGZ000al9e</td></tr>\n",
       "<tr><td>...</td><td>...</td><td>...</td><td>...</td><td>...</td><td>...</td><td>...</td><td>...</td><td>...</td><td>...</td><td>...</td><td>...</td><td>...</td><td>...</td><td>...</td><td>...</td><td>...</td><td>...</td><td>...</td><td>...</td><td>...</td><td>...</td><td>...</td><td>...</td><td>...</td><td>...</td><td>...</td><td>...</td><td>...</td><td>...</td><td>...</td><td>...</td><td>...</td><td>...</td><td>...</td><td>...</td><td>...</td><td>...</td><td>...</td><td>...</td><td>...</td><td>...</td><td>...</td><td>...</td><td>...</td><td>...</td><td>...</td><td>...</td><td>...</td><td>...</td><td>...</td><td>...</td><td>...</td><td>...</td><td>...</td><td>...</td><td>...</td><td>...</td><td>...</td><td>...</td><td>...</td><td>...</td><td>...</td><td>...</td><td>...</td><td>...</td><td>...</td><td>...</td><td>...</td><td>...</td><td>...</td><td>...</td><td>...</td><td>...</td><td>...</td><td>...</td><td>...</td><td>...</td><td>...</td><td>...</td><td>...</td><td>...</td><td>...</td><td>...</td><td>...</td><td>...</td><td>...</td><td>...</td><td>...</td><td>...</td><td>...</td><td>...</td><td>...</td></tr>\n",
       "<tr><td>55a7d7b47a726119cd00a477</td><td>51</td><td>2</td><td>46</td><td>3</td><td>46</td><td>1</td><td>45</td><td>45</td><td>9</td><td>36</td><td>45</td><td>43</td><td>2</td><td>45</td><td>3</td><td>42</td><td>0</td><td>43</td><td>25</td><td>16</td><td>2</td><td>43</td><td>0</td><td>8</td><td>25</td><td>9</td><td>1</td><td>1</td><td>1</td><td>0</td><td>0</td><td>2</td><td>2</td><td>0</td><td>0</td><td>48</td><td>0</td><td>4</td><td>3</td><td>41</td><td>48</td><td>11</td><td>1</td><td>0</td><td>1</td><td>3</td><td>4</td><td>1</td><td>51</td><td>5</td><td>46</td><td>0.0392156862745</td><td>0.901960784314</td><td>0.0588235294118</td><td>0.0217391304348</td><td>0.978260869565</td><td>0.2</td><td>0.8</td><td>0.955555555556</td><td>0.0444444444444</td><td>0.0666666666667</td><td>0.933333333333</td><td>0.0</td><td>0.581395348837</td><td>0.372093023256</td><td>0.046511627907</td><td>0.0</td><td>0.186046511628</td><td>0.581395348837</td><td>0.209302325581</td><td>0.0232558139535</td><td>1.0</td><td>0.0</td><td>0.0</td><td>1.0</td><td>0.0</td><td>0.0</td><td>0.0</td><td>0.0833333333333</td><td>0.0625</td><td>0.854166666667</td><td>0.229166666667</td><td>0.0208333333333</td><td>0.0</td><td>0.0208333333333</td><td>0.0625</td><td>0.0833333333333</td><td>0.0208333333333</td><td>0.0980392156863</td><td>0.901960784314</td><td>J103811.51-001326.1</td><td>AGZ000bhqa</td></tr>\n",
       "<tr><td>55a7d7b47a726119cd00a478</td><td>60</td><td>20</td><td>28</td><td>12</td><td>28</td><td>6</td><td>22</td><td>22</td><td>8</td><td>14</td><td>22</td><td>18</td><td>4</td><td>22</td><td>0</td><td>22</td><td>0</td><td>18</td><td>9</td><td>7</td><td>2</td><td>18</td><td>1</td><td>14</td><td>2</td><td>1</td><td>0</td><td>6</td><td>4</td><td>0</td><td>2</td><td>20</td><td>1</td><td>14</td><td>5</td><td>48</td><td>19</td><td>1</td><td>2</td><td>26</td><td>48</td><td>15</td><td>3</td><td>0</td><td>1</td><td>1</td><td>0</td><td>0</td><td>60</td><td>6</td><td>54</td><td>0.333333333333</td><td>0.466666666667</td><td>0.2</td><td>0.214285714286</td><td>0.785714285714</td><td>0.363636363636</td><td>0.636363636364</td><td>0.818181818182</td><td>0.181818181818</td><td>0.0</td><td>1.0</td><td>0.0</td><td>0.5</td><td>0.388888888889</td><td>0.111111111111</td><td>0.0555555555556</td><td>0.777777777778</td><td>0.111111111111</td><td>0.0555555555556</td><td>0.0</td><td>0.666666666667</td><td>0.0</td><td>0.333333333333</td><td>0.05</td><td>0.7</td><td>0.25</td><td>0.395833333333</td><td>0.0208333333333</td><td>0.0416666666667</td><td>0.541666666667</td><td>0.3125</td><td>0.0625</td><td>0.0</td><td>0.0208333333333</td><td>0.0208333333333</td><td>0.0</td><td>0.0</td><td>0.1</td><td>0.9</td><td>J103810.73-003657.4</td><td>AGZ000bhqb</td></tr>\n",
       "<tr><td>55a7d7b47a726119cd00a479</td><td>45</td><td>9</td><td>21</td><td>15</td><td>21</td><td>2</td><td>19</td><td>19</td><td>3</td><td>16</td><td>19</td><td>9</td><td>10</td><td>19</td><td>2</td><td>9</td><td>8</td><td>9</td><td>0</td><td>3</td><td>6</td><td>9</td><td>0</td><td>8</td><td>1</td><td>0</td><td>0</td><td>2</td><td>2</td><td>0</td><td>0</td><td>9</td><td>1</td><td>5</td><td>3</td><td>30</td><td>5</td><td>8</td><td>8</td><td>9</td><td>30</td><td>2</td><td>1</td><td>2</td><td>6</td><td>8</td><td>1</td><td>7</td><td>45</td><td>3</td><td>42</td><td>0.2</td><td>0.466666666667</td><td>0.333333333333</td><td>0.0952380952381</td><td>0.904761904762</td><td>0.157894736842</td><td>0.842105263158</td><td>0.473684210526</td><td>0.526315789474</td><td>0.105263157895</td><td>0.473684210526</td><td>0.421052631579</td><td>0.0</td><td>0.333333333333</td><td>0.666666666667</td><td>0.0</td><td>0.888888888889</td><td>0.111111111111</td><td>0.0</td><td>0.0</td><td>1.0</td><td>0.0</td><td>0.0</td><td>0.111111111111</td><td>0.555555555556</td><td>0.333333333333</td><td>0.166666666667</td><td>0.266666666667</td><td>0.266666666667</td><td>0.3</td><td>0.0666666666667</td><td>0.0333333333333</td><td>0.0666666666667</td><td>0.2</td><td>0.266666666667</td><td>0.0333333333333</td><td>0.233333333333</td><td>0.0666666666667</td><td>0.933333333333</td><td>J103725.76-004152.6</td><td>AGZ000bhqc</td></tr>\n",
       "<tr><td>55a7d7b47a726119cd00a47a</td><td>53</td><td>13</td><td>23</td><td>17</td><td>23</td><td>20</td><td>3</td><td>3</td><td>1</td><td>2</td><td>3</td><td>2</td><td>1</td><td>3</td><td>2</td><td>0</td><td>1</td><td>2</td><td>1</td><td>0</td><td>1</td><td>2</td><td>1</td><td>0</td><td>0</td><td>0</td><td>1</td><td>20</td><td>19</td><td>0</td><td>1</td><td>13</td><td>0</td><td>6</td><td>7</td><td>36</td><td>4</td><td>1</td><td>2</td><td>29</td><td>36</td><td>10</td><td>1</td><td>3</td><td>1</td><td>4</td><td>1</td><td>3</td><td>53</td><td>4</td><td>49</td><td>0.245283018868</td><td>0.433962264151</td><td>0.320754716981</td><td>0.869565217391</td><td>0.130434782609</td><td>0.333333333333</td><td>0.666666666667</td><td>0.666666666667</td><td>0.333333333333</td><td>0.666666666667</td><td>0.0</td><td>0.333333333333</td><td>0.5</td><td>0.0</td><td>0.5</td><td>0.5</td><td>0.0</td><td>0.0</td><td>0.0</td><td>0.5</td><td>0.95</td><td>0.0</td><td>0.05</td><td>0.0</td><td>0.461538461538</td><td>0.538461538462</td><td>0.111111111111</td><td>0.0277777777778</td><td>0.0555555555556</td><td>0.805555555556</td><td>0.277777777778</td><td>0.0277777777778</td><td>0.0833333333333</td><td>0.0277777777778</td><td>0.111111111111</td><td>0.0277777777778</td><td>0.0833333333333</td><td>0.0754716981132</td><td>0.924528301887</td><td>J103717.24-004113.0</td><td>AGZ000bhqd</td></tr>\n",
       "<tr><td>55a7d7b47a726119cd00a47c</td><td>50</td><td>31</td><td>12</td><td>7</td><td>12</td><td>0</td><td>12</td><td>12</td><td>1</td><td>11</td><td>12</td><td>2</td><td>10</td><td>12</td><td>4</td><td>8</td><td>0</td><td>2</td><td>1</td><td>1</td><td>0</td><td>2</td><td>0</td><td>2</td><td>0</td><td>0</td><td>0</td><td>0</td><td>0</td><td>0</td><td>0</td><td>31</td><td>4</td><td>27</td><td>0</td><td>43</td><td>19</td><td>0</td><td>6</td><td>18</td><td>43</td><td>13</td><td>0</td><td>0</td><td>4</td><td>6</td><td>1</td><td>0</td><td>50</td><td>3</td><td>47</td><td>0.62</td><td>0.24</td><td>0.14</td><td>0.0</td><td>1.0</td><td>0.0833333333333</td><td>0.916666666667</td><td>0.166666666667</td><td>0.833333333333</td><td>0.333333333333</td><td>0.666666666667</td><td>0.0</td><td>0.5</td><td>0.5</td><td>0.0</td><td>0.0</td><td>1.0</td><td>0.0</td><td>0.0</td><td>0.0</td><td>--</td><td>--</td><td>--</td><td>0.129032258065</td><td>0.870967741935</td><td>0.0</td><td>0.441860465116</td><td>0.0</td><td>0.139534883721</td><td>0.418604651163</td><td>0.302325581395</td><td>0.0</td><td>0.0</td><td>0.093023255814</td><td>0.139534883721</td><td>0.0232558139535</td><td>0.0</td><td>0.06</td><td>0.94</td><td>J103611.04-002151.5</td><td>AGZ000bhqf</td></tr>\n",
       "<tr><td>55a7d7b47a726119cd00a47d</td><td>45</td><td>31</td><td>5</td><td>9</td><td>5</td><td>0</td><td>5</td><td>5</td><td>1</td><td>4</td><td>5</td><td>0</td><td>5</td><td>5</td><td>0</td><td>3</td><td>2</td><td>0</td><td>0</td><td>0</td><td>0</td><td>0</td><td>0</td><td>0</td><td>0</td><td>0</td><td>0</td><td>0</td><td>0</td><td>0</td><td>0</td><td>31</td><td>12</td><td>19</td><td>0</td><td>36</td><td>4</td><td>2</td><td>1</td><td>29</td><td>36</td><td>12</td><td>2</td><td>2</td><td>1</td><td>5</td><td>1</td><td>3</td><td>45</td><td>4</td><td>41</td><td>0.688888888889</td><td>0.111111111111</td><td>0.2</td><td>0.0</td><td>1.0</td><td>0.2</td><td>0.8</td><td>0.0</td><td>1.0</td><td>0.0</td><td>0.6</td><td>0.4</td><td>--</td><td>--</td><td>--</td><td>--</td><td>--</td><td>--</td><td>--</td><td>--</td><td>--</td><td>--</td><td>--</td><td>0.387096774194</td><td>0.612903225806</td><td>0.0</td><td>0.111111111111</td><td>0.0555555555556</td><td>0.0277777777778</td><td>0.805555555556</td><td>0.333333333333</td><td>0.0555555555556</td><td>0.0555555555556</td><td>0.0277777777778</td><td>0.138888888889</td><td>0.0277777777778</td><td>0.0833333333333</td><td>0.0888888888889</td><td>0.911111111111</td><td>J103534.06-002143.3</td><td>AGZ000bhqg</td></tr>\n",
       "<tr><td>55a7d7b47a726119cd00a47e</td><td>56</td><td>36</td><td>16</td><td>4</td><td>16</td><td>13</td><td>3</td><td>3</td><td>0</td><td>3</td><td>3</td><td>0</td><td>3</td><td>3</td><td>1</td><td>1</td><td>1</td><td>0</td><td>0</td><td>0</td><td>0</td><td>0</td><td>0</td><td>0</td><td>0</td><td>0</td><td>0</td><td>13</td><td>12</td><td>0</td><td>1</td><td>36</td><td>3</td><td>17</td><td>16</td><td>52</td><td>0</td><td>5</td><td>0</td><td>47</td><td>52</td><td>18</td><td>3</td><td>0</td><td>0</td><td>0</td><td>0</td><td>1</td><td>56</td><td>2</td><td>54</td><td>0.642857142857</td><td>0.285714285714</td><td>0.0714285714286</td><td>0.8125</td><td>0.1875</td><td>0.0</td><td>1.0</td><td>0.0</td><td>1.0</td><td>0.333333333333</td><td>0.333333333333</td><td>0.333333333333</td><td>--</td><td>--</td><td>--</td><td>--</td><td>--</td><td>--</td><td>--</td><td>--</td><td>0.923076923077</td><td>0.0</td><td>0.0769230769231</td><td>0.0833333333333</td><td>0.472222222222</td><td>0.444444444444</td><td>0.0</td><td>0.0961538461538</td><td>0.0</td><td>0.903846153846</td><td>0.346153846154</td><td>0.0576923076923</td><td>0.0</td><td>0.0</td><td>0.0</td><td>0.0</td><td>0.0192307692308</td><td>0.0357142857143</td><td>0.964285714286</td><td>J103530.40-002620.1</td><td>AGZ000bhqh</td></tr>\n",
       "<tr><td>55a7d7b47a726119cd00a480</td><td>47</td><td>21</td><td>18</td><td>8</td><td>18</td><td>17</td><td>1</td><td>1</td><td>1</td><td>0</td><td>1</td><td>0</td><td>1</td><td>1</td><td>0</td><td>1</td><td>0</td><td>0</td><td>0</td><td>0</td><td>0</td><td>0</td><td>0</td><td>0</td><td>0</td><td>0</td><td>0</td><td>17</td><td>4</td><td>2</td><td>11</td><td>21</td><td>0</td><td>3</td><td>18</td><td>39</td><td>11</td><td>0</td><td>2</td><td>26</td><td>39</td><td>7</td><td>0</td><td>1</td><td>0</td><td>3</td><td>0</td><td>7</td><td>47</td><td>0</td><td>47</td><td>0.446808510638</td><td>0.382978723404</td><td>0.170212765957</td><td>0.944444444444</td><td>0.0555555555556</td><td>1.0</td><td>0.0</td><td>0.0</td><td>1.0</td><td>0.0</td><td>1.0</td><td>0.0</td><td>--</td><td>--</td><td>--</td><td>--</td><td>--</td><td>--</td><td>--</td><td>--</td><td>0.235294117647</td><td>0.117647058824</td><td>0.647058823529</td><td>0.0</td><td>0.142857142857</td><td>0.857142857143</td><td>0.282051282051</td><td>0.0</td><td>0.0512820512821</td><td>0.666666666667</td><td>0.179487179487</td><td>0.0</td><td>0.025641025641</td><td>0.0</td><td>0.0769230769231</td><td>0.0</td><td>0.179487179487</td><td>0.0</td><td>1.0</td><td>J103411.87-002753.4</td><td>AGZ000bhqj</td></tr>\n",
       "<tr><td>55a7d7b47a726119cd00a483</td><td>45</td><td>23</td><td>11</td><td>11</td><td>11</td><td>4</td><td>7</td><td>7</td><td>0</td><td>7</td><td>7</td><td>0</td><td>7</td><td>7</td><td>6</td><td>1</td><td>0</td><td>0</td><td>0</td><td>0</td><td>0</td><td>0</td><td>0</td><td>0</td><td>0</td><td>0</td><td>0</td><td>4</td><td>1</td><td>1</td><td>2</td><td>23</td><td>1</td><td>15</td><td>7</td><td>34</td><td>21</td><td>1</td><td>2</td><td>10</td><td>34</td><td>4</td><td>1</td><td>0</td><td>6</td><td>5</td><td>2</td><td>1</td><td>45</td><td>5</td><td>40</td><td>0.511111111111</td><td>0.244444444444</td><td>0.244444444444</td><td>0.363636363636</td><td>0.636363636364</td><td>0.0</td><td>1.0</td><td>0.0</td><td>1.0</td><td>0.857142857143</td><td>0.142857142857</td><td>0.0</td><td>--</td><td>--</td><td>--</td><td>--</td><td>--</td><td>--</td><td>--</td><td>--</td><td>0.25</td><td>0.25</td><td>0.5</td><td>0.0434782608696</td><td>0.652173913043</td><td>0.304347826087</td><td>0.617647058824</td><td>0.0294117647059</td><td>0.0588235294118</td><td>0.294117647059</td><td>0.117647058824</td><td>0.0294117647059</td><td>0.0</td><td>0.176470588235</td><td>0.147058823529</td><td>0.0588235294118</td><td>0.0294117647059</td><td>0.111111111111</td><td>0.888888888889</td><td>J103343.33-003338.2</td><td>AGZ000bhqm</td></tr>\n",
       "<tr><td>55a7d7b47a726119cd00a484</td><td>47</td><td>20</td><td>17</td><td>10</td><td>17</td><td>11</td><td>6</td><td>6</td><td>0</td><td>6</td><td>6</td><td>1</td><td>5</td><td>6</td><td>3</td><td>3</td><td>0</td><td>1</td><td>1</td><td>0</td><td>0</td><td>1</td><td>1</td><td>0</td><td>0</td><td>0</td><td>0</td><td>11</td><td>7</td><td>1</td><td>3</td><td>20</td><td>1</td><td>10</td><td>9</td><td>37</td><td>17</td><td>6</td><td>2</td><td>12</td><td>37</td><td>9</td><td>2</td><td>0</td><td>0</td><td>4</td><td>1</td><td>2</td><td>47</td><td>2</td><td>45</td><td>0.425531914894</td><td>0.36170212766</td><td>0.212765957447</td><td>0.647058823529</td><td>0.352941176471</td><td>0.0</td><td>1.0</td><td>0.166666666667</td><td>0.833333333333</td><td>0.5</td><td>0.5</td><td>0.0</td><td>1.0</td><td>0.0</td><td>0.0</td><td>1.0</td><td>0.0</td><td>0.0</td><td>0.0</td><td>0.0</td><td>0.636363636364</td><td>0.0909090909091</td><td>0.272727272727</td><td>0.05</td><td>0.5</td><td>0.45</td><td>0.459459459459</td><td>0.162162162162</td><td>0.0540540540541</td><td>0.324324324324</td><td>0.243243243243</td><td>0.0540540540541</td><td>0.0</td><td>0.0</td><td>0.108108108108</td><td>0.027027027027</td><td>0.0540540540541</td><td>0.0425531914894</td><td>0.957446808511</td><td>J230924.60-001458.1</td><td>AGZ000bhqn</td></tr>\n",
       "</table>"
      ],
      "text/plain": [
       "<Table masked=True length=32430>\n",
       "       subject_id        shape_total ...      survey_id      zooniverse_id\n",
       "         str24              int64    ...        str19            str10    \n",
       "------------------------ ----------- ... ------------------- -------------\n",
       "55a7d7a27a726119cd00000b          45 ... J103438.28-005109.6    AGZ000al92\n",
       "55a7d7a27a726119cd00000c          41 ... J103542.82-004509.8    AGZ000al93\n",
       "55a7d7a27a726119cd00000d          47 ... J103501.69-004952.4    AGZ000al94\n",
       "55a7d7a27a726119cd00000e          53 ... J103649.87-003753.2    AGZ000al95\n",
       "55a7d7a27a726119cd00000f          53 ... J103647.21-004056.4    AGZ000al96\n",
       "55a7d7a27a726119cd000012          60 ... J103601.86-003748.4    AGZ000al99\n",
       "55a7d7a27a726119cd000013          47 ... J103613.80-003502.6    AGZ000al9a\n",
       "55a7d7a27a726119cd000014          47 ... J103609.37-001213.7    AGZ000al9b\n",
       "55a7d7a27a726119cd000015          56 ... J103651.94-003617.5    AGZ000al9c\n",
       "55a7d7a27a726119cd000017          44 ... J103714.27-000514.7    AGZ000al9e\n",
       "                     ...         ... ...                 ...           ...\n",
       "55a7d7b47a726119cd00a477          51 ... J103811.51-001326.1    AGZ000bhqa\n",
       "55a7d7b47a726119cd00a478          60 ... J103810.73-003657.4    AGZ000bhqb\n",
       "55a7d7b47a726119cd00a479          45 ... J103725.76-004152.6    AGZ000bhqc\n",
       "55a7d7b47a726119cd00a47a          53 ... J103717.24-004113.0    AGZ000bhqd\n",
       "55a7d7b47a726119cd00a47c          50 ... J103611.04-002151.5    AGZ000bhqf\n",
       "55a7d7b47a726119cd00a47d          45 ... J103534.06-002143.3    AGZ000bhqg\n",
       "55a7d7b47a726119cd00a47e          56 ... J103530.40-002620.1    AGZ000bhqh\n",
       "55a7d7b47a726119cd00a480          47 ... J103411.87-002753.4    AGZ000bhqj\n",
       "55a7d7b47a726119cd00a483          45 ... J103343.33-003338.2    AGZ000bhqm\n",
       "55a7d7b47a726119cd00a484          47 ... J230924.60-001458.1    AGZ000bhqn"
      ]
     },
     "execution_count": 5,
     "metadata": {},
     "output_type": "execute_result"
    }
   ],
   "source": [
    "outdata_dr1"
   ]
  },
  {
   "cell_type": "code",
   "execution_count": 6,
   "metadata": {
    "collapsed": false
   },
   "outputs": [],
   "source": [
    "outdata_dr1.write('{}_galaxy_zoo_decals_dr1.fits'.format(date), overwrite=True)"
   ]
  }
 ],
 "metadata": {
  "_draft": {
   "nbviewer_url": "https://gist.github.com/df1c052dd0ed94d9ec2dc1e98d060366"
  },
  "gist": {
   "data": {
    "description": "First look at GAMA GZ data",
    "public": false
   },
   "id": "df1c052dd0ed94d9ec2dc1e98d060366"
  },
  "hide_input": false,
  "kernelspec": {
   "display_name": "Python 3",
   "language": "python",
   "name": "python3"
  },
  "language_info": {
   "codemirror_mode": {
    "name": "ipython",
    "version": 3
   },
   "file_extension": ".py",
   "mimetype": "text/x-python",
   "name": "python",
   "nbconvert_exporter": "python",
   "pygments_lexer": "ipython3",
   "version": "3.6.0"
  },
  "latex_envs": {
   "LaTeX_envs_menu_present": true,
   "autocomplete": true,
   "bibliofile": "biblio.bib",
   "cite_by": "apalike",
   "current_citInitial": 1,
   "eqLabelWithNumbers": true,
   "eqNumInitial": 1,
   "hotkeys": {
    "equation": "Ctrl-E",
    "itemize": "Ctrl-I"
   },
   "labels_anchors": false,
   "latex_user_defs": false,
   "report_style_numbering": false,
   "user_envs_cfg": false
  }
 },
 "nbformat": 4,
 "nbformat_minor": 0
}
